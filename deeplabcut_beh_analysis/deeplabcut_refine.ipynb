{
 "cells": [
  {
   "cell_type": "code",
   "execution_count": 1,
   "metadata": {},
   "outputs": [
    {
     "name": "stdin",
     "output_type": "stream",
     "text": [
      " 8videos_1400frames_relabled\n"
     ]
    }
   ],
   "source": [
    "fname = input()"
   ]
  },
  {
   "cell_type": "code",
   "execution_count": 2,
   "metadata": {},
   "outputs": [
    {
     "name": "stdout",
     "output_type": "stream",
     "text": [
      "DLC loaded in light mode; you cannot use any GUI (labeling, relabeling and standalone GUI)\n",
      "B:\\HsinYi\\DeepLabCut_Anthony\\8videos_1400frames_relabled/config.yaml\n"
     ]
    }
   ],
   "source": [
    "import deeplabcut\n",
    "import os\n",
    "# Note that parameters of this project can be seen at: *Reaching-Mackenzie-2018-08-30/config.yaml*\n",
    "from pathlib import Path\n",
    "\n",
    "#create a variable to set the config.yaml file path:\n",
    "path_config_file = os.path.join(os.getcwd(),fname+'/config.yaml')\n",
    "print(path_config_file)"
   ]
  },
  {
   "cell_type": "code",
   "execution_count": 3,
   "metadata": {},
   "outputs": [
    {
     "data": {
      "text/plain": [
       "'2.2.0.2'"
      ]
     },
     "execution_count": 3,
     "metadata": {},
     "output_type": "execute_result"
    }
   ],
   "source": [
    "deeplabcut.__version__\n"
   ]
  },
  {
   "cell_type": "code",
   "execution_count": 4,
   "metadata": {},
   "outputs": [
    {
     "data": {
      "text/plain": [
       "['B:\\\\HsinYi\\\\DeepLabCut_Anthony/8videos_1400frames_relabled/videos/newvideo_piezo\\\\022823 Piezo Air Control 100Hz-02282023143835-0000.mp4',\n",
       " 'B:\\\\HsinYi\\\\DeepLabCut_Anthony/8videos_1400frames_relabled/videos/newvideo_piezo\\\\022823 Piezo Air Control 10Hz-02282023152427-0000.mp4',\n",
       " 'B:\\\\HsinYi\\\\DeepLabCut_Anthony/8videos_1400frames_relabled/videos/newvideo_piezo\\\\022823 Piezo Air Control 20Hz-02282023151821-0000.mp4',\n",
       " 'B:\\\\HsinYi\\\\DeepLabCut_Anthony/8videos_1400frames_relabled/videos/newvideo_piezo\\\\022823 Piezo Air Control 30Hz-02282023151124-0000.mp4',\n",
       " 'B:\\\\HsinYi\\\\DeepLabCut_Anthony/8videos_1400frames_relabled/videos/newvideo_piezo\\\\022823 Piezo Air Control 40Hz-02282023145844-0000.mp4',\n",
       " 'B:\\\\HsinYi\\\\DeepLabCut_Anthony/8videos_1400frames_relabled/videos/newvideo_piezo\\\\022823 Piezo Air Control 50Hz-02282023144903-0000.mp4',\n",
       " 'B:\\\\HsinYi\\\\DeepLabCut_Anthony/8videos_1400frames_relabled/videos/newvideo_piezo\\\\022823 Piezo Air Control 5Hz-02282023153140-0000.mp4',\n",
       " 'B:\\\\HsinYi\\\\DeepLabCut_Anthony/8videos_1400frames_relabled/videos/newvideo_piezo\\\\022823 Spider Piezo 100Hz-02282023161729-0000.mp4',\n",
       " 'B:\\\\HsinYi\\\\DeepLabCut_Anthony/8videos_1400frames_relabled/videos/newvideo_piezo\\\\022823 Spider Piezo 10Hz-02282023155009-0000.mp4',\n",
       " 'B:\\\\HsinYi\\\\DeepLabCut_Anthony/8videos_1400frames_relabled/videos/newvideo_piezo\\\\022823 Spider Piezo 20Hz-02282023155611-0000.mp4',\n",
       " 'B:\\\\HsinYi\\\\DeepLabCut_Anthony/8videos_1400frames_relabled/videos/newvideo_piezo\\\\022823 Spider Piezo 30Hz-02282023160148-0000.mp4',\n",
       " 'B:\\\\HsinYi\\\\DeepLabCut_Anthony/8videos_1400frames_relabled/videos/newvideo_piezo\\\\022823 Spider Piezo 40Hz-02282023160330-0000.mp4',\n",
       " 'B:\\\\HsinYi\\\\DeepLabCut_Anthony/8videos_1400frames_relabled/videos/newvideo_piezo\\\\022823 Spider Piezo 50Hz-02282023160947-0000.mp4',\n",
       " 'B:\\\\HsinYi\\\\DeepLabCut_Anthony/8videos_1400frames_relabled/videos/newvideo_piezo\\\\022823 Spider Piezo 5Hz-02282023162114-0000.mp4',\n",
       " 'B:\\\\HsinYi\\\\DeepLabCut_Anthony/8videos_1400frames_relabled/videos/newvideo_piezo\\\\022823 Spider Piezo 5Hz_move-02282023153753-0000.mp4',\n",
       " 'B:\\\\HsinYi\\\\DeepLabCut_Anthony/8videos_1400frames_relabled/videos/newvideo_piezo\\\\030223 Spider Piezo 100H-03022023150624-0000.mp4',\n",
       " 'B:\\\\HsinYi\\\\DeepLabCut_Anthony/8videos_1400frames_relabled/videos/newvideo_piezo\\\\030223 Spider Piezo 10H-03022023140505-0000.mp4',\n",
       " 'B:\\\\HsinYi\\\\DeepLabCut_Anthony/8videos_1400frames_relabled/videos/newvideo_piezo\\\\030223 Spider Piezo 20H-03022023142317-0000.mp4',\n",
       " 'B:\\\\HsinYi\\\\DeepLabCut_Anthony/8videos_1400frames_relabled/videos/newvideo_piezo\\\\030223 Spider Piezo 30H-03022023143120-0000.mp4',\n",
       " 'B:\\\\HsinYi\\\\DeepLabCut_Anthony/8videos_1400frames_relabled/videos/newvideo_piezo\\\\030223 Spider Piezo 40H-03022023144023-0000.mp4',\n",
       " 'B:\\\\HsinYi\\\\DeepLabCut_Anthony/8videos_1400frames_relabled/videos/newvideo_piezo\\\\030223 Spider Piezo 50H-03022023145611-0000.mp4',\n",
       " 'B:\\\\HsinYi\\\\DeepLabCut_Anthony/8videos_1400frames_relabled/videos/newvideo_piezo\\\\030223 Spider Piezo 5H-03022023141544-0000.mp4',\n",
       " 'B:\\\\HsinYi\\\\DeepLabCut_Anthony/8videos_1400frames_relabled/videos/newvideo_piezo\\\\030423 Spider Piezo 100Hz-03042023155445-0000.mp4',\n",
       " 'B:\\\\HsinYi\\\\DeepLabCut_Anthony/8videos_1400frames_relabled/videos/newvideo_piezo\\\\030423 Spider Piezo 10Hz-03042023151039-0000.mp4',\n",
       " 'B:\\\\HsinYi\\\\DeepLabCut_Anthony/8videos_1400frames_relabled/videos/newvideo_piezo\\\\030423 Spider Piezo 20Hz 2-03042023160108-0000.mp4',\n",
       " 'B:\\\\HsinYi\\\\DeepLabCut_Anthony/8videos_1400frames_relabled/videos/newvideo_piezo\\\\030423 Spider Piezo 20Hz-03042023152159-0000.mp4',\n",
       " 'B:\\\\HsinYi\\\\DeepLabCut_Anthony/8videos_1400frames_relabled/videos/newvideo_piezo\\\\030423 Spider Piezo 30Hz 2-03042023161051-0000.mp4',\n",
       " 'B:\\\\HsinYi\\\\DeepLabCut_Anthony/8videos_1400frames_relabled/videos/newvideo_piezo\\\\030423 Spider Piezo 30Hz-03042023153050-0000.mp4',\n",
       " 'B:\\\\HsinYi\\\\DeepLabCut_Anthony/8videos_1400frames_relabled/videos/newvideo_piezo\\\\030423 Spider Piezo 40Hz 2-03042023162029-0000.mp4',\n",
       " 'B:\\\\HsinYi\\\\DeepLabCut_Anthony/8videos_1400frames_relabled/videos/newvideo_piezo\\\\030423 Spider Piezo 40Hz-03042023153755-0000.mp4',\n",
       " 'B:\\\\HsinYi\\\\DeepLabCut_Anthony/8videos_1400frames_relabled/videos/newvideo_piezo\\\\030423 Spider Piezo 50Hz-03042023154454-0000.mp4',\n",
       " 'B:\\\\HsinYi\\\\DeepLabCut_Anthony/8videos_1400frames_relabled/videos/newvideo_piezo\\\\030423 Spider Piezo 5Hz-03042023150448-0000.mp4',\n",
       " 'B:\\\\HsinYi\\\\DeepLabCut_Anthony/8videos_1400frames_relabled/videos/newvideo_piezo\\\\030623 Spider Piezo 100Hz Crouched-03062023163558-0000.mp4',\n",
       " 'B:\\\\HsinYi\\\\DeepLabCut_Anthony/8videos_1400frames_relabled/videos/newvideo_piezo\\\\030623 Spider Piezo 10Hz Crouched-03062023161702-0000.mp4',\n",
       " 'B:\\\\HsinYi\\\\DeepLabCut_Anthony/8videos_1400frames_relabled/videos/newvideo_piezo\\\\030623 Spider Piezo 10Hz-03062023135846-0000.mp4',\n",
       " 'B:\\\\HsinYi\\\\DeepLabCut_Anthony/8videos_1400frames_relabled/videos/newvideo_piezo\\\\030623 Spider Piezo 20Hz Crouched-03062023160727-0000.mp4',\n",
       " 'B:\\\\HsinYi\\\\DeepLabCut_Anthony/8videos_1400frames_relabled/videos/newvideo_piezo\\\\030623 Spider Piezo 20Hz-03062023140638-0000.mp4',\n",
       " 'B:\\\\HsinYi\\\\DeepLabCut_Anthony/8videos_1400frames_relabled/videos/newvideo_piezo\\\\030623 Spider Piezo 30Hz Crouched-03062023160044-0000.mp4',\n",
       " 'B:\\\\HsinYi\\\\DeepLabCut_Anthony/8videos_1400frames_relabled/videos/newvideo_piezo\\\\030623 Spider Piezo 30Hz-03062023144000-0000.mp4',\n",
       " 'B:\\\\HsinYi\\\\DeepLabCut_Anthony/8videos_1400frames_relabled/videos/newvideo_piezo\\\\030623 Spider Piezo 40Hz Crouched-03062023155151-0000.mp4',\n",
       " 'B:\\\\HsinYi\\\\DeepLabCut_Anthony/8videos_1400frames_relabled/videos/newvideo_piezo\\\\030623 Spider Piezo 40Hz-03062023152234-0000.mp4',\n",
       " 'B:\\\\HsinYi\\\\DeepLabCut_Anthony/8videos_1400frames_relabled/videos/newvideo_piezo\\\\030623 Spider Piezo 50Hz Crouched-03062023162950-0000.mp4',\n",
       " 'B:\\\\HsinYi\\\\DeepLabCut_Anthony/8videos_1400frames_relabled/videos/newvideo_piezo\\\\030623 Spider Piezo 5Hz Crouched-03062023162254-0000.mp4',\n",
       " 'B:\\\\HsinYi\\\\DeepLabCut_Anthony/8videos_1400frames_relabled/videos/newvideo_piezo\\\\030623 Spider025 Piezo 100Hz-03062023184951-0000.mp4',\n",
       " 'B:\\\\HsinYi\\\\DeepLabCut_Anthony/8videos_1400frames_relabled/videos/newvideo_piezo\\\\030623 Spider025 Piezo 10Hz-03062023185744-0000.mp4',\n",
       " 'B:\\\\HsinYi\\\\DeepLabCut_Anthony/8videos_1400frames_relabled/videos/newvideo_piezo\\\\030623 Spider025 Piezo 20Hz-03062023181238-0000.mp4',\n",
       " 'B:\\\\HsinYi\\\\DeepLabCut_Anthony/8videos_1400frames_relabled/videos/newvideo_piezo\\\\030623 Spider025 Piezo 30Hz-03062023182246-0000.mp4',\n",
       " 'B:\\\\HsinYi\\\\DeepLabCut_Anthony/8videos_1400frames_relabled/videos/newvideo_piezo\\\\030623 Spider025 Piezo 40Hz-03062023183058-0000.mp4',\n",
       " 'B:\\\\HsinYi\\\\DeepLabCut_Anthony/8videos_1400frames_relabled/videos/newvideo_piezo\\\\030623 Spider025 Piezo 50Hz-03062023183958-0000.mp4',\n",
       " 'B:\\\\HsinYi\\\\DeepLabCut_Anthony/8videos_1400frames_relabled/videos/newvideo_piezo\\\\030623 Spider025 Piezo 5Hz-03062023190433-0000.mp4',\n",
       " 'B:\\\\HsinYi\\\\DeepLabCut_Anthony/8videos_1400frames_relabled/videos/newvideo_piezo\\\\030723 Spider Piezo 100Hz Crouched-03072023172338-0000.mp4',\n",
       " 'B:\\\\HsinYi\\\\DeepLabCut_Anthony/8videos_1400frames_relabled/videos/newvideo_piezo\\\\030723 Spider Piezo 100Hz-03072023145502-0000.mp4',\n",
       " 'B:\\\\HsinYi\\\\DeepLabCut_Anthony/8videos_1400frames_relabled/videos/newvideo_piezo\\\\030723 Spider Piezo 10Hz Crouched-03072023165852-0000.mp4',\n",
       " 'B:\\\\HsinYi\\\\DeepLabCut_Anthony/8videos_1400frames_relabled/videos/newvideo_piezo\\\\030723 Spider Piezo 10Hz-03072023150437-0000.mp4',\n",
       " 'B:\\\\HsinYi\\\\DeepLabCut_Anthony/8videos_1400frames_relabled/videos/newvideo_piezo\\\\030723 Spider Piezo 20Hz Crouched-03072023170432-0000.mp4',\n",
       " 'B:\\\\HsinYi\\\\DeepLabCut_Anthony/8videos_1400frames_relabled/videos/newvideo_piezo\\\\030723 Spider Piezo 20Hz-03072023151119-0000.mp4',\n",
       " 'B:\\\\HsinYi\\\\DeepLabCut_Anthony/8videos_1400frames_relabled/videos/newvideo_piezo\\\\030723 Spider Piezo 30Hz Crouched-03072023170717-0000.mp4',\n",
       " 'B:\\\\HsinYi\\\\DeepLabCut_Anthony/8videos_1400frames_relabled/videos/newvideo_piezo\\\\030723 Spider Piezo 30Hz-03072023155707-0000.mp4',\n",
       " 'B:\\\\HsinYi\\\\DeepLabCut_Anthony/8videos_1400frames_relabled/videos/newvideo_piezo\\\\030723 Spider Piezo 40Hz Crouched-03072023171229-0000.mp4',\n",
       " 'B:\\\\HsinYi\\\\DeepLabCut_Anthony/8videos_1400frames_relabled/videos/newvideo_piezo\\\\030723 Spider Piezo 40Hz-03072023154727-0000.mp4',\n",
       " 'B:\\\\HsinYi\\\\DeepLabCut_Anthony/8videos_1400frames_relabled/videos/newvideo_piezo\\\\030723 Spider Piezo 50Hz Crouched-03072023171749-0000.mp4',\n",
       " 'B:\\\\HsinYi\\\\DeepLabCut_Anthony/8videos_1400frames_relabled/videos/newvideo_piezo\\\\030723 Spider Piezo 50Hz-03072023144612-0000.mp4',\n",
       " 'B:\\\\HsinYi\\\\DeepLabCut_Anthony/8videos_1400frames_relabled/videos/newvideo_piezo\\\\030723 Spider Piezo 5Hz Crouched-03072023172918-0000.mp4',\n",
       " 'B:\\\\HsinYi\\\\DeepLabCut_Anthony/8videos_1400frames_relabled/videos/newvideo_piezo\\\\030723 Spider Piezo 5Hz Crouched_2-03072023165128-0000.mp4',\n",
       " 'B:\\\\HsinYi\\\\DeepLabCut_Anthony/8videos_1400frames_relabled/videos/newvideo_piezo\\\\030723 Spider Piezo 5Hz-03072023143912-0000.mp4',\n",
       " 'B:\\\\HsinYi\\\\DeepLabCut_Anthony/8videos_1400frames_relabled/videos/newvideo_piezo\\\\030923 Spider Piezo 100Hz Crouched-03092023170132-0000.mp4',\n",
       " 'B:\\\\HsinYi\\\\DeepLabCut_Anthony/8videos_1400frames_relabled/videos/newvideo_piezo\\\\030923 Spider Piezo 100Hz-03092023152248-0000.mp4',\n",
       " 'B:\\\\HsinYi\\\\DeepLabCut_Anthony/8videos_1400frames_relabled/videos/newvideo_piezo\\\\030923 Spider Piezo 10Hz Crouched-03092023181250-0000.mp4',\n",
       " 'B:\\\\HsinYi\\\\DeepLabCut_Anthony/8videos_1400frames_relabled/videos/newvideo_piezo\\\\030923 Spider Piezo 10Hz-03092023141055-0000.mp4',\n",
       " 'B:\\\\HsinYi\\\\DeepLabCut_Anthony/8videos_1400frames_relabled/videos/newvideo_piezo\\\\030923 Spider Piezo 20Hz Crouched-03092023181140-0000.mp4',\n",
       " 'B:\\\\HsinYi\\\\DeepLabCut_Anthony/8videos_1400frames_relabled/videos/newvideo_piezo\\\\030923 Spider Piezo 20Hz-03092023141422-0000.mp4',\n",
       " 'B:\\\\HsinYi\\\\DeepLabCut_Anthony/8videos_1400frames_relabled/videos/newvideo_piezo\\\\030923 Spider Piezo 30Hz Crouched-03092023172424-0000.mp4',\n",
       " 'B:\\\\HsinYi\\\\DeepLabCut_Anthony/8videos_1400frames_relabled/videos/newvideo_piezo\\\\030923 Spider Piezo 30Hz-03092023143509-0000.mp4',\n",
       " 'B:\\\\HsinYi\\\\DeepLabCut_Anthony/8videos_1400frames_relabled/videos/newvideo_piezo\\\\030923 Spider Piezo 40Hz Crouched-03092023171633-0000.mp4',\n",
       " 'B:\\\\HsinYi\\\\DeepLabCut_Anthony/8videos_1400frames_relabled/videos/newvideo_piezo\\\\030923 Spider Piezo 40Hz-03092023144831-0000.mp4',\n",
       " 'B:\\\\HsinYi\\\\DeepLabCut_Anthony/8videos_1400frames_relabled/videos/newvideo_piezo\\\\030923 Spider Piezo 50Hz Crouched-03092023170822-0000.mp4',\n",
       " 'B:\\\\HsinYi\\\\DeepLabCut_Anthony/8videos_1400frames_relabled/videos/newvideo_piezo\\\\030923 Spider Piezo 50Hz-03092023150211-0000.mp4',\n",
       " 'B:\\\\HsinYi\\\\DeepLabCut_Anthony/8videos_1400frames_relabled/videos/newvideo_piezo\\\\030923 Spider Piezo 5Hz Crouched-03092023181424-0000.mp4',\n",
       " 'B:\\\\HsinYi\\\\DeepLabCut_Anthony/8videos_1400frames_relabled/videos/newvideo_piezo\\\\030923 Spider Piezo 5Hz Nomove-03092023135745-0000.mp4',\n",
       " 'B:\\\\HsinYi\\\\DeepLabCut_Anthony/8videos_1400frames_relabled/videos/newvideo_piezo\\\\030923 Spider Piezo 5Hz-03092023154449-0000.mp4',\n",
       " 'B:\\\\HsinYi\\\\DeepLabCut_Anthony/8videos_1400frames_relabled/videos/newvideo_piezo\\\\031023 Spider Piezo 100Hz Crouched-03102023181017-0000.mp4',\n",
       " 'B:\\\\HsinYi\\\\DeepLabCut_Anthony/8videos_1400frames_relabled/videos/newvideo_piezo\\\\031023 Spider Piezo 100Hz-03102023163506-0000.mp4',\n",
       " 'B:\\\\HsinYi\\\\DeepLabCut_Anthony/8videos_1400frames_relabled/videos/newvideo_piezo\\\\031023 Spider Piezo 10Hz Crouched-03102023175633-0000.mp4',\n",
       " 'B:\\\\HsinYi\\\\DeepLabCut_Anthony/8videos_1400frames_relabled/videos/newvideo_piezo\\\\031023 Spider Piezo 10Hz-03102023150849-0000.mp4',\n",
       " 'B:\\\\HsinYi\\\\DeepLabCut_Anthony/8videos_1400frames_relabled/videos/newvideo_piezo\\\\031023 Spider Piezo 20Hz Crouched-03102023175952-0000.mp4',\n",
       " 'B:\\\\HsinYi\\\\DeepLabCut_Anthony/8videos_1400frames_relabled/videos/newvideo_piezo\\\\031023 Spider Piezo 20Hz-03102023151354-0000.mp4',\n",
       " 'B:\\\\HsinYi\\\\DeepLabCut_Anthony/8videos_1400frames_relabled/videos/newvideo_piezo\\\\031023 Spider Piezo 30Hz Crouched-03102023180121-0000.mp4',\n",
       " 'B:\\\\HsinYi\\\\DeepLabCut_Anthony/8videos_1400frames_relabled/videos/newvideo_piezo\\\\031023 Spider Piezo 30Hz-03102023152225-0000.mp4',\n",
       " 'B:\\\\HsinYi\\\\DeepLabCut_Anthony/8videos_1400frames_relabled/videos/newvideo_piezo\\\\031023 Spider Piezo 40Hz Crouched-03102023180623-0000.mp4',\n",
       " 'B:\\\\HsinYi\\\\DeepLabCut_Anthony/8videos_1400frames_relabled/videos/newvideo_piezo\\\\031023 Spider Piezo 40Hz-03102023154111-0000.mp4',\n",
       " 'B:\\\\HsinYi\\\\DeepLabCut_Anthony/8videos_1400frames_relabled/videos/newvideo_piezo\\\\031023 Spider Piezo 50Hz Crouched-03102023180840-0000.mp4',\n",
       " 'B:\\\\HsinYi\\\\DeepLabCut_Anthony/8videos_1400frames_relabled/videos/newvideo_piezo\\\\031023 Spider Piezo 50Hz-03102023162651-0000.mp4',\n",
       " 'B:\\\\HsinYi\\\\DeepLabCut_Anthony/8videos_1400frames_relabled/videos/newvideo_piezo\\\\031023 Spider Piezo 5Hz Crouched-03102023175841-0000.mp4',\n",
       " 'B:\\\\HsinYi\\\\DeepLabCut_Anthony/8videos_1400frames_relabled/videos/newvideo_piezo\\\\031023 Spider Piezo 5Hz-03102023150317-0000.mp4',\n",
       " 'B:\\\\HsinYi\\\\DeepLabCut_Anthony/8videos_1400frames_relabled/videos/newvideo_piezo\\\\0311 Spider Piezo 100Hz Crouched Nm-03112023161716-0000.mp4',\n",
       " 'B:\\\\HsinYi\\\\DeepLabCut_Anthony/8videos_1400frames_relabled/videos/newvideo_piezo\\\\0311 Spider Piezo 100Hz-03112023134920-0000.mp4',\n",
       " 'B:\\\\HsinYi\\\\DeepLabCut_Anthony/8videos_1400frames_relabled/videos/newvideo_piezo\\\\0311 Spider Piezo 100Hz-03112023145051-0000.mp4',\n",
       " 'B:\\\\HsinYi\\\\DeepLabCut_Anthony/8videos_1400frames_relabled/videos/newvideo_piezo\\\\0311 Spider Piezo 10Hz Crouched Nm-03112023162107-0000.mp4',\n",
       " 'B:\\\\HsinYi\\\\DeepLabCut_Anthony/8videos_1400frames_relabled/videos/newvideo_piezo\\\\0311 Spider Piezo 10Hz Crouched-03112023155438-0000.mp4',\n",
       " 'B:\\\\HsinYi\\\\DeepLabCut_Anthony/8videos_1400frames_relabled/videos/newvideo_piezo\\\\0311 Spider Piezo 10Hz-03112023141910-0000.mp4',\n",
       " 'B:\\\\HsinYi\\\\DeepLabCut_Anthony/8videos_1400frames_relabled/videos/newvideo_piezo\\\\0311 Spider Piezo 20Hz Crouched Nm-03112023162024-0000.mp4',\n",
       " 'B:\\\\HsinYi\\\\DeepLabCut_Anthony/8videos_1400frames_relabled/videos/newvideo_piezo\\\\0311 Spider Piezo 20Hz Crouched-03112023160110-0000.mp4',\n",
       " 'B:\\\\HsinYi\\\\DeepLabCut_Anthony/8videos_1400frames_relabled/videos/newvideo_piezo\\\\0311 Spider Piezo 20Hz-03112023142429-0000.mp4',\n",
       " 'B:\\\\HsinYi\\\\DeepLabCut_Anthony/8videos_1400frames_relabled/videos/newvideo_piezo\\\\0311 Spider Piezo 30Hz Crouched Nm-03112023161935-0000.mp4',\n",
       " 'B:\\\\HsinYi\\\\DeepLabCut_Anthony/8videos_1400frames_relabled/videos/newvideo_piezo\\\\0311 Spider Piezo 30Hz Crouched-03112023160744-0000.mp4',\n",
       " 'B:\\\\HsinYi\\\\DeepLabCut_Anthony/8videos_1400frames_relabled/videos/newvideo_piezo\\\\0311 Spider Piezo 30Hz-03112023143053-0000.mp4',\n",
       " 'B:\\\\HsinYi\\\\DeepLabCut_Anthony/8videos_1400frames_relabled/videos/newvideo_piezo\\\\0311 Spider Piezo 40Hz Crouched Nm-03112023161843-0000.mp4',\n",
       " 'B:\\\\HsinYi\\\\DeepLabCut_Anthony/8videos_1400frames_relabled/videos/newvideo_piezo\\\\0311 Spider Piezo 40Hz Crouched-03112023161108-0000.mp4',\n",
       " 'B:\\\\HsinYi\\\\DeepLabCut_Anthony/8videos_1400frames_relabled/videos/newvideo_piezo\\\\0311 Spider Piezo 40Hz-03112023140406-0000.mp4',\n",
       " 'B:\\\\HsinYi\\\\DeepLabCut_Anthony/8videos_1400frames_relabled/videos/newvideo_piezo\\\\0311 Spider Piezo 40Hz-03112023143554-0000.mp4',\n",
       " 'B:\\\\HsinYi\\\\DeepLabCut_Anthony/8videos_1400frames_relabled/videos/newvideo_piezo\\\\0311 Spider Piezo 50Hz Crouched Nm-03112023162242-0000.mp4',\n",
       " 'B:\\\\HsinYi\\\\DeepLabCut_Anthony/8videos_1400frames_relabled/videos/newvideo_piezo\\\\0311 Spider Piezo 50Hz Crouched-03112023161400-0000.mp4',\n",
       " 'B:\\\\HsinYi\\\\DeepLabCut_Anthony/8videos_1400frames_relabled/videos/newvideo_piezo\\\\0311 Spider Piezo 50Hz-03112023135536-0000.mp4',\n",
       " 'B:\\\\HsinYi\\\\DeepLabCut_Anthony/8videos_1400frames_relabled/videos/newvideo_piezo\\\\0311 Spider Piezo 50Hz-03112023144230-0000.mp4',\n",
       " 'B:\\\\HsinYi\\\\DeepLabCut_Anthony/8videos_1400frames_relabled/videos/newvideo_piezo\\\\0311 Spider Piezo 5Hz Crouched Nm-03112023162148-0000.mp4',\n",
       " 'B:\\\\HsinYi\\\\DeepLabCut_Anthony/8videos_1400frames_relabled/videos/newvideo_piezo\\\\0311 Spider Piezo 5Hz Crouched-03112023155044-0000.mp4',\n",
       " 'B:\\\\HsinYi\\\\DeepLabCut_Anthony/8videos_1400frames_relabled/videos/newvideo_piezo\\\\0311 Spider Piezo 5Hz-03112023141232-0000.mp4',\n",
       " 'B:\\\\HsinYi\\\\DeepLabCut_Anthony/8videos_1400frames_relabled/videos/newvideo_piezo\\\\031223 Spider Piezo 100Hz Crouched-03122023133411-0000.mp4',\n",
       " 'B:\\\\HsinYi\\\\DeepLabCut_Anthony/8videos_1400frames_relabled/videos/newvideo_piezo\\\\031223 Spider Piezo 10Hz Crouched-03122023133854-0000.mp4',\n",
       " 'B:\\\\HsinYi\\\\DeepLabCut_Anthony/8videos_1400frames_relabled/videos/newvideo_piezo\\\\031223 Spider Piezo 10Hz Crouched2-03122023132918-0000.mp4',\n",
       " 'B:\\\\HsinYi\\\\DeepLabCut_Anthony/8videos_1400frames_relabled/videos/newvideo_piezo\\\\031223 Spider Piezo 20Hz Crouched-03122023133710-0000.mp4',\n",
       " 'B:\\\\HsinYi\\\\DeepLabCut_Anthony/8videos_1400frames_relabled/videos/newvideo_piezo\\\\031223 Spider Piezo 20Hz Crouched2-03122023133033-0000.mp4',\n",
       " 'B:\\\\HsinYi\\\\DeepLabCut_Anthony/8videos_1400frames_relabled/videos/newvideo_piezo\\\\031223 Spider Piezo 30Hz Crouched-03122023133531-0000.mp4',\n",
       " 'B:\\\\HsinYi\\\\DeepLabCut_Anthony/8videos_1400frames_relabled/videos/newvideo_piezo\\\\031223 Spider Piezo 30Hz Crouched2-03122023133120-0000.mp4',\n",
       " 'B:\\\\HsinYi\\\\DeepLabCut_Anthony/8videos_1400frames_relabled/videos/newvideo_piezo\\\\031223 Spider Piezo 40Hz Crouched-03122023133239-0000.mp4',\n",
       " 'B:\\\\HsinYi\\\\DeepLabCut_Anthony/8videos_1400frames_relabled/videos/newvideo_piezo\\\\031223 Spider Piezo 50Hz Crouched-03122023133322-0000.mp4',\n",
       " 'B:\\\\HsinYi\\\\DeepLabCut_Anthony/8videos_1400frames_relabled/videos/newvideo_piezo\\\\031223 Spider Piezo 5Hz Crouched-03122023133932-0000.mp4',\n",
       " 'B:\\\\HsinYi\\\\DeepLabCut_Anthony/8videos_1400frames_relabled/videos/newvideo_piezo\\\\031223 Spider Piezo 5Hz Crouched2-03122023132810-0000.mp4']"
      ]
     },
     "execution_count": 4,
     "metadata": {},
     "output_type": "execute_result"
    }
   ],
   "source": [
    "import glob\n",
    "new_videos = glob.glob('B:\\HsinYi\\DeepLabCut_Anthony/8videos_1400frames_relabled/videos/newvideo_piezo/*0000.mp4')\n",
    "new_videos"
   ]
  },
  {
   "cell_type": "code",
   "execution_count": null,
   "metadata": {},
   "outputs": [],
   "source": [
    "### chamge numframes2pick from 80 to 5"
   ]
  },
  {
   "cell_type": "code",
   "execution_count": 8,
   "metadata": {},
   "outputs": [
    {
     "name": "stderr",
     "output_type": "stream",
     "text": [
      "B:\\HsinYi\\DeepLabCut_Anthony\\deeplabcut\\refine_training_dataset\\outlier_frames.py:325: FutureWarning: Using the level keyword in DataFrame and Series aggregations is deprecated and will be removed in a future version. Use groupby instead. df.sum(level=1) should use df.groupby(level=1).sum().\n",
      "  sum_ = temp_dt.sum(axis=1, level=1)\n"
     ]
    },
    {
     "name": "stdout",
     "output_type": "stream",
     "text": [
      "Method  jump  found  33  putative outlier frames.\n",
      "Do you want to proceed with extracting  3  of those?\n",
      "If this list is very large, perhaps consider changing the parameters (start, stop, p_bound, comparisonbodyparts) or use a different method.\n",
      "Loading video...\n",
      "Duration of video [s]:  9.14 , recorded @  100.0 fps!\n",
      "Overall # of frames:  914 with (cropped) frame dimensions: \n",
      "Kmeans-quantization based extracting of frames from 0.0  seconds to 9.14  seconds.\n",
      "Extracting and downsampling... 33  frames from the video.\n"
     ]
    },
    {
     "name": "stderr",
     "output_type": "stream",
     "text": [
      "33it [00:04,  7.48it/s]\n",
      "C:\\Users\\Gordus_Lab\\anaconda3\\envs\\DEEPLABCUT\\lib\\site-packages\\sklearn\\cluster\\_kmeans.py:870: FutureWarning: The default value of `n_init` will change from 3 to 'auto' in 1.4. Set the value of `n_init` explicitly to suppress the warning\n",
      "  warnings.warn(\n"
     ]
    },
    {
     "name": "stdout",
     "output_type": "stream",
     "text": [
      "Kmeans clustering ... (this might take a while)\n",
      "Let's select frames indices: [152, 537, 192]\n"
     ]
    },
    {
     "name": "stderr",
     "output_type": "stream",
     "text": [
      "B:\\HsinYi\\DeepLabCut_Anthony\\deeplabcut\\refine_training_dataset\\outlier_frames.py:325: FutureWarning: Using the level keyword in DataFrame and Series aggregations is deprecated and will be removed in a future version. Use groupby instead. df.sum(level=1) should use df.groupby(level=1).sum().\n",
      "  sum_ = temp_dt.sum(axis=1, level=1)\n",
      "B:\\HsinYi\\DeepLabCut_Anthony\\deeplabcut\\refine_training_dataset\\outlier_frames.py:325: FutureWarning: Using the level keyword in DataFrame and Series aggregations is deprecated and will be removed in a future version. Use groupby instead. df.sum(level=1) should use df.groupby(level=1).sum().\n",
      "  sum_ = temp_dt.sum(axis=1, level=1)\n"
     ]
    },
    {
     "name": "stdout",
     "output_type": "stream",
     "text": [
      "Creating the symbolic link of the video\n",
      "AUTOMATIC ADDING OF VIDEO TO CONFIG FILE FAILED! You need to do this manually for including it in the config.yaml file!\n",
      "Videopath: B:\\HsinYi\\DeepLabCut_Anthony/8videos_1400frames_relabled/videos/newvideo_piezo\\022823 Piezo Air Control 100Hz-02282023143835-0000.mp4 Coordinates for cropping: None\n",
      "The outlier frames are extracted. They are stored in the subdirectory labeled-data\\022823 Piezo Air Control 100Hz-02282023143835-0000.\n",
      "Once you extracted frames for all videos, use 'refine_labels' to manually correct the labels.\n",
      "Method  jump  found  0  putative outlier frames.\n",
      "Do you want to proceed with extracting  3  of those?\n",
      "If this list is very large, perhaps consider changing the parameters (start, stop, p_bound, comparisonbodyparts) or use a different method.\n",
      "Loading video...\n",
      "Duration of video [s]:  9.12 , recorded @  100.0 fps!\n",
      "Overall # of frames:  912 with (cropped) frame dimensions: \n",
      "Kmeans-quantization based extracting of frames from 0.0  seconds to 9.12  seconds.\n",
      "Let's select frames indices: []\n",
      "No frames were extracted.\n",
      "Method  jump  found  47  putative outlier frames.\n",
      "Do you want to proceed with extracting  3  of those?\n",
      "If this list is very large, perhaps consider changing the parameters (start, stop, p_bound, comparisonbodyparts) or use a different method.\n",
      "Loading video...\n",
      "Duration of video [s]:  9.19 , recorded @  100.0 fps!\n",
      "Overall # of frames:  919 with (cropped) frame dimensions: \n",
      "Kmeans-quantization based extracting of frames from 0.0  seconds to 9.19  seconds.\n",
      "Extracting and downsampling... 47  frames from the video.\n"
     ]
    },
    {
     "name": "stderr",
     "output_type": "stream",
     "text": [
      "47it [00:08,  5.58it/s]\n",
      "C:\\Users\\Gordus_Lab\\anaconda3\\envs\\DEEPLABCUT\\lib\\site-packages\\sklearn\\cluster\\_kmeans.py:870: FutureWarning: The default value of `n_init` will change from 3 to 'auto' in 1.4. Set the value of `n_init` explicitly to suppress the warning\n",
      "  warnings.warn(\n"
     ]
    },
    {
     "name": "stdout",
     "output_type": "stream",
     "text": [
      "Kmeans clustering ... (this might take a while)\n",
      "Let's select frames indices: [451, 807, 149]\n"
     ]
    },
    {
     "name": "stderr",
     "output_type": "stream",
     "text": [
      "B:\\HsinYi\\DeepLabCut_Anthony\\deeplabcut\\refine_training_dataset\\outlier_frames.py:325: FutureWarning: Using the level keyword in DataFrame and Series aggregations is deprecated and will be removed in a future version. Use groupby instead. df.sum(level=1) should use df.groupby(level=1).sum().\n",
      "  sum_ = temp_dt.sum(axis=1, level=1)\n"
     ]
    },
    {
     "name": "stdout",
     "output_type": "stream",
     "text": [
      "Creating the symbolic link of the video\n",
      "AUTOMATIC ADDING OF VIDEO TO CONFIG FILE FAILED! You need to do this manually for including it in the config.yaml file!\n",
      "Videopath: B:\\HsinYi\\DeepLabCut_Anthony/8videos_1400frames_relabled/videos/newvideo_piezo\\022823 Piezo Air Control 20Hz-02282023151821-0000.mp4 Coordinates for cropping: None\n",
      "The outlier frames are extracted. They are stored in the subdirectory labeled-data\\022823 Piezo Air Control 20Hz-02282023151821-0000.\n",
      "Once you extracted frames for all videos, use 'refine_labels' to manually correct the labels.\n",
      "Method  jump  found  35  putative outlier frames.\n",
      "Do you want to proceed with extracting  3  of those?\n",
      "If this list is very large, perhaps consider changing the parameters (start, stop, p_bound, comparisonbodyparts) or use a different method.\n",
      "Loading video...\n",
      "Duration of video [s]:  15.33 , recorded @  100.0 fps!\n",
      "Overall # of frames:  1533 with (cropped) frame dimensions: \n",
      "Kmeans-quantization based extracting of frames from 0.0  seconds to 15.33  seconds.\n",
      "Extracting and downsampling... 35  frames from the video.\n"
     ]
    },
    {
     "name": "stderr",
     "output_type": "stream",
     "text": [
      "35it [00:05,  6.73it/s]\n",
      "C:\\Users\\Gordus_Lab\\anaconda3\\envs\\DEEPLABCUT\\lib\\site-packages\\sklearn\\cluster\\_kmeans.py:870: FutureWarning: The default value of `n_init` will change from 3 to 'auto' in 1.4. Set the value of `n_init` explicitly to suppress the warning\n",
      "  warnings.warn(\n"
     ]
    },
    {
     "name": "stdout",
     "output_type": "stream",
     "text": [
      "Kmeans clustering ... (this might take a while)\n",
      "Let's select frames indices: [965, 1433, 111]\n",
      "Creating the symbolic link of the video\n",
      "AUTOMATIC ADDING OF VIDEO TO CONFIG FILE FAILED! You need to do this manually for including it in the config.yaml file!\n",
      "Videopath: B:\\HsinYi\\DeepLabCut_Anthony/8videos_1400frames_relabled/videos/newvideo_piezo\\022823 Piezo Air Control 30Hz-02282023151124-0000.mp4 Coordinates for cropping: None\n",
      "The outlier frames are extracted. They are stored in the subdirectory labeled-data\\022823 Piezo Air Control 30Hz-02282023151124-0000.\n",
      "Once you extracted frames for all videos, use 'refine_labels' to manually correct the labels.\n",
      "Method  jump  found  2  putative outlier frames.\n",
      "Do you want to proceed with extracting  3  of those?\n",
      "If this list is very large, perhaps consider changing the parameters (start, stop, p_bound, comparisonbodyparts) or use a different method.\n",
      "Loading video...\n",
      "Duration of video [s]:  9.13 , recorded @  100.0 fps!\n",
      "Overall # of frames:  913 with (cropped) frame dimensions: \n",
      "Kmeans-quantization based extracting of frames from 0.0  seconds to 9.13  seconds.\n",
      "Let's select frames indices: [719, 723]\n"
     ]
    },
    {
     "name": "stderr",
     "output_type": "stream",
     "text": [
      "B:\\HsinYi\\DeepLabCut_Anthony\\deeplabcut\\refine_training_dataset\\outlier_frames.py:325: FutureWarning: Using the level keyword in DataFrame and Series aggregations is deprecated and will be removed in a future version. Use groupby instead. df.sum(level=1) should use df.groupby(level=1).sum().\n",
      "  sum_ = temp_dt.sum(axis=1, level=1)\n",
      "B:\\HsinYi\\DeepLabCut_Anthony\\deeplabcut\\refine_training_dataset\\outlier_frames.py:325: FutureWarning: Using the level keyword in DataFrame and Series aggregations is deprecated and will be removed in a future version. Use groupby instead. df.sum(level=1) should use df.groupby(level=1).sum().\n",
      "  sum_ = temp_dt.sum(axis=1, level=1)\n"
     ]
    },
    {
     "name": "stdout",
     "output_type": "stream",
     "text": [
      "Creating the symbolic link of the video\n",
      "AUTOMATIC ADDING OF VIDEO TO CONFIG FILE FAILED! You need to do this manually for including it in the config.yaml file!\n",
      "Videopath: B:\\HsinYi\\DeepLabCut_Anthony/8videos_1400frames_relabled/videos/newvideo_piezo\\022823 Piezo Air Control 40Hz-02282023145844-0000.mp4 Coordinates for cropping: None\n",
      "The outlier frames are extracted. They are stored in the subdirectory labeled-data\\022823 Piezo Air Control 40Hz-02282023145844-0000.\n",
      "Once you extracted frames for all videos, use 'refine_labels' to manually correct the labels.\n",
      "Method  jump  found  93  putative outlier frames.\n",
      "Do you want to proceed with extracting  3  of those?\n",
      "If this list is very large, perhaps consider changing the parameters (start, stop, p_bound, comparisonbodyparts) or use a different method.\n",
      "Loading video...\n",
      "Duration of video [s]:  9.05 , recorded @  100.0 fps!\n",
      "Overall # of frames:  905 with (cropped) frame dimensions: \n",
      "Kmeans-quantization based extracting of frames from 0.0  seconds to 9.05  seconds.\n",
      "Extracting and downsampling... 93  frames from the video.\n"
     ]
    },
    {
     "name": "stderr",
     "output_type": "stream",
     "text": [
      "93it [00:13,  6.79it/s]\n",
      "C:\\Users\\Gordus_Lab\\anaconda3\\envs\\DEEPLABCUT\\lib\\site-packages\\sklearn\\cluster\\_kmeans.py:870: FutureWarning: The default value of `n_init` will change from 3 to 'auto' in 1.4. Set the value of `n_init` explicitly to suppress the warning\n",
      "  warnings.warn(\n"
     ]
    },
    {
     "name": "stdout",
     "output_type": "stream",
     "text": [
      "Kmeans clustering ... (this might take a while)\n",
      "Let's select frames indices: [227, 883, 186]\n"
     ]
    },
    {
     "name": "stderr",
     "output_type": "stream",
     "text": [
      "B:\\HsinYi\\DeepLabCut_Anthony\\deeplabcut\\refine_training_dataset\\outlier_frames.py:325: FutureWarning: Using the level keyword in DataFrame and Series aggregations is deprecated and will be removed in a future version. Use groupby instead. df.sum(level=1) should use df.groupby(level=1).sum().\n",
      "  sum_ = temp_dt.sum(axis=1, level=1)\n"
     ]
    },
    {
     "name": "stdout",
     "output_type": "stream",
     "text": [
      "Creating the symbolic link of the video\n",
      "AUTOMATIC ADDING OF VIDEO TO CONFIG FILE FAILED! You need to do this manually for including it in the config.yaml file!\n",
      "Videopath: B:\\HsinYi\\DeepLabCut_Anthony/8videos_1400frames_relabled/videos/newvideo_piezo\\022823 Piezo Air Control 50Hz-02282023144903-0000.mp4 Coordinates for cropping: None\n",
      "The outlier frames are extracted. They are stored in the subdirectory labeled-data\\022823 Piezo Air Control 50Hz-02282023144903-0000.\n",
      "Once you extracted frames for all videos, use 'refine_labels' to manually correct the labels.\n",
      "Method  jump  found  43  putative outlier frames.\n",
      "Do you want to proceed with extracting  3  of those?\n",
      "If this list is very large, perhaps consider changing the parameters (start, stop, p_bound, comparisonbodyparts) or use a different method.\n",
      "Loading video...\n",
      "Duration of video [s]:  9.15 , recorded @  100.0 fps!\n",
      "Overall # of frames:  915 with (cropped) frame dimensions: \n",
      "Kmeans-quantization based extracting of frames from 0.0  seconds to 9.15  seconds.\n",
      "Extracting and downsampling... 43  frames from the video.\n"
     ]
    },
    {
     "name": "stderr",
     "output_type": "stream",
     "text": [
      "43it [00:05,  7.59it/s]\n",
      "C:\\Users\\Gordus_Lab\\anaconda3\\envs\\DEEPLABCUT\\lib\\site-packages\\sklearn\\cluster\\_kmeans.py:870: FutureWarning: The default value of `n_init` will change from 3 to 'auto' in 1.4. Set the value of `n_init` explicitly to suppress the warning\n",
      "  warnings.warn(\n"
     ]
    },
    {
     "name": "stdout",
     "output_type": "stream",
     "text": [
      "Kmeans clustering ... (this might take a while)\n",
      "Let's select frames indices: [51, 9, 465]\n"
     ]
    },
    {
     "name": "stderr",
     "output_type": "stream",
     "text": [
      "B:\\HsinYi\\DeepLabCut_Anthony\\deeplabcut\\refine_training_dataset\\outlier_frames.py:325: FutureWarning: Using the level keyword in DataFrame and Series aggregations is deprecated and will be removed in a future version. Use groupby instead. df.sum(level=1) should use df.groupby(level=1).sum().\n",
      "  sum_ = temp_dt.sum(axis=1, level=1)\n"
     ]
    },
    {
     "name": "stdout",
     "output_type": "stream",
     "text": [
      "Creating the symbolic link of the video\n",
      "AUTOMATIC ADDING OF VIDEO TO CONFIG FILE FAILED! You need to do this manually for including it in the config.yaml file!\n",
      "Videopath: B:\\HsinYi\\DeepLabCut_Anthony/8videos_1400frames_relabled/videos/newvideo_piezo\\022823 Piezo Air Control 5Hz-02282023153140-0000.mp4 Coordinates for cropping: None\n",
      "The outlier frames are extracted. They are stored in the subdirectory labeled-data\\022823 Piezo Air Control 5Hz-02282023153140-0000.\n",
      "Once you extracted frames for all videos, use 'refine_labels' to manually correct the labels.\n",
      "Method  jump  found  61  putative outlier frames.\n",
      "Do you want to proceed with extracting  3  of those?\n",
      "If this list is very large, perhaps consider changing the parameters (start, stop, p_bound, comparisonbodyparts) or use a different method.\n",
      "Loading video...\n",
      "Duration of video [s]:  9.48 , recorded @  100.0 fps!\n",
      "Overall # of frames:  948 with (cropped) frame dimensions: \n",
      "Kmeans-quantization based extracting of frames from 0.0  seconds to 9.48  seconds.\n",
      "Extracting and downsampling... 61  frames from the video.\n"
     ]
    },
    {
     "name": "stderr",
     "output_type": "stream",
     "text": [
      "61it [00:09,  6.15it/s]\n",
      "C:\\Users\\Gordus_Lab\\anaconda3\\envs\\DEEPLABCUT\\lib\\site-packages\\sklearn\\cluster\\_kmeans.py:870: FutureWarning: The default value of `n_init` will change from 3 to 'auto' in 1.4. Set the value of `n_init` explicitly to suppress the warning\n",
      "  warnings.warn(\n"
     ]
    },
    {
     "name": "stdout",
     "output_type": "stream",
     "text": [
      "Kmeans clustering ... (this might take a while)\n",
      "Let's select frames indices: [295, 532, 207]\n"
     ]
    },
    {
     "name": "stderr",
     "output_type": "stream",
     "text": [
      "B:\\HsinYi\\DeepLabCut_Anthony\\deeplabcut\\refine_training_dataset\\outlier_frames.py:325: FutureWarning: Using the level keyword in DataFrame and Series aggregations is deprecated and will be removed in a future version. Use groupby instead. df.sum(level=1) should use df.groupby(level=1).sum().\n",
      "  sum_ = temp_dt.sum(axis=1, level=1)\n"
     ]
    },
    {
     "name": "stdout",
     "output_type": "stream",
     "text": [
      "Creating the symbolic link of the video\n",
      "AUTOMATIC ADDING OF VIDEO TO CONFIG FILE FAILED! You need to do this manually for including it in the config.yaml file!\n",
      "Videopath: B:\\HsinYi\\DeepLabCut_Anthony/8videos_1400frames_relabled/videos/newvideo_piezo\\022823 Spider Piezo 100Hz-02282023161729-0000.mp4 Coordinates for cropping: None\n",
      "The outlier frames are extracted. They are stored in the subdirectory labeled-data\\022823 Spider Piezo 100Hz-02282023161729-0000.\n",
      "Once you extracted frames for all videos, use 'refine_labels' to manually correct the labels.\n",
      "Method  jump  found  17  putative outlier frames.\n",
      "Do you want to proceed with extracting  3  of those?\n",
      "If this list is very large, perhaps consider changing the parameters (start, stop, p_bound, comparisonbodyparts) or use a different method.\n",
      "Loading video...\n",
      "Duration of video [s]:  15.33 , recorded @  100.0 fps!\n",
      "Overall # of frames:  1533 with (cropped) frame dimensions: \n",
      "Kmeans-quantization based extracting of frames from 0.0  seconds to 15.33  seconds.\n",
      "Extracting and downsampling... 17  frames from the video.\n"
     ]
    },
    {
     "name": "stderr",
     "output_type": "stream",
     "text": [
      "17it [00:01, 12.11it/s]\n",
      "C:\\Users\\Gordus_Lab\\anaconda3\\envs\\DEEPLABCUT\\lib\\site-packages\\sklearn\\cluster\\_kmeans.py:870: FutureWarning: The default value of `n_init` will change from 3 to 'auto' in 1.4. Set the value of `n_init` explicitly to suppress the warning\n",
      "  warnings.warn(\n"
     ]
    },
    {
     "name": "stdout",
     "output_type": "stream",
     "text": [
      "Kmeans clustering ... (this might take a while)\n",
      "Let's select frames indices: [495, 198, 3]\n",
      "Creating the symbolic link of the video\n",
      "AUTOMATIC ADDING OF VIDEO TO CONFIG FILE FAILED! You need to do this manually for including it in the config.yaml file!\n",
      "Videopath: B:\\HsinYi\\DeepLabCut_Anthony/8videos_1400frames_relabled/videos/newvideo_piezo\\022823 Spider Piezo 10Hz-02282023155009-0000.mp4 Coordinates for cropping: None\n",
      "The outlier frames are extracted. They are stored in the subdirectory labeled-data\\022823 Spider Piezo 10Hz-02282023155009-0000.\n",
      "Once you extracted frames for all videos, use 'refine_labels' to manually correct the labels.\n",
      "Method  jump  found  0  putative outlier frames.\n",
      "Do you want to proceed with extracting  3  of those?\n",
      "If this list is very large, perhaps consider changing the parameters (start, stop, p_bound, comparisonbodyparts) or use a different method.\n",
      "Loading video...\n",
      "Duration of video [s]:  14.26 , recorded @  100.0 fps!\n",
      "Overall # of frames:  1426 with (cropped) frame dimensions: \n",
      "Kmeans-quantization based extracting of frames from 0.0  seconds to 14.26  seconds.\n",
      "Let's select frames indices: []\n",
      "No frames were extracted.\n",
      "Method  jump  found  1  putative outlier frames.\n",
      "Do you want to proceed with extracting  3  of those?\n",
      "If this list is very large, perhaps consider changing the parameters (start, stop, p_bound, comparisonbodyparts) or use a different method.\n",
      "Loading video...\n",
      "Duration of video [s]:  9.67 , recorded @  100.0 fps!\n",
      "Overall # of frames:  967 with (cropped) frame dimensions: \n",
      "Kmeans-quantization based extracting of frames from 0.0  seconds to 9.67  seconds.\n",
      "Let's select frames indices: [963]\n"
     ]
    },
    {
     "name": "stderr",
     "output_type": "stream",
     "text": [
      "B:\\HsinYi\\DeepLabCut_Anthony\\deeplabcut\\refine_training_dataset\\outlier_frames.py:325: FutureWarning: Using the level keyword in DataFrame and Series aggregations is deprecated and will be removed in a future version. Use groupby instead. df.sum(level=1) should use df.groupby(level=1).sum().\n",
      "  sum_ = temp_dt.sum(axis=1, level=1)\n",
      "B:\\HsinYi\\DeepLabCut_Anthony\\deeplabcut\\refine_training_dataset\\outlier_frames.py:325: FutureWarning: Using the level keyword in DataFrame and Series aggregations is deprecated and will be removed in a future version. Use groupby instead. df.sum(level=1) should use df.groupby(level=1).sum().\n",
      "  sum_ = temp_dt.sum(axis=1, level=1)\n",
      "B:\\HsinYi\\DeepLabCut_Anthony\\deeplabcut\\refine_training_dataset\\outlier_frames.py:325: FutureWarning: Using the level keyword in DataFrame and Series aggregations is deprecated and will be removed in a future version. Use groupby instead. df.sum(level=1) should use df.groupby(level=1).sum().\n",
      "  sum_ = temp_dt.sum(axis=1, level=1)\n",
      "B:\\HsinYi\\DeepLabCut_Anthony\\deeplabcut\\refine_training_dataset\\outlier_frames.py:325: FutureWarning: Using the level keyword in DataFrame and Series aggregations is deprecated and will be removed in a future version. Use groupby instead. df.sum(level=1) should use df.groupby(level=1).sum().\n",
      "  sum_ = temp_dt.sum(axis=1, level=1)\n"
     ]
    },
    {
     "name": "stdout",
     "output_type": "stream",
     "text": [
      "Creating the symbolic link of the video\n",
      "AUTOMATIC ADDING OF VIDEO TO CONFIG FILE FAILED! You need to do this manually for including it in the config.yaml file!\n",
      "Videopath: B:\\HsinYi\\DeepLabCut_Anthony/8videos_1400frames_relabled/videos/newvideo_piezo\\022823 Spider Piezo 30Hz-02282023160148-0000.mp4 Coordinates for cropping: None\n",
      "The outlier frames are extracted. They are stored in the subdirectory labeled-data\\022823 Spider Piezo 30Hz-02282023160148-0000.\n",
      "Once you extracted frames for all videos, use 'refine_labels' to manually correct the labels.\n",
      "Method  jump  found  0  putative outlier frames.\n",
      "Do you want to proceed with extracting  3  of those?\n",
      "If this list is very large, perhaps consider changing the parameters (start, stop, p_bound, comparisonbodyparts) or use a different method.\n",
      "Loading video...\n",
      "Duration of video [s]:  11.29 , recorded @  100.0 fps!\n",
      "Overall # of frames:  1129 with (cropped) frame dimensions: \n",
      "Kmeans-quantization based extracting of frames from 0.0  seconds to 11.29  seconds.\n",
      "Let's select frames indices: []\n",
      "No frames were extracted.\n",
      "Method  jump  found  6  putative outlier frames.\n",
      "Do you want to proceed with extracting  3  of those?\n",
      "If this list is very large, perhaps consider changing the parameters (start, stop, p_bound, comparisonbodyparts) or use a different method.\n",
      "Loading video...\n",
      "Duration of video [s]:  9.31 , recorded @  100.0 fps!\n",
      "Overall # of frames:  931 with (cropped) frame dimensions: \n",
      "Kmeans-quantization based extracting of frames from 0.0  seconds to 9.31  seconds.\n",
      "Extracting and downsampling... 6  frames from the video.\n"
     ]
    },
    {
     "name": "stderr",
     "output_type": "stream",
     "text": [
      "6it [00:00, 14.31it/s]\n",
      "C:\\Users\\Gordus_Lab\\anaconda3\\envs\\DEEPLABCUT\\lib\\site-packages\\sklearn\\cluster\\_kmeans.py:870: FutureWarning: The default value of `n_init` will change from 3 to 'auto' in 1.4. Set the value of `n_init` explicitly to suppress the warning\n",
      "  warnings.warn(\n"
     ]
    },
    {
     "name": "stdout",
     "output_type": "stream",
     "text": [
      "Kmeans clustering ... (this might take a while)\n",
      "Let's select frames indices: [142, 184]\n"
     ]
    },
    {
     "name": "stderr",
     "output_type": "stream",
     "text": [
      "B:\\HsinYi\\DeepLabCut_Anthony\\deeplabcut\\refine_training_dataset\\outlier_frames.py:325: FutureWarning: Using the level keyword in DataFrame and Series aggregations is deprecated and will be removed in a future version. Use groupby instead. df.sum(level=1) should use df.groupby(level=1).sum().\n",
      "  sum_ = temp_dt.sum(axis=1, level=1)\n"
     ]
    },
    {
     "name": "stdout",
     "output_type": "stream",
     "text": [
      "Creating the symbolic link of the video\n",
      "AUTOMATIC ADDING OF VIDEO TO CONFIG FILE FAILED! You need to do this manually for including it in the config.yaml file!\n",
      "Videopath: B:\\HsinYi\\DeepLabCut_Anthony/8videos_1400frames_relabled/videos/newvideo_piezo\\022823 Spider Piezo 50Hz-02282023160947-0000.mp4 Coordinates for cropping: None\n",
      "The outlier frames are extracted. They are stored in the subdirectory labeled-data\\022823 Spider Piezo 50Hz-02282023160947-0000.\n",
      "Once you extracted frames for all videos, use 'refine_labels' to manually correct the labels.\n",
      "Method  jump  found  9  putative outlier frames.\n",
      "Do you want to proceed with extracting  3  of those?\n",
      "If this list is very large, perhaps consider changing the parameters (start, stop, p_bound, comparisonbodyparts) or use a different method.\n",
      "Loading video...\n",
      "Duration of video [s]:  9.48 , recorded @  100.0 fps!\n",
      "Overall # of frames:  948 with (cropped) frame dimensions: \n",
      "Kmeans-quantization based extracting of frames from 0.0  seconds to 9.48  seconds.\n",
      "Extracting and downsampling... 9  frames from the video.\n"
     ]
    },
    {
     "name": "stderr",
     "output_type": "stream",
     "text": [
      "9it [00:01,  6.73it/s]\n",
      "C:\\Users\\Gordus_Lab\\anaconda3\\envs\\DEEPLABCUT\\lib\\site-packages\\sklearn\\cluster\\_kmeans.py:870: FutureWarning: The default value of `n_init` will change from 3 to 'auto' in 1.4. Set the value of `n_init` explicitly to suppress the warning\n",
      "  warnings.warn(\n"
     ]
    },
    {
     "name": "stdout",
     "output_type": "stream",
     "text": [
      "Kmeans clustering ... (this might take a while)\n",
      "Let's select frames indices: [10, 494, 383]\n"
     ]
    },
    {
     "name": "stderr",
     "output_type": "stream",
     "text": [
      "B:\\HsinYi\\DeepLabCut_Anthony\\deeplabcut\\refine_training_dataset\\outlier_frames.py:325: FutureWarning: Using the level keyword in DataFrame and Series aggregations is deprecated and will be removed in a future version. Use groupby instead. df.sum(level=1) should use df.groupby(level=1).sum().\n",
      "  sum_ = temp_dt.sum(axis=1, level=1)\n"
     ]
    },
    {
     "name": "stdout",
     "output_type": "stream",
     "text": [
      "Creating the symbolic link of the video\n",
      "AUTOMATIC ADDING OF VIDEO TO CONFIG FILE FAILED! You need to do this manually for including it in the config.yaml file!\n",
      "Videopath: B:\\HsinYi\\DeepLabCut_Anthony/8videos_1400frames_relabled/videos/newvideo_piezo\\022823 Spider Piezo 5Hz-02282023162114-0000.mp4 Coordinates for cropping: None\n",
      "The outlier frames are extracted. They are stored in the subdirectory labeled-data\\022823 Spider Piezo 5Hz-02282023162114-0000.\n",
      "Once you extracted frames for all videos, use 'refine_labels' to manually correct the labels.\n",
      "Method  jump  found  677  putative outlier frames.\n",
      "Do you want to proceed with extracting  3  of those?\n",
      "If this list is very large, perhaps consider changing the parameters (start, stop, p_bound, comparisonbodyparts) or use a different method.\n",
      "Loading video...\n",
      "Duration of video [s]:  59.71 , recorded @  100.0 fps!\n",
      "Overall # of frames:  5971 with (cropped) frame dimensions: \n",
      "Kmeans-quantization based extracting of frames from 0.0  seconds to 59.71  seconds.\n",
      "Extracting and downsampling... 677  frames from the video.\n"
     ]
    },
    {
     "name": "stderr",
     "output_type": "stream",
     "text": [
      "677it [01:53,  5.96it/s]\n",
      "C:\\Users\\Gordus_Lab\\anaconda3\\envs\\DEEPLABCUT\\lib\\site-packages\\sklearn\\cluster\\_kmeans.py:870: FutureWarning: The default value of `n_init` will change from 3 to 'auto' in 1.4. Set the value of `n_init` explicitly to suppress the warning\n",
      "  warnings.warn(\n"
     ]
    },
    {
     "name": "stdout",
     "output_type": "stream",
     "text": [
      "Kmeans clustering ... (this might take a while)\n",
      "Let's select frames indices: [460, 2433, 2513]\n"
     ]
    },
    {
     "name": "stderr",
     "output_type": "stream",
     "text": [
      "B:\\HsinYi\\DeepLabCut_Anthony\\deeplabcut\\refine_training_dataset\\outlier_frames.py:325: FutureWarning: Using the level keyword in DataFrame and Series aggregations is deprecated and will be removed in a future version. Use groupby instead. df.sum(level=1) should use df.groupby(level=1).sum().\n",
      "  sum_ = temp_dt.sum(axis=1, level=1)\n",
      "B:\\HsinYi\\DeepLabCut_Anthony\\deeplabcut\\refine_training_dataset\\outlier_frames.py:325: FutureWarning: Using the level keyword in DataFrame and Series aggregations is deprecated and will be removed in a future version. Use groupby instead. df.sum(level=1) should use df.groupby(level=1).sum().\n",
      "  sum_ = temp_dt.sum(axis=1, level=1)\n"
     ]
    },
    {
     "name": "stdout",
     "output_type": "stream",
     "text": [
      "Creating the symbolic link of the video\n",
      "AUTOMATIC ADDING OF VIDEO TO CONFIG FILE FAILED! You need to do this manually for including it in the config.yaml file!\n",
      "Videopath: B:\\HsinYi\\DeepLabCut_Anthony/8videos_1400frames_relabled/videos/newvideo_piezo\\022823 Spider Piezo 5Hz_move-02282023153753-0000.mp4 Coordinates for cropping: None\n",
      "The outlier frames are extracted. They are stored in the subdirectory labeled-data\\022823 Spider Piezo 5Hz_move-02282023153753-0000.\n",
      "Once you extracted frames for all videos, use 'refine_labels' to manually correct the labels.\n",
      "Method  jump  found  0  putative outlier frames.\n",
      "Do you want to proceed with extracting  3  of those?\n",
      "If this list is very large, perhaps consider changing the parameters (start, stop, p_bound, comparisonbodyparts) or use a different method.\n",
      "Frames from video 030223 Spider Piezo 100H-03022023150624-0000  already extracted (more will be added)!\n",
      "Loading video...\n",
      "Duration of video [s]:  9.18 , recorded @  100.0 fps!\n",
      "Overall # of frames:  918 with (cropped) frame dimensions: \n",
      "Kmeans-quantization based extracting of frames from 0.0  seconds to 9.18  seconds.\n",
      "Let's select frames indices: []\n",
      "No frames were extracted.\n",
      "Method  jump  found  24  putative outlier frames.\n",
      "Do you want to proceed with extracting  3  of those?\n",
      "If this list is very large, perhaps consider changing the parameters (start, stop, p_bound, comparisonbodyparts) or use a different method.\n",
      "Loading video...\n",
      "Duration of video [s]:  9.2 , recorded @  100.0 fps!\n",
      "Overall # of frames:  920 with (cropped) frame dimensions: \n",
      "Kmeans-quantization based extracting of frames from 0.0  seconds to 9.2  seconds.\n",
      "Extracting and downsampling... 24  frames from the video.\n"
     ]
    },
    {
     "name": "stderr",
     "output_type": "stream",
     "text": [
      "24it [00:03,  6.27it/s]\n",
      "C:\\Users\\Gordus_Lab\\anaconda3\\envs\\DEEPLABCUT\\lib\\site-packages\\sklearn\\cluster\\_kmeans.py:870: FutureWarning: The default value of `n_init` will change from 3 to 'auto' in 1.4. Set the value of `n_init` explicitly to suppress the warning\n",
      "  warnings.warn(\n"
     ]
    },
    {
     "name": "stdout",
     "output_type": "stream",
     "text": [
      "Kmeans clustering ... (this might take a while)\n",
      "Let's select frames indices: [614, 668, 413]\n",
      "Creating the symbolic link of the video\n",
      "AUTOMATIC ADDING OF VIDEO TO CONFIG FILE FAILED! You need to do this manually for including it in the config.yaml file!\n",
      "Videopath: B:\\HsinYi\\DeepLabCut_Anthony/8videos_1400frames_relabled/videos/newvideo_piezo\\030223 Spider Piezo 10H-03022023140505-0000.mp4 Coordinates for cropping: None\n",
      "The outlier frames are extracted. They are stored in the subdirectory labeled-data\\030223 Spider Piezo 10H-03022023140505-0000.\n",
      "Once you extracted frames for all videos, use 'refine_labels' to manually correct the labels.\n",
      "Method  jump  found  2  putative outlier frames.\n",
      "Do you want to proceed with extracting  3  of those?\n",
      "If this list is very large, perhaps consider changing the parameters (start, stop, p_bound, comparisonbodyparts) or use a different method.\n",
      "Loading video...\n",
      "Duration of video [s]:  9.36 , recorded @  100.0 fps!\n",
      "Overall # of frames:  936 with (cropped) frame dimensions: \n",
      "Kmeans-quantization based extracting of frames from 0.0  seconds to 9.36  seconds.\n",
      "Let's select frames indices: [492, 494]\n"
     ]
    },
    {
     "name": "stderr",
     "output_type": "stream",
     "text": [
      "B:\\HsinYi\\DeepLabCut_Anthony\\deeplabcut\\refine_training_dataset\\outlier_frames.py:325: FutureWarning: Using the level keyword in DataFrame and Series aggregations is deprecated and will be removed in a future version. Use groupby instead. df.sum(level=1) should use df.groupby(level=1).sum().\n",
      "  sum_ = temp_dt.sum(axis=1, level=1)\n",
      "B:\\HsinYi\\DeepLabCut_Anthony\\deeplabcut\\refine_training_dataset\\outlier_frames.py:325: FutureWarning: Using the level keyword in DataFrame and Series aggregations is deprecated and will be removed in a future version. Use groupby instead. df.sum(level=1) should use df.groupby(level=1).sum().\n",
      "  sum_ = temp_dt.sum(axis=1, level=1)\n"
     ]
    },
    {
     "name": "stdout",
     "output_type": "stream",
     "text": [
      "Creating the symbolic link of the video\n",
      "AUTOMATIC ADDING OF VIDEO TO CONFIG FILE FAILED! You need to do this manually for including it in the config.yaml file!\n",
      "Videopath: B:\\HsinYi\\DeepLabCut_Anthony/8videos_1400frames_relabled/videos/newvideo_piezo\\030223 Spider Piezo 20H-03022023142317-0000.mp4 Coordinates for cropping: None\n",
      "The outlier frames are extracted. They are stored in the subdirectory labeled-data\\030223 Spider Piezo 20H-03022023142317-0000.\n",
      "Once you extracted frames for all videos, use 'refine_labels' to manually correct the labels.\n",
      "Method  jump  found  47  putative outlier frames.\n",
      "Do you want to proceed with extracting  3  of those?\n",
      "If this list is very large, perhaps consider changing the parameters (start, stop, p_bound, comparisonbodyparts) or use a different method.\n",
      "Loading video...\n",
      "Duration of video [s]:  9.27 , recorded @  100.0 fps!\n",
      "Overall # of frames:  927 with (cropped) frame dimensions: \n",
      "Kmeans-quantization based extracting of frames from 0.0  seconds to 9.27  seconds.\n",
      "Extracting and downsampling... 47  frames from the video.\n"
     ]
    },
    {
     "name": "stderr",
     "output_type": "stream",
     "text": [
      "47it [00:09,  5.22it/s]\n",
      "C:\\Users\\Gordus_Lab\\anaconda3\\envs\\DEEPLABCUT\\lib\\site-packages\\sklearn\\cluster\\_kmeans.py:870: FutureWarning: The default value of `n_init` will change from 3 to 'auto' in 1.4. Set the value of `n_init` explicitly to suppress the warning\n",
      "  warnings.warn(\n"
     ]
    },
    {
     "name": "stdout",
     "output_type": "stream",
     "text": [
      "Kmeans clustering ... (this might take a while)\n",
      "Let's select frames indices: [396, 751, 702]\n"
     ]
    },
    {
     "name": "stderr",
     "output_type": "stream",
     "text": [
      "B:\\HsinYi\\DeepLabCut_Anthony\\deeplabcut\\refine_training_dataset\\outlier_frames.py:325: FutureWarning: Using the level keyword in DataFrame and Series aggregations is deprecated and will be removed in a future version. Use groupby instead. df.sum(level=1) should use df.groupby(level=1).sum().\n",
      "  sum_ = temp_dt.sum(axis=1, level=1)\n"
     ]
    },
    {
     "name": "stdout",
     "output_type": "stream",
     "text": [
      "Creating the symbolic link of the video\n",
      "AUTOMATIC ADDING OF VIDEO TO CONFIG FILE FAILED! You need to do this manually for including it in the config.yaml file!\n",
      "Videopath: B:\\HsinYi\\DeepLabCut_Anthony/8videos_1400frames_relabled/videos/newvideo_piezo\\030223 Spider Piezo 30H-03022023143120-0000.mp4 Coordinates for cropping: None\n",
      "The outlier frames are extracted. They are stored in the subdirectory labeled-data\\030223 Spider Piezo 30H-03022023143120-0000.\n",
      "Once you extracted frames for all videos, use 'refine_labels' to manually correct the labels.\n",
      "Method  jump  found  12  putative outlier frames.\n",
      "Do you want to proceed with extracting  3  of those?\n",
      "If this list is very large, perhaps consider changing the parameters (start, stop, p_bound, comparisonbodyparts) or use a different method.\n",
      "Loading video...\n",
      "Duration of video [s]:  9.28 , recorded @  100.0 fps!\n",
      "Overall # of frames:  928 with (cropped) frame dimensions: \n",
      "Kmeans-quantization based extracting of frames from 0.0  seconds to 9.28  seconds.\n",
      "Extracting and downsampling... 12  frames from the video.\n"
     ]
    },
    {
     "name": "stderr",
     "output_type": "stream",
     "text": [
      "12it [00:02,  5.36it/s]\n",
      "C:\\Users\\Gordus_Lab\\anaconda3\\envs\\DEEPLABCUT\\lib\\site-packages\\sklearn\\cluster\\_kmeans.py:870: FutureWarning: The default value of `n_init` will change from 3 to 'auto' in 1.4. Set the value of `n_init` explicitly to suppress the warning\n",
      "  warnings.warn(\n"
     ]
    },
    {
     "name": "stdout",
     "output_type": "stream",
     "text": [
      "Kmeans clustering ... (this might take a while)\n",
      "Let's select frames indices: [270, 799, 826]\n"
     ]
    },
    {
     "name": "stderr",
     "output_type": "stream",
     "text": [
      "B:\\HsinYi\\DeepLabCut_Anthony\\deeplabcut\\refine_training_dataset\\outlier_frames.py:325: FutureWarning: Using the level keyword in DataFrame and Series aggregations is deprecated and will be removed in a future version. Use groupby instead. df.sum(level=1) should use df.groupby(level=1).sum().\n",
      "  sum_ = temp_dt.sum(axis=1, level=1)\n",
      "B:\\HsinYi\\DeepLabCut_Anthony\\deeplabcut\\refine_training_dataset\\outlier_frames.py:325: FutureWarning: Using the level keyword in DataFrame and Series aggregations is deprecated and will be removed in a future version. Use groupby instead. df.sum(level=1) should use df.groupby(level=1).sum().\n",
      "  sum_ = temp_dt.sum(axis=1, level=1)\n"
     ]
    },
    {
     "name": "stdout",
     "output_type": "stream",
     "text": [
      "Creating the symbolic link of the video\n",
      "AUTOMATIC ADDING OF VIDEO TO CONFIG FILE FAILED! You need to do this manually for including it in the config.yaml file!\n",
      "Videopath: B:\\HsinYi\\DeepLabCut_Anthony/8videos_1400frames_relabled/videos/newvideo_piezo\\030223 Spider Piezo 40H-03022023144023-0000.mp4 Coordinates for cropping: None\n",
      "The outlier frames are extracted. They are stored in the subdirectory labeled-data\\030223 Spider Piezo 40H-03022023144023-0000.\n",
      "Once you extracted frames for all videos, use 'refine_labels' to manually correct the labels.\n",
      "Method  jump  found  0  putative outlier frames.\n",
      "Do you want to proceed with extracting  3  of those?\n",
      "If this list is very large, perhaps consider changing the parameters (start, stop, p_bound, comparisonbodyparts) or use a different method.\n",
      "Loading video...\n",
      "Duration of video [s]:  9.32 , recorded @  100.0 fps!\n",
      "Overall # of frames:  932 with (cropped) frame dimensions: \n",
      "Kmeans-quantization based extracting of frames from 0.0  seconds to 9.32  seconds.\n",
      "Let's select frames indices: []\n",
      "No frames were extracted.\n",
      "Method  jump  found  44  putative outlier frames.\n",
      "Do you want to proceed with extracting  3  of those?\n",
      "If this list is very large, perhaps consider changing the parameters (start, stop, p_bound, comparisonbodyparts) or use a different method.\n",
      "Loading video...\n",
      "Duration of video [s]:  9.18 , recorded @  100.0 fps!\n",
      "Overall # of frames:  918 with (cropped) frame dimensions: \n",
      "Kmeans-quantization based extracting of frames from 0.0  seconds to 9.18  seconds.\n",
      "Extracting and downsampling... 44  frames from the video.\n"
     ]
    },
    {
     "name": "stderr",
     "output_type": "stream",
     "text": [
      "44it [00:04,  9.55it/s]\n",
      "C:\\Users\\Gordus_Lab\\anaconda3\\envs\\DEEPLABCUT\\lib\\site-packages\\sklearn\\cluster\\_kmeans.py:870: FutureWarning: The default value of `n_init` will change from 3 to 'auto' in 1.4. Set the value of `n_init` explicitly to suppress the warning\n",
      "  warnings.warn(\n"
     ]
    },
    {
     "name": "stdout",
     "output_type": "stream",
     "text": [
      "Kmeans clustering ... (this might take a while)\n",
      "Let's select frames indices: [86, 51, 842]\n"
     ]
    },
    {
     "name": "stderr",
     "output_type": "stream",
     "text": [
      "B:\\HsinYi\\DeepLabCut_Anthony\\deeplabcut\\refine_training_dataset\\outlier_frames.py:325: FutureWarning: Using the level keyword in DataFrame and Series aggregations is deprecated and will be removed in a future version. Use groupby instead. df.sum(level=1) should use df.groupby(level=1).sum().\n",
      "  sum_ = temp_dt.sum(axis=1, level=1)\n"
     ]
    },
    {
     "name": "stdout",
     "output_type": "stream",
     "text": [
      "Creating the symbolic link of the video\n",
      "AUTOMATIC ADDING OF VIDEO TO CONFIG FILE FAILED! You need to do this manually for including it in the config.yaml file!\n",
      "Videopath: B:\\HsinYi\\DeepLabCut_Anthony/8videos_1400frames_relabled/videos/newvideo_piezo\\030223 Spider Piezo 5H-03022023141544-0000.mp4 Coordinates for cropping: None\n",
      "The outlier frames are extracted. They are stored in the subdirectory labeled-data\\030223 Spider Piezo 5H-03022023141544-0000.\n",
      "Once you extracted frames for all videos, use 'refine_labels' to manually correct the labels.\n",
      "Method  jump  found  271  putative outlier frames.\n",
      "Do you want to proceed with extracting  3  of those?\n",
      "If this list is very large, perhaps consider changing the parameters (start, stop, p_bound, comparisonbodyparts) or use a different method.\n",
      "Loading video...\n",
      "Duration of video [s]:  9.77 , recorded @  100.0 fps!\n",
      "Overall # of frames:  977 with (cropped) frame dimensions: \n",
      "Kmeans-quantization based extracting of frames from 0.0  seconds to 9.77  seconds.\n",
      "Extracting and downsampling... 271  frames from the video.\n"
     ]
    },
    {
     "name": "stderr",
     "output_type": "stream",
     "text": [
      "271it [01:03,  4.28it/s]\n",
      "C:\\Users\\Gordus_Lab\\anaconda3\\envs\\DEEPLABCUT\\lib\\site-packages\\sklearn\\cluster\\_kmeans.py:870: FutureWarning: The default value of `n_init` will change from 3 to 'auto' in 1.4. Set the value of `n_init` explicitly to suppress the warning\n",
      "  warnings.warn(\n"
     ]
    },
    {
     "name": "stdout",
     "output_type": "stream",
     "text": [
      "Kmeans clustering ... (this might take a while)\n",
      "Let's select frames indices: [673, 682, 509]\n"
     ]
    },
    {
     "name": "stderr",
     "output_type": "stream",
     "text": [
      "B:\\HsinYi\\DeepLabCut_Anthony\\deeplabcut\\refine_training_dataset\\outlier_frames.py:325: FutureWarning: Using the level keyword in DataFrame and Series aggregations is deprecated and will be removed in a future version. Use groupby instead. df.sum(level=1) should use df.groupby(level=1).sum().\n",
      "  sum_ = temp_dt.sum(axis=1, level=1)\n"
     ]
    },
    {
     "name": "stdout",
     "output_type": "stream",
     "text": [
      "Creating the symbolic link of the video\n",
      "AUTOMATIC ADDING OF VIDEO TO CONFIG FILE FAILED! You need to do this manually for including it in the config.yaml file!\n",
      "Videopath: B:\\HsinYi\\DeepLabCut_Anthony/8videos_1400frames_relabled/videos/newvideo_piezo\\030423 Spider Piezo 100Hz-03042023155445-0000.mp4 Coordinates for cropping: None\n",
      "The outlier frames are extracted. They are stored in the subdirectory labeled-data\\030423 Spider Piezo 100Hz-03042023155445-0000.\n",
      "Once you extracted frames for all videos, use 'refine_labels' to manually correct the labels.\n",
      "Method  jump  found  365  putative outlier frames.\n",
      "Do you want to proceed with extracting  3  of those?\n",
      "If this list is very large, perhaps consider changing the parameters (start, stop, p_bound, comparisonbodyparts) or use a different method.\n",
      "Loading video...\n",
      "Duration of video [s]:  17.21 , recorded @  100.0 fps!\n",
      "Overall # of frames:  1721 with (cropped) frame dimensions: \n",
      "Kmeans-quantization based extracting of frames from 0.0  seconds to 17.21  seconds.\n",
      "Extracting and downsampling... 365  frames from the video.\n"
     ]
    },
    {
     "name": "stderr",
     "output_type": "stream",
     "text": [
      "365it [00:53,  6.85it/s]\n",
      "C:\\Users\\Gordus_Lab\\anaconda3\\envs\\DEEPLABCUT\\lib\\site-packages\\sklearn\\cluster\\_kmeans.py:870: FutureWarning: The default value of `n_init` will change from 3 to 'auto' in 1.4. Set the value of `n_init` explicitly to suppress the warning\n",
      "  warnings.warn(\n"
     ]
    },
    {
     "name": "stdout",
     "output_type": "stream",
     "text": [
      "Kmeans clustering ... (this might take a while)\n",
      "Let's select frames indices: [1103, 1437, 1584]\n"
     ]
    },
    {
     "name": "stderr",
     "output_type": "stream",
     "text": [
      "B:\\HsinYi\\DeepLabCut_Anthony\\deeplabcut\\refine_training_dataset\\outlier_frames.py:325: FutureWarning: Using the level keyword in DataFrame and Series aggregations is deprecated and will be removed in a future version. Use groupby instead. df.sum(level=1) should use df.groupby(level=1).sum().\n",
      "  sum_ = temp_dt.sum(axis=1, level=1)\n",
      "B:\\HsinYi\\DeepLabCut_Anthony\\deeplabcut\\refine_training_dataset\\outlier_frames.py:325: FutureWarning: Using the level keyword in DataFrame and Series aggregations is deprecated and will be removed in a future version. Use groupby instead. df.sum(level=1) should use df.groupby(level=1).sum().\n",
      "  sum_ = temp_dt.sum(axis=1, level=1)\n"
     ]
    },
    {
     "name": "stdout",
     "output_type": "stream",
     "text": [
      "Creating the symbolic link of the video\n",
      "AUTOMATIC ADDING OF VIDEO TO CONFIG FILE FAILED! You need to do this manually for including it in the config.yaml file!\n",
      "Videopath: B:\\HsinYi\\DeepLabCut_Anthony/8videos_1400frames_relabled/videos/newvideo_piezo\\030423 Spider Piezo 10Hz-03042023151039-0000.mp4 Coordinates for cropping: None\n",
      "The outlier frames are extracted. They are stored in the subdirectory labeled-data\\030423 Spider Piezo 10Hz-03042023151039-0000.\n",
      "Once you extracted frames for all videos, use 'refine_labels' to manually correct the labels.\n",
      "Method  jump  found  0  putative outlier frames.\n",
      "Do you want to proceed with extracting  3  of those?\n",
      "If this list is very large, perhaps consider changing the parameters (start, stop, p_bound, comparisonbodyparts) or use a different method.\n",
      "Loading video...\n",
      "Duration of video [s]:  11.77 , recorded @  100.0 fps!\n",
      "Overall # of frames:  1177 with (cropped) frame dimensions: \n",
      "Kmeans-quantization based extracting of frames from 0.0  seconds to 11.77  seconds.\n",
      "Let's select frames indices: []\n",
      "No frames were extracted.\n",
      "Method  jump  found  105  putative outlier frames.\n",
      "Do you want to proceed with extracting  3  of those?\n",
      "If this list is very large, perhaps consider changing the parameters (start, stop, p_bound, comparisonbodyparts) or use a different method.\n",
      "Loading video...\n",
      "Duration of video [s]:  22.17 , recorded @  100.0 fps!\n",
      "Overall # of frames:  2217 with (cropped) frame dimensions: \n",
      "Kmeans-quantization based extracting of frames from 0.0  seconds to 22.17  seconds.\n",
      "Extracting and downsampling... 105  frames from the video.\n"
     ]
    },
    {
     "name": "stderr",
     "output_type": "stream",
     "text": [
      "105it [00:17,  6.05it/s]\n",
      "C:\\Users\\Gordus_Lab\\anaconda3\\envs\\DEEPLABCUT\\lib\\site-packages\\sklearn\\cluster\\_kmeans.py:870: FutureWarning: The default value of `n_init` will change from 3 to 'auto' in 1.4. Set the value of `n_init` explicitly to suppress the warning\n",
      "  warnings.warn(\n"
     ]
    },
    {
     "name": "stdout",
     "output_type": "stream",
     "text": [
      "Kmeans clustering ... (this might take a while)\n",
      "Let's select frames indices: [710, 217, 434]\n"
     ]
    },
    {
     "name": "stderr",
     "output_type": "stream",
     "text": [
      "B:\\HsinYi\\DeepLabCut_Anthony\\deeplabcut\\refine_training_dataset\\outlier_frames.py:325: FutureWarning: Using the level keyword in DataFrame and Series aggregations is deprecated and will be removed in a future version. Use groupby instead. df.sum(level=1) should use df.groupby(level=1).sum().\n",
      "  sum_ = temp_dt.sum(axis=1, level=1)\n"
     ]
    },
    {
     "name": "stdout",
     "output_type": "stream",
     "text": [
      "Creating the symbolic link of the video\n",
      "AUTOMATIC ADDING OF VIDEO TO CONFIG FILE FAILED! You need to do this manually for including it in the config.yaml file!\n",
      "Videopath: B:\\HsinYi\\DeepLabCut_Anthony/8videos_1400frames_relabled/videos/newvideo_piezo\\030423 Spider Piezo 20Hz-03042023152159-0000.mp4 Coordinates for cropping: None\n",
      "The outlier frames are extracted. They are stored in the subdirectory labeled-data\\030423 Spider Piezo 20Hz-03042023152159-0000.\n",
      "Once you extracted frames for all videos, use 'refine_labels' to manually correct the labels.\n",
      "Method  jump  found  112  putative outlier frames.\n",
      "Do you want to proceed with extracting  3  of those?\n",
      "If this list is very large, perhaps consider changing the parameters (start, stop, p_bound, comparisonbodyparts) or use a different method.\n",
      "Loading video...\n",
      "Duration of video [s]:  13.37 , recorded @  100.0 fps!\n",
      "Overall # of frames:  1337 with (cropped) frame dimensions: \n",
      "Kmeans-quantization based extracting of frames from 0.0  seconds to 13.37  seconds.\n",
      "Extracting and downsampling... 112  frames from the video.\n"
     ]
    },
    {
     "name": "stderr",
     "output_type": "stream",
     "text": [
      "112it [00:18,  6.03it/s]\n",
      "C:\\Users\\Gordus_Lab\\anaconda3\\envs\\DEEPLABCUT\\lib\\site-packages\\sklearn\\cluster\\_kmeans.py:870: FutureWarning: The default value of `n_init` will change from 3 to 'auto' in 1.4. Set the value of `n_init` explicitly to suppress the warning\n",
      "  warnings.warn(\n"
     ]
    },
    {
     "name": "stdout",
     "output_type": "stream",
     "text": [
      "Kmeans clustering ... (this might take a while)\n",
      "Let's select frames indices: [263, 1, 685]\n"
     ]
    },
    {
     "name": "stderr",
     "output_type": "stream",
     "text": [
      "B:\\HsinYi\\DeepLabCut_Anthony\\deeplabcut\\refine_training_dataset\\outlier_frames.py:325: FutureWarning: Using the level keyword in DataFrame and Series aggregations is deprecated and will be removed in a future version. Use groupby instead. df.sum(level=1) should use df.groupby(level=1).sum().\n",
      "  sum_ = temp_dt.sum(axis=1, level=1)\n"
     ]
    },
    {
     "name": "stdout",
     "output_type": "stream",
     "text": [
      "Creating the symbolic link of the video\n",
      "AUTOMATIC ADDING OF VIDEO TO CONFIG FILE FAILED! You need to do this manually for including it in the config.yaml file!\n",
      "Videopath: B:\\HsinYi\\DeepLabCut_Anthony/8videos_1400frames_relabled/videos/newvideo_piezo\\030423 Spider Piezo 30Hz 2-03042023161051-0000.mp4 Coordinates for cropping: None\n",
      "The outlier frames are extracted. They are stored in the subdirectory labeled-data\\030423 Spider Piezo 30Hz 2-03042023161051-0000.\n",
      "Once you extracted frames for all videos, use 'refine_labels' to manually correct the labels.\n",
      "Method  jump  found  17  putative outlier frames.\n",
      "Do you want to proceed with extracting  3  of those?\n",
      "If this list is very large, perhaps consider changing the parameters (start, stop, p_bound, comparisonbodyparts) or use a different method.\n",
      "Loading video...\n",
      "Duration of video [s]:  21.69 , recorded @  100.0 fps!\n",
      "Overall # of frames:  2169 with (cropped) frame dimensions: \n",
      "Kmeans-quantization based extracting of frames from 0.0  seconds to 21.69  seconds.\n",
      "Extracting and downsampling... 17  frames from the video.\n"
     ]
    },
    {
     "name": "stderr",
     "output_type": "stream",
     "text": [
      "17it [00:03,  4.62it/s]\n",
      "C:\\Users\\Gordus_Lab\\anaconda3\\envs\\DEEPLABCUT\\lib\\site-packages\\sklearn\\cluster\\_kmeans.py:870: FutureWarning: The default value of `n_init` will change from 3 to 'auto' in 1.4. Set the value of `n_init` explicitly to suppress the warning\n",
      "  warnings.warn(\n"
     ]
    },
    {
     "name": "stdout",
     "output_type": "stream",
     "text": [
      "Kmeans clustering ... (this might take a while)\n",
      "Let's select frames indices: [910, 908, 1112]\n"
     ]
    },
    {
     "name": "stderr",
     "output_type": "stream",
     "text": [
      "B:\\HsinYi\\DeepLabCut_Anthony\\deeplabcut\\refine_training_dataset\\outlier_frames.py:325: FutureWarning: Using the level keyword in DataFrame and Series aggregations is deprecated and will be removed in a future version. Use groupby instead. df.sum(level=1) should use df.groupby(level=1).sum().\n",
      "  sum_ = temp_dt.sum(axis=1, level=1)\n"
     ]
    },
    {
     "name": "stdout",
     "output_type": "stream",
     "text": [
      "Creating the symbolic link of the video\n",
      "AUTOMATIC ADDING OF VIDEO TO CONFIG FILE FAILED! You need to do this manually for including it in the config.yaml file!\n",
      "Videopath: B:\\HsinYi\\DeepLabCut_Anthony/8videos_1400frames_relabled/videos/newvideo_piezo\\030423 Spider Piezo 30Hz-03042023153050-0000.mp4 Coordinates for cropping: None\n",
      "The outlier frames are extracted. They are stored in the subdirectory labeled-data\\030423 Spider Piezo 30Hz-03042023153050-0000.\n",
      "Once you extracted frames for all videos, use 'refine_labels' to manually correct the labels.\n",
      "Method  jump  found  430  putative outlier frames.\n",
      "Do you want to proceed with extracting  3  of those?\n",
      "If this list is very large, perhaps consider changing the parameters (start, stop, p_bound, comparisonbodyparts) or use a different method.\n",
      "Loading video...\n",
      "Duration of video [s]:  11.8 , recorded @  100.0 fps!\n",
      "Overall # of frames:  1180 with (cropped) frame dimensions: \n",
      "Kmeans-quantization based extracting of frames from 0.0  seconds to 11.8  seconds.\n",
      "Extracting and downsampling... 430  frames from the video.\n"
     ]
    },
    {
     "name": "stderr",
     "output_type": "stream",
     "text": [
      "430it [01:08,  6.25it/s]\n",
      "C:\\Users\\Gordus_Lab\\anaconda3\\envs\\DEEPLABCUT\\lib\\site-packages\\sklearn\\cluster\\_kmeans.py:870: FutureWarning: The default value of `n_init` will change from 3 to 'auto' in 1.4. Set the value of `n_init` explicitly to suppress the warning\n",
      "  warnings.warn(\n"
     ]
    },
    {
     "name": "stdout",
     "output_type": "stream",
     "text": [
      "Kmeans clustering ... (this might take a while)\n",
      "Let's select frames indices: [958, 859, 1143]\n"
     ]
    },
    {
     "name": "stderr",
     "output_type": "stream",
     "text": [
      "B:\\HsinYi\\DeepLabCut_Anthony\\deeplabcut\\refine_training_dataset\\outlier_frames.py:325: FutureWarning: Using the level keyword in DataFrame and Series aggregations is deprecated and will be removed in a future version. Use groupby instead. df.sum(level=1) should use df.groupby(level=1).sum().\n",
      "  sum_ = temp_dt.sum(axis=1, level=1)\n"
     ]
    },
    {
     "name": "stdout",
     "output_type": "stream",
     "text": [
      "Creating the symbolic link of the video\n",
      "AUTOMATIC ADDING OF VIDEO TO CONFIG FILE FAILED! You need to do this manually for including it in the config.yaml file!\n",
      "Videopath: B:\\HsinYi\\DeepLabCut_Anthony/8videos_1400frames_relabled/videos/newvideo_piezo\\030423 Spider Piezo 40Hz 2-03042023162029-0000.mp4 Coordinates for cropping: None\n",
      "The outlier frames are extracted. They are stored in the subdirectory labeled-data\\030423 Spider Piezo 40Hz 2-03042023162029-0000.\n",
      "Once you extracted frames for all videos, use 'refine_labels' to manually correct the labels.\n",
      "Method  jump  found  61  putative outlier frames.\n",
      "Do you want to proceed with extracting  3  of those?\n",
      "If this list is very large, perhaps consider changing the parameters (start, stop, p_bound, comparisonbodyparts) or use a different method.\n",
      "Loading video...\n",
      "Duration of video [s]:  9.68 , recorded @  100.0 fps!\n",
      "Overall # of frames:  968 with (cropped) frame dimensions: \n",
      "Kmeans-quantization based extracting of frames from 0.0  seconds to 9.68  seconds.\n",
      "Extracting and downsampling... 61  frames from the video.\n"
     ]
    },
    {
     "name": "stderr",
     "output_type": "stream",
     "text": [
      "61it [00:11,  5.15it/s]\n",
      "C:\\Users\\Gordus_Lab\\anaconda3\\envs\\DEEPLABCUT\\lib\\site-packages\\sklearn\\cluster\\_kmeans.py:870: FutureWarning: The default value of `n_init` will change from 3 to 'auto' in 1.4. Set the value of `n_init` explicitly to suppress the warning\n",
      "  warnings.warn(\n"
     ]
    },
    {
     "name": "stdout",
     "output_type": "stream",
     "text": [
      "Kmeans clustering ... (this might take a while)\n",
      "Let's select frames indices: [552, 692, 888]\n"
     ]
    },
    {
     "name": "stderr",
     "output_type": "stream",
     "text": [
      "B:\\HsinYi\\DeepLabCut_Anthony\\deeplabcut\\refine_training_dataset\\outlier_frames.py:325: FutureWarning: Using the level keyword in DataFrame and Series aggregations is deprecated and will be removed in a future version. Use groupby instead. df.sum(level=1) should use df.groupby(level=1).sum().\n",
      "  sum_ = temp_dt.sum(axis=1, level=1)\n"
     ]
    },
    {
     "name": "stdout",
     "output_type": "stream",
     "text": [
      "Creating the symbolic link of the video\n",
      "AUTOMATIC ADDING OF VIDEO TO CONFIG FILE FAILED! You need to do this manually for including it in the config.yaml file!\n",
      "Videopath: B:\\HsinYi\\DeepLabCut_Anthony/8videos_1400frames_relabled/videos/newvideo_piezo\\030423 Spider Piezo 40Hz-03042023153755-0000.mp4 Coordinates for cropping: None\n",
      "The outlier frames are extracted. They are stored in the subdirectory labeled-data\\030423 Spider Piezo 40Hz-03042023153755-0000.\n",
      "Once you extracted frames for all videos, use 'refine_labels' to manually correct the labels.\n",
      "Method  jump  found  345  putative outlier frames.\n",
      "Do you want to proceed with extracting  3  of those?\n",
      "If this list is very large, perhaps consider changing the parameters (start, stop, p_bound, comparisonbodyparts) or use a different method.\n",
      "Loading video...\n",
      "Duration of video [s]:  10.22 , recorded @  100.0 fps!\n",
      "Overall # of frames:  1022 with (cropped) frame dimensions: \n",
      "Kmeans-quantization based extracting of frames from 0.0  seconds to 10.22  seconds.\n",
      "Extracting and downsampling... 345  frames from the video.\n"
     ]
    },
    {
     "name": "stderr",
     "output_type": "stream",
     "text": [
      "345it [01:28,  3.89it/s]\n",
      "C:\\Users\\Gordus_Lab\\anaconda3\\envs\\DEEPLABCUT\\lib\\site-packages\\sklearn\\cluster\\_kmeans.py:870: FutureWarning: The default value of `n_init` will change from 3 to 'auto' in 1.4. Set the value of `n_init` explicitly to suppress the warning\n",
      "  warnings.warn(\n"
     ]
    },
    {
     "name": "stdout",
     "output_type": "stream",
     "text": [
      "Kmeans clustering ... (this might take a while)\n",
      "Let's select frames indices: [980, 692, 812]\n"
     ]
    },
    {
     "name": "stderr",
     "output_type": "stream",
     "text": [
      "B:\\HsinYi\\DeepLabCut_Anthony\\deeplabcut\\refine_training_dataset\\outlier_frames.py:325: FutureWarning: Using the level keyword in DataFrame and Series aggregations is deprecated and will be removed in a future version. Use groupby instead. df.sum(level=1) should use df.groupby(level=1).sum().\n",
      "  sum_ = temp_dt.sum(axis=1, level=1)\n"
     ]
    },
    {
     "name": "stdout",
     "output_type": "stream",
     "text": [
      "Creating the symbolic link of the video\n",
      "AUTOMATIC ADDING OF VIDEO TO CONFIG FILE FAILED! You need to do this manually for including it in the config.yaml file!\n",
      "Videopath: B:\\HsinYi\\DeepLabCut_Anthony/8videos_1400frames_relabled/videos/newvideo_piezo\\030423 Spider Piezo 50Hz-03042023154454-0000.mp4 Coordinates for cropping: None\n",
      "The outlier frames are extracted. They are stored in the subdirectory labeled-data\\030423 Spider Piezo 50Hz-03042023154454-0000.\n",
      "Once you extracted frames for all videos, use 'refine_labels' to manually correct the labels.\n",
      "Method  jump  found  231  putative outlier frames.\n",
      "Do you want to proceed with extracting  3  of those?\n",
      "If this list is very large, perhaps consider changing the parameters (start, stop, p_bound, comparisonbodyparts) or use a different method.\n",
      "Loading video...\n",
      "Duration of video [s]:  13.09 , recorded @  100.0 fps!\n",
      "Overall # of frames:  1309 with (cropped) frame dimensions: \n",
      "Kmeans-quantization based extracting of frames from 0.0  seconds to 13.09  seconds.\n",
      "Extracting and downsampling... 231  frames from the video.\n"
     ]
    },
    {
     "name": "stderr",
     "output_type": "stream",
     "text": [
      "231it [00:32,  7.07it/s]\n",
      "C:\\Users\\Gordus_Lab\\anaconda3\\envs\\DEEPLABCUT\\lib\\site-packages\\sklearn\\cluster\\_kmeans.py:870: FutureWarning: The default value of `n_init` will change from 3 to 'auto' in 1.4. Set the value of `n_init` explicitly to suppress the warning\n",
      "  warnings.warn(\n"
     ]
    },
    {
     "name": "stdout",
     "output_type": "stream",
     "text": [
      "Kmeans clustering ... (this might take a while)\n",
      "Let's select frames indices: [443, 1121, 1037]\n"
     ]
    },
    {
     "name": "stderr",
     "output_type": "stream",
     "text": [
      "B:\\HsinYi\\DeepLabCut_Anthony\\deeplabcut\\refine_training_dataset\\outlier_frames.py:325: FutureWarning: Using the level keyword in DataFrame and Series aggregations is deprecated and will be removed in a future version. Use groupby instead. df.sum(level=1) should use df.groupby(level=1).sum().\n",
      "  sum_ = temp_dt.sum(axis=1, level=1)\n"
     ]
    },
    {
     "name": "stdout",
     "output_type": "stream",
     "text": [
      "Creating the symbolic link of the video\n",
      "AUTOMATIC ADDING OF VIDEO TO CONFIG FILE FAILED! You need to do this manually for including it in the config.yaml file!\n",
      "Videopath: B:\\HsinYi\\DeepLabCut_Anthony/8videos_1400frames_relabled/videos/newvideo_piezo\\030423 Spider Piezo 5Hz-03042023150448-0000.mp4 Coordinates for cropping: None\n",
      "The outlier frames are extracted. They are stored in the subdirectory labeled-data\\030423 Spider Piezo 5Hz-03042023150448-0000.\n",
      "Once you extracted frames for all videos, use 'refine_labels' to manually correct the labels.\n",
      "Method  jump  found  273  putative outlier frames.\n",
      "Do you want to proceed with extracting  3  of those?\n",
      "If this list is very large, perhaps consider changing the parameters (start, stop, p_bound, comparisonbodyparts) or use a different method.\n",
      "Loading video...\n",
      "Duration of video [s]:  10.15 , recorded @  100.0 fps!\n",
      "Overall # of frames:  1015 with (cropped) frame dimensions: \n",
      "Kmeans-quantization based extracting of frames from 0.0  seconds to 10.15  seconds.\n",
      "Extracting and downsampling... 273  frames from the video.\n"
     ]
    },
    {
     "name": "stderr",
     "output_type": "stream",
     "text": [
      "273it [00:52,  5.18it/s]\n",
      "C:\\Users\\Gordus_Lab\\anaconda3\\envs\\DEEPLABCUT\\lib\\site-packages\\sklearn\\cluster\\_kmeans.py:870: FutureWarning: The default value of `n_init` will change from 3 to 'auto' in 1.4. Set the value of `n_init` explicitly to suppress the warning\n",
      "  warnings.warn(\n"
     ]
    },
    {
     "name": "stdout",
     "output_type": "stream",
     "text": [
      "Kmeans clustering ... (this might take a while)\n",
      "Let's select frames indices: [919, 760, 304]\n"
     ]
    },
    {
     "name": "stderr",
     "output_type": "stream",
     "text": [
      "B:\\HsinYi\\DeepLabCut_Anthony\\deeplabcut\\refine_training_dataset\\outlier_frames.py:325: FutureWarning: Using the level keyword in DataFrame and Series aggregations is deprecated and will be removed in a future version. Use groupby instead. df.sum(level=1) should use df.groupby(level=1).sum().\n",
      "  sum_ = temp_dt.sum(axis=1, level=1)\n"
     ]
    },
    {
     "name": "stdout",
     "output_type": "stream",
     "text": [
      "Creating the symbolic link of the video\n",
      "AUTOMATIC ADDING OF VIDEO TO CONFIG FILE FAILED! You need to do this manually for including it in the config.yaml file!\n",
      "Videopath: B:\\HsinYi\\DeepLabCut_Anthony/8videos_1400frames_relabled/videos/newvideo_piezo\\030623 Spider Piezo 100Hz Crouched-03062023163558-0000.mp4 Coordinates for cropping: None\n",
      "The outlier frames are extracted. They are stored in the subdirectory labeled-data\\030623 Spider Piezo 100Hz Crouched-03062023163558-0000.\n",
      "Once you extracted frames for all videos, use 'refine_labels' to manually correct the labels.\n",
      "Method  jump  found  100  putative outlier frames.\n",
      "Do you want to proceed with extracting  3  of those?\n",
      "If this list is very large, perhaps consider changing the parameters (start, stop, p_bound, comparisonbodyparts) or use a different method.\n",
      "Loading video...\n",
      "Duration of video [s]:  9.63 , recorded @  100.0 fps!\n",
      "Overall # of frames:  963 with (cropped) frame dimensions: \n",
      "Kmeans-quantization based extracting of frames from 0.0  seconds to 9.63  seconds.\n",
      "Extracting and downsampling... 100  frames from the video.\n"
     ]
    },
    {
     "name": "stderr",
     "output_type": "stream",
     "text": [
      "100it [00:15,  6.39it/s]\n",
      "C:\\Users\\Gordus_Lab\\anaconda3\\envs\\DEEPLABCUT\\lib\\site-packages\\sklearn\\cluster\\_kmeans.py:870: FutureWarning: The default value of `n_init` will change from 3 to 'auto' in 1.4. Set the value of `n_init` explicitly to suppress the warning\n",
      "  warnings.warn(\n"
     ]
    },
    {
     "name": "stdout",
     "output_type": "stream",
     "text": [
      "Kmeans clustering ... (this might take a while)\n",
      "Let's select frames indices: [848, 297, 219]\n"
     ]
    },
    {
     "name": "stderr",
     "output_type": "stream",
     "text": [
      "B:\\HsinYi\\DeepLabCut_Anthony\\deeplabcut\\refine_training_dataset\\outlier_frames.py:325: FutureWarning: Using the level keyword in DataFrame and Series aggregations is deprecated and will be removed in a future version. Use groupby instead. df.sum(level=1) should use df.groupby(level=1).sum().\n",
      "  sum_ = temp_dt.sum(axis=1, level=1)\n"
     ]
    },
    {
     "name": "stdout",
     "output_type": "stream",
     "text": [
      "Creating the symbolic link of the video\n",
      "AUTOMATIC ADDING OF VIDEO TO CONFIG FILE FAILED! You need to do this manually for including it in the config.yaml file!\n",
      "Videopath: B:\\HsinYi\\DeepLabCut_Anthony/8videos_1400frames_relabled/videos/newvideo_piezo\\030623 Spider Piezo 10Hz Crouched-03062023161702-0000.mp4 Coordinates for cropping: None\n",
      "The outlier frames are extracted. They are stored in the subdirectory labeled-data\\030623 Spider Piezo 10Hz Crouched-03062023161702-0000.\n",
      "Once you extracted frames for all videos, use 'refine_labels' to manually correct the labels.\n",
      "Method  jump  found  1145  putative outlier frames.\n",
      "Do you want to proceed with extracting  3  of those?\n",
      "If this list is very large, perhaps consider changing the parameters (start, stop, p_bound, comparisonbodyparts) or use a different method.\n",
      "Loading video...\n",
      "Duration of video [s]:  40.48 , recorded @  100.0 fps!\n",
      "Overall # of frames:  4048 with (cropped) frame dimensions: \n",
      "Kmeans-quantization based extracting of frames from 0.0  seconds to 40.48  seconds.\n",
      "Extracting and downsampling... 1145  frames from the video.\n"
     ]
    },
    {
     "name": "stderr",
     "output_type": "stream",
     "text": [
      "1145it [03:25,  5.56it/s]\n",
      "C:\\Users\\Gordus_Lab\\anaconda3\\envs\\DEEPLABCUT\\lib\\site-packages\\sklearn\\cluster\\_kmeans.py:870: FutureWarning: The default value of `n_init` will change from 3 to 'auto' in 1.4. Set the value of `n_init` explicitly to suppress the warning\n",
      "  warnings.warn(\n"
     ]
    },
    {
     "name": "stdout",
     "output_type": "stream",
     "text": [
      "Kmeans clustering ... (this might take a while)\n",
      "Let's select frames indices: [2518, 2309, 2420]\n"
     ]
    },
    {
     "name": "stderr",
     "output_type": "stream",
     "text": [
      "B:\\HsinYi\\DeepLabCut_Anthony\\deeplabcut\\refine_training_dataset\\outlier_frames.py:325: FutureWarning: Using the level keyword in DataFrame and Series aggregations is deprecated and will be removed in a future version. Use groupby instead. df.sum(level=1) should use df.groupby(level=1).sum().\n",
      "  sum_ = temp_dt.sum(axis=1, level=1)\n"
     ]
    },
    {
     "name": "stdout",
     "output_type": "stream",
     "text": [
      "Creating the symbolic link of the video\n",
      "AUTOMATIC ADDING OF VIDEO TO CONFIG FILE FAILED! You need to do this manually for including it in the config.yaml file!\n",
      "Videopath: B:\\HsinYi\\DeepLabCut_Anthony/8videos_1400frames_relabled/videos/newvideo_piezo\\030623 Spider Piezo 10Hz-03062023135846-0000.mp4 Coordinates for cropping: None\n",
      "The outlier frames are extracted. They are stored in the subdirectory labeled-data\\030623 Spider Piezo 10Hz-03062023135846-0000.\n",
      "Once you extracted frames for all videos, use 'refine_labels' to manually correct the labels.\n",
      "Method  jump  found  204  putative outlier frames.\n",
      "Do you want to proceed with extracting  3  of those?\n",
      "If this list is very large, perhaps consider changing the parameters (start, stop, p_bound, comparisonbodyparts) or use a different method.\n",
      "Loading video...\n",
      "Duration of video [s]:  9.39 , recorded @  100.0 fps!\n",
      "Overall # of frames:  939 with (cropped) frame dimensions: \n",
      "Kmeans-quantization based extracting of frames from 0.0  seconds to 9.39  seconds.\n",
      "Extracting and downsampling... 204  frames from the video.\n"
     ]
    },
    {
     "name": "stderr",
     "output_type": "stream",
     "text": [
      "204it [00:37,  5.38it/s]\n",
      "C:\\Users\\Gordus_Lab\\anaconda3\\envs\\DEEPLABCUT\\lib\\site-packages\\sklearn\\cluster\\_kmeans.py:870: FutureWarning: The default value of `n_init` will change from 3 to 'auto' in 1.4. Set the value of `n_init` explicitly to suppress the warning\n",
      "  warnings.warn(\n"
     ]
    },
    {
     "name": "stdout",
     "output_type": "stream",
     "text": [
      "Kmeans clustering ... (this might take a while)\n",
      "Let's select frames indices: [30, 437, 313]\n"
     ]
    },
    {
     "name": "stderr",
     "output_type": "stream",
     "text": [
      "B:\\HsinYi\\DeepLabCut_Anthony\\deeplabcut\\refine_training_dataset\\outlier_frames.py:325: FutureWarning: Using the level keyword in DataFrame and Series aggregations is deprecated and will be removed in a future version. Use groupby instead. df.sum(level=1) should use df.groupby(level=1).sum().\n",
      "  sum_ = temp_dt.sum(axis=1, level=1)\n"
     ]
    },
    {
     "name": "stdout",
     "output_type": "stream",
     "text": [
      "Creating the symbolic link of the video\n",
      "AUTOMATIC ADDING OF VIDEO TO CONFIG FILE FAILED! You need to do this manually for including it in the config.yaml file!\n",
      "Videopath: B:\\HsinYi\\DeepLabCut_Anthony/8videos_1400frames_relabled/videos/newvideo_piezo\\030623 Spider Piezo 20Hz Crouched-03062023160727-0000.mp4 Coordinates for cropping: None\n",
      "The outlier frames are extracted. They are stored in the subdirectory labeled-data\\030623 Spider Piezo 20Hz Crouched-03062023160727-0000.\n",
      "Once you extracted frames for all videos, use 'refine_labels' to manually correct the labels.\n",
      "Method  jump  found  588  putative outlier frames.\n",
      "Do you want to proceed with extracting  3  of those?\n",
      "If this list is very large, perhaps consider changing the parameters (start, stop, p_bound, comparisonbodyparts) or use a different method.\n",
      "Loading video...\n",
      "Duration of video [s]:  36.92 , recorded @  100.0 fps!\n",
      "Overall # of frames:  3692 with (cropped) frame dimensions: \n",
      "Kmeans-quantization based extracting of frames from 0.0  seconds to 36.92  seconds.\n",
      "Extracting and downsampling... 588  frames from the video.\n"
     ]
    },
    {
     "name": "stderr",
     "output_type": "stream",
     "text": [
      "588it [01:54,  5.11it/s]\n",
      "C:\\Users\\Gordus_Lab\\anaconda3\\envs\\DEEPLABCUT\\lib\\site-packages\\sklearn\\cluster\\_kmeans.py:870: FutureWarning: The default value of `n_init` will change from 3 to 'auto' in 1.4. Set the value of `n_init` explicitly to suppress the warning\n",
      "  warnings.warn(\n"
     ]
    },
    {
     "name": "stdout",
     "output_type": "stream",
     "text": [
      "Kmeans clustering ... (this might take a while)\n",
      "Let's select frames indices: [1947, 1456, 1825]\n"
     ]
    },
    {
     "name": "stderr",
     "output_type": "stream",
     "text": [
      "B:\\HsinYi\\DeepLabCut_Anthony\\deeplabcut\\refine_training_dataset\\outlier_frames.py:325: FutureWarning: Using the level keyword in DataFrame and Series aggregations is deprecated and will be removed in a future version. Use groupby instead. df.sum(level=1) should use df.groupby(level=1).sum().\n",
      "  sum_ = temp_dt.sum(axis=1, level=1)\n"
     ]
    },
    {
     "name": "stdout",
     "output_type": "stream",
     "text": [
      "Creating the symbolic link of the video\n",
      "AUTOMATIC ADDING OF VIDEO TO CONFIG FILE FAILED! You need to do this manually for including it in the config.yaml file!\n",
      "Videopath: B:\\HsinYi\\DeepLabCut_Anthony/8videos_1400frames_relabled/videos/newvideo_piezo\\030623 Spider Piezo 20Hz-03062023140638-0000.mp4 Coordinates for cropping: None\n",
      "The outlier frames are extracted. They are stored in the subdirectory labeled-data\\030623 Spider Piezo 20Hz-03062023140638-0000.\n",
      "Once you extracted frames for all videos, use 'refine_labels' to manually correct the labels.\n",
      "Method  jump  found  100  putative outlier frames.\n",
      "Do you want to proceed with extracting  3  of those?\n",
      "If this list is very large, perhaps consider changing the parameters (start, stop, p_bound, comparisonbodyparts) or use a different method.\n",
      "Loading video...\n",
      "Duration of video [s]:  9.43 , recorded @  100.0 fps!\n",
      "Overall # of frames:  943 with (cropped) frame dimensions: \n",
      "Kmeans-quantization based extracting of frames from 0.0  seconds to 9.43  seconds.\n",
      "Extracting and downsampling... 100  frames from the video.\n"
     ]
    },
    {
     "name": "stderr",
     "output_type": "stream",
     "text": [
      "100it [00:22,  4.54it/s]\n",
      "C:\\Users\\Gordus_Lab\\anaconda3\\envs\\DEEPLABCUT\\lib\\site-packages\\sklearn\\cluster\\_kmeans.py:870: FutureWarning: The default value of `n_init` will change from 3 to 'auto' in 1.4. Set the value of `n_init` explicitly to suppress the warning\n",
      "  warnings.warn(\n"
     ]
    },
    {
     "name": "stdout",
     "output_type": "stream",
     "text": [
      "Kmeans clustering ... (this might take a while)\n",
      "Let's select frames indices: [846, 9, 651]\n"
     ]
    },
    {
     "name": "stderr",
     "output_type": "stream",
     "text": [
      "B:\\HsinYi\\DeepLabCut_Anthony\\deeplabcut\\refine_training_dataset\\outlier_frames.py:325: FutureWarning: Using the level keyword in DataFrame and Series aggregations is deprecated and will be removed in a future version. Use groupby instead. df.sum(level=1) should use df.groupby(level=1).sum().\n",
      "  sum_ = temp_dt.sum(axis=1, level=1)\n"
     ]
    },
    {
     "name": "stdout",
     "output_type": "stream",
     "text": [
      "Creating the symbolic link of the video\n",
      "AUTOMATIC ADDING OF VIDEO TO CONFIG FILE FAILED! You need to do this manually for including it in the config.yaml file!\n",
      "Videopath: B:\\HsinYi\\DeepLabCut_Anthony/8videos_1400frames_relabled/videos/newvideo_piezo\\030623 Spider Piezo 30Hz Crouched-03062023160044-0000.mp4 Coordinates for cropping: None\n",
      "The outlier frames are extracted. They are stored in the subdirectory labeled-data\\030623 Spider Piezo 30Hz Crouched-03062023160044-0000.\n",
      "Once you extracted frames for all videos, use 'refine_labels' to manually correct the labels.\n",
      "Method  jump  found  381  putative outlier frames.\n",
      "Do you want to proceed with extracting  3  of those?\n",
      "If this list is very large, perhaps consider changing the parameters (start, stop, p_bound, comparisonbodyparts) or use a different method.\n",
      "Loading video...\n",
      "Duration of video [s]:  9.86 , recorded @  100.0 fps!\n",
      "Overall # of frames:  986 with (cropped) frame dimensions: \n",
      "Kmeans-quantization based extracting of frames from 0.0  seconds to 9.86  seconds.\n",
      "Extracting and downsampling... 381  frames from the video.\n"
     ]
    },
    {
     "name": "stderr",
     "output_type": "stream",
     "text": [
      "381it [01:31,  4.17it/s]\n",
      "C:\\Users\\Gordus_Lab\\anaconda3\\envs\\DEEPLABCUT\\lib\\site-packages\\sklearn\\cluster\\_kmeans.py:870: FutureWarning: The default value of `n_init` will change from 3 to 'auto' in 1.4. Set the value of `n_init` explicitly to suppress the warning\n",
      "  warnings.warn(\n"
     ]
    },
    {
     "name": "stdout",
     "output_type": "stream",
     "text": [
      "Kmeans clustering ... (this might take a while)\n",
      "Let's select frames indices: [875, 587, 515]\n"
     ]
    },
    {
     "name": "stderr",
     "output_type": "stream",
     "text": [
      "B:\\HsinYi\\DeepLabCut_Anthony\\deeplabcut\\refine_training_dataset\\outlier_frames.py:325: FutureWarning: Using the level keyword in DataFrame and Series aggregations is deprecated and will be removed in a future version. Use groupby instead. df.sum(level=1) should use df.groupby(level=1).sum().\n",
      "  sum_ = temp_dt.sum(axis=1, level=1)\n"
     ]
    },
    {
     "name": "stdout",
     "output_type": "stream",
     "text": [
      "Creating the symbolic link of the video\n",
      "AUTOMATIC ADDING OF VIDEO TO CONFIG FILE FAILED! You need to do this manually for including it in the config.yaml file!\n",
      "Videopath: B:\\HsinYi\\DeepLabCut_Anthony/8videos_1400frames_relabled/videos/newvideo_piezo\\030623 Spider Piezo 30Hz-03062023144000-0000.mp4 Coordinates for cropping: None\n",
      "The outlier frames are extracted. They are stored in the subdirectory labeled-data\\030623 Spider Piezo 30Hz-03062023144000-0000.\n",
      "Once you extracted frames for all videos, use 'refine_labels' to manually correct the labels.\n",
      "Method  jump  found  175  putative outlier frames.\n",
      "Do you want to proceed with extracting  3  of those?\n",
      "If this list is very large, perhaps consider changing the parameters (start, stop, p_bound, comparisonbodyparts) or use a different method.\n",
      "Loading video...\n",
      "Duration of video [s]:  11.75 , recorded @  100.0 fps!\n",
      "Overall # of frames:  1175 with (cropped) frame dimensions: \n",
      "Kmeans-quantization based extracting of frames from 0.0  seconds to 11.75  seconds.\n",
      "Extracting and downsampling... 175  frames from the video.\n"
     ]
    },
    {
     "name": "stderr",
     "output_type": "stream",
     "text": [
      "175it [00:28,  6.19it/s]\n",
      "C:\\Users\\Gordus_Lab\\anaconda3\\envs\\DEEPLABCUT\\lib\\site-packages\\sklearn\\cluster\\_kmeans.py:870: FutureWarning: The default value of `n_init` will change from 3 to 'auto' in 1.4. Set the value of `n_init` explicitly to suppress the warning\n",
      "  warnings.warn(\n"
     ]
    },
    {
     "name": "stdout",
     "output_type": "stream",
     "text": [
      "Kmeans clustering ... (this might take a while)\n",
      "Let's select frames indices: [343, 678, 189]\n"
     ]
    },
    {
     "name": "stderr",
     "output_type": "stream",
     "text": [
      "B:\\HsinYi\\DeepLabCut_Anthony\\deeplabcut\\refine_training_dataset\\outlier_frames.py:325: FutureWarning: Using the level keyword in DataFrame and Series aggregations is deprecated and will be removed in a future version. Use groupby instead. df.sum(level=1) should use df.groupby(level=1).sum().\n",
      "  sum_ = temp_dt.sum(axis=1, level=1)\n"
     ]
    },
    {
     "name": "stdout",
     "output_type": "stream",
     "text": [
      "Creating the symbolic link of the video\n",
      "AUTOMATIC ADDING OF VIDEO TO CONFIG FILE FAILED! You need to do this manually for including it in the config.yaml file!\n",
      "Videopath: B:\\HsinYi\\DeepLabCut_Anthony/8videos_1400frames_relabled/videos/newvideo_piezo\\030623 Spider Piezo 40Hz Crouched-03062023155151-0000.mp4 Coordinates for cropping: None\n",
      "The outlier frames are extracted. They are stored in the subdirectory labeled-data\\030623 Spider Piezo 40Hz Crouched-03062023155151-0000.\n",
      "Once you extracted frames for all videos, use 'refine_labels' to manually correct the labels.\n",
      "Method  jump  found  902  putative outlier frames.\n",
      "Do you want to proceed with extracting  3  of those?\n",
      "If this list is very large, perhaps consider changing the parameters (start, stop, p_bound, comparisonbodyparts) or use a different method.\n",
      "Loading video...\n",
      "Duration of video [s]:  20.9 , recorded @  100.0 fps!\n",
      "Overall # of frames:  2090 with (cropped) frame dimensions: \n",
      "Kmeans-quantization based extracting of frames from 0.0  seconds to 20.9  seconds.\n",
      "Extracting and downsampling... 902  frames from the video.\n"
     ]
    },
    {
     "name": "stderr",
     "output_type": "stream",
     "text": [
      "902it [03:01,  4.97it/s]\n",
      "C:\\Users\\Gordus_Lab\\anaconda3\\envs\\DEEPLABCUT\\lib\\site-packages\\sklearn\\cluster\\_kmeans.py:870: FutureWarning: The default value of `n_init` will change from 3 to 'auto' in 1.4. Set the value of `n_init` explicitly to suppress the warning\n",
      "  warnings.warn(\n"
     ]
    },
    {
     "name": "stdout",
     "output_type": "stream",
     "text": [
      "Kmeans clustering ... (this might take a while)\n",
      "Let's select frames indices: [1180, 2087, 1620]\n"
     ]
    },
    {
     "name": "stderr",
     "output_type": "stream",
     "text": [
      "B:\\HsinYi\\DeepLabCut_Anthony\\deeplabcut\\refine_training_dataset\\outlier_frames.py:325: FutureWarning: Using the level keyword in DataFrame and Series aggregations is deprecated and will be removed in a future version. Use groupby instead. df.sum(level=1) should use df.groupby(level=1).sum().\n",
      "  sum_ = temp_dt.sum(axis=1, level=1)\n"
     ]
    },
    {
     "name": "stdout",
     "output_type": "stream",
     "text": [
      "Creating the symbolic link of the video\n",
      "AUTOMATIC ADDING OF VIDEO TO CONFIG FILE FAILED! You need to do this manually for including it in the config.yaml file!\n",
      "Videopath: B:\\HsinYi\\DeepLabCut_Anthony/8videos_1400frames_relabled/videos/newvideo_piezo\\030623 Spider Piezo 40Hz-03062023152234-0000.mp4 Coordinates for cropping: None\n",
      "The outlier frames are extracted. They are stored in the subdirectory labeled-data\\030623 Spider Piezo 40Hz-03062023152234-0000.\n",
      "Once you extracted frames for all videos, use 'refine_labels' to manually correct the labels.\n",
      "Method  jump  found  401  putative outlier frames.\n",
      "Do you want to proceed with extracting  3  of those?\n",
      "If this list is very large, perhaps consider changing the parameters (start, stop, p_bound, comparisonbodyparts) or use a different method.\n",
      "Loading video...\n",
      "Duration of video [s]:  9.46 , recorded @  100.0 fps!\n",
      "Overall # of frames:  946 with (cropped) frame dimensions: \n",
      "Kmeans-quantization based extracting of frames from 0.0  seconds to 9.46  seconds.\n",
      "Extracting and downsampling... 401  frames from the video.\n"
     ]
    },
    {
     "name": "stderr",
     "output_type": "stream",
     "text": [
      "401it [01:13,  5.42it/s]\n",
      "C:\\Users\\Gordus_Lab\\anaconda3\\envs\\DEEPLABCUT\\lib\\site-packages\\sklearn\\cluster\\_kmeans.py:870: FutureWarning: The default value of `n_init` will change from 3 to 'auto' in 1.4. Set the value of `n_init` explicitly to suppress the warning\n",
      "  warnings.warn(\n"
     ]
    },
    {
     "name": "stdout",
     "output_type": "stream",
     "text": [
      "Kmeans clustering ... (this might take a while)\n",
      "Let's select frames indices: [913, 714, 936]\n"
     ]
    },
    {
     "name": "stderr",
     "output_type": "stream",
     "text": [
      "B:\\HsinYi\\DeepLabCut_Anthony\\deeplabcut\\refine_training_dataset\\outlier_frames.py:325: FutureWarning: Using the level keyword in DataFrame and Series aggregations is deprecated and will be removed in a future version. Use groupby instead. df.sum(level=1) should use df.groupby(level=1).sum().\n",
      "  sum_ = temp_dt.sum(axis=1, level=1)\n"
     ]
    },
    {
     "name": "stdout",
     "output_type": "stream",
     "text": [
      "Creating the symbolic link of the video\n",
      "AUTOMATIC ADDING OF VIDEO TO CONFIG FILE FAILED! You need to do this manually for including it in the config.yaml file!\n",
      "Videopath: B:\\HsinYi\\DeepLabCut_Anthony/8videos_1400frames_relabled/videos/newvideo_piezo\\030623 Spider Piezo 50Hz Crouched-03062023162950-0000.mp4 Coordinates for cropping: None\n",
      "The outlier frames are extracted. They are stored in the subdirectory labeled-data\\030623 Spider Piezo 50Hz Crouched-03062023162950-0000.\n",
      "Once you extracted frames for all videos, use 'refine_labels' to manually correct the labels.\n",
      "Method  jump  found  213  putative outlier frames.\n",
      "Do you want to proceed with extracting  3  of those?\n",
      "If this list is very large, perhaps consider changing the parameters (start, stop, p_bound, comparisonbodyparts) or use a different method.\n",
      "Loading video...\n",
      "Duration of video [s]:  9.19 , recorded @  100.0 fps!\n",
      "Overall # of frames:  919 with (cropped) frame dimensions: \n",
      "Kmeans-quantization based extracting of frames from 0.0  seconds to 9.19  seconds.\n",
      "Extracting and downsampling... 213  frames from the video.\n"
     ]
    },
    {
     "name": "stderr",
     "output_type": "stream",
     "text": [
      "213it [00:39,  5.38it/s]\n",
      "C:\\Users\\Gordus_Lab\\anaconda3\\envs\\DEEPLABCUT\\lib\\site-packages\\sklearn\\cluster\\_kmeans.py:870: FutureWarning: The default value of `n_init` will change from 3 to 'auto' in 1.4. Set the value of `n_init` explicitly to suppress the warning\n",
      "  warnings.warn(\n"
     ]
    },
    {
     "name": "stdout",
     "output_type": "stream",
     "text": [
      "Kmeans clustering ... (this might take a while)\n",
      "Let's select frames indices: [841, 491, 6]\n"
     ]
    },
    {
     "name": "stderr",
     "output_type": "stream",
     "text": [
      "B:\\HsinYi\\DeepLabCut_Anthony\\deeplabcut\\refine_training_dataset\\outlier_frames.py:325: FutureWarning: Using the level keyword in DataFrame and Series aggregations is deprecated and will be removed in a future version. Use groupby instead. df.sum(level=1) should use df.groupby(level=1).sum().\n",
      "  sum_ = temp_dt.sum(axis=1, level=1)\n"
     ]
    },
    {
     "name": "stdout",
     "output_type": "stream",
     "text": [
      "Creating the symbolic link of the video\n",
      "AUTOMATIC ADDING OF VIDEO TO CONFIG FILE FAILED! You need to do this manually for including it in the config.yaml file!\n",
      "Videopath: B:\\HsinYi\\DeepLabCut_Anthony/8videos_1400frames_relabled/videos/newvideo_piezo\\030623 Spider Piezo 5Hz Crouched-03062023162254-0000.mp4 Coordinates for cropping: None\n",
      "The outlier frames are extracted. They are stored in the subdirectory labeled-data\\030623 Spider Piezo 5Hz Crouched-03062023162254-0000.\n",
      "Once you extracted frames for all videos, use 'refine_labels' to manually correct the labels.\n",
      "Method  jump  found  604  putative outlier frames.\n",
      "Do you want to proceed with extracting  3  of those?\n",
      "If this list is very large, perhaps consider changing the parameters (start, stop, p_bound, comparisonbodyparts) or use a different method.\n",
      "Loading video...\n",
      "Duration of video [s]:  9.6 , recorded @  100.0 fps!\n",
      "Overall # of frames:  960 with (cropped) frame dimensions: \n",
      "Kmeans-quantization based extracting of frames from 0.0  seconds to 9.6  seconds.\n",
      "Extracting and downsampling... 604  frames from the video.\n"
     ]
    },
    {
     "name": "stderr",
     "output_type": "stream",
     "text": [
      "604it [02:05,  4.81it/s]\n",
      "C:\\Users\\Gordus_Lab\\anaconda3\\envs\\DEEPLABCUT\\lib\\site-packages\\sklearn\\cluster\\_kmeans.py:870: FutureWarning: The default value of `n_init` will change from 3 to 'auto' in 1.4. Set the value of `n_init` explicitly to suppress the warning\n",
      "  warnings.warn(\n"
     ]
    },
    {
     "name": "stdout",
     "output_type": "stream",
     "text": [
      "Kmeans clustering ... (this might take a while)\n",
      "Let's select frames indices: [944, 639, 520]\n"
     ]
    },
    {
     "name": "stderr",
     "output_type": "stream",
     "text": [
      "B:\\HsinYi\\DeepLabCut_Anthony\\deeplabcut\\refine_training_dataset\\outlier_frames.py:325: FutureWarning: Using the level keyword in DataFrame and Series aggregations is deprecated and will be removed in a future version. Use groupby instead. df.sum(level=1) should use df.groupby(level=1).sum().\n",
      "  sum_ = temp_dt.sum(axis=1, level=1)\n"
     ]
    },
    {
     "name": "stdout",
     "output_type": "stream",
     "text": [
      "Creating the symbolic link of the video\n",
      "AUTOMATIC ADDING OF VIDEO TO CONFIG FILE FAILED! You need to do this manually for including it in the config.yaml file!\n",
      "Videopath: B:\\HsinYi\\DeepLabCut_Anthony/8videos_1400frames_relabled/videos/newvideo_piezo\\030623 Spider025 Piezo 100Hz-03062023184951-0000.mp4 Coordinates for cropping: None\n",
      "The outlier frames are extracted. They are stored in the subdirectory labeled-data\\030623 Spider025 Piezo 100Hz-03062023184951-0000.\n",
      "Once you extracted frames for all videos, use 'refine_labels' to manually correct the labels.\n",
      "Method  jump  found  656  putative outlier frames.\n",
      "Do you want to proceed with extracting  3  of those?\n",
      "If this list is very large, perhaps consider changing the parameters (start, stop, p_bound, comparisonbodyparts) or use a different method.\n",
      "Loading video...\n",
      "Duration of video [s]:  9.36 , recorded @  100.0 fps!\n",
      "Overall # of frames:  936 with (cropped) frame dimensions: \n",
      "Kmeans-quantization based extracting of frames from 0.0  seconds to 9.36  seconds.\n",
      "Extracting and downsampling... 656  frames from the video.\n"
     ]
    },
    {
     "name": "stderr",
     "output_type": "stream",
     "text": [
      "656it [02:08,  5.12it/s]\n",
      "C:\\Users\\Gordus_Lab\\anaconda3\\envs\\DEEPLABCUT\\lib\\site-packages\\sklearn\\cluster\\_kmeans.py:870: FutureWarning: The default value of `n_init` will change from 3 to 'auto' in 1.4. Set the value of `n_init` explicitly to suppress the warning\n",
      "  warnings.warn(\n"
     ]
    },
    {
     "name": "stdout",
     "output_type": "stream",
     "text": [
      "Kmeans clustering ... (this might take a while)\n",
      "Let's select frames indices: [634, 226, 741]\n"
     ]
    },
    {
     "name": "stderr",
     "output_type": "stream",
     "text": [
      "B:\\HsinYi\\DeepLabCut_Anthony\\deeplabcut\\refine_training_dataset\\outlier_frames.py:325: FutureWarning: Using the level keyword in DataFrame and Series aggregations is deprecated and will be removed in a future version. Use groupby instead. df.sum(level=1) should use df.groupby(level=1).sum().\n",
      "  sum_ = temp_dt.sum(axis=1, level=1)\n"
     ]
    },
    {
     "name": "stdout",
     "output_type": "stream",
     "text": [
      "Creating the symbolic link of the video\n",
      "AUTOMATIC ADDING OF VIDEO TO CONFIG FILE FAILED! You need to do this manually for including it in the config.yaml file!\n",
      "Videopath: B:\\HsinYi\\DeepLabCut_Anthony/8videos_1400frames_relabled/videos/newvideo_piezo\\030623 Spider025 Piezo 10Hz-03062023185744-0000.mp4 Coordinates for cropping: None\n",
      "The outlier frames are extracted. They are stored in the subdirectory labeled-data\\030623 Spider025 Piezo 10Hz-03062023185744-0000.\n",
      "Once you extracted frames for all videos, use 'refine_labels' to manually correct the labels.\n",
      "Method  jump  found  393  putative outlier frames.\n",
      "Do you want to proceed with extracting  3  of those?\n",
      "If this list is very large, perhaps consider changing the parameters (start, stop, p_bound, comparisonbodyparts) or use a different method.\n",
      "Loading video...\n",
      "Duration of video [s]:  9.66 , recorded @  100.0 fps!\n",
      "Overall # of frames:  966 with (cropped) frame dimensions: \n",
      "Kmeans-quantization based extracting of frames from 0.0  seconds to 9.66  seconds.\n",
      "Extracting and downsampling... 393  frames from the video.\n"
     ]
    },
    {
     "name": "stderr",
     "output_type": "stream",
     "text": [
      "393it [01:26,  4.56it/s]\n",
      "C:\\Users\\Gordus_Lab\\anaconda3\\envs\\DEEPLABCUT\\lib\\site-packages\\sklearn\\cluster\\_kmeans.py:870: FutureWarning: The default value of `n_init` will change from 3 to 'auto' in 1.4. Set the value of `n_init` explicitly to suppress the warning\n",
      "  warnings.warn(\n"
     ]
    },
    {
     "name": "stdout",
     "output_type": "stream",
     "text": [
      "Kmeans clustering ... (this might take a while)\n",
      "Let's select frames indices: [673, 770, 27]\n"
     ]
    },
    {
     "name": "stderr",
     "output_type": "stream",
     "text": [
      "B:\\HsinYi\\DeepLabCut_Anthony\\deeplabcut\\refine_training_dataset\\outlier_frames.py:325: FutureWarning: Using the level keyword in DataFrame and Series aggregations is deprecated and will be removed in a future version. Use groupby instead. df.sum(level=1) should use df.groupby(level=1).sum().\n",
      "  sum_ = temp_dt.sum(axis=1, level=1)\n"
     ]
    },
    {
     "name": "stdout",
     "output_type": "stream",
     "text": [
      "Creating the symbolic link of the video\n",
      "AUTOMATIC ADDING OF VIDEO TO CONFIG FILE FAILED! You need to do this manually for including it in the config.yaml file!\n",
      "Videopath: B:\\HsinYi\\DeepLabCut_Anthony/8videos_1400frames_relabled/videos/newvideo_piezo\\030623 Spider025 Piezo 20Hz-03062023181238-0000.mp4 Coordinates for cropping: None\n",
      "The outlier frames are extracted. They are stored in the subdirectory labeled-data\\030623 Spider025 Piezo 20Hz-03062023181238-0000.\n",
      "Once you extracted frames for all videos, use 'refine_labels' to manually correct the labels.\n",
      "Method  jump  found  563  putative outlier frames.\n",
      "Do you want to proceed with extracting  3  of those?\n",
      "If this list is very large, perhaps consider changing the parameters (start, stop, p_bound, comparisonbodyparts) or use a different method.\n",
      "Loading video...\n",
      "Duration of video [s]:  9.59 , recorded @  100.0 fps!\n",
      "Overall # of frames:  959 with (cropped) frame dimensions: \n",
      "Kmeans-quantization based extracting of frames from 0.0  seconds to 9.59  seconds.\n",
      "Extracting and downsampling... 563  frames from the video.\n"
     ]
    },
    {
     "name": "stderr",
     "output_type": "stream",
     "text": [
      "563it [01:57,  4.80it/s]\n",
      "C:\\Users\\Gordus_Lab\\anaconda3\\envs\\DEEPLABCUT\\lib\\site-packages\\sklearn\\cluster\\_kmeans.py:870: FutureWarning: The default value of `n_init` will change from 3 to 'auto' in 1.4. Set the value of `n_init` explicitly to suppress the warning\n",
      "  warnings.warn(\n"
     ]
    },
    {
     "name": "stdout",
     "output_type": "stream",
     "text": [
      "Kmeans clustering ... (this might take a while)\n",
      "Let's select frames indices: [494, 281, 806]\n"
     ]
    },
    {
     "name": "stderr",
     "output_type": "stream",
     "text": [
      "B:\\HsinYi\\DeepLabCut_Anthony\\deeplabcut\\refine_training_dataset\\outlier_frames.py:325: FutureWarning: Using the level keyword in DataFrame and Series aggregations is deprecated and will be removed in a future version. Use groupby instead. df.sum(level=1) should use df.groupby(level=1).sum().\n",
      "  sum_ = temp_dt.sum(axis=1, level=1)\n"
     ]
    },
    {
     "name": "stdout",
     "output_type": "stream",
     "text": [
      "Creating the symbolic link of the video\n",
      "AUTOMATIC ADDING OF VIDEO TO CONFIG FILE FAILED! You need to do this manually for including it in the config.yaml file!\n",
      "Videopath: B:\\HsinYi\\DeepLabCut_Anthony/8videos_1400frames_relabled/videos/newvideo_piezo\\030623 Spider025 Piezo 30Hz-03062023182246-0000.mp4 Coordinates for cropping: None\n",
      "The outlier frames are extracted. They are stored in the subdirectory labeled-data\\030623 Spider025 Piezo 30Hz-03062023182246-0000.\n",
      "Once you extracted frames for all videos, use 'refine_labels' to manually correct the labels.\n",
      "Method  jump  found  523  putative outlier frames.\n",
      "Do you want to proceed with extracting  3  of those?\n",
      "If this list is very large, perhaps consider changing the parameters (start, stop, p_bound, comparisonbodyparts) or use a different method.\n",
      "Loading video...\n",
      "Duration of video [s]:  9.45 , recorded @  100.0 fps!\n",
      "Overall # of frames:  945 with (cropped) frame dimensions: \n",
      "Kmeans-quantization based extracting of frames from 0.0  seconds to 9.45  seconds.\n",
      "Extracting and downsampling... 523  frames from the video.\n"
     ]
    },
    {
     "name": "stderr",
     "output_type": "stream",
     "text": [
      "523it [01:44,  4.98it/s]\n",
      "C:\\Users\\Gordus_Lab\\anaconda3\\envs\\DEEPLABCUT\\lib\\site-packages\\sklearn\\cluster\\_kmeans.py:870: FutureWarning: The default value of `n_init` will change from 3 to 'auto' in 1.4. Set the value of `n_init` explicitly to suppress the warning\n",
      "  warnings.warn(\n"
     ]
    },
    {
     "name": "stdout",
     "output_type": "stream",
     "text": [
      "Kmeans clustering ... (this might take a while)\n",
      "Let's select frames indices: [349, 897, 557]\n"
     ]
    },
    {
     "name": "stderr",
     "output_type": "stream",
     "text": [
      "B:\\HsinYi\\DeepLabCut_Anthony\\deeplabcut\\refine_training_dataset\\outlier_frames.py:325: FutureWarning: Using the level keyword in DataFrame and Series aggregations is deprecated and will be removed in a future version. Use groupby instead. df.sum(level=1) should use df.groupby(level=1).sum().\n",
      "  sum_ = temp_dt.sum(axis=1, level=1)\n"
     ]
    },
    {
     "name": "stdout",
     "output_type": "stream",
     "text": [
      "Creating the symbolic link of the video\n",
      "AUTOMATIC ADDING OF VIDEO TO CONFIG FILE FAILED! You need to do this manually for including it in the config.yaml file!\n",
      "Videopath: B:\\HsinYi\\DeepLabCut_Anthony/8videos_1400frames_relabled/videos/newvideo_piezo\\030623 Spider025 Piezo 40Hz-03062023183058-0000.mp4 Coordinates for cropping: None\n",
      "The outlier frames are extracted. They are stored in the subdirectory labeled-data\\030623 Spider025 Piezo 40Hz-03062023183058-0000.\n",
      "Once you extracted frames for all videos, use 'refine_labels' to manually correct the labels.\n",
      "Method  jump  found  720  putative outlier frames.\n",
      "Do you want to proceed with extracting  3  of those?\n",
      "If this list is very large, perhaps consider changing the parameters (start, stop, p_bound, comparisonbodyparts) or use a different method.\n",
      "Loading video...\n",
      "Duration of video [s]:  9.6 , recorded @  100.0 fps!\n",
      "Overall # of frames:  960 with (cropped) frame dimensions: \n",
      "Kmeans-quantization based extracting of frames from 0.0  seconds to 9.6  seconds.\n",
      "Extracting and downsampling... 720  frames from the video.\n"
     ]
    },
    {
     "name": "stderr",
     "output_type": "stream",
     "text": [
      "720it [02:24,  4.98it/s]\n",
      "C:\\Users\\Gordus_Lab\\anaconda3\\envs\\DEEPLABCUT\\lib\\site-packages\\sklearn\\cluster\\_kmeans.py:870: FutureWarning: The default value of `n_init` will change from 3 to 'auto' in 1.4. Set the value of `n_init` explicitly to suppress the warning\n",
      "  warnings.warn(\n"
     ]
    },
    {
     "name": "stdout",
     "output_type": "stream",
     "text": [
      "Kmeans clustering ... (this might take a while)\n",
      "Let's select frames indices: [623, 490, 321]\n"
     ]
    },
    {
     "name": "stderr",
     "output_type": "stream",
     "text": [
      "B:\\HsinYi\\DeepLabCut_Anthony\\deeplabcut\\refine_training_dataset\\outlier_frames.py:325: FutureWarning: Using the level keyword in DataFrame and Series aggregations is deprecated and will be removed in a future version. Use groupby instead. df.sum(level=1) should use df.groupby(level=1).sum().\n",
      "  sum_ = temp_dt.sum(axis=1, level=1)\n"
     ]
    },
    {
     "name": "stdout",
     "output_type": "stream",
     "text": [
      "Creating the symbolic link of the video\n",
      "AUTOMATIC ADDING OF VIDEO TO CONFIG FILE FAILED! You need to do this manually for including it in the config.yaml file!\n",
      "Videopath: B:\\HsinYi\\DeepLabCut_Anthony/8videos_1400frames_relabled/videos/newvideo_piezo\\030623 Spider025 Piezo 50Hz-03062023183958-0000.mp4 Coordinates for cropping: None\n",
      "The outlier frames are extracted. They are stored in the subdirectory labeled-data\\030623 Spider025 Piezo 50Hz-03062023183958-0000.\n",
      "Once you extracted frames for all videos, use 'refine_labels' to manually correct the labels.\n",
      "Method  jump  found  274  putative outlier frames.\n",
      "Do you want to proceed with extracting  3  of those?\n",
      "If this list is very large, perhaps consider changing the parameters (start, stop, p_bound, comparisonbodyparts) or use a different method.\n",
      "Loading video...\n",
      "Duration of video [s]:  11.27 , recorded @  100.0 fps!\n",
      "Overall # of frames:  1127 with (cropped) frame dimensions: \n",
      "Kmeans-quantization based extracting of frames from 0.0  seconds to 11.27  seconds.\n",
      "Extracting and downsampling... 274  frames from the video.\n"
     ]
    },
    {
     "name": "stderr",
     "output_type": "stream",
     "text": [
      "274it [00:49,  5.53it/s]\n",
      "C:\\Users\\Gordus_Lab\\anaconda3\\envs\\DEEPLABCUT\\lib\\site-packages\\sklearn\\cluster\\_kmeans.py:870: FutureWarning: The default value of `n_init` will change from 3 to 'auto' in 1.4. Set the value of `n_init` explicitly to suppress the warning\n",
      "  warnings.warn(\n"
     ]
    },
    {
     "name": "stdout",
     "output_type": "stream",
     "text": [
      "Kmeans clustering ... (this might take a while)\n",
      "Let's select frames indices: [1067, 911, 220]\n"
     ]
    },
    {
     "name": "stderr",
     "output_type": "stream",
     "text": [
      "B:\\HsinYi\\DeepLabCut_Anthony\\deeplabcut\\refine_training_dataset\\outlier_frames.py:325: FutureWarning: Using the level keyword in DataFrame and Series aggregations is deprecated and will be removed in a future version. Use groupby instead. df.sum(level=1) should use df.groupby(level=1).sum().\n",
      "  sum_ = temp_dt.sum(axis=1, level=1)\n"
     ]
    },
    {
     "name": "stdout",
     "output_type": "stream",
     "text": [
      "Creating the symbolic link of the video\n",
      "AUTOMATIC ADDING OF VIDEO TO CONFIG FILE FAILED! You need to do this manually for including it in the config.yaml file!\n",
      "Videopath: B:\\HsinYi\\DeepLabCut_Anthony/8videos_1400frames_relabled/videos/newvideo_piezo\\030623 Spider025 Piezo 5Hz-03062023190433-0000.mp4 Coordinates for cropping: None\n",
      "The outlier frames are extracted. They are stored in the subdirectory labeled-data\\030623 Spider025 Piezo 5Hz-03062023190433-0000.\n",
      "Once you extracted frames for all videos, use 'refine_labels' to manually correct the labels.\n",
      "Method  jump  found  176  putative outlier frames.\n",
      "Do you want to proceed with extracting  3  of those?\n",
      "If this list is very large, perhaps consider changing the parameters (start, stop, p_bound, comparisonbodyparts) or use a different method.\n",
      "Loading video...\n",
      "Duration of video [s]:  10.37 , recorded @  100.0 fps!\n",
      "Overall # of frames:  1037 with (cropped) frame dimensions: \n",
      "Kmeans-quantization based extracting of frames from 0.0  seconds to 10.37  seconds.\n",
      "Extracting and downsampling... 176  frames from the video.\n"
     ]
    },
    {
     "name": "stderr",
     "output_type": "stream",
     "text": [
      "176it [00:33,  5.24it/s]\n",
      "C:\\Users\\Gordus_Lab\\anaconda3\\envs\\DEEPLABCUT\\lib\\site-packages\\sklearn\\cluster\\_kmeans.py:870: FutureWarning: The default value of `n_init` will change from 3 to 'auto' in 1.4. Set the value of `n_init` explicitly to suppress the warning\n",
      "  warnings.warn(\n"
     ]
    },
    {
     "name": "stdout",
     "output_type": "stream",
     "text": [
      "Kmeans clustering ... (this might take a while)\n",
      "Let's select frames indices: [329, 747, 459]\n"
     ]
    },
    {
     "name": "stderr",
     "output_type": "stream",
     "text": [
      "B:\\HsinYi\\DeepLabCut_Anthony\\deeplabcut\\refine_training_dataset\\outlier_frames.py:325: FutureWarning: Using the level keyword in DataFrame and Series aggregations is deprecated and will be removed in a future version. Use groupby instead. df.sum(level=1) should use df.groupby(level=1).sum().\n",
      "  sum_ = temp_dt.sum(axis=1, level=1)\n"
     ]
    },
    {
     "name": "stdout",
     "output_type": "stream",
     "text": [
      "Creating the symbolic link of the video\n",
      "AUTOMATIC ADDING OF VIDEO TO CONFIG FILE FAILED! You need to do this manually for including it in the config.yaml file!\n",
      "Videopath: B:\\HsinYi\\DeepLabCut_Anthony/8videos_1400frames_relabled/videos/newvideo_piezo\\030723 Spider Piezo 100Hz Crouched-03072023172338-0000.mp4 Coordinates for cropping: None\n",
      "The outlier frames are extracted. They are stored in the subdirectory labeled-data\\030723 Spider Piezo 100Hz Crouched-03072023172338-0000.\n",
      "Once you extracted frames for all videos, use 'refine_labels' to manually correct the labels.\n",
      "Method  jump  found  779  putative outlier frames.\n",
      "Do you want to proceed with extracting  3  of those?\n",
      "If this list is very large, perhaps consider changing the parameters (start, stop, p_bound, comparisonbodyparts) or use a different method.\n",
      "Loading video...\n",
      "Duration of video [s]:  14.55 , recorded @  100.0 fps!\n",
      "Overall # of frames:  1455 with (cropped) frame dimensions: \n",
      "Kmeans-quantization based extracting of frames from 0.0  seconds to 14.55  seconds.\n",
      "Extracting and downsampling... 779  frames from the video.\n"
     ]
    },
    {
     "name": "stderr",
     "output_type": "stream",
     "text": [
      "779it [02:13,  5.81it/s]\n",
      "C:\\Users\\Gordus_Lab\\anaconda3\\envs\\DEEPLABCUT\\lib\\site-packages\\sklearn\\cluster\\_kmeans.py:870: FutureWarning: The default value of `n_init` will change from 3 to 'auto' in 1.4. Set the value of `n_init` explicitly to suppress the warning\n",
      "  warnings.warn(\n"
     ]
    },
    {
     "name": "stdout",
     "output_type": "stream",
     "text": [
      "Kmeans clustering ... (this might take a while)\n",
      "Let's select frames indices: [1058, 1313, 1170]\n"
     ]
    },
    {
     "name": "stderr",
     "output_type": "stream",
     "text": [
      "B:\\HsinYi\\DeepLabCut_Anthony\\deeplabcut\\refine_training_dataset\\outlier_frames.py:325: FutureWarning: Using the level keyword in DataFrame and Series aggregations is deprecated and will be removed in a future version. Use groupby instead. df.sum(level=1) should use df.groupby(level=1).sum().\n",
      "  sum_ = temp_dt.sum(axis=1, level=1)\n",
      "B:\\HsinYi\\DeepLabCut_Anthony\\deeplabcut\\refine_training_dataset\\outlier_frames.py:325: FutureWarning: Using the level keyword in DataFrame and Series aggregations is deprecated and will be removed in a future version. Use groupby instead. df.sum(level=1) should use df.groupby(level=1).sum().\n",
      "  sum_ = temp_dt.sum(axis=1, level=1)\n"
     ]
    },
    {
     "name": "stdout",
     "output_type": "stream",
     "text": [
      "Creating the symbolic link of the video\n",
      "AUTOMATIC ADDING OF VIDEO TO CONFIG FILE FAILED! You need to do this manually for including it in the config.yaml file!\n",
      "Videopath: B:\\HsinYi\\DeepLabCut_Anthony/8videos_1400frames_relabled/videos/newvideo_piezo\\030723 Spider Piezo 100Hz-03072023145502-0000.mp4 Coordinates for cropping: None\n",
      "The outlier frames are extracted. They are stored in the subdirectory labeled-data\\030723 Spider Piezo 100Hz-03072023145502-0000.\n",
      "Once you extracted frames for all videos, use 'refine_labels' to manually correct the labels.\n",
      "Method  jump  found  0  putative outlier frames.\n",
      "Do you want to proceed with extracting  3  of those?\n",
      "If this list is very large, perhaps consider changing the parameters (start, stop, p_bound, comparisonbodyparts) or use a different method.\n",
      "Loading video...\n",
      "Duration of video [s]:  10.23 , recorded @  100.0 fps!\n",
      "Overall # of frames:  1023 with (cropped) frame dimensions: \n",
      "Kmeans-quantization based extracting of frames from 0.0  seconds to 10.23  seconds.\n",
      "Let's select frames indices: []\n",
      "No frames were extracted.\n",
      "Method  jump  found  901  putative outlier frames.\n",
      "Do you want to proceed with extracting  3  of those?\n",
      "If this list is very large, perhaps consider changing the parameters (start, stop, p_bound, comparisonbodyparts) or use a different method.\n",
      "Loading video...\n",
      "Duration of video [s]:  26.07 , recorded @  100.0 fps!\n",
      "Overall # of frames:  2607 with (cropped) frame dimensions: \n",
      "Kmeans-quantization based extracting of frames from 0.0  seconds to 26.07  seconds.\n",
      "Extracting and downsampling... 901  frames from the video.\n"
     ]
    },
    {
     "name": "stderr",
     "output_type": "stream",
     "text": [
      "901it [02:41,  5.59it/s]\n",
      "C:\\Users\\Gordus_Lab\\anaconda3\\envs\\DEEPLABCUT\\lib\\site-packages\\sklearn\\cluster\\_kmeans.py:870: FutureWarning: The default value of `n_init` will change from 3 to 'auto' in 1.4. Set the value of `n_init` explicitly to suppress the warning\n",
      "  warnings.warn(\n"
     ]
    },
    {
     "name": "stdout",
     "output_type": "stream",
     "text": [
      "Kmeans clustering ... (this might take a while)\n",
      "Let's select frames indices: [1888, 2113, 917]\n"
     ]
    },
    {
     "name": "stderr",
     "output_type": "stream",
     "text": [
      "B:\\HsinYi\\DeepLabCut_Anthony\\deeplabcut\\refine_training_dataset\\outlier_frames.py:325: FutureWarning: Using the level keyword in DataFrame and Series aggregations is deprecated and will be removed in a future version. Use groupby instead. df.sum(level=1) should use df.groupby(level=1).sum().\n",
      "  sum_ = temp_dt.sum(axis=1, level=1)\n",
      "B:\\HsinYi\\DeepLabCut_Anthony\\deeplabcut\\refine_training_dataset\\outlier_frames.py:325: FutureWarning: Using the level keyword in DataFrame and Series aggregations is deprecated and will be removed in a future version. Use groupby instead. df.sum(level=1) should use df.groupby(level=1).sum().\n",
      "  sum_ = temp_dt.sum(axis=1, level=1)\n"
     ]
    },
    {
     "name": "stdout",
     "output_type": "stream",
     "text": [
      "Creating the symbolic link of the video\n",
      "AUTOMATIC ADDING OF VIDEO TO CONFIG FILE FAILED! You need to do this manually for including it in the config.yaml file!\n",
      "Videopath: B:\\HsinYi\\DeepLabCut_Anthony/8videos_1400frames_relabled/videos/newvideo_piezo\\030723 Spider Piezo 10Hz-03072023150437-0000.mp4 Coordinates for cropping: None\n",
      "The outlier frames are extracted. They are stored in the subdirectory labeled-data\\030723 Spider Piezo 10Hz-03072023150437-0000.\n",
      "Once you extracted frames for all videos, use 'refine_labels' to manually correct the labels.\n",
      "Method  jump  found  0  putative outlier frames.\n",
      "Do you want to proceed with extracting  3  of those?\n",
      "If this list is very large, perhaps consider changing the parameters (start, stop, p_bound, comparisonbodyparts) or use a different method.\n",
      "Frames from video 030723 Spider Piezo 20Hz Crouched-03072023170432-0000  already extracted (more will be added)!\n",
      "Loading video...\n",
      "Duration of video [s]:  9.98 , recorded @  100.0 fps!\n",
      "Overall # of frames:  998 with (cropped) frame dimensions: \n",
      "Kmeans-quantization based extracting of frames from 0.0  seconds to 9.98  seconds.\n",
      "Let's select frames indices: []\n",
      "No frames were extracted.\n",
      "Method  jump  found  501  putative outlier frames.\n",
      "Do you want to proceed with extracting  3  of those?\n",
      "If this list is very large, perhaps consider changing the parameters (start, stop, p_bound, comparisonbodyparts) or use a different method.\n",
      "Loading video...\n",
      "Duration of video [s]:  26.52 , recorded @  100.0 fps!\n",
      "Overall # of frames:  2652 with (cropped) frame dimensions: \n",
      "Kmeans-quantization based extracting of frames from 0.0  seconds to 26.52  seconds.\n",
      "Extracting and downsampling... 501  frames from the video.\n"
     ]
    },
    {
     "name": "stderr",
     "output_type": "stream",
     "text": [
      "501it [01:22,  6.04it/s]\n",
      "C:\\Users\\Gordus_Lab\\anaconda3\\envs\\DEEPLABCUT\\lib\\site-packages\\sklearn\\cluster\\_kmeans.py:870: FutureWarning: The default value of `n_init` will change from 3 to 'auto' in 1.4. Set the value of `n_init` explicitly to suppress the warning\n",
      "  warnings.warn(\n"
     ]
    },
    {
     "name": "stdout",
     "output_type": "stream",
     "text": [
      "Kmeans clustering ... (this might take a while)\n",
      "Let's select frames indices: [297, 6, 2072]\n"
     ]
    },
    {
     "name": "stderr",
     "output_type": "stream",
     "text": [
      "B:\\HsinYi\\DeepLabCut_Anthony\\deeplabcut\\refine_training_dataset\\outlier_frames.py:325: FutureWarning: Using the level keyword in DataFrame and Series aggregations is deprecated and will be removed in a future version. Use groupby instead. df.sum(level=1) should use df.groupby(level=1).sum().\n",
      "  sum_ = temp_dt.sum(axis=1, level=1)\n"
     ]
    },
    {
     "name": "stdout",
     "output_type": "stream",
     "text": [
      "Creating the symbolic link of the video\n",
      "AUTOMATIC ADDING OF VIDEO TO CONFIG FILE FAILED! You need to do this manually for including it in the config.yaml file!\n",
      "Videopath: B:\\HsinYi\\DeepLabCut_Anthony/8videos_1400frames_relabled/videos/newvideo_piezo\\030723 Spider Piezo 20Hz-03072023151119-0000.mp4 Coordinates for cropping: None\n",
      "The outlier frames are extracted. They are stored in the subdirectory labeled-data\\030723 Spider Piezo 20Hz-03072023151119-0000.\n",
      "Once you extracted frames for all videos, use 'refine_labels' to manually correct the labels.\n",
      "Method  jump  found  17  putative outlier frames.\n",
      "Do you want to proceed with extracting  3  of those?\n",
      "If this list is very large, perhaps consider changing the parameters (start, stop, p_bound, comparisonbodyparts) or use a different method.\n",
      "Loading video...\n",
      "Duration of video [s]:  11.77 , recorded @  100.0 fps!\n",
      "Overall # of frames:  1177 with (cropped) frame dimensions: \n",
      "Kmeans-quantization based extracting of frames from 0.0  seconds to 11.77  seconds.\n",
      "Extracting and downsampling... 17  frames from the video.\n"
     ]
    },
    {
     "name": "stderr",
     "output_type": "stream",
     "text": [
      "17it [00:02,  6.91it/s]\n",
      "C:\\Users\\Gordus_Lab\\anaconda3\\envs\\DEEPLABCUT\\lib\\site-packages\\sklearn\\cluster\\_kmeans.py:870: FutureWarning: The default value of `n_init` will change from 3 to 'auto' in 1.4. Set the value of `n_init` explicitly to suppress the warning\n",
      "  warnings.warn(\n"
     ]
    },
    {
     "name": "stdout",
     "output_type": "stream",
     "text": [
      "Kmeans clustering ... (this might take a while)\n",
      "Let's select frames indices: [873, 441, 17]\n"
     ]
    },
    {
     "name": "stderr",
     "output_type": "stream",
     "text": [
      "B:\\HsinYi\\DeepLabCut_Anthony\\deeplabcut\\refine_training_dataset\\outlier_frames.py:325: FutureWarning: Using the level keyword in DataFrame and Series aggregations is deprecated and will be removed in a future version. Use groupby instead. df.sum(level=1) should use df.groupby(level=1).sum().\n",
      "  sum_ = temp_dt.sum(axis=1, level=1)\n"
     ]
    },
    {
     "name": "stdout",
     "output_type": "stream",
     "text": [
      "Creating the symbolic link of the video\n",
      "AUTOMATIC ADDING OF VIDEO TO CONFIG FILE FAILED! You need to do this manually for including it in the config.yaml file!\n",
      "Videopath: B:\\HsinYi\\DeepLabCut_Anthony/8videos_1400frames_relabled/videos/newvideo_piezo\\030723 Spider Piezo 30Hz Crouched-03072023170717-0000.mp4 Coordinates for cropping: None\n",
      "The outlier frames are extracted. They are stored in the subdirectory labeled-data\\030723 Spider Piezo 30Hz Crouched-03072023170717-0000.\n",
      "Once you extracted frames for all videos, use 'refine_labels' to manually correct the labels.\n",
      "Method  jump  found  1315  putative outlier frames.\n",
      "Do you want to proceed with extracting  3  of those?\n",
      "If this list is very large, perhaps consider changing the parameters (start, stop, p_bound, comparisonbodyparts) or use a different method.\n",
      "Loading video...\n",
      "Duration of video [s]:  31.87 , recorded @  100.0 fps!\n",
      "Overall # of frames:  3187 with (cropped) frame dimensions: \n",
      "Kmeans-quantization based extracting of frames from 0.0  seconds to 31.87  seconds.\n",
      "Extracting and downsampling... 1315  frames from the video.\n"
     ]
    },
    {
     "name": "stderr",
     "output_type": "stream",
     "text": [
      "1315it [04:17,  5.11it/s]\n",
      "C:\\Users\\Gordus_Lab\\anaconda3\\envs\\DEEPLABCUT\\lib\\site-packages\\sklearn\\cluster\\_kmeans.py:870: FutureWarning: The default value of `n_init` will change from 3 to 'auto' in 1.4. Set the value of `n_init` explicitly to suppress the warning\n",
      "  warnings.warn(\n"
     ]
    },
    {
     "name": "stdout",
     "output_type": "stream",
     "text": [
      "Kmeans clustering ... (this might take a while)\n",
      "Let's select frames indices: [1767, 2630, 241]\n"
     ]
    },
    {
     "name": "stderr",
     "output_type": "stream",
     "text": [
      "B:\\HsinYi\\DeepLabCut_Anthony\\deeplabcut\\refine_training_dataset\\outlier_frames.py:325: FutureWarning: Using the level keyword in DataFrame and Series aggregations is deprecated and will be removed in a future version. Use groupby instead. df.sum(level=1) should use df.groupby(level=1).sum().\n",
      "  sum_ = temp_dt.sum(axis=1, level=1)\n"
     ]
    },
    {
     "name": "stdout",
     "output_type": "stream",
     "text": [
      "Creating the symbolic link of the video\n",
      "AUTOMATIC ADDING OF VIDEO TO CONFIG FILE FAILED! You need to do this manually for including it in the config.yaml file!\n",
      "Videopath: B:\\HsinYi\\DeepLabCut_Anthony/8videos_1400frames_relabled/videos/newvideo_piezo\\030723 Spider Piezo 30Hz-03072023155707-0000.mp4 Coordinates for cropping: None\n",
      "The outlier frames are extracted. They are stored in the subdirectory labeled-data\\030723 Spider Piezo 30Hz-03072023155707-0000.\n",
      "Once you extracted frames for all videos, use 'refine_labels' to manually correct the labels.\n",
      "Method  jump  found  59  putative outlier frames.\n",
      "Do you want to proceed with extracting  3  of those?\n",
      "If this list is very large, perhaps consider changing the parameters (start, stop, p_bound, comparisonbodyparts) or use a different method.\n",
      "Loading video...\n",
      "Duration of video [s]:  9.94 , recorded @  100.0 fps!\n",
      "Overall # of frames:  994 with (cropped) frame dimensions: \n",
      "Kmeans-quantization based extracting of frames from 0.0  seconds to 9.94  seconds.\n",
      "Extracting and downsampling... 59  frames from the video.\n"
     ]
    },
    {
     "name": "stderr",
     "output_type": "stream",
     "text": [
      "59it [00:10,  5.66it/s]\n",
      "C:\\Users\\Gordus_Lab\\anaconda3\\envs\\DEEPLABCUT\\lib\\site-packages\\sklearn\\cluster\\_kmeans.py:870: FutureWarning: The default value of `n_init` will change from 3 to 'auto' in 1.4. Set the value of `n_init` explicitly to suppress the warning\n",
      "  warnings.warn(\n"
     ]
    },
    {
     "name": "stdout",
     "output_type": "stream",
     "text": [
      "Kmeans clustering ... (this might take a while)\n",
      "Let's select frames indices: [215, 436, 648]\n"
     ]
    },
    {
     "name": "stderr",
     "output_type": "stream",
     "text": [
      "B:\\HsinYi\\DeepLabCut_Anthony\\deeplabcut\\refine_training_dataset\\outlier_frames.py:325: FutureWarning: Using the level keyword in DataFrame and Series aggregations is deprecated and will be removed in a future version. Use groupby instead. df.sum(level=1) should use df.groupby(level=1).sum().\n",
      "  sum_ = temp_dt.sum(axis=1, level=1)\n"
     ]
    },
    {
     "name": "stdout",
     "output_type": "stream",
     "text": [
      "Creating the symbolic link of the video\n",
      "AUTOMATIC ADDING OF VIDEO TO CONFIG FILE FAILED! You need to do this manually for including it in the config.yaml file!\n",
      "Videopath: B:\\HsinYi\\DeepLabCut_Anthony/8videos_1400frames_relabled/videos/newvideo_piezo\\030723 Spider Piezo 40Hz Crouched-03072023171229-0000.mp4 Coordinates for cropping: None\n",
      "The outlier frames are extracted. They are stored in the subdirectory labeled-data\\030723 Spider Piezo 40Hz Crouched-03072023171229-0000.\n",
      "Once you extracted frames for all videos, use 'refine_labels' to manually correct the labels.\n",
      "Method  jump  found  464  putative outlier frames.\n",
      "Do you want to proceed with extracting  3  of those?\n",
      "If this list is very large, perhaps consider changing the parameters (start, stop, p_bound, comparisonbodyparts) or use a different method.\n",
      "Loading video...\n",
      "Duration of video [s]:  35.27 , recorded @  100.0 fps!\n",
      "Overall # of frames:  3527 with (cropped) frame dimensions: \n",
      "Kmeans-quantization based extracting of frames from 0.0  seconds to 35.27  seconds.\n",
      "Extracting and downsampling... 464  frames from the video.\n"
     ]
    },
    {
     "name": "stderr",
     "output_type": "stream",
     "text": [
      "464it [01:02,  7.45it/s]\n",
      "C:\\Users\\Gordus_Lab\\anaconda3\\envs\\DEEPLABCUT\\lib\\site-packages\\sklearn\\cluster\\_kmeans.py:870: FutureWarning: The default value of `n_init` will change from 3 to 'auto' in 1.4. Set the value of `n_init` explicitly to suppress the warning\n",
      "  warnings.warn(\n"
     ]
    },
    {
     "name": "stdout",
     "output_type": "stream",
     "text": [
      "Kmeans clustering ... (this might take a while)\n",
      "Let's select frames indices: [3263, 3470, 3096]\n"
     ]
    },
    {
     "name": "stderr",
     "output_type": "stream",
     "text": [
      "B:\\HsinYi\\DeepLabCut_Anthony\\deeplabcut\\refine_training_dataset\\outlier_frames.py:325: FutureWarning: Using the level keyword in DataFrame and Series aggregations is deprecated and will be removed in a future version. Use groupby instead. df.sum(level=1) should use df.groupby(level=1).sum().\n",
      "  sum_ = temp_dt.sum(axis=1, level=1)\n"
     ]
    },
    {
     "name": "stdout",
     "output_type": "stream",
     "text": [
      "Creating the symbolic link of the video\n",
      "AUTOMATIC ADDING OF VIDEO TO CONFIG FILE FAILED! You need to do this manually for including it in the config.yaml file!\n",
      "Videopath: B:\\HsinYi\\DeepLabCut_Anthony/8videos_1400frames_relabled/videos/newvideo_piezo\\030723 Spider Piezo 40Hz-03072023154727-0000.mp4 Coordinates for cropping: None\n",
      "The outlier frames are extracted. They are stored in the subdirectory labeled-data\\030723 Spider Piezo 40Hz-03072023154727-0000.\n",
      "Once you extracted frames for all videos, use 'refine_labels' to manually correct the labels.\n",
      "Method  jump  found  32  putative outlier frames.\n",
      "Do you want to proceed with extracting  3  of those?\n",
      "If this list is very large, perhaps consider changing the parameters (start, stop, p_bound, comparisonbodyparts) or use a different method.\n",
      "Loading video...\n",
      "Duration of video [s]:  10.79 , recorded @  100.0 fps!\n",
      "Overall # of frames:  1079 with (cropped) frame dimensions: \n",
      "Kmeans-quantization based extracting of frames from 0.0  seconds to 10.79  seconds.\n",
      "Extracting and downsampling... 32  frames from the video.\n"
     ]
    },
    {
     "name": "stderr",
     "output_type": "stream",
     "text": [
      "32it [00:02, 11.17it/s]\n",
      "C:\\Users\\Gordus_Lab\\anaconda3\\envs\\DEEPLABCUT\\lib\\site-packages\\sklearn\\cluster\\_kmeans.py:870: FutureWarning: The default value of `n_init` will change from 3 to 'auto' in 1.4. Set the value of `n_init` explicitly to suppress the warning\n",
      "  warnings.warn(\n"
     ]
    },
    {
     "name": "stdout",
     "output_type": "stream",
     "text": [
      "Kmeans clustering ... (this might take a while)\n",
      "Let's select frames indices: [87, 731, 152]\n"
     ]
    },
    {
     "name": "stderr",
     "output_type": "stream",
     "text": [
      "B:\\HsinYi\\DeepLabCut_Anthony\\deeplabcut\\refine_training_dataset\\outlier_frames.py:325: FutureWarning: Using the level keyword in DataFrame and Series aggregations is deprecated and will be removed in a future version. Use groupby instead. df.sum(level=1) should use df.groupby(level=1).sum().\n",
      "  sum_ = temp_dt.sum(axis=1, level=1)\n"
     ]
    },
    {
     "name": "stdout",
     "output_type": "stream",
     "text": [
      "Creating the symbolic link of the video\n",
      "AUTOMATIC ADDING OF VIDEO TO CONFIG FILE FAILED! You need to do this manually for including it in the config.yaml file!\n",
      "Videopath: B:\\HsinYi\\DeepLabCut_Anthony/8videos_1400frames_relabled/videos/newvideo_piezo\\030723 Spider Piezo 50Hz Crouched-03072023171749-0000.mp4 Coordinates for cropping: None\n",
      "The outlier frames are extracted. They are stored in the subdirectory labeled-data\\030723 Spider Piezo 50Hz Crouched-03072023171749-0000.\n",
      "Once you extracted frames for all videos, use 'refine_labels' to manually correct the labels.\n",
      "Method  jump  found  895  putative outlier frames.\n",
      "Do you want to proceed with extracting  3  of those?\n",
      "If this list is very large, perhaps consider changing the parameters (start, stop, p_bound, comparisonbodyparts) or use a different method.\n",
      "Loading video...\n",
      "Duration of video [s]:  37.42 , recorded @  100.0 fps!\n",
      "Overall # of frames:  3742 with (cropped) frame dimensions: \n",
      "Kmeans-quantization based extracting of frames from 0.0  seconds to 37.42  seconds.\n",
      "Extracting and downsampling... 895  frames from the video.\n"
     ]
    },
    {
     "name": "stderr",
     "output_type": "stream",
     "text": [
      "895it [03:18,  4.51it/s]\n",
      "C:\\Users\\Gordus_Lab\\anaconda3\\envs\\DEEPLABCUT\\lib\\site-packages\\sklearn\\cluster\\_kmeans.py:870: FutureWarning: The default value of `n_init` will change from 3 to 'auto' in 1.4. Set the value of `n_init` explicitly to suppress the warning\n",
      "  warnings.warn(\n"
     ]
    },
    {
     "name": "stdout",
     "output_type": "stream",
     "text": [
      "Kmeans clustering ... (this might take a while)\n",
      "Let's select frames indices: [2368, 1632, 1675]\n"
     ]
    },
    {
     "name": "stderr",
     "output_type": "stream",
     "text": [
      "B:\\HsinYi\\DeepLabCut_Anthony\\deeplabcut\\refine_training_dataset\\outlier_frames.py:325: FutureWarning: Using the level keyword in DataFrame and Series aggregations is deprecated and will be removed in a future version. Use groupby instead. df.sum(level=1) should use df.groupby(level=1).sum().\n",
      "  sum_ = temp_dt.sum(axis=1, level=1)\n"
     ]
    },
    {
     "name": "stdout",
     "output_type": "stream",
     "text": [
      "Creating the symbolic link of the video\n",
      "AUTOMATIC ADDING OF VIDEO TO CONFIG FILE FAILED! You need to do this manually for including it in the config.yaml file!\n",
      "Videopath: B:\\HsinYi\\DeepLabCut_Anthony/8videos_1400frames_relabled/videos/newvideo_piezo\\030723 Spider Piezo 50Hz-03072023144612-0000.mp4 Coordinates for cropping: None\n",
      "The outlier frames are extracted. They are stored in the subdirectory labeled-data\\030723 Spider Piezo 50Hz-03072023144612-0000.\n",
      "Once you extracted frames for all videos, use 'refine_labels' to manually correct the labels.\n",
      "Method  jump  found  56  putative outlier frames.\n",
      "Do you want to proceed with extracting  3  of those?\n",
      "If this list is very large, perhaps consider changing the parameters (start, stop, p_bound, comparisonbodyparts) or use a different method.\n",
      "Loading video...\n",
      "Duration of video [s]:  9.73 , recorded @  100.0 fps!\n",
      "Overall # of frames:  973 with (cropped) frame dimensions: \n",
      "Kmeans-quantization based extracting of frames from 0.0  seconds to 9.73  seconds.\n",
      "Extracting and downsampling... 56  frames from the video.\n"
     ]
    },
    {
     "name": "stderr",
     "output_type": "stream",
     "text": [
      "56it [00:10,  5.35it/s]\n",
      "C:\\Users\\Gordus_Lab\\anaconda3\\envs\\DEEPLABCUT\\lib\\site-packages\\sklearn\\cluster\\_kmeans.py:870: FutureWarning: The default value of `n_init` will change from 3 to 'auto' in 1.4. Set the value of `n_init` explicitly to suppress the warning\n",
      "  warnings.warn(\n"
     ]
    },
    {
     "name": "stdout",
     "output_type": "stream",
     "text": [
      "Kmeans clustering ... (this might take a while)\n",
      "Let's select frames indices: [823, 835, 421]\n"
     ]
    },
    {
     "name": "stderr",
     "output_type": "stream",
     "text": [
      "B:\\HsinYi\\DeepLabCut_Anthony\\deeplabcut\\refine_training_dataset\\outlier_frames.py:325: FutureWarning: Using the level keyword in DataFrame and Series aggregations is deprecated and will be removed in a future version. Use groupby instead. df.sum(level=1) should use df.groupby(level=1).sum().\n",
      "  sum_ = temp_dt.sum(axis=1, level=1)\n"
     ]
    },
    {
     "name": "stdout",
     "output_type": "stream",
     "text": [
      "Creating the symbolic link of the video\n",
      "AUTOMATIC ADDING OF VIDEO TO CONFIG FILE FAILED! You need to do this manually for including it in the config.yaml file!\n",
      "Videopath: B:\\HsinYi\\DeepLabCut_Anthony/8videos_1400frames_relabled/videos/newvideo_piezo\\030723 Spider Piezo 5Hz Crouched-03072023172918-0000.mp4 Coordinates for cropping: None\n",
      "The outlier frames are extracted. They are stored in the subdirectory labeled-data\\030723 Spider Piezo 5Hz Crouched-03072023172918-0000.\n",
      "Once you extracted frames for all videos, use 'refine_labels' to manually correct the labels.\n",
      "Method  jump  found  26  putative outlier frames.\n",
      "Do you want to proceed with extracting  3  of those?\n",
      "If this list is very large, perhaps consider changing the parameters (start, stop, p_bound, comparisonbodyparts) or use a different method.\n",
      "Loading video...\n",
      "Duration of video [s]:  11.76 , recorded @  100.0 fps!\n",
      "Overall # of frames:  1176 with (cropped) frame dimensions: \n",
      "Kmeans-quantization based extracting of frames from 0.0  seconds to 11.76  seconds.\n",
      "Extracting and downsampling... 26  frames from the video.\n"
     ]
    },
    {
     "name": "stderr",
     "output_type": "stream",
     "text": [
      "26it [00:04,  6.25it/s]\n",
      "C:\\Users\\Gordus_Lab\\anaconda3\\envs\\DEEPLABCUT\\lib\\site-packages\\sklearn\\cluster\\_kmeans.py:870: FutureWarning: The default value of `n_init` will change from 3 to 'auto' in 1.4. Set the value of `n_init` explicitly to suppress the warning\n",
      "  warnings.warn(\n"
     ]
    },
    {
     "name": "stdout",
     "output_type": "stream",
     "text": [
      "Kmeans clustering ... (this might take a while)\n",
      "Let's select frames indices: [904, 189, 45]\n"
     ]
    },
    {
     "name": "stderr",
     "output_type": "stream",
     "text": [
      "B:\\HsinYi\\DeepLabCut_Anthony\\deeplabcut\\refine_training_dataset\\outlier_frames.py:325: FutureWarning: Using the level keyword in DataFrame and Series aggregations is deprecated and will be removed in a future version. Use groupby instead. df.sum(level=1) should use df.groupby(level=1).sum().\n",
      "  sum_ = temp_dt.sum(axis=1, level=1)\n"
     ]
    },
    {
     "name": "stdout",
     "output_type": "stream",
     "text": [
      "Creating the symbolic link of the video\n",
      "AUTOMATIC ADDING OF VIDEO TO CONFIG FILE FAILED! You need to do this manually for including it in the config.yaml file!\n",
      "Videopath: B:\\HsinYi\\DeepLabCut_Anthony/8videos_1400frames_relabled/videos/newvideo_piezo\\030723 Spider Piezo 5Hz Crouched_2-03072023165128-0000.mp4 Coordinates for cropping: None\n",
      "The outlier frames are extracted. They are stored in the subdirectory labeled-data\\030723 Spider Piezo 5Hz Crouched_2-03072023165128-0000.\n",
      "Once you extracted frames for all videos, use 'refine_labels' to manually correct the labels.\n",
      "Method  jump  found  702  putative outlier frames.\n",
      "Do you want to proceed with extracting  3  of those?\n",
      "If this list is very large, perhaps consider changing the parameters (start, stop, p_bound, comparisonbodyparts) or use a different method.\n",
      "Loading video...\n",
      "Duration of video [s]:  18.15 , recorded @  100.0 fps!\n",
      "Overall # of frames:  1815 with (cropped) frame dimensions: \n",
      "Kmeans-quantization based extracting of frames from 0.0  seconds to 18.15  seconds.\n",
      "Extracting and downsampling... 702  frames from the video.\n"
     ]
    },
    {
     "name": "stderr",
     "output_type": "stream",
     "text": [
      "702it [01:56,  6.02it/s]\n",
      "C:\\Users\\Gordus_Lab\\anaconda3\\envs\\DEEPLABCUT\\lib\\site-packages\\sklearn\\cluster\\_kmeans.py:870: FutureWarning: The default value of `n_init` will change from 3 to 'auto' in 1.4. Set the value of `n_init` explicitly to suppress the warning\n",
      "  warnings.warn(\n"
     ]
    },
    {
     "name": "stdout",
     "output_type": "stream",
     "text": [
      "Kmeans clustering ... (this might take a while)\n",
      "Let's select frames indices: [1198, 310, 1387]\n"
     ]
    },
    {
     "name": "stderr",
     "output_type": "stream",
     "text": [
      "B:\\HsinYi\\DeepLabCut_Anthony\\deeplabcut\\refine_training_dataset\\outlier_frames.py:325: FutureWarning: Using the level keyword in DataFrame and Series aggregations is deprecated and will be removed in a future version. Use groupby instead. df.sum(level=1) should use df.groupby(level=1).sum().\n",
      "  sum_ = temp_dt.sum(axis=1, level=1)\n",
      "B:\\HsinYi\\DeepLabCut_Anthony\\deeplabcut\\refine_training_dataset\\outlier_frames.py:325: FutureWarning: Using the level keyword in DataFrame and Series aggregations is deprecated and will be removed in a future version. Use groupby instead. df.sum(level=1) should use df.groupby(level=1).sum().\n",
      "  sum_ = temp_dt.sum(axis=1, level=1)\n"
     ]
    },
    {
     "name": "stdout",
     "output_type": "stream",
     "text": [
      "Creating the symbolic link of the video\n",
      "AUTOMATIC ADDING OF VIDEO TO CONFIG FILE FAILED! You need to do this manually for including it in the config.yaml file!\n",
      "Videopath: B:\\HsinYi\\DeepLabCut_Anthony/8videos_1400frames_relabled/videos/newvideo_piezo\\030723 Spider Piezo 5Hz-03072023143912-0000.mp4 Coordinates for cropping: None\n",
      "The outlier frames are extracted. They are stored in the subdirectory labeled-data\\030723 Spider Piezo 5Hz-03072023143912-0000.\n",
      "Once you extracted frames for all videos, use 'refine_labels' to manually correct the labels.\n",
      "Method  jump  found  0  putative outlier frames.\n",
      "Do you want to proceed with extracting  3  of those?\n",
      "If this list is very large, perhaps consider changing the parameters (start, stop, p_bound, comparisonbodyparts) or use a different method.\n",
      "Frames from video 030923 Spider Piezo 100Hz Crouched-03092023170132-0000  already extracted (more will be added)!\n",
      "Loading video...\n",
      "Duration of video [s]:  10.39 , recorded @  100.0 fps!\n",
      "Overall # of frames:  1039 with (cropped) frame dimensions: \n",
      "Kmeans-quantization based extracting of frames from 0.0  seconds to 10.39  seconds.\n",
      "Let's select frames indices: []\n",
      "No frames were extracted.\n",
      "Method  jump  found  515  putative outlier frames.\n",
      "Do you want to proceed with extracting  3  of those?\n",
      "If this list is very large, perhaps consider changing the parameters (start, stop, p_bound, comparisonbodyparts) or use a different method.\n",
      "Loading video...\n",
      "Duration of video [s]:  9.25 , recorded @  100.0 fps!\n",
      "Overall # of frames:  925 with (cropped) frame dimensions: \n",
      "Kmeans-quantization based extracting of frames from 0.0  seconds to 9.25  seconds.\n",
      "Extracting and downsampling... 515  frames from the video.\n"
     ]
    },
    {
     "name": "stderr",
     "output_type": "stream",
     "text": [
      "515it [01:56,  4.43it/s]\n",
      "C:\\Users\\Gordus_Lab\\anaconda3\\envs\\DEEPLABCUT\\lib\\site-packages\\sklearn\\cluster\\_kmeans.py:870: FutureWarning: The default value of `n_init` will change from 3 to 'auto' in 1.4. Set the value of `n_init` explicitly to suppress the warning\n",
      "  warnings.warn(\n"
     ]
    },
    {
     "name": "stdout",
     "output_type": "stream",
     "text": [
      "Kmeans clustering ... (this might take a while)\n",
      "Let's select frames indices: [344, 743, 740]\n"
     ]
    },
    {
     "name": "stderr",
     "output_type": "stream",
     "text": [
      "B:\\HsinYi\\DeepLabCut_Anthony\\deeplabcut\\refine_training_dataset\\outlier_frames.py:325: FutureWarning: Using the level keyword in DataFrame and Series aggregations is deprecated and will be removed in a future version. Use groupby instead. df.sum(level=1) should use df.groupby(level=1).sum().\n",
      "  sum_ = temp_dt.sum(axis=1, level=1)\n"
     ]
    },
    {
     "name": "stdout",
     "output_type": "stream",
     "text": [
      "Creating the symbolic link of the video\n",
      "AUTOMATIC ADDING OF VIDEO TO CONFIG FILE FAILED! You need to do this manually for including it in the config.yaml file!\n",
      "Videopath: B:\\HsinYi\\DeepLabCut_Anthony/8videos_1400frames_relabled/videos/newvideo_piezo\\030923 Spider Piezo 100Hz-03092023152248-0000.mp4 Coordinates for cropping: None\n",
      "The outlier frames are extracted. They are stored in the subdirectory labeled-data\\030923 Spider Piezo 100Hz-03092023152248-0000.\n",
      "Once you extracted frames for all videos, use 'refine_labels' to manually correct the labels.\n",
      "Method  jump  found  302  putative outlier frames.\n",
      "Do you want to proceed with extracting  3  of those?\n",
      "If this list is very large, perhaps consider changing the parameters (start, stop, p_bound, comparisonbodyparts) or use a different method.\n",
      "Loading video...\n",
      "Duration of video [s]:  9.56 , recorded @  100.0 fps!\n",
      "Overall # of frames:  956 with (cropped) frame dimensions: \n",
      "Kmeans-quantization based extracting of frames from 0.0  seconds to 9.56  seconds.\n",
      "Extracting and downsampling... 302  frames from the video.\n"
     ]
    },
    {
     "name": "stderr",
     "output_type": "stream",
     "text": [
      "302it [00:59,  5.07it/s]\n",
      "C:\\Users\\Gordus_Lab\\anaconda3\\envs\\DEEPLABCUT\\lib\\site-packages\\sklearn\\cluster\\_kmeans.py:870: FutureWarning: The default value of `n_init` will change from 3 to 'auto' in 1.4. Set the value of `n_init` explicitly to suppress the warning\n",
      "  warnings.warn(\n"
     ]
    },
    {
     "name": "stdout",
     "output_type": "stream",
     "text": [
      "Kmeans clustering ... (this might take a while)\n",
      "Let's select frames indices: [694, 815, 637]\n"
     ]
    },
    {
     "name": "stderr",
     "output_type": "stream",
     "text": [
      "B:\\HsinYi\\DeepLabCut_Anthony\\deeplabcut\\refine_training_dataset\\outlier_frames.py:325: FutureWarning: Using the level keyword in DataFrame and Series aggregations is deprecated and will be removed in a future version. Use groupby instead. df.sum(level=1) should use df.groupby(level=1).sum().\n",
      "  sum_ = temp_dt.sum(axis=1, level=1)\n"
     ]
    },
    {
     "name": "stdout",
     "output_type": "stream",
     "text": [
      "Creating the symbolic link of the video\n",
      "AUTOMATIC ADDING OF VIDEO TO CONFIG FILE FAILED! You need to do this manually for including it in the config.yaml file!\n",
      "Videopath: B:\\HsinYi\\DeepLabCut_Anthony/8videos_1400frames_relabled/videos/newvideo_piezo\\030923 Spider Piezo 10Hz Crouched-03092023181250-0000.mp4 Coordinates for cropping: None\n",
      "The outlier frames are extracted. They are stored in the subdirectory labeled-data\\030923 Spider Piezo 10Hz Crouched-03092023181250-0000.\n",
      "Once you extracted frames for all videos, use 'refine_labels' to manually correct the labels.\n",
      "Method  jump  found  261  putative outlier frames.\n",
      "Do you want to proceed with extracting  3  of those?\n",
      "If this list is very large, perhaps consider changing the parameters (start, stop, p_bound, comparisonbodyparts) or use a different method.\n",
      "Loading video...\n",
      "Duration of video [s]:  9.27 , recorded @  100.0 fps!\n",
      "Overall # of frames:  927 with (cropped) frame dimensions: \n",
      "Kmeans-quantization based extracting of frames from 0.0  seconds to 9.27  seconds.\n",
      "Extracting and downsampling... 261  frames from the video.\n"
     ]
    },
    {
     "name": "stderr",
     "output_type": "stream",
     "text": [
      "261it [00:42,  6.13it/s]\n",
      "C:\\Users\\Gordus_Lab\\anaconda3\\envs\\DEEPLABCUT\\lib\\site-packages\\sklearn\\cluster\\_kmeans.py:870: FutureWarning: The default value of `n_init` will change from 3 to 'auto' in 1.4. Set the value of `n_init` explicitly to suppress the warning\n",
      "  warnings.warn(\n"
     ]
    },
    {
     "name": "stdout",
     "output_type": "stream",
     "text": [
      "Kmeans clustering ... (this might take a while)\n",
      "Let's select frames indices: [562, 149, 260]\n"
     ]
    },
    {
     "name": "stderr",
     "output_type": "stream",
     "text": [
      "B:\\HsinYi\\DeepLabCut_Anthony\\deeplabcut\\refine_training_dataset\\outlier_frames.py:325: FutureWarning: Using the level keyword in DataFrame and Series aggregations is deprecated and will be removed in a future version. Use groupby instead. df.sum(level=1) should use df.groupby(level=1).sum().\n",
      "  sum_ = temp_dt.sum(axis=1, level=1)\n"
     ]
    },
    {
     "name": "stdout",
     "output_type": "stream",
     "text": [
      "Creating the symbolic link of the video\n",
      "AUTOMATIC ADDING OF VIDEO TO CONFIG FILE FAILED! You need to do this manually for including it in the config.yaml file!\n",
      "Videopath: B:\\HsinYi\\DeepLabCut_Anthony/8videos_1400frames_relabled/videos/newvideo_piezo\\030923 Spider Piezo 10Hz-03092023141055-0000.mp4 Coordinates for cropping: None\n",
      "The outlier frames are extracted. They are stored in the subdirectory labeled-data\\030923 Spider Piezo 10Hz-03092023141055-0000.\n",
      "Once you extracted frames for all videos, use 'refine_labels' to manually correct the labels.\n",
      "Method  jump  found  193  putative outlier frames.\n",
      "Do you want to proceed with extracting  3  of those?\n",
      "If this list is very large, perhaps consider changing the parameters (start, stop, p_bound, comparisonbodyparts) or use a different method.\n",
      "Loading video...\n",
      "Duration of video [s]:  9.88 , recorded @  100.0 fps!\n",
      "Overall # of frames:  988 with (cropped) frame dimensions: \n",
      "Kmeans-quantization based extracting of frames from 0.0  seconds to 9.88  seconds.\n",
      "Extracting and downsampling... 193  frames from the video.\n"
     ]
    },
    {
     "name": "stderr",
     "output_type": "stream",
     "text": [
      "193it [00:40,  4.75it/s]\n",
      "C:\\Users\\Gordus_Lab\\anaconda3\\envs\\DEEPLABCUT\\lib\\site-packages\\sklearn\\cluster\\_kmeans.py:870: FutureWarning: The default value of `n_init` will change from 3 to 'auto' in 1.4. Set the value of `n_init` explicitly to suppress the warning\n",
      "  warnings.warn(\n"
     ]
    },
    {
     "name": "stdout",
     "output_type": "stream",
     "text": [
      "Kmeans clustering ... (this might take a while)\n",
      "Let's select frames indices: [475, 228, 682]\n"
     ]
    },
    {
     "name": "stderr",
     "output_type": "stream",
     "text": [
      "B:\\HsinYi\\DeepLabCut_Anthony\\deeplabcut\\refine_training_dataset\\outlier_frames.py:325: FutureWarning: Using the level keyword in DataFrame and Series aggregations is deprecated and will be removed in a future version. Use groupby instead. df.sum(level=1) should use df.groupby(level=1).sum().\n",
      "  sum_ = temp_dt.sum(axis=1, level=1)\n"
     ]
    },
    {
     "name": "stdout",
     "output_type": "stream",
     "text": [
      "Creating the symbolic link of the video\n",
      "AUTOMATIC ADDING OF VIDEO TO CONFIG FILE FAILED! You need to do this manually for including it in the config.yaml file!\n",
      "Videopath: B:\\HsinYi\\DeepLabCut_Anthony/8videos_1400frames_relabled/videos/newvideo_piezo\\030923 Spider Piezo 20Hz Crouched-03092023181140-0000.mp4 Coordinates for cropping: None\n",
      "The outlier frames are extracted. They are stored in the subdirectory labeled-data\\030923 Spider Piezo 20Hz Crouched-03092023181140-0000.\n",
      "Once you extracted frames for all videos, use 'refine_labels' to manually correct the labels.\n",
      "Method  jump  found  969  putative outlier frames.\n",
      "Do you want to proceed with extracting  3  of those?\n",
      "If this list is very large, perhaps consider changing the parameters (start, stop, p_bound, comparisonbodyparts) or use a different method.\n",
      "Loading video...\n",
      "Duration of video [s]:  36.54 , recorded @  100.0 fps!\n",
      "Overall # of frames:  3654 with (cropped) frame dimensions: \n",
      "Kmeans-quantization based extracting of frames from 0.0  seconds to 36.54  seconds.\n",
      "Extracting and downsampling... 969  frames from the video.\n"
     ]
    },
    {
     "name": "stderr",
     "output_type": "stream",
     "text": [
      "969it [03:25,  4.71it/s]\n",
      "C:\\Users\\Gordus_Lab\\anaconda3\\envs\\DEEPLABCUT\\lib\\site-packages\\sklearn\\cluster\\_kmeans.py:870: FutureWarning: The default value of `n_init` will change from 3 to 'auto' in 1.4. Set the value of `n_init` explicitly to suppress the warning\n",
      "  warnings.warn(\n"
     ]
    },
    {
     "name": "stdout",
     "output_type": "stream",
     "text": [
      "Kmeans clustering ... (this might take a while)\n",
      "Let's select frames indices: [822, 902, 924]\n"
     ]
    },
    {
     "name": "stderr",
     "output_type": "stream",
     "text": [
      "B:\\HsinYi\\DeepLabCut_Anthony\\deeplabcut\\refine_training_dataset\\outlier_frames.py:325: FutureWarning: Using the level keyword in DataFrame and Series aggregations is deprecated and will be removed in a future version. Use groupby instead. df.sum(level=1) should use df.groupby(level=1).sum().\n",
      "  sum_ = temp_dt.sum(axis=1, level=1)\n"
     ]
    },
    {
     "name": "stdout",
     "output_type": "stream",
     "text": [
      "Creating the symbolic link of the video\n",
      "AUTOMATIC ADDING OF VIDEO TO CONFIG FILE FAILED! You need to do this manually for including it in the config.yaml file!\n",
      "Videopath: B:\\HsinYi\\DeepLabCut_Anthony/8videos_1400frames_relabled/videos/newvideo_piezo\\030923 Spider Piezo 20Hz-03092023141422-0000.mp4 Coordinates for cropping: None\n",
      "The outlier frames are extracted. They are stored in the subdirectory labeled-data\\030923 Spider Piezo 20Hz-03092023141422-0000.\n",
      "Once you extracted frames for all videos, use 'refine_labels' to manually correct the labels.\n",
      "Method  jump  found  87  putative outlier frames.\n",
      "Do you want to proceed with extracting  3  of those?\n",
      "If this list is very large, perhaps consider changing the parameters (start, stop, p_bound, comparisonbodyparts) or use a different method.\n",
      "Loading video...\n",
      "Duration of video [s]:  9.45 , recorded @  100.0 fps!\n",
      "Overall # of frames:  945 with (cropped) frame dimensions: \n",
      "Kmeans-quantization based extracting of frames from 0.0  seconds to 9.45  seconds.\n",
      "Extracting and downsampling... 87  frames from the video.\n"
     ]
    },
    {
     "name": "stderr",
     "output_type": "stream",
     "text": [
      "87it [00:08, 10.01it/s]\n",
      "C:\\Users\\Gordus_Lab\\anaconda3\\envs\\DEEPLABCUT\\lib\\site-packages\\sklearn\\cluster\\_kmeans.py:870: FutureWarning: The default value of `n_init` will change from 3 to 'auto' in 1.4. Set the value of `n_init` explicitly to suppress the warning\n",
      "  warnings.warn(\n"
     ]
    },
    {
     "name": "stdout",
     "output_type": "stream",
     "text": [
      "Kmeans clustering ... (this might take a while)\n",
      "Let's select frames indices: [38, 301, 507]\n"
     ]
    },
    {
     "name": "stderr",
     "output_type": "stream",
     "text": [
      "B:\\HsinYi\\DeepLabCut_Anthony\\deeplabcut\\refine_training_dataset\\outlier_frames.py:325: FutureWarning: Using the level keyword in DataFrame and Series aggregations is deprecated and will be removed in a future version. Use groupby instead. df.sum(level=1) should use df.groupby(level=1).sum().\n",
      "  sum_ = temp_dt.sum(axis=1, level=1)\n"
     ]
    },
    {
     "name": "stdout",
     "output_type": "stream",
     "text": [
      "Creating the symbolic link of the video\n",
      "AUTOMATIC ADDING OF VIDEO TO CONFIG FILE FAILED! You need to do this manually for including it in the config.yaml file!\n",
      "Videopath: B:\\HsinYi\\DeepLabCut_Anthony/8videos_1400frames_relabled/videos/newvideo_piezo\\030923 Spider Piezo 30Hz Crouched-03092023172424-0000.mp4 Coordinates for cropping: None\n",
      "The outlier frames are extracted. They are stored in the subdirectory labeled-data\\030923 Spider Piezo 30Hz Crouched-03092023172424-0000.\n",
      "Once you extracted frames for all videos, use 'refine_labels' to manually correct the labels.\n",
      "Method  jump  found  271  putative outlier frames.\n",
      "Do you want to proceed with extracting  3  of those?\n",
      "If this list is very large, perhaps consider changing the parameters (start, stop, p_bound, comparisonbodyparts) or use a different method.\n",
      "Loading video...\n",
      "Duration of video [s]:  9.26 , recorded @  100.0 fps!\n",
      "Overall # of frames:  926 with (cropped) frame dimensions: \n",
      "Kmeans-quantization based extracting of frames from 0.0  seconds to 9.26  seconds.\n",
      "Extracting and downsampling... 271  frames from the video.\n"
     ]
    },
    {
     "name": "stderr",
     "output_type": "stream",
     "text": [
      "271it [01:08,  3.98it/s]\n",
      "C:\\Users\\Gordus_Lab\\anaconda3\\envs\\DEEPLABCUT\\lib\\site-packages\\sklearn\\cluster\\_kmeans.py:870: FutureWarning: The default value of `n_init` will change from 3 to 'auto' in 1.4. Set the value of `n_init` explicitly to suppress the warning\n",
      "  warnings.warn(\n"
     ]
    },
    {
     "name": "stdout",
     "output_type": "stream",
     "text": [
      "Kmeans clustering ... (this might take a while)\n",
      "Let's select frames indices: [714, 752, 689]\n"
     ]
    },
    {
     "name": "stderr",
     "output_type": "stream",
     "text": [
      "B:\\HsinYi\\DeepLabCut_Anthony\\deeplabcut\\refine_training_dataset\\outlier_frames.py:325: FutureWarning: Using the level keyword in DataFrame and Series aggregations is deprecated and will be removed in a future version. Use groupby instead. df.sum(level=1) should use df.groupby(level=1).sum().\n",
      "  sum_ = temp_dt.sum(axis=1, level=1)\n"
     ]
    },
    {
     "name": "stdout",
     "output_type": "stream",
     "text": [
      "Creating the symbolic link of the video\n",
      "AUTOMATIC ADDING OF VIDEO TO CONFIG FILE FAILED! You need to do this manually for including it in the config.yaml file!\n",
      "Videopath: B:\\HsinYi\\DeepLabCut_Anthony/8videos_1400frames_relabled/videos/newvideo_piezo\\030923 Spider Piezo 30Hz-03092023143509-0000.mp4 Coordinates for cropping: None\n",
      "The outlier frames are extracted. They are stored in the subdirectory labeled-data\\030923 Spider Piezo 30Hz-03092023143509-0000.\n",
      "Once you extracted frames for all videos, use 'refine_labels' to manually correct the labels.\n",
      "Method  jump  found  23  putative outlier frames.\n",
      "Do you want to proceed with extracting  3  of those?\n",
      "If this list is very large, perhaps consider changing the parameters (start, stop, p_bound, comparisonbodyparts) or use a different method.\n",
      "Loading video...\n",
      "Duration of video [s]:  9.58 , recorded @  100.0 fps!\n",
      "Overall # of frames:  958 with (cropped) frame dimensions: \n",
      "Kmeans-quantization based extracting of frames from 0.0  seconds to 9.58  seconds.\n",
      "Extracting and downsampling... 23  frames from the video.\n"
     ]
    },
    {
     "name": "stderr",
     "output_type": "stream",
     "text": [
      "23it [00:01, 12.26it/s]\n",
      "C:\\Users\\Gordus_Lab\\anaconda3\\envs\\DEEPLABCUT\\lib\\site-packages\\sklearn\\cluster\\_kmeans.py:870: FutureWarning: The default value of `n_init` will change from 3 to 'auto' in 1.4. Set the value of `n_init` explicitly to suppress the warning\n",
      "  warnings.warn(\n"
     ]
    },
    {
     "name": "stdout",
     "output_type": "stream",
     "text": [
      "Kmeans clustering ... (this might take a while)\n",
      "Let's select frames indices: [4, 203, 210]\n"
     ]
    },
    {
     "name": "stderr",
     "output_type": "stream",
     "text": [
      "B:\\HsinYi\\DeepLabCut_Anthony\\deeplabcut\\refine_training_dataset\\outlier_frames.py:325: FutureWarning: Using the level keyword in DataFrame and Series aggregations is deprecated and will be removed in a future version. Use groupby instead. df.sum(level=1) should use df.groupby(level=1).sum().\n",
      "  sum_ = temp_dt.sum(axis=1, level=1)\n"
     ]
    },
    {
     "name": "stdout",
     "output_type": "stream",
     "text": [
      "Creating the symbolic link of the video\n",
      "AUTOMATIC ADDING OF VIDEO TO CONFIG FILE FAILED! You need to do this manually for including it in the config.yaml file!\n",
      "Videopath: B:\\HsinYi\\DeepLabCut_Anthony/8videos_1400frames_relabled/videos/newvideo_piezo\\030923 Spider Piezo 40Hz Crouched-03092023171633-0000.mp4 Coordinates for cropping: None\n",
      "The outlier frames are extracted. They are stored in the subdirectory labeled-data\\030923 Spider Piezo 40Hz Crouched-03092023171633-0000.\n",
      "Once you extracted frames for all videos, use 'refine_labels' to manually correct the labels.\n",
      "Method  jump  found  501  putative outlier frames.\n",
      "Do you want to proceed with extracting  3  of those?\n",
      "If this list is very large, perhaps consider changing the parameters (start, stop, p_bound, comparisonbodyparts) or use a different method.\n",
      "Loading video...\n",
      "Duration of video [s]:  8.99 , recorded @  100.0 fps!\n",
      "Overall # of frames:  899 with (cropped) frame dimensions: \n",
      "Kmeans-quantization based extracting of frames from 0.0  seconds to 8.99  seconds.\n",
      "Extracting and downsampling... 501  frames from the video.\n"
     ]
    },
    {
     "name": "stderr",
     "output_type": "stream",
     "text": [
      "501it [01:34,  5.32it/s]\n",
      "C:\\Users\\Gordus_Lab\\anaconda3\\envs\\DEEPLABCUT\\lib\\site-packages\\sklearn\\cluster\\_kmeans.py:870: FutureWarning: The default value of `n_init` will change from 3 to 'auto' in 1.4. Set the value of `n_init` explicitly to suppress the warning\n",
      "  warnings.warn(\n"
     ]
    },
    {
     "name": "stdout",
     "output_type": "stream",
     "text": [
      "Kmeans clustering ... (this might take a while)\n",
      "Let's select frames indices: [652, 873, 208]\n"
     ]
    },
    {
     "name": "stderr",
     "output_type": "stream",
     "text": [
      "B:\\HsinYi\\DeepLabCut_Anthony\\deeplabcut\\refine_training_dataset\\outlier_frames.py:325: FutureWarning: Using the level keyword in DataFrame and Series aggregations is deprecated and will be removed in a future version. Use groupby instead. df.sum(level=1) should use df.groupby(level=1).sum().\n",
      "  sum_ = temp_dt.sum(axis=1, level=1)\n"
     ]
    },
    {
     "name": "stdout",
     "output_type": "stream",
     "text": [
      "Creating the symbolic link of the video\n",
      "AUTOMATIC ADDING OF VIDEO TO CONFIG FILE FAILED! You need to do this manually for including it in the config.yaml file!\n",
      "Videopath: B:\\HsinYi\\DeepLabCut_Anthony/8videos_1400frames_relabled/videos/newvideo_piezo\\030923 Spider Piezo 40Hz-03092023144831-0000.mp4 Coordinates for cropping: None\n",
      "The outlier frames are extracted. They are stored in the subdirectory labeled-data\\030923 Spider Piezo 40Hz-03092023144831-0000.\n",
      "Once you extracted frames for all videos, use 'refine_labels' to manually correct the labels.\n",
      "Method  jump  found  163  putative outlier frames.\n",
      "Do you want to proceed with extracting  3  of those?\n",
      "If this list is very large, perhaps consider changing the parameters (start, stop, p_bound, comparisonbodyparts) or use a different method.\n",
      "Loading video...\n",
      "Duration of video [s]:  9.65 , recorded @  100.0 fps!\n",
      "Overall # of frames:  965 with (cropped) frame dimensions: \n",
      "Kmeans-quantization based extracting of frames from 0.0  seconds to 9.65  seconds.\n",
      "Extracting and downsampling... 163  frames from the video.\n"
     ]
    },
    {
     "name": "stderr",
     "output_type": "stream",
     "text": [
      "163it [00:29,  5.47it/s]\n",
      "C:\\Users\\Gordus_Lab\\anaconda3\\envs\\DEEPLABCUT\\lib\\site-packages\\sklearn\\cluster\\_kmeans.py:870: FutureWarning: The default value of `n_init` will change from 3 to 'auto' in 1.4. Set the value of `n_init` explicitly to suppress the warning\n",
      "  warnings.warn(\n"
     ]
    },
    {
     "name": "stdout",
     "output_type": "stream",
     "text": [
      "Kmeans clustering ... (this might take a while)\n",
      "Let's select frames indices: [522, 213, 120]\n"
     ]
    },
    {
     "name": "stderr",
     "output_type": "stream",
     "text": [
      "B:\\HsinYi\\DeepLabCut_Anthony\\deeplabcut\\refine_training_dataset\\outlier_frames.py:325: FutureWarning: Using the level keyword in DataFrame and Series aggregations is deprecated and will be removed in a future version. Use groupby instead. df.sum(level=1) should use df.groupby(level=1).sum().\n",
      "  sum_ = temp_dt.sum(axis=1, level=1)\n"
     ]
    },
    {
     "name": "stdout",
     "output_type": "stream",
     "text": [
      "Creating the symbolic link of the video\n",
      "AUTOMATIC ADDING OF VIDEO TO CONFIG FILE FAILED! You need to do this manually for including it in the config.yaml file!\n",
      "Videopath: B:\\HsinYi\\DeepLabCut_Anthony/8videos_1400frames_relabled/videos/newvideo_piezo\\030923 Spider Piezo 50Hz Crouched-03092023170822-0000.mp4 Coordinates for cropping: None\n",
      "The outlier frames are extracted. They are stored in the subdirectory labeled-data\\030923 Spider Piezo 50Hz Crouched-03092023170822-0000.\n",
      "Once you extracted frames for all videos, use 'refine_labels' to manually correct the labels.\n",
      "Method  jump  found  220  putative outlier frames.\n",
      "Do you want to proceed with extracting  3  of those?\n",
      "If this list is very large, perhaps consider changing the parameters (start, stop, p_bound, comparisonbodyparts) or use a different method.\n",
      "Loading video...\n",
      "Duration of video [s]:  12.98 , recorded @  100.0 fps!\n",
      "Overall # of frames:  1298 with (cropped) frame dimensions: \n",
      "Kmeans-quantization based extracting of frames from 0.0  seconds to 12.98  seconds.\n",
      "Extracting and downsampling... 220  frames from the video.\n"
     ]
    },
    {
     "name": "stderr",
     "output_type": "stream",
     "text": [
      "220it [00:17, 12.32it/s]\n",
      "C:\\Users\\Gordus_Lab\\anaconda3\\envs\\DEEPLABCUT\\lib\\site-packages\\sklearn\\cluster\\_kmeans.py:870: FutureWarning: The default value of `n_init` will change from 3 to 'auto' in 1.4. Set the value of `n_init` explicitly to suppress the warning\n",
      "  warnings.warn(\n"
     ]
    },
    {
     "name": "stdout",
     "output_type": "stream",
     "text": [
      "Kmeans clustering ... (this might take a while)\n",
      "Let's select frames indices: [1146, 1235, 1080]\n"
     ]
    },
    {
     "name": "stderr",
     "output_type": "stream",
     "text": [
      "B:\\HsinYi\\DeepLabCut_Anthony\\deeplabcut\\refine_training_dataset\\outlier_frames.py:325: FutureWarning: Using the level keyword in DataFrame and Series aggregations is deprecated and will be removed in a future version. Use groupby instead. df.sum(level=1) should use df.groupby(level=1).sum().\n",
      "  sum_ = temp_dt.sum(axis=1, level=1)\n"
     ]
    },
    {
     "name": "stdout",
     "output_type": "stream",
     "text": [
      "Creating the symbolic link of the video\n",
      "AUTOMATIC ADDING OF VIDEO TO CONFIG FILE FAILED! You need to do this manually for including it in the config.yaml file!\n",
      "Videopath: B:\\HsinYi\\DeepLabCut_Anthony/8videos_1400frames_relabled/videos/newvideo_piezo\\030923 Spider Piezo 50Hz-03092023150211-0000.mp4 Coordinates for cropping: None\n",
      "The outlier frames are extracted. They are stored in the subdirectory labeled-data\\030923 Spider Piezo 50Hz-03092023150211-0000.\n",
      "Once you extracted frames for all videos, use 'refine_labels' to manually correct the labels.\n",
      "Method  jump  found  118  putative outlier frames.\n",
      "Do you want to proceed with extracting  3  of those?\n",
      "If this list is very large, perhaps consider changing the parameters (start, stop, p_bound, comparisonbodyparts) or use a different method.\n",
      "Loading video...\n",
      "Duration of video [s]:  9.65 , recorded @  100.0 fps!\n",
      "Overall # of frames:  965 with (cropped) frame dimensions: \n",
      "Kmeans-quantization based extracting of frames from 0.0  seconds to 9.65  seconds.\n",
      "Extracting and downsampling... 118  frames from the video.\n"
     ]
    },
    {
     "name": "stderr",
     "output_type": "stream",
     "text": [
      "118it [00:16,  7.30it/s]\n",
      "C:\\Users\\Gordus_Lab\\anaconda3\\envs\\DEEPLABCUT\\lib\\site-packages\\sklearn\\cluster\\_kmeans.py:870: FutureWarning: The default value of `n_init` will change from 3 to 'auto' in 1.4. Set the value of `n_init` explicitly to suppress the warning\n",
      "  warnings.warn(\n"
     ]
    },
    {
     "name": "stdout",
     "output_type": "stream",
     "text": [
      "Kmeans clustering ... (this might take a while)\n",
      "Let's select frames indices: [662, 579, 7]\n"
     ]
    },
    {
     "name": "stderr",
     "output_type": "stream",
     "text": [
      "B:\\HsinYi\\DeepLabCut_Anthony\\deeplabcut\\refine_training_dataset\\outlier_frames.py:325: FutureWarning: Using the level keyword in DataFrame and Series aggregations is deprecated and will be removed in a future version. Use groupby instead. df.sum(level=1) should use df.groupby(level=1).sum().\n",
      "  sum_ = temp_dt.sum(axis=1, level=1)\n"
     ]
    },
    {
     "name": "stdout",
     "output_type": "stream",
     "text": [
      "Creating the symbolic link of the video\n",
      "AUTOMATIC ADDING OF VIDEO TO CONFIG FILE FAILED! You need to do this manually for including it in the config.yaml file!\n",
      "Videopath: B:\\HsinYi\\DeepLabCut_Anthony/8videos_1400frames_relabled/videos/newvideo_piezo\\030923 Spider Piezo 5Hz Crouched-03092023181424-0000.mp4 Coordinates for cropping: None\n",
      "The outlier frames are extracted. They are stored in the subdirectory labeled-data\\030923 Spider Piezo 5Hz Crouched-03092023181424-0000.\n",
      "Once you extracted frames for all videos, use 'refine_labels' to manually correct the labels.\n",
      "Method  jump  found  161  putative outlier frames.\n",
      "Do you want to proceed with extracting  3  of those?\n",
      "If this list is very large, perhaps consider changing the parameters (start, stop, p_bound, comparisonbodyparts) or use a different method.\n",
      "Loading video...\n",
      "Duration of video [s]:  9.21 , recorded @  100.0 fps!\n",
      "Overall # of frames:  921 with (cropped) frame dimensions: \n",
      "Kmeans-quantization based extracting of frames from 0.0  seconds to 9.21  seconds.\n",
      "Extracting and downsampling... 161  frames from the video.\n"
     ]
    },
    {
     "name": "stderr",
     "output_type": "stream",
     "text": [
      "161it [00:27,  5.84it/s]\n",
      "C:\\Users\\Gordus_Lab\\anaconda3\\envs\\DEEPLABCUT\\lib\\site-packages\\sklearn\\cluster\\_kmeans.py:870: FutureWarning: The default value of `n_init` will change from 3 to 'auto' in 1.4. Set the value of `n_init` explicitly to suppress the warning\n",
      "  warnings.warn(\n"
     ]
    },
    {
     "name": "stdout",
     "output_type": "stream",
     "text": [
      "Kmeans clustering ... (this might take a while)\n",
      "Let's select frames indices: [692, 363, 284]\n"
     ]
    },
    {
     "name": "stderr",
     "output_type": "stream",
     "text": [
      "B:\\HsinYi\\DeepLabCut_Anthony\\deeplabcut\\refine_training_dataset\\outlier_frames.py:325: FutureWarning: Using the level keyword in DataFrame and Series aggregations is deprecated and will be removed in a future version. Use groupby instead. df.sum(level=1) should use df.groupby(level=1).sum().\n",
      "  sum_ = temp_dt.sum(axis=1, level=1)\n"
     ]
    },
    {
     "name": "stdout",
     "output_type": "stream",
     "text": [
      "Creating the symbolic link of the video\n",
      "AUTOMATIC ADDING OF VIDEO TO CONFIG FILE FAILED! You need to do this manually for including it in the config.yaml file!\n",
      "Videopath: B:\\HsinYi\\DeepLabCut_Anthony/8videos_1400frames_relabled/videos/newvideo_piezo\\030923 Spider Piezo 5Hz Nomove-03092023135745-0000.mp4 Coordinates for cropping: None\n",
      "The outlier frames are extracted. They are stored in the subdirectory labeled-data\\030923 Spider Piezo 5Hz Nomove-03092023135745-0000.\n",
      "Once you extracted frames for all videos, use 'refine_labels' to manually correct the labels.\n",
      "Method  jump  found  184  putative outlier frames.\n",
      "Do you want to proceed with extracting  3  of those?\n",
      "If this list is very large, perhaps consider changing the parameters (start, stop, p_bound, comparisonbodyparts) or use a different method.\n",
      "Loading video...\n",
      "Duration of video [s]:  13.42 , recorded @  100.0 fps!\n",
      "Overall # of frames:  1342 with (cropped) frame dimensions: \n",
      "Kmeans-quantization based extracting of frames from 0.0  seconds to 13.42  seconds.\n",
      "Extracting and downsampling... 184  frames from the video.\n"
     ]
    },
    {
     "name": "stderr",
     "output_type": "stream",
     "text": [
      "184it [00:24,  7.62it/s]\n",
      "C:\\Users\\Gordus_Lab\\anaconda3\\envs\\DEEPLABCUT\\lib\\site-packages\\sklearn\\cluster\\_kmeans.py:870: FutureWarning: The default value of `n_init` will change from 3 to 'auto' in 1.4. Set the value of `n_init` explicitly to suppress the warning\n",
      "  warnings.warn(\n"
     ]
    },
    {
     "name": "stdout",
     "output_type": "stream",
     "text": [
      "Kmeans clustering ... (this might take a while)\n",
      "Let's select frames indices: [325, 247, 364]\n"
     ]
    },
    {
     "name": "stderr",
     "output_type": "stream",
     "text": [
      "B:\\HsinYi\\DeepLabCut_Anthony\\deeplabcut\\refine_training_dataset\\outlier_frames.py:325: FutureWarning: Using the level keyword in DataFrame and Series aggregations is deprecated and will be removed in a future version. Use groupby instead. df.sum(level=1) should use df.groupby(level=1).sum().\n",
      "  sum_ = temp_dt.sum(axis=1, level=1)\n"
     ]
    },
    {
     "name": "stdout",
     "output_type": "stream",
     "text": [
      "Creating the symbolic link of the video\n",
      "AUTOMATIC ADDING OF VIDEO TO CONFIG FILE FAILED! You need to do this manually for including it in the config.yaml file!\n",
      "Videopath: B:\\HsinYi\\DeepLabCut_Anthony/8videos_1400frames_relabled/videos/newvideo_piezo\\030923 Spider Piezo 5Hz-03092023154449-0000.mp4 Coordinates for cropping: None\n",
      "The outlier frames are extracted. They are stored in the subdirectory labeled-data\\030923 Spider Piezo 5Hz-03092023154449-0000.\n",
      "Once you extracted frames for all videos, use 'refine_labels' to manually correct the labels.\n",
      "Method  jump  found  113  putative outlier frames.\n",
      "Do you want to proceed with extracting  3  of those?\n",
      "If this list is very large, perhaps consider changing the parameters (start, stop, p_bound, comparisonbodyparts) or use a different method.\n",
      "Loading video...\n",
      "Duration of video [s]:  10.19 , recorded @  100.0 fps!\n",
      "Overall # of frames:  1019 with (cropped) frame dimensions: \n",
      "Kmeans-quantization based extracting of frames from 0.0  seconds to 10.19  seconds.\n",
      "Extracting and downsampling... 113  frames from the video.\n"
     ]
    },
    {
     "name": "stderr",
     "output_type": "stream",
     "text": [
      "113it [00:28,  4.00it/s]\n",
      "C:\\Users\\Gordus_Lab\\anaconda3\\envs\\DEEPLABCUT\\lib\\site-packages\\sklearn\\cluster\\_kmeans.py:870: FutureWarning: The default value of `n_init` will change from 3 to 'auto' in 1.4. Set the value of `n_init` explicitly to suppress the warning\n",
      "  warnings.warn(\n"
     ]
    },
    {
     "name": "stdout",
     "output_type": "stream",
     "text": [
      "Kmeans clustering ... (this might take a while)\n",
      "Let's select frames indices: [540, 674, 728]\n"
     ]
    },
    {
     "name": "stderr",
     "output_type": "stream",
     "text": [
      "B:\\HsinYi\\DeepLabCut_Anthony\\deeplabcut\\refine_training_dataset\\outlier_frames.py:325: FutureWarning: Using the level keyword in DataFrame and Series aggregations is deprecated and will be removed in a future version. Use groupby instead. df.sum(level=1) should use df.groupby(level=1).sum().\n",
      "  sum_ = temp_dt.sum(axis=1, level=1)\n"
     ]
    },
    {
     "name": "stdout",
     "output_type": "stream",
     "text": [
      "Creating the symbolic link of the video\n",
      "AUTOMATIC ADDING OF VIDEO TO CONFIG FILE FAILED! You need to do this manually for including it in the config.yaml file!\n",
      "Videopath: B:\\HsinYi\\DeepLabCut_Anthony/8videos_1400frames_relabled/videos/newvideo_piezo\\031023 Spider Piezo 100Hz Crouched-03102023181017-0000.mp4 Coordinates for cropping: None\n",
      "The outlier frames are extracted. They are stored in the subdirectory labeled-data\\031023 Spider Piezo 100Hz Crouched-03102023181017-0000.\n",
      "Once you extracted frames for all videos, use 'refine_labels' to manually correct the labels.\n",
      "Method  jump  found  569  putative outlier frames.\n",
      "Do you want to proceed with extracting  3  of those?\n",
      "If this list is very large, perhaps consider changing the parameters (start, stop, p_bound, comparisonbodyparts) or use a different method.\n",
      "Loading video...\n",
      "Duration of video [s]:  13.11 , recorded @  100.0 fps!\n",
      "Overall # of frames:  1311 with (cropped) frame dimensions: \n",
      "Kmeans-quantization based extracting of frames from 0.0  seconds to 13.11  seconds.\n",
      "Extracting and downsampling... 569  frames from the video.\n"
     ]
    },
    {
     "name": "stderr",
     "output_type": "stream",
     "text": [
      "569it [01:50,  5.14it/s]\n",
      "C:\\Users\\Gordus_Lab\\anaconda3\\envs\\DEEPLABCUT\\lib\\site-packages\\sklearn\\cluster\\_kmeans.py:870: FutureWarning: The default value of `n_init` will change from 3 to 'auto' in 1.4. Set the value of `n_init` explicitly to suppress the warning\n",
      "  warnings.warn(\n"
     ]
    },
    {
     "name": "stdout",
     "output_type": "stream",
     "text": [
      "Kmeans clustering ... (this might take a while)\n",
      "Let's select frames indices: [1271, 982, 1173]\n"
     ]
    },
    {
     "name": "stderr",
     "output_type": "stream",
     "text": [
      "B:\\HsinYi\\DeepLabCut_Anthony\\deeplabcut\\refine_training_dataset\\outlier_frames.py:325: FutureWarning: Using the level keyword in DataFrame and Series aggregations is deprecated and will be removed in a future version. Use groupby instead. df.sum(level=1) should use df.groupby(level=1).sum().\n",
      "  sum_ = temp_dt.sum(axis=1, level=1)\n",
      "B:\\HsinYi\\DeepLabCut_Anthony\\deeplabcut\\refine_training_dataset\\outlier_frames.py:325: FutureWarning: Using the level keyword in DataFrame and Series aggregations is deprecated and will be removed in a future version. Use groupby instead. df.sum(level=1) should use df.groupby(level=1).sum().\n",
      "  sum_ = temp_dt.sum(axis=1, level=1)\n"
     ]
    },
    {
     "name": "stdout",
     "output_type": "stream",
     "text": [
      "Creating the symbolic link of the video\n",
      "AUTOMATIC ADDING OF VIDEO TO CONFIG FILE FAILED! You need to do this manually for including it in the config.yaml file!\n",
      "Videopath: B:\\HsinYi\\DeepLabCut_Anthony/8videos_1400frames_relabled/videos/newvideo_piezo\\031023 Spider Piezo 100Hz-03102023163506-0000.mp4 Coordinates for cropping: None\n",
      "The outlier frames are extracted. They are stored in the subdirectory labeled-data\\031023 Spider Piezo 100Hz-03102023163506-0000.\n",
      "Once you extracted frames for all videos, use 'refine_labels' to manually correct the labels.\n",
      "Method  jump  found  0  putative outlier frames.\n",
      "Do you want to proceed with extracting  3  of those?\n",
      "If this list is very large, perhaps consider changing the parameters (start, stop, p_bound, comparisonbodyparts) or use a different method.\n",
      "Loading video...\n",
      "Duration of video [s]:  9.3 , recorded @  100.0 fps!\n",
      "Overall # of frames:  930 with (cropped) frame dimensions: \n",
      "Kmeans-quantization based extracting of frames from 0.0  seconds to 9.3  seconds.\n",
      "Let's select frames indices: []\n",
      "No frames were extracted.\n",
      "Method  jump  found  879  putative outlier frames.\n",
      "Do you want to proceed with extracting  3  of those?\n",
      "If this list is very large, perhaps consider changing the parameters (start, stop, p_bound, comparisonbodyparts) or use a different method.\n",
      "Loading video...\n",
      "Duration of video [s]:  15.58 , recorded @  100.0 fps!\n",
      "Overall # of frames:  1558 with (cropped) frame dimensions: \n",
      "Kmeans-quantization based extracting of frames from 0.0  seconds to 15.58  seconds.\n",
      "Extracting and downsampling... 879  frames from the video.\n"
     ]
    },
    {
     "name": "stderr",
     "output_type": "stream",
     "text": [
      "879it [02:36,  5.61it/s]\n",
      "C:\\Users\\Gordus_Lab\\anaconda3\\envs\\DEEPLABCUT\\lib\\site-packages\\sklearn\\cluster\\_kmeans.py:870: FutureWarning: The default value of `n_init` will change from 3 to 'auto' in 1.4. Set the value of `n_init` explicitly to suppress the warning\n",
      "  warnings.warn(\n"
     ]
    },
    {
     "name": "stdout",
     "output_type": "stream",
     "text": [
      "Kmeans clustering ... (this might take a while)\n",
      "Let's select frames indices: [730, 1104, 1228]\n"
     ]
    },
    {
     "name": "stderr",
     "output_type": "stream",
     "text": [
      "B:\\HsinYi\\DeepLabCut_Anthony\\deeplabcut\\refine_training_dataset\\outlier_frames.py:325: FutureWarning: Using the level keyword in DataFrame and Series aggregations is deprecated and will be removed in a future version. Use groupby instead. df.sum(level=1) should use df.groupby(level=1).sum().\n",
      "  sum_ = temp_dt.sum(axis=1, level=1)\n",
      "B:\\HsinYi\\DeepLabCut_Anthony\\deeplabcut\\refine_training_dataset\\outlier_frames.py:325: FutureWarning: Using the level keyword in DataFrame and Series aggregations is deprecated and will be removed in a future version. Use groupby instead. df.sum(level=1) should use df.groupby(level=1).sum().\n",
      "  sum_ = temp_dt.sum(axis=1, level=1)\n"
     ]
    },
    {
     "name": "stdout",
     "output_type": "stream",
     "text": [
      "Creating the symbolic link of the video\n",
      "AUTOMATIC ADDING OF VIDEO TO CONFIG FILE FAILED! You need to do this manually for including it in the config.yaml file!\n",
      "Videopath: B:\\HsinYi\\DeepLabCut_Anthony/8videos_1400frames_relabled/videos/newvideo_piezo\\031023 Spider Piezo 10Hz-03102023150849-0000.mp4 Coordinates for cropping: None\n",
      "The outlier frames are extracted. They are stored in the subdirectory labeled-data\\031023 Spider Piezo 10Hz-03102023150849-0000.\n",
      "Once you extracted frames for all videos, use 'refine_labels' to manually correct the labels.\n",
      "Method  jump  found  0  putative outlier frames.\n",
      "Do you want to proceed with extracting  3  of those?\n",
      "If this list is very large, perhaps consider changing the parameters (start, stop, p_bound, comparisonbodyparts) or use a different method.\n",
      "Loading video...\n",
      "Duration of video [s]:  9.4 , recorded @  100.0 fps!\n",
      "Overall # of frames:  940 with (cropped) frame dimensions: \n",
      "Kmeans-quantization based extracting of frames from 0.0  seconds to 9.4  seconds.\n",
      "Let's select frames indices: []\n",
      "No frames were extracted.\n",
      "Method  jump  found  601  putative outlier frames.\n",
      "Do you want to proceed with extracting  3  of those?\n",
      "If this list is very large, perhaps consider changing the parameters (start, stop, p_bound, comparisonbodyparts) or use a different method.\n",
      "Loading video...\n",
      "Duration of video [s]:  9.28 , recorded @  100.0 fps!\n",
      "Overall # of frames:  928 with (cropped) frame dimensions: \n",
      "Kmeans-quantization based extracting of frames from 0.0  seconds to 9.28  seconds.\n",
      "Extracting and downsampling... 601  frames from the video.\n"
     ]
    },
    {
     "name": "stderr",
     "output_type": "stream",
     "text": [
      "601it [01:57,  5.11it/s]\n",
      "C:\\Users\\Gordus_Lab\\anaconda3\\envs\\DEEPLABCUT\\lib\\site-packages\\sklearn\\cluster\\_kmeans.py:870: FutureWarning: The default value of `n_init` will change from 3 to 'auto' in 1.4. Set the value of `n_init` explicitly to suppress the warning\n",
      "  warnings.warn(\n"
     ]
    },
    {
     "name": "stdout",
     "output_type": "stream",
     "text": [
      "Kmeans clustering ... (this might take a while)\n",
      "Let's select frames indices: [788, 271, 489]\n",
      "Creating the symbolic link of the video\n",
      "AUTOMATIC ADDING OF VIDEO TO CONFIG FILE FAILED! You need to do this manually for including it in the config.yaml file!\n",
      "Videopath: B:\\HsinYi\\DeepLabCut_Anthony/8videos_1400frames_relabled/videos/newvideo_piezo\\031023 Spider Piezo 20Hz-03102023151354-0000.mp4 Coordinates for cropping: None\n",
      "The outlier frames are extracted. They are stored in the subdirectory labeled-data\\031023 Spider Piezo 20Hz-03102023151354-0000.\n",
      "Once you extracted frames for all videos, use 'refine_labels' to manually correct the labels.\n",
      "Method  jump  found  2  putative outlier frames.\n",
      "Do you want to proceed with extracting  3  of those?\n",
      "If this list is very large, perhaps consider changing the parameters (start, stop, p_bound, comparisonbodyparts) or use a different method.\n",
      "Loading video...\n",
      "Duration of video [s]:  9.98 , recorded @  100.0 fps!\n",
      "Overall # of frames:  998 with (cropped) frame dimensions: \n",
      "Kmeans-quantization based extracting of frames from 0.0  seconds to 9.98  seconds.\n",
      "Let's select frames indices: [758, 760]\n"
     ]
    },
    {
     "name": "stderr",
     "output_type": "stream",
     "text": [
      "B:\\HsinYi\\DeepLabCut_Anthony\\deeplabcut\\refine_training_dataset\\outlier_frames.py:325: FutureWarning: Using the level keyword in DataFrame and Series aggregations is deprecated and will be removed in a future version. Use groupby instead. df.sum(level=1) should use df.groupby(level=1).sum().\n",
      "  sum_ = temp_dt.sum(axis=1, level=1)\n",
      "B:\\HsinYi\\DeepLabCut_Anthony\\deeplabcut\\refine_training_dataset\\outlier_frames.py:325: FutureWarning: Using the level keyword in DataFrame and Series aggregations is deprecated and will be removed in a future version. Use groupby instead. df.sum(level=1) should use df.groupby(level=1).sum().\n",
      "  sum_ = temp_dt.sum(axis=1, level=1)\n"
     ]
    },
    {
     "name": "stdout",
     "output_type": "stream",
     "text": [
      "Creating the symbolic link of the video\n",
      "AUTOMATIC ADDING OF VIDEO TO CONFIG FILE FAILED! You need to do this manually for including it in the config.yaml file!\n",
      "Videopath: B:\\HsinYi\\DeepLabCut_Anthony/8videos_1400frames_relabled/videos/newvideo_piezo\\031023 Spider Piezo 30Hz Crouched-03102023180121-0000.mp4 Coordinates for cropping: None\n",
      "The outlier frames are extracted. They are stored in the subdirectory labeled-data\\031023 Spider Piezo 30Hz Crouched-03102023180121-0000.\n",
      "Once you extracted frames for all videos, use 'refine_labels' to manually correct the labels.\n",
      "Method  jump  found  460  putative outlier frames.\n",
      "Do you want to proceed with extracting  3  of those?\n",
      "If this list is very large, perhaps consider changing the parameters (start, stop, p_bound, comparisonbodyparts) or use a different method.\n",
      "Loading video...\n",
      "Duration of video [s]:  9.46 , recorded @  100.0 fps!\n",
      "Overall # of frames:  946 with (cropped) frame dimensions: \n",
      "Kmeans-quantization based extracting of frames from 0.0  seconds to 9.46  seconds.\n",
      "Extracting and downsampling... 460  frames from the video.\n"
     ]
    },
    {
     "name": "stderr",
     "output_type": "stream",
     "text": [
      "460it [01:36,  4.78it/s]\n",
      "C:\\Users\\Gordus_Lab\\anaconda3\\envs\\DEEPLABCUT\\lib\\site-packages\\sklearn\\cluster\\_kmeans.py:870: FutureWarning: The default value of `n_init` will change from 3 to 'auto' in 1.4. Set the value of `n_init` explicitly to suppress the warning\n",
      "  warnings.warn(\n"
     ]
    },
    {
     "name": "stdout",
     "output_type": "stream",
     "text": [
      "Kmeans clustering ... (this might take a while)\n",
      "Let's select frames indices: [816, 490, 306]\n"
     ]
    },
    {
     "name": "stderr",
     "output_type": "stream",
     "text": [
      "B:\\HsinYi\\DeepLabCut_Anthony\\deeplabcut\\refine_training_dataset\\outlier_frames.py:325: FutureWarning: Using the level keyword in DataFrame and Series aggregations is deprecated and will be removed in a future version. Use groupby instead. df.sum(level=1) should use df.groupby(level=1).sum().\n",
      "  sum_ = temp_dt.sum(axis=1, level=1)\n"
     ]
    },
    {
     "name": "stdout",
     "output_type": "stream",
     "text": [
      "Creating the symbolic link of the video\n",
      "AUTOMATIC ADDING OF VIDEO TO CONFIG FILE FAILED! You need to do this manually for including it in the config.yaml file!\n",
      "Videopath: B:\\HsinYi\\DeepLabCut_Anthony/8videos_1400frames_relabled/videos/newvideo_piezo\\031023 Spider Piezo 30Hz-03102023152225-0000.mp4 Coordinates for cropping: None\n",
      "The outlier frames are extracted. They are stored in the subdirectory labeled-data\\031023 Spider Piezo 30Hz-03102023152225-0000.\n",
      "Once you extracted frames for all videos, use 'refine_labels' to manually correct the labels.\n",
      "Method  jump  found  205  putative outlier frames.\n",
      "Do you want to proceed with extracting  3  of those?\n",
      "If this list is very large, perhaps consider changing the parameters (start, stop, p_bound, comparisonbodyparts) or use a different method.\n",
      "Loading video...\n",
      "Duration of video [s]:  9.1 , recorded @  100.0 fps!\n",
      "Overall # of frames:  910 with (cropped) frame dimensions: \n",
      "Kmeans-quantization based extracting of frames from 0.0  seconds to 9.1  seconds.\n",
      "Extracting and downsampling... 205  frames from the video.\n"
     ]
    },
    {
     "name": "stderr",
     "output_type": "stream",
     "text": [
      "205it [00:33,  6.10it/s]\n",
      "C:\\Users\\Gordus_Lab\\anaconda3\\envs\\DEEPLABCUT\\lib\\site-packages\\sklearn\\cluster\\_kmeans.py:870: FutureWarning: The default value of `n_init` will change from 3 to 'auto' in 1.4. Set the value of `n_init` explicitly to suppress the warning\n",
      "  warnings.warn(\n"
     ]
    },
    {
     "name": "stdout",
     "output_type": "stream",
     "text": [
      "Kmeans clustering ... (this might take a while)\n",
      "Let's select frames indices: [525, 24, 563]\n"
     ]
    },
    {
     "name": "stderr",
     "output_type": "stream",
     "text": [
      "B:\\HsinYi\\DeepLabCut_Anthony\\deeplabcut\\refine_training_dataset\\outlier_frames.py:325: FutureWarning: Using the level keyword in DataFrame and Series aggregations is deprecated and will be removed in a future version. Use groupby instead. df.sum(level=1) should use df.groupby(level=1).sum().\n",
      "  sum_ = temp_dt.sum(axis=1, level=1)\n"
     ]
    },
    {
     "name": "stdout",
     "output_type": "stream",
     "text": [
      "Creating the symbolic link of the video\n",
      "AUTOMATIC ADDING OF VIDEO TO CONFIG FILE FAILED! You need to do this manually for including it in the config.yaml file!\n",
      "Videopath: B:\\HsinYi\\DeepLabCut_Anthony/8videos_1400frames_relabled/videos/newvideo_piezo\\031023 Spider Piezo 40Hz Crouched-03102023180623-0000.mp4 Coordinates for cropping: None\n",
      "The outlier frames are extracted. They are stored in the subdirectory labeled-data\\031023 Spider Piezo 40Hz Crouched-03102023180623-0000.\n",
      "Once you extracted frames for all videos, use 'refine_labels' to manually correct the labels.\n",
      "Method  jump  found  67  putative outlier frames.\n",
      "Do you want to proceed with extracting  3  of those?\n",
      "If this list is very large, perhaps consider changing the parameters (start, stop, p_bound, comparisonbodyparts) or use a different method.\n",
      "Loading video...\n",
      "Duration of video [s]:  9.34 , recorded @  100.0 fps!\n",
      "Overall # of frames:  934 with (cropped) frame dimensions: \n",
      "Kmeans-quantization based extracting of frames from 0.0  seconds to 9.34  seconds.\n",
      "Extracting and downsampling... 67  frames from the video.\n"
     ]
    },
    {
     "name": "stderr",
     "output_type": "stream",
     "text": [
      "67it [00:09,  7.43it/s]\n",
      "C:\\Users\\Gordus_Lab\\anaconda3\\envs\\DEEPLABCUT\\lib\\site-packages\\sklearn\\cluster\\_kmeans.py:870: FutureWarning: The default value of `n_init` will change from 3 to 'auto' in 1.4. Set the value of `n_init` explicitly to suppress the warning\n",
      "  warnings.warn(\n"
     ]
    },
    {
     "name": "stdout",
     "output_type": "stream",
     "text": [
      "Kmeans clustering ... (this might take a while)\n",
      "Let's select frames indices: [791, 243, 234]\n"
     ]
    },
    {
     "name": "stderr",
     "output_type": "stream",
     "text": [
      "B:\\HsinYi\\DeepLabCut_Anthony\\deeplabcut\\refine_training_dataset\\outlier_frames.py:325: FutureWarning: Using the level keyword in DataFrame and Series aggregations is deprecated and will be removed in a future version. Use groupby instead. df.sum(level=1) should use df.groupby(level=1).sum().\n",
      "  sum_ = temp_dt.sum(axis=1, level=1)\n"
     ]
    },
    {
     "name": "stdout",
     "output_type": "stream",
     "text": [
      "Creating the symbolic link of the video\n",
      "AUTOMATIC ADDING OF VIDEO TO CONFIG FILE FAILED! You need to do this manually for including it in the config.yaml file!\n",
      "Videopath: B:\\HsinYi\\DeepLabCut_Anthony/8videos_1400frames_relabled/videos/newvideo_piezo\\031023 Spider Piezo 40Hz-03102023154111-0000.mp4 Coordinates for cropping: None\n",
      "The outlier frames are extracted. They are stored in the subdirectory labeled-data\\031023 Spider Piezo 40Hz-03102023154111-0000.\n",
      "Once you extracted frames for all videos, use 'refine_labels' to manually correct the labels.\n",
      "Method  jump  found  207  putative outlier frames.\n",
      "Do you want to proceed with extracting  3  of those?\n",
      "If this list is very large, perhaps consider changing the parameters (start, stop, p_bound, comparisonbodyparts) or use a different method.\n",
      "Loading video...\n",
      "Duration of video [s]:  9.39 , recorded @  100.0 fps!\n",
      "Overall # of frames:  939 with (cropped) frame dimensions: \n",
      "Kmeans-quantization based extracting of frames from 0.0  seconds to 9.39  seconds.\n",
      "Extracting and downsampling... 207  frames from the video.\n"
     ]
    },
    {
     "name": "stderr",
     "output_type": "stream",
     "text": [
      "207it [00:29,  6.93it/s]\n",
      "C:\\Users\\Gordus_Lab\\anaconda3\\envs\\DEEPLABCUT\\lib\\site-packages\\sklearn\\cluster\\_kmeans.py:870: FutureWarning: The default value of `n_init` will change from 3 to 'auto' in 1.4. Set the value of `n_init` explicitly to suppress the warning\n",
      "  warnings.warn(\n"
     ]
    },
    {
     "name": "stdout",
     "output_type": "stream",
     "text": [
      "Kmeans clustering ... (this might take a while)\n",
      "Let's select frames indices: [377, 784, 300]\n"
     ]
    },
    {
     "name": "stderr",
     "output_type": "stream",
     "text": [
      "B:\\HsinYi\\DeepLabCut_Anthony\\deeplabcut\\refine_training_dataset\\outlier_frames.py:325: FutureWarning: Using the level keyword in DataFrame and Series aggregations is deprecated and will be removed in a future version. Use groupby instead. df.sum(level=1) should use df.groupby(level=1).sum().\n",
      "  sum_ = temp_dt.sum(axis=1, level=1)\n"
     ]
    },
    {
     "name": "stdout",
     "output_type": "stream",
     "text": [
      "Creating the symbolic link of the video\n",
      "AUTOMATIC ADDING OF VIDEO TO CONFIG FILE FAILED! You need to do this manually for including it in the config.yaml file!\n",
      "Videopath: B:\\HsinYi\\DeepLabCut_Anthony/8videos_1400frames_relabled/videos/newvideo_piezo\\031023 Spider Piezo 50Hz Crouched-03102023180840-0000.mp4 Coordinates for cropping: None\n",
      "The outlier frames are extracted. They are stored in the subdirectory labeled-data\\031023 Spider Piezo 50Hz Crouched-03102023180840-0000.\n",
      "Once you extracted frames for all videos, use 'refine_labels' to manually correct the labels.\n",
      "Method  jump  found  575  putative outlier frames.\n",
      "Do you want to proceed with extracting  3  of those?\n",
      "If this list is very large, perhaps consider changing the parameters (start, stop, p_bound, comparisonbodyparts) or use a different method.\n",
      "Loading video...\n",
      "Duration of video [s]:  9.73 , recorded @  100.0 fps!\n",
      "Overall # of frames:  973 with (cropped) frame dimensions: \n",
      "Kmeans-quantization based extracting of frames from 0.0  seconds to 9.73  seconds.\n",
      "Extracting and downsampling... 575  frames from the video.\n"
     ]
    },
    {
     "name": "stderr",
     "output_type": "stream",
     "text": [
      "575it [02:03,  4.66it/s]\n",
      "C:\\Users\\Gordus_Lab\\anaconda3\\envs\\DEEPLABCUT\\lib\\site-packages\\sklearn\\cluster\\_kmeans.py:870: FutureWarning: The default value of `n_init` will change from 3 to 'auto' in 1.4. Set the value of `n_init` explicitly to suppress the warning\n",
      "  warnings.warn(\n"
     ]
    },
    {
     "name": "stdout",
     "output_type": "stream",
     "text": [
      "Kmeans clustering ... (this might take a while)\n",
      "Let's select frames indices: [697, 564, 586]\n"
     ]
    },
    {
     "name": "stderr",
     "output_type": "stream",
     "text": [
      "B:\\HsinYi\\DeepLabCut_Anthony\\deeplabcut\\refine_training_dataset\\outlier_frames.py:325: FutureWarning: Using the level keyword in DataFrame and Series aggregations is deprecated and will be removed in a future version. Use groupby instead. df.sum(level=1) should use df.groupby(level=1).sum().\n",
      "  sum_ = temp_dt.sum(axis=1, level=1)\n",
      "B:\\HsinYi\\DeepLabCut_Anthony\\deeplabcut\\refine_training_dataset\\outlier_frames.py:325: FutureWarning: Using the level keyword in DataFrame and Series aggregations is deprecated and will be removed in a future version. Use groupby instead. df.sum(level=1) should use df.groupby(level=1).sum().\n",
      "  sum_ = temp_dt.sum(axis=1, level=1)\n"
     ]
    },
    {
     "name": "stdout",
     "output_type": "stream",
     "text": [
      "Creating the symbolic link of the video\n",
      "AUTOMATIC ADDING OF VIDEO TO CONFIG FILE FAILED! You need to do this manually for including it in the config.yaml file!\n",
      "Videopath: B:\\HsinYi\\DeepLabCut_Anthony/8videos_1400frames_relabled/videos/newvideo_piezo\\031023 Spider Piezo 50Hz-03102023162651-0000.mp4 Coordinates for cropping: None\n",
      "The outlier frames are extracted. They are stored in the subdirectory labeled-data\\031023 Spider Piezo 50Hz-03102023162651-0000.\n",
      "Once you extracted frames for all videos, use 'refine_labels' to manually correct the labels.\n",
      "Method  jump  found  0  putative outlier frames.\n",
      "Do you want to proceed with extracting  3  of those?\n",
      "If this list is very large, perhaps consider changing the parameters (start, stop, p_bound, comparisonbodyparts) or use a different method.\n",
      "Loading video...\n",
      "Duration of video [s]:  9.59 , recorded @  100.0 fps!\n",
      "Overall # of frames:  959 with (cropped) frame dimensions: \n",
      "Kmeans-quantization based extracting of frames from 0.0  seconds to 9.59  seconds.\n",
      "Let's select frames indices: []\n",
      "No frames were extracted.\n",
      "Method  jump  found  514  putative outlier frames.\n",
      "Do you want to proceed with extracting  3  of those?\n",
      "If this list is very large, perhaps consider changing the parameters (start, stop, p_bound, comparisonbodyparts) or use a different method.\n",
      "Loading video...\n",
      "Duration of video [s]:  9.78 , recorded @  100.0 fps!\n",
      "Overall # of frames:  978 with (cropped) frame dimensions: \n",
      "Kmeans-quantization based extracting of frames from 0.0  seconds to 9.78  seconds.\n",
      "Extracting and downsampling... 514  frames from the video.\n"
     ]
    },
    {
     "name": "stderr",
     "output_type": "stream",
     "text": [
      "514it [01:53,  4.54it/s]\n",
      "C:\\Users\\Gordus_Lab\\anaconda3\\envs\\DEEPLABCUT\\lib\\site-packages\\sklearn\\cluster\\_kmeans.py:870: FutureWarning: The default value of `n_init` will change from 3 to 'auto' in 1.4. Set the value of `n_init` explicitly to suppress the warning\n",
      "  warnings.warn(\n"
     ]
    },
    {
     "name": "stdout",
     "output_type": "stream",
     "text": [
      "Kmeans clustering ... (this might take a while)\n",
      "Let's select frames indices: [659, 601, 677]\n"
     ]
    },
    {
     "name": "stderr",
     "output_type": "stream",
     "text": [
      "B:\\HsinYi\\DeepLabCut_Anthony\\deeplabcut\\refine_training_dataset\\outlier_frames.py:325: FutureWarning: Using the level keyword in DataFrame and Series aggregations is deprecated and will be removed in a future version. Use groupby instead. df.sum(level=1) should use df.groupby(level=1).sum().\n",
      "  sum_ = temp_dt.sum(axis=1, level=1)\n"
     ]
    },
    {
     "name": "stdout",
     "output_type": "stream",
     "text": [
      "Creating the symbolic link of the video\n",
      "AUTOMATIC ADDING OF VIDEO TO CONFIG FILE FAILED! You need to do this manually for including it in the config.yaml file!\n",
      "Videopath: B:\\HsinYi\\DeepLabCut_Anthony/8videos_1400frames_relabled/videos/newvideo_piezo\\031023 Spider Piezo 5Hz-03102023150317-0000.mp4 Coordinates for cropping: None\n",
      "The outlier frames are extracted. They are stored in the subdirectory labeled-data\\031023 Spider Piezo 5Hz-03102023150317-0000.\n",
      "Once you extracted frames for all videos, use 'refine_labels' to manually correct the labels.\n",
      "Method  jump  found  448  putative outlier frames.\n",
      "Do you want to proceed with extracting  3  of those?\n",
      "If this list is very large, perhaps consider changing the parameters (start, stop, p_bound, comparisonbodyparts) or use a different method.\n",
      "Loading video...\n",
      "Duration of video [s]:  10.01 , recorded @  100.0 fps!\n",
      "Overall # of frames:  1001 with (cropped) frame dimensions: \n",
      "Kmeans-quantization based extracting of frames from 0.0  seconds to 10.01  seconds.\n",
      "Extracting and downsampling... 448  frames from the video.\n"
     ]
    },
    {
     "name": "stderr",
     "output_type": "stream",
     "text": [
      "448it [01:32,  4.82it/s]\n",
      "C:\\Users\\Gordus_Lab\\anaconda3\\envs\\DEEPLABCUT\\lib\\site-packages\\sklearn\\cluster\\_kmeans.py:870: FutureWarning: The default value of `n_init` will change from 3 to 'auto' in 1.4. Set the value of `n_init` explicitly to suppress the warning\n",
      "  warnings.warn(\n"
     ]
    },
    {
     "name": "stdout",
     "output_type": "stream",
     "text": [
      "Kmeans clustering ... (this might take a while)\n",
      "Let's select frames indices: [536, 102, 515]\n"
     ]
    },
    {
     "name": "stderr",
     "output_type": "stream",
     "text": [
      "B:\\HsinYi\\DeepLabCut_Anthony\\deeplabcut\\refine_training_dataset\\outlier_frames.py:325: FutureWarning: Using the level keyword in DataFrame and Series aggregations is deprecated and will be removed in a future version. Use groupby instead. df.sum(level=1) should use df.groupby(level=1).sum().\n",
      "  sum_ = temp_dt.sum(axis=1, level=1)\n"
     ]
    },
    {
     "name": "stdout",
     "output_type": "stream",
     "text": [
      "Creating the symbolic link of the video\n",
      "AUTOMATIC ADDING OF VIDEO TO CONFIG FILE FAILED! You need to do this manually for including it in the config.yaml file!\n",
      "Videopath: B:\\HsinYi\\DeepLabCut_Anthony/8videos_1400frames_relabled/videos/newvideo_piezo\\0311 Spider Piezo 100Hz Crouched Nm-03112023161716-0000.mp4 Coordinates for cropping: None\n",
      "The outlier frames are extracted. They are stored in the subdirectory labeled-data\\0311 Spider Piezo 100Hz Crouched Nm-03112023161716-0000.\n",
      "Once you extracted frames for all videos, use 'refine_labels' to manually correct the labels.\n",
      "Method  jump  found  450  putative outlier frames.\n",
      "Do you want to proceed with extracting  3  of those?\n",
      "If this list is very large, perhaps consider changing the parameters (start, stop, p_bound, comparisonbodyparts) or use a different method.\n",
      "Loading video...\n",
      "Duration of video [s]:  20.17 , recorded @  100.0 fps!\n",
      "Overall # of frames:  2017 with (cropped) frame dimensions: \n",
      "Kmeans-quantization based extracting of frames from 0.0  seconds to 20.17  seconds.\n",
      "Extracting and downsampling... 450  frames from the video.\n"
     ]
    },
    {
     "name": "stderr",
     "output_type": "stream",
     "text": [
      "450it [01:20,  5.57it/s]\n",
      "C:\\Users\\Gordus_Lab\\anaconda3\\envs\\DEEPLABCUT\\lib\\site-packages\\sklearn\\cluster\\_kmeans.py:870: FutureWarning: The default value of `n_init` will change from 3 to 'auto' in 1.4. Set the value of `n_init` explicitly to suppress the warning\n",
      "  warnings.warn(\n"
     ]
    },
    {
     "name": "stdout",
     "output_type": "stream",
     "text": [
      "Kmeans clustering ... (this might take a while)\n",
      "Let's select frames indices: [518, 1909, 1341]\n"
     ]
    },
    {
     "name": "stderr",
     "output_type": "stream",
     "text": [
      "B:\\HsinYi\\DeepLabCut_Anthony\\deeplabcut\\refine_training_dataset\\outlier_frames.py:325: FutureWarning: Using the level keyword in DataFrame and Series aggregations is deprecated and will be removed in a future version. Use groupby instead. df.sum(level=1) should use df.groupby(level=1).sum().\n",
      "  sum_ = temp_dt.sum(axis=1, level=1)\n"
     ]
    },
    {
     "name": "stdout",
     "output_type": "stream",
     "text": [
      "Creating the symbolic link of the video\n",
      "AUTOMATIC ADDING OF VIDEO TO CONFIG FILE FAILED! You need to do this manually for including it in the config.yaml file!\n",
      "Videopath: B:\\HsinYi\\DeepLabCut_Anthony/8videos_1400frames_relabled/videos/newvideo_piezo\\0311 Spider Piezo 100Hz-03112023134920-0000.mp4 Coordinates for cropping: None\n",
      "The outlier frames are extracted. They are stored in the subdirectory labeled-data\\0311 Spider Piezo 100Hz-03112023134920-0000.\n",
      "Once you extracted frames for all videos, use 'refine_labels' to manually correct the labels.\n",
      "Method  jump  found  678  putative outlier frames.\n",
      "Do you want to proceed with extracting  3  of those?\n",
      "If this list is very large, perhaps consider changing the parameters (start, stop, p_bound, comparisonbodyparts) or use a different method.\n",
      "Loading video...\n",
      "Duration of video [s]:  9.49 , recorded @  100.0 fps!\n",
      "Overall # of frames:  949 with (cropped) frame dimensions: \n",
      "Kmeans-quantization based extracting of frames from 0.0  seconds to 9.49  seconds.\n",
      "Extracting and downsampling... 678  frames from the video.\n"
     ]
    },
    {
     "name": "stderr",
     "output_type": "stream",
     "text": [
      "678it [02:25,  4.67it/s]\n",
      "C:\\Users\\Gordus_Lab\\anaconda3\\envs\\DEEPLABCUT\\lib\\site-packages\\sklearn\\cluster\\_kmeans.py:870: FutureWarning: The default value of `n_init` will change from 3 to 'auto' in 1.4. Set the value of `n_init` explicitly to suppress the warning\n",
      "  warnings.warn(\n"
     ]
    },
    {
     "name": "stdout",
     "output_type": "stream",
     "text": [
      "Kmeans clustering ... (this might take a while)\n",
      "Let's select frames indices: [810, 168, 713]\n"
     ]
    },
    {
     "name": "stderr",
     "output_type": "stream",
     "text": [
      "B:\\HsinYi\\DeepLabCut_Anthony\\deeplabcut\\refine_training_dataset\\outlier_frames.py:325: FutureWarning: Using the level keyword in DataFrame and Series aggregations is deprecated and will be removed in a future version. Use groupby instead. df.sum(level=1) should use df.groupby(level=1).sum().\n",
      "  sum_ = temp_dt.sum(axis=1, level=1)\n"
     ]
    },
    {
     "name": "stdout",
     "output_type": "stream",
     "text": [
      "Creating the symbolic link of the video\n",
      "AUTOMATIC ADDING OF VIDEO TO CONFIG FILE FAILED! You need to do this manually for including it in the config.yaml file!\n",
      "Videopath: B:\\HsinYi\\DeepLabCut_Anthony/8videos_1400frames_relabled/videos/newvideo_piezo\\0311 Spider Piezo 100Hz-03112023145051-0000.mp4 Coordinates for cropping: None\n",
      "The outlier frames are extracted. They are stored in the subdirectory labeled-data\\0311 Spider Piezo 100Hz-03112023145051-0000.\n",
      "Once you extracted frames for all videos, use 'refine_labels' to manually correct the labels.\n",
      "Method  jump  found  268  putative outlier frames.\n",
      "Do you want to proceed with extracting  3  of those?\n",
      "If this list is very large, perhaps consider changing the parameters (start, stop, p_bound, comparisonbodyparts) or use a different method.\n",
      "Loading video...\n",
      "Duration of video [s]:  9.4 , recorded @  100.0 fps!\n",
      "Overall # of frames:  940 with (cropped) frame dimensions: \n",
      "Kmeans-quantization based extracting of frames from 0.0  seconds to 9.4  seconds.\n",
      "Extracting and downsampling... 268  frames from the video.\n"
     ]
    },
    {
     "name": "stderr",
     "output_type": "stream",
     "text": [
      "268it [00:50,  5.32it/s]\n",
      "C:\\Users\\Gordus_Lab\\anaconda3\\envs\\DEEPLABCUT\\lib\\site-packages\\sklearn\\cluster\\_kmeans.py:870: FutureWarning: The default value of `n_init` will change from 3 to 'auto' in 1.4. Set the value of `n_init` explicitly to suppress the warning\n",
      "  warnings.warn(\n"
     ]
    },
    {
     "name": "stdout",
     "output_type": "stream",
     "text": [
      "Kmeans clustering ... (this might take a while)\n",
      "Let's select frames indices: [652, 462, 500]\n"
     ]
    },
    {
     "name": "stderr",
     "output_type": "stream",
     "text": [
      "B:\\HsinYi\\DeepLabCut_Anthony\\deeplabcut\\refine_training_dataset\\outlier_frames.py:325: FutureWarning: Using the level keyword in DataFrame and Series aggregations is deprecated and will be removed in a future version. Use groupby instead. df.sum(level=1) should use df.groupby(level=1).sum().\n",
      "  sum_ = temp_dt.sum(axis=1, level=1)\n"
     ]
    },
    {
     "name": "stdout",
     "output_type": "stream",
     "text": [
      "Creating the symbolic link of the video\n",
      "AUTOMATIC ADDING OF VIDEO TO CONFIG FILE FAILED! You need to do this manually for including it in the config.yaml file!\n",
      "Videopath: B:\\HsinYi\\DeepLabCut_Anthony/8videos_1400frames_relabled/videos/newvideo_piezo\\0311 Spider Piezo 10Hz Crouched Nm-03112023162107-0000.mp4 Coordinates for cropping: None\n",
      "The outlier frames are extracted. They are stored in the subdirectory labeled-data\\0311 Spider Piezo 10Hz Crouched Nm-03112023162107-0000.\n",
      "Once you extracted frames for all videos, use 'refine_labels' to manually correct the labels.\n",
      "Method  jump  found  467  putative outlier frames.\n",
      "Do you want to proceed with extracting  3  of those?\n",
      "If this list is very large, perhaps consider changing the parameters (start, stop, p_bound, comparisonbodyparts) or use a different method.\n",
      "Loading video...\n",
      "Duration of video [s]:  9.35 , recorded @  100.0 fps!\n",
      "Overall # of frames:  935 with (cropped) frame dimensions: \n",
      "Kmeans-quantization based extracting of frames from 0.0  seconds to 9.35  seconds.\n",
      "Extracting and downsampling... 467  frames from the video.\n"
     ]
    },
    {
     "name": "stderr",
     "output_type": "stream",
     "text": [
      "467it [01:37,  4.80it/s]\n",
      "C:\\Users\\Gordus_Lab\\anaconda3\\envs\\DEEPLABCUT\\lib\\site-packages\\sklearn\\cluster\\_kmeans.py:870: FutureWarning: The default value of `n_init` will change from 3 to 'auto' in 1.4. Set the value of `n_init` explicitly to suppress the warning\n",
      "  warnings.warn(\n"
     ]
    },
    {
     "name": "stdout",
     "output_type": "stream",
     "text": [
      "Kmeans clustering ... (this might take a while)\n",
      "Let's select frames indices: [228, 850, 667]\n"
     ]
    },
    {
     "name": "stderr",
     "output_type": "stream",
     "text": [
      "B:\\HsinYi\\DeepLabCut_Anthony\\deeplabcut\\refine_training_dataset\\outlier_frames.py:325: FutureWarning: Using the level keyword in DataFrame and Series aggregations is deprecated and will be removed in a future version. Use groupby instead. df.sum(level=1) should use df.groupby(level=1).sum().\n",
      "  sum_ = temp_dt.sum(axis=1, level=1)\n"
     ]
    },
    {
     "name": "stdout",
     "output_type": "stream",
     "text": [
      "Creating the symbolic link of the video\n",
      "AUTOMATIC ADDING OF VIDEO TO CONFIG FILE FAILED! You need to do this manually for including it in the config.yaml file!\n",
      "Videopath: B:\\HsinYi\\DeepLabCut_Anthony/8videos_1400frames_relabled/videos/newvideo_piezo\\0311 Spider Piezo 10Hz Crouched-03112023155438-0000.mp4 Coordinates for cropping: None\n",
      "The outlier frames are extracted. They are stored in the subdirectory labeled-data\\0311 Spider Piezo 10Hz Crouched-03112023155438-0000.\n",
      "Once you extracted frames for all videos, use 'refine_labels' to manually correct the labels.\n",
      "Method  jump  found  92  putative outlier frames.\n",
      "Do you want to proceed with extracting  3  of those?\n",
      "If this list is very large, perhaps consider changing the parameters (start, stop, p_bound, comparisonbodyparts) or use a different method.\n",
      "Loading video...\n",
      "Duration of video [s]:  9.11 , recorded @  100.0 fps!\n",
      "Overall # of frames:  911 with (cropped) frame dimensions: \n",
      "Kmeans-quantization based extracting of frames from 0.0  seconds to 9.11  seconds.\n",
      "Extracting and downsampling... 92  frames from the video.\n"
     ]
    },
    {
     "name": "stderr",
     "output_type": "stream",
     "text": [
      "92it [00:12,  7.25it/s]\n",
      "C:\\Users\\Gordus_Lab\\anaconda3\\envs\\DEEPLABCUT\\lib\\site-packages\\sklearn\\cluster\\_kmeans.py:870: FutureWarning: The default value of `n_init` will change from 3 to 'auto' in 1.4. Set the value of `n_init` explicitly to suppress the warning\n",
      "  warnings.warn(\n"
     ]
    },
    {
     "name": "stdout",
     "output_type": "stream",
     "text": [
      "Kmeans clustering ... (this might take a while)\n",
      "Let's select frames indices: [268, 341, 277]\n"
     ]
    },
    {
     "name": "stderr",
     "output_type": "stream",
     "text": [
      "B:\\HsinYi\\DeepLabCut_Anthony\\deeplabcut\\refine_training_dataset\\outlier_frames.py:325: FutureWarning: Using the level keyword in DataFrame and Series aggregations is deprecated and will be removed in a future version. Use groupby instead. df.sum(level=1) should use df.groupby(level=1).sum().\n",
      "  sum_ = temp_dt.sum(axis=1, level=1)\n"
     ]
    },
    {
     "name": "stdout",
     "output_type": "stream",
     "text": [
      "Creating the symbolic link of the video\n",
      "AUTOMATIC ADDING OF VIDEO TO CONFIG FILE FAILED! You need to do this manually for including it in the config.yaml file!\n",
      "Videopath: B:\\HsinYi\\DeepLabCut_Anthony/8videos_1400frames_relabled/videos/newvideo_piezo\\0311 Spider Piezo 10Hz-03112023141910-0000.mp4 Coordinates for cropping: None\n",
      "The outlier frames are extracted. They are stored in the subdirectory labeled-data\\0311 Spider Piezo 10Hz-03112023141910-0000.\n",
      "Once you extracted frames for all videos, use 'refine_labels' to manually correct the labels.\n",
      "Method  jump  found  351  putative outlier frames.\n",
      "Do you want to proceed with extracting  3  of those?\n",
      "If this list is very large, perhaps consider changing the parameters (start, stop, p_bound, comparisonbodyparts) or use a different method.\n",
      "Loading video...\n",
      "Duration of video [s]:  9.74 , recorded @  100.0 fps!\n",
      "Overall # of frames:  974 with (cropped) frame dimensions: \n",
      "Kmeans-quantization based extracting of frames from 0.0  seconds to 9.74  seconds.\n",
      "Extracting and downsampling... 351  frames from the video.\n"
     ]
    },
    {
     "name": "stderr",
     "output_type": "stream",
     "text": [
      "351it [01:11,  4.92it/s]\n",
      "C:\\Users\\Gordus_Lab\\anaconda3\\envs\\DEEPLABCUT\\lib\\site-packages\\sklearn\\cluster\\_kmeans.py:870: FutureWarning: The default value of `n_init` will change from 3 to 'auto' in 1.4. Set the value of `n_init` explicitly to suppress the warning\n",
      "  warnings.warn(\n"
     ]
    },
    {
     "name": "stdout",
     "output_type": "stream",
     "text": [
      "Kmeans clustering ... (this might take a while)\n",
      "Let's select frames indices: [839, 628, 201]\n"
     ]
    },
    {
     "name": "stderr",
     "output_type": "stream",
     "text": [
      "B:\\HsinYi\\DeepLabCut_Anthony\\deeplabcut\\refine_training_dataset\\outlier_frames.py:325: FutureWarning: Using the level keyword in DataFrame and Series aggregations is deprecated and will be removed in a future version. Use groupby instead. df.sum(level=1) should use df.groupby(level=1).sum().\n",
      "  sum_ = temp_dt.sum(axis=1, level=1)\n"
     ]
    },
    {
     "name": "stdout",
     "output_type": "stream",
     "text": [
      "Creating the symbolic link of the video\n",
      "AUTOMATIC ADDING OF VIDEO TO CONFIG FILE FAILED! You need to do this manually for including it in the config.yaml file!\n",
      "Videopath: B:\\HsinYi\\DeepLabCut_Anthony/8videos_1400frames_relabled/videos/newvideo_piezo\\0311 Spider Piezo 20Hz Crouched Nm-03112023162024-0000.mp4 Coordinates for cropping: None\n",
      "The outlier frames are extracted. They are stored in the subdirectory labeled-data\\0311 Spider Piezo 20Hz Crouched Nm-03112023162024-0000.\n",
      "Once you extracted frames for all videos, use 'refine_labels' to manually correct the labels.\n",
      "Method  jump  found  271  putative outlier frames.\n",
      "Do you want to proceed with extracting  3  of those?\n",
      "If this list is very large, perhaps consider changing the parameters (start, stop, p_bound, comparisonbodyparts) or use a different method.\n",
      "Loading video...\n",
      "Duration of video [s]:  9.5 , recorded @  100.0 fps!\n",
      "Overall # of frames:  950 with (cropped) frame dimensions: \n",
      "Kmeans-quantization based extracting of frames from 0.0  seconds to 9.5  seconds.\n",
      "Extracting and downsampling... 271  frames from the video.\n"
     ]
    },
    {
     "name": "stderr",
     "output_type": "stream",
     "text": [
      "271it [00:42,  6.34it/s]\n",
      "C:\\Users\\Gordus_Lab\\anaconda3\\envs\\DEEPLABCUT\\lib\\site-packages\\sklearn\\cluster\\_kmeans.py:870: FutureWarning: The default value of `n_init` will change from 3 to 'auto' in 1.4. Set the value of `n_init` explicitly to suppress the warning\n",
      "  warnings.warn(\n"
     ]
    },
    {
     "name": "stdout",
     "output_type": "stream",
     "text": [
      "Kmeans clustering ... (this might take a while)\n",
      "Let's select frames indices: [10, 495, 33]\n"
     ]
    },
    {
     "name": "stderr",
     "output_type": "stream",
     "text": [
      "B:\\HsinYi\\DeepLabCut_Anthony\\deeplabcut\\refine_training_dataset\\outlier_frames.py:325: FutureWarning: Using the level keyword in DataFrame and Series aggregations is deprecated and will be removed in a future version. Use groupby instead. df.sum(level=1) should use df.groupby(level=1).sum().\n",
      "  sum_ = temp_dt.sum(axis=1, level=1)\n"
     ]
    },
    {
     "name": "stdout",
     "output_type": "stream",
     "text": [
      "Creating the symbolic link of the video\n",
      "AUTOMATIC ADDING OF VIDEO TO CONFIG FILE FAILED! You need to do this manually for including it in the config.yaml file!\n",
      "Videopath: B:\\HsinYi\\DeepLabCut_Anthony/8videos_1400frames_relabled/videos/newvideo_piezo\\0311 Spider Piezo 20Hz Crouched-03112023160110-0000.mp4 Coordinates for cropping: None\n",
      "The outlier frames are extracted. They are stored in the subdirectory labeled-data\\0311 Spider Piezo 20Hz Crouched-03112023160110-0000.\n",
      "Once you extracted frames for all videos, use 'refine_labels' to manually correct the labels.\n",
      "Method  jump  found  509  putative outlier frames.\n",
      "Do you want to proceed with extracting  3  of those?\n",
      "If this list is very large, perhaps consider changing the parameters (start, stop, p_bound, comparisonbodyparts) or use a different method.\n",
      "Loading video...\n",
      "Duration of video [s]:  9.12 , recorded @  100.0 fps!\n",
      "Overall # of frames:  912 with (cropped) frame dimensions: \n",
      "Kmeans-quantization based extracting of frames from 0.0  seconds to 9.12  seconds.\n",
      "Extracting and downsampling... 509  frames from the video.\n"
     ]
    },
    {
     "name": "stderr",
     "output_type": "stream",
     "text": [
      "509it [01:42,  4.99it/s]\n",
      "C:\\Users\\Gordus_Lab\\anaconda3\\envs\\DEEPLABCUT\\lib\\site-packages\\sklearn\\cluster\\_kmeans.py:870: FutureWarning: The default value of `n_init` will change from 3 to 'auto' in 1.4. Set the value of `n_init` explicitly to suppress the warning\n",
      "  warnings.warn(\n"
     ]
    },
    {
     "name": "stdout",
     "output_type": "stream",
     "text": [
      "Kmeans clustering ... (this might take a while)\n",
      "Let's select frames indices: [104, 604, 726]\n"
     ]
    },
    {
     "name": "stderr",
     "output_type": "stream",
     "text": [
      "B:\\HsinYi\\DeepLabCut_Anthony\\deeplabcut\\refine_training_dataset\\outlier_frames.py:325: FutureWarning: Using the level keyword in DataFrame and Series aggregations is deprecated and will be removed in a future version. Use groupby instead. df.sum(level=1) should use df.groupby(level=1).sum().\n",
      "  sum_ = temp_dt.sum(axis=1, level=1)\n"
     ]
    },
    {
     "name": "stdout",
     "output_type": "stream",
     "text": [
      "Creating the symbolic link of the video\n",
      "AUTOMATIC ADDING OF VIDEO TO CONFIG FILE FAILED! You need to do this manually for including it in the config.yaml file!\n",
      "Videopath: B:\\HsinYi\\DeepLabCut_Anthony/8videos_1400frames_relabled/videos/newvideo_piezo\\0311 Spider Piezo 20Hz-03112023142429-0000.mp4 Coordinates for cropping: None\n",
      "The outlier frames are extracted. They are stored in the subdirectory labeled-data\\0311 Spider Piezo 20Hz-03112023142429-0000.\n",
      "Once you extracted frames for all videos, use 'refine_labels' to manually correct the labels.\n",
      "Method  jump  found  198  putative outlier frames.\n",
      "Do you want to proceed with extracting  3  of those?\n",
      "If this list is very large, perhaps consider changing the parameters (start, stop, p_bound, comparisonbodyparts) or use a different method.\n",
      "Loading video...\n",
      "Duration of video [s]:  9.49 , recorded @  100.0 fps!\n",
      "Overall # of frames:  949 with (cropped) frame dimensions: \n",
      "Kmeans-quantization based extracting of frames from 0.0  seconds to 9.49  seconds.\n",
      "Extracting and downsampling... 198  frames from the video.\n"
     ]
    },
    {
     "name": "stderr",
     "output_type": "stream",
     "text": [
      "198it [00:40,  4.83it/s]\n",
      "C:\\Users\\Gordus_Lab\\anaconda3\\envs\\DEEPLABCUT\\lib\\site-packages\\sklearn\\cluster\\_kmeans.py:870: FutureWarning: The default value of `n_init` will change from 3 to 'auto' in 1.4. Set the value of `n_init` explicitly to suppress the warning\n",
      "  warnings.warn(\n"
     ]
    },
    {
     "name": "stdout",
     "output_type": "stream",
     "text": [
      "Kmeans clustering ... (this might take a while)\n",
      "Let's select frames indices: [669, 700, 443]\n"
     ]
    },
    {
     "name": "stderr",
     "output_type": "stream",
     "text": [
      "B:\\HsinYi\\DeepLabCut_Anthony\\deeplabcut\\refine_training_dataset\\outlier_frames.py:325: FutureWarning: Using the level keyword in DataFrame and Series aggregations is deprecated and will be removed in a future version. Use groupby instead. df.sum(level=1) should use df.groupby(level=1).sum().\n",
      "  sum_ = temp_dt.sum(axis=1, level=1)\n"
     ]
    },
    {
     "name": "stdout",
     "output_type": "stream",
     "text": [
      "Creating the symbolic link of the video\n",
      "AUTOMATIC ADDING OF VIDEO TO CONFIG FILE FAILED! You need to do this manually for including it in the config.yaml file!\n",
      "Videopath: B:\\HsinYi\\DeepLabCut_Anthony/8videos_1400frames_relabled/videos/newvideo_piezo\\0311 Spider Piezo 30Hz Crouched Nm-03112023161935-0000.mp4 Coordinates for cropping: None\n",
      "The outlier frames are extracted. They are stored in the subdirectory labeled-data\\0311 Spider Piezo 30Hz Crouched Nm-03112023161935-0000.\n",
      "Once you extracted frames for all videos, use 'refine_labels' to manually correct the labels.\n",
      "Method  jump  found  304  putative outlier frames.\n",
      "Do you want to proceed with extracting  3  of those?\n",
      "If this list is very large, perhaps consider changing the parameters (start, stop, p_bound, comparisonbodyparts) or use a different method.\n",
      "Loading video...\n",
      "Duration of video [s]:  9.26 , recorded @  100.0 fps!\n",
      "Overall # of frames:  926 with (cropped) frame dimensions: \n",
      "Kmeans-quantization based extracting of frames from 0.0  seconds to 9.26  seconds.\n",
      "Extracting and downsampling... 304  frames from the video.\n"
     ]
    },
    {
     "name": "stderr",
     "output_type": "stream",
     "text": [
      "304it [00:54,  5.60it/s]\n",
      "C:\\Users\\Gordus_Lab\\anaconda3\\envs\\DEEPLABCUT\\lib\\site-packages\\sklearn\\cluster\\_kmeans.py:870: FutureWarning: The default value of `n_init` will change from 3 to 'auto' in 1.4. Set the value of `n_init` explicitly to suppress the warning\n",
      "  warnings.warn(\n"
     ]
    },
    {
     "name": "stdout",
     "output_type": "stream",
     "text": [
      "Kmeans clustering ... (this might take a while)\n",
      "Let's select frames indices: [609, 419, 657]\n"
     ]
    },
    {
     "name": "stderr",
     "output_type": "stream",
     "text": [
      "B:\\HsinYi\\DeepLabCut_Anthony\\deeplabcut\\refine_training_dataset\\outlier_frames.py:325: FutureWarning: Using the level keyword in DataFrame and Series aggregations is deprecated and will be removed in a future version. Use groupby instead. df.sum(level=1) should use df.groupby(level=1).sum().\n",
      "  sum_ = temp_dt.sum(axis=1, level=1)\n"
     ]
    },
    {
     "name": "stdout",
     "output_type": "stream",
     "text": [
      "Creating the symbolic link of the video\n",
      "AUTOMATIC ADDING OF VIDEO TO CONFIG FILE FAILED! You need to do this manually for including it in the config.yaml file!\n",
      "Videopath: B:\\HsinYi\\DeepLabCut_Anthony/8videos_1400frames_relabled/videos/newvideo_piezo\\0311 Spider Piezo 30Hz Crouched-03112023160744-0000.mp4 Coordinates for cropping: None\n",
      "The outlier frames are extracted. They are stored in the subdirectory labeled-data\\0311 Spider Piezo 30Hz Crouched-03112023160744-0000.\n",
      "Once you extracted frames for all videos, use 'refine_labels' to manually correct the labels.\n",
      "Method  jump  found  263  putative outlier frames.\n",
      "Do you want to proceed with extracting  3  of those?\n",
      "If this list is very large, perhaps consider changing the parameters (start, stop, p_bound, comparisonbodyparts) or use a different method.\n",
      "Loading video...\n",
      "Duration of video [s]:  9.32 , recorded @  100.0 fps!\n",
      "Overall # of frames:  932 with (cropped) frame dimensions: \n",
      "Kmeans-quantization based extracting of frames from 0.0  seconds to 9.32  seconds.\n",
      "Extracting and downsampling... 263  frames from the video.\n"
     ]
    },
    {
     "name": "stderr",
     "output_type": "stream",
     "text": [
      "263it [00:42,  6.15it/s]\n",
      "C:\\Users\\Gordus_Lab\\anaconda3\\envs\\DEEPLABCUT\\lib\\site-packages\\sklearn\\cluster\\_kmeans.py:870: FutureWarning: The default value of `n_init` will change from 3 to 'auto' in 1.4. Set the value of `n_init` explicitly to suppress the warning\n",
      "  warnings.warn(\n"
     ]
    },
    {
     "name": "stdout",
     "output_type": "stream",
     "text": [
      "Kmeans clustering ... (this might take a while)\n",
      "Let's select frames indices: [592, 188, 498]\n"
     ]
    },
    {
     "name": "stderr",
     "output_type": "stream",
     "text": [
      "B:\\HsinYi\\DeepLabCut_Anthony\\deeplabcut\\refine_training_dataset\\outlier_frames.py:325: FutureWarning: Using the level keyword in DataFrame and Series aggregations is deprecated and will be removed in a future version. Use groupby instead. df.sum(level=1) should use df.groupby(level=1).sum().\n",
      "  sum_ = temp_dt.sum(axis=1, level=1)\n"
     ]
    },
    {
     "name": "stdout",
     "output_type": "stream",
     "text": [
      "Creating the symbolic link of the video\n",
      "AUTOMATIC ADDING OF VIDEO TO CONFIG FILE FAILED! You need to do this manually for including it in the config.yaml file!\n",
      "Videopath: B:\\HsinYi\\DeepLabCut_Anthony/8videos_1400frames_relabled/videos/newvideo_piezo\\0311 Spider Piezo 30Hz-03112023143053-0000.mp4 Coordinates for cropping: None\n",
      "The outlier frames are extracted. They are stored in the subdirectory labeled-data\\0311 Spider Piezo 30Hz-03112023143053-0000.\n",
      "Once you extracted frames for all videos, use 'refine_labels' to manually correct the labels.\n",
      "Method  jump  found  214  putative outlier frames.\n",
      "Do you want to proceed with extracting  3  of those?\n",
      "If this list is very large, perhaps consider changing the parameters (start, stop, p_bound, comparisonbodyparts) or use a different method.\n",
      "Loading video...\n",
      "Duration of video [s]:  9.73 , recorded @  100.0 fps!\n",
      "Overall # of frames:  973 with (cropped) frame dimensions: \n",
      "Kmeans-quantization based extracting of frames from 0.0  seconds to 9.73  seconds.\n",
      "Extracting and downsampling... 214  frames from the video.\n"
     ]
    },
    {
     "name": "stderr",
     "output_type": "stream",
     "text": [
      "214it [00:38,  5.60it/s]\n",
      "C:\\Users\\Gordus_Lab\\anaconda3\\envs\\DEEPLABCUT\\lib\\site-packages\\sklearn\\cluster\\_kmeans.py:870: FutureWarning: The default value of `n_init` will change from 3 to 'auto' in 1.4. Set the value of `n_init` explicitly to suppress the warning\n",
      "  warnings.warn(\n"
     ]
    },
    {
     "name": "stdout",
     "output_type": "stream",
     "text": [
      "Kmeans clustering ... (this might take a while)\n",
      "Let's select frames indices: [13, 682, 640]\n"
     ]
    },
    {
     "name": "stderr",
     "output_type": "stream",
     "text": [
      "B:\\HsinYi\\DeepLabCut_Anthony\\deeplabcut\\refine_training_dataset\\outlier_frames.py:325: FutureWarning: Using the level keyword in DataFrame and Series aggregations is deprecated and will be removed in a future version. Use groupby instead. df.sum(level=1) should use df.groupby(level=1).sum().\n",
      "  sum_ = temp_dt.sum(axis=1, level=1)\n"
     ]
    },
    {
     "name": "stdout",
     "output_type": "stream",
     "text": [
      "Creating the symbolic link of the video\n",
      "AUTOMATIC ADDING OF VIDEO TO CONFIG FILE FAILED! You need to do this manually for including it in the config.yaml file!\n",
      "Videopath: B:\\HsinYi\\DeepLabCut_Anthony/8videos_1400frames_relabled/videos/newvideo_piezo\\0311 Spider Piezo 40Hz Crouched Nm-03112023161843-0000.mp4 Coordinates for cropping: None\n",
      "The outlier frames are extracted. They are stored in the subdirectory labeled-data\\0311 Spider Piezo 40Hz Crouched Nm-03112023161843-0000.\n",
      "Once you extracted frames for all videos, use 'refine_labels' to manually correct the labels.\n",
      "Method  jump  found  238  putative outlier frames.\n",
      "Do you want to proceed with extracting  3  of those?\n",
      "If this list is very large, perhaps consider changing the parameters (start, stop, p_bound, comparisonbodyparts) or use a different method.\n",
      "Loading video...\n",
      "Duration of video [s]:  9.21 , recorded @  100.0 fps!\n",
      "Overall # of frames:  921 with (cropped) frame dimensions: \n",
      "Kmeans-quantization based extracting of frames from 0.0  seconds to 9.21  seconds.\n",
      "Extracting and downsampling... 238  frames from the video.\n"
     ]
    },
    {
     "name": "stderr",
     "output_type": "stream",
     "text": [
      "238it [00:37,  6.30it/s]\n",
      "C:\\Users\\Gordus_Lab\\anaconda3\\envs\\DEEPLABCUT\\lib\\site-packages\\sklearn\\cluster\\_kmeans.py:870: FutureWarning: The default value of `n_init` will change from 3 to 'auto' in 1.4. Set the value of `n_init` explicitly to suppress the warning\n",
      "  warnings.warn(\n"
     ]
    },
    {
     "name": "stdout",
     "output_type": "stream",
     "text": [
      "Kmeans clustering ... (this might take a while)\n",
      "Let's select frames indices: [661, 892, 176]\n"
     ]
    },
    {
     "name": "stderr",
     "output_type": "stream",
     "text": [
      "B:\\HsinYi\\DeepLabCut_Anthony\\deeplabcut\\refine_training_dataset\\outlier_frames.py:325: FutureWarning: Using the level keyword in DataFrame and Series aggregations is deprecated and will be removed in a future version. Use groupby instead. df.sum(level=1) should use df.groupby(level=1).sum().\n",
      "  sum_ = temp_dt.sum(axis=1, level=1)\n"
     ]
    },
    {
     "name": "stdout",
     "output_type": "stream",
     "text": [
      "Creating the symbolic link of the video\n",
      "AUTOMATIC ADDING OF VIDEO TO CONFIG FILE FAILED! You need to do this manually for including it in the config.yaml file!\n",
      "Videopath: B:\\HsinYi\\DeepLabCut_Anthony/8videos_1400frames_relabled/videos/newvideo_piezo\\0311 Spider Piezo 40Hz Crouched-03112023161108-0000.mp4 Coordinates for cropping: None\n",
      "The outlier frames are extracted. They are stored in the subdirectory labeled-data\\0311 Spider Piezo 40Hz Crouched-03112023161108-0000.\n",
      "Once you extracted frames for all videos, use 'refine_labels' to manually correct the labels.\n",
      "Method  jump  found  496  putative outlier frames.\n",
      "Do you want to proceed with extracting  3  of those?\n",
      "If this list is very large, perhaps consider changing the parameters (start, stop, p_bound, comparisonbodyparts) or use a different method.\n",
      "Loading video...\n",
      "Duration of video [s]:  9.69 , recorded @  100.0 fps!\n",
      "Overall # of frames:  969 with (cropped) frame dimensions: \n",
      "Kmeans-quantization based extracting of frames from 0.0  seconds to 9.69  seconds.\n",
      "Extracting and downsampling... 496  frames from the video.\n"
     ]
    },
    {
     "name": "stderr",
     "output_type": "stream",
     "text": [
      "496it [01:44,  4.75it/s]\n",
      "C:\\Users\\Gordus_Lab\\anaconda3\\envs\\DEEPLABCUT\\lib\\site-packages\\sklearn\\cluster\\_kmeans.py:870: FutureWarning: The default value of `n_init` will change from 3 to 'auto' in 1.4. Set the value of `n_init` explicitly to suppress the warning\n",
      "  warnings.warn(\n"
     ]
    },
    {
     "name": "stdout",
     "output_type": "stream",
     "text": [
      "Kmeans clustering ... (this might take a while)\n",
      "Let's select frames indices: [667, 894, 524]\n"
     ]
    },
    {
     "name": "stderr",
     "output_type": "stream",
     "text": [
      "B:\\HsinYi\\DeepLabCut_Anthony\\deeplabcut\\refine_training_dataset\\outlier_frames.py:325: FutureWarning: Using the level keyword in DataFrame and Series aggregations is deprecated and will be removed in a future version. Use groupby instead. df.sum(level=1) should use df.groupby(level=1).sum().\n",
      "  sum_ = temp_dt.sum(axis=1, level=1)\n"
     ]
    },
    {
     "name": "stdout",
     "output_type": "stream",
     "text": [
      "Creating the symbolic link of the video\n",
      "AUTOMATIC ADDING OF VIDEO TO CONFIG FILE FAILED! You need to do this manually for including it in the config.yaml file!\n",
      "Videopath: B:\\HsinYi\\DeepLabCut_Anthony/8videos_1400frames_relabled/videos/newvideo_piezo\\0311 Spider Piezo 40Hz-03112023140406-0000.mp4 Coordinates for cropping: None\n",
      "The outlier frames are extracted. They are stored in the subdirectory labeled-data\\0311 Spider Piezo 40Hz-03112023140406-0000.\n",
      "Once you extracted frames for all videos, use 'refine_labels' to manually correct the labels.\n",
      "Method  jump  found  857  putative outlier frames.\n",
      "Do you want to proceed with extracting  3  of those?\n",
      "If this list is very large, perhaps consider changing the parameters (start, stop, p_bound, comparisonbodyparts) or use a different method.\n",
      "Loading video...\n",
      "Duration of video [s]:  21.71 , recorded @  100.0 fps!\n",
      "Overall # of frames:  2171 with (cropped) frame dimensions: \n",
      "Kmeans-quantization based extracting of frames from 0.0  seconds to 21.71  seconds.\n",
      "Extracting and downsampling... 857  frames from the video.\n"
     ]
    },
    {
     "name": "stderr",
     "output_type": "stream",
     "text": [
      "857it [02:17,  6.24it/s]\n",
      "C:\\Users\\Gordus_Lab\\anaconda3\\envs\\DEEPLABCUT\\lib\\site-packages\\sklearn\\cluster\\_kmeans.py:870: FutureWarning: The default value of `n_init` will change from 3 to 'auto' in 1.4. Set the value of `n_init` explicitly to suppress the warning\n",
      "  warnings.warn(\n"
     ]
    },
    {
     "name": "stdout",
     "output_type": "stream",
     "text": [
      "Kmeans clustering ... (this might take a while)\n",
      "Let's select frames indices: [1819, 1375, 1444]\n"
     ]
    },
    {
     "name": "stderr",
     "output_type": "stream",
     "text": [
      "B:\\HsinYi\\DeepLabCut_Anthony\\deeplabcut\\refine_training_dataset\\outlier_frames.py:325: FutureWarning: Using the level keyword in DataFrame and Series aggregations is deprecated and will be removed in a future version. Use groupby instead. df.sum(level=1) should use df.groupby(level=1).sum().\n",
      "  sum_ = temp_dt.sum(axis=1, level=1)\n"
     ]
    },
    {
     "name": "stdout",
     "output_type": "stream",
     "text": [
      "Creating the symbolic link of the video\n",
      "AUTOMATIC ADDING OF VIDEO TO CONFIG FILE FAILED! You need to do this manually for including it in the config.yaml file!\n",
      "Videopath: B:\\HsinYi\\DeepLabCut_Anthony/8videos_1400frames_relabled/videos/newvideo_piezo\\0311 Spider Piezo 40Hz-03112023143554-0000.mp4 Coordinates for cropping: None\n",
      "The outlier frames are extracted. They are stored in the subdirectory labeled-data\\0311 Spider Piezo 40Hz-03112023143554-0000.\n",
      "Once you extracted frames for all videos, use 'refine_labels' to manually correct the labels.\n",
      "Method  jump  found  440  putative outlier frames.\n",
      "Do you want to proceed with extracting  3  of those?\n",
      "If this list is very large, perhaps consider changing the parameters (start, stop, p_bound, comparisonbodyparts) or use a different method.\n",
      "Loading video...\n",
      "Duration of video [s]:  9.72 , recorded @  100.0 fps!\n",
      "Overall # of frames:  972 with (cropped) frame dimensions: \n",
      "Kmeans-quantization based extracting of frames from 0.0  seconds to 9.72  seconds.\n",
      "Extracting and downsampling... 440  frames from the video.\n"
     ]
    },
    {
     "name": "stderr",
     "output_type": "stream",
     "text": [
      "440it [01:28,  4.96it/s]\n",
      "C:\\Users\\Gordus_Lab\\anaconda3\\envs\\DEEPLABCUT\\lib\\site-packages\\sklearn\\cluster\\_kmeans.py:870: FutureWarning: The default value of `n_init` will change from 3 to 'auto' in 1.4. Set the value of `n_init` explicitly to suppress the warning\n",
      "  warnings.warn(\n"
     ]
    },
    {
     "name": "stdout",
     "output_type": "stream",
     "text": [
      "Kmeans clustering ... (this might take a while)\n",
      "Let's select frames indices: [509, 859, 845]\n"
     ]
    },
    {
     "name": "stderr",
     "output_type": "stream",
     "text": [
      "B:\\HsinYi\\DeepLabCut_Anthony\\deeplabcut\\refine_training_dataset\\outlier_frames.py:325: FutureWarning: Using the level keyword in DataFrame and Series aggregations is deprecated and will be removed in a future version. Use groupby instead. df.sum(level=1) should use df.groupby(level=1).sum().\n",
      "  sum_ = temp_dt.sum(axis=1, level=1)\n"
     ]
    },
    {
     "name": "stdout",
     "output_type": "stream",
     "text": [
      "Creating the symbolic link of the video\n",
      "AUTOMATIC ADDING OF VIDEO TO CONFIG FILE FAILED! You need to do this manually for including it in the config.yaml file!\n",
      "Videopath: B:\\HsinYi\\DeepLabCut_Anthony/8videos_1400frames_relabled/videos/newvideo_piezo\\0311 Spider Piezo 50Hz Crouched Nm-03112023162242-0000.mp4 Coordinates for cropping: None\n",
      "The outlier frames are extracted. They are stored in the subdirectory labeled-data\\0311 Spider Piezo 50Hz Crouched Nm-03112023162242-0000.\n",
      "Once you extracted frames for all videos, use 'refine_labels' to manually correct the labels.\n",
      "Method  jump  found  405  putative outlier frames.\n",
      "Do you want to proceed with extracting  3  of those?\n",
      "If this list is very large, perhaps consider changing the parameters (start, stop, p_bound, comparisonbodyparts) or use a different method.\n",
      "Loading video...\n",
      "Duration of video [s]:  9.17 , recorded @  100.0 fps!\n",
      "Overall # of frames:  917 with (cropped) frame dimensions: \n",
      "Kmeans-quantization based extracting of frames from 0.0  seconds to 9.17  seconds.\n",
      "Extracting and downsampling... 405  frames from the video.\n"
     ]
    },
    {
     "name": "stderr",
     "output_type": "stream",
     "text": [
      "405it [01:18,  5.17it/s]\n",
      "C:\\Users\\Gordus_Lab\\anaconda3\\envs\\DEEPLABCUT\\lib\\site-packages\\sklearn\\cluster\\_kmeans.py:870: FutureWarning: The default value of `n_init` will change from 3 to 'auto' in 1.4. Set the value of `n_init` explicitly to suppress the warning\n",
      "  warnings.warn(\n"
     ]
    },
    {
     "name": "stdout",
     "output_type": "stream",
     "text": [
      "Kmeans clustering ... (this might take a while)\n",
      "Let's select frames indices: [641, 646, 290]\n"
     ]
    },
    {
     "name": "stderr",
     "output_type": "stream",
     "text": [
      "B:\\HsinYi\\DeepLabCut_Anthony\\deeplabcut\\refine_training_dataset\\outlier_frames.py:325: FutureWarning: Using the level keyword in DataFrame and Series aggregations is deprecated and will be removed in a future version. Use groupby instead. df.sum(level=1) should use df.groupby(level=1).sum().\n",
      "  sum_ = temp_dt.sum(axis=1, level=1)\n"
     ]
    },
    {
     "name": "stdout",
     "output_type": "stream",
     "text": [
      "Creating the symbolic link of the video\n",
      "AUTOMATIC ADDING OF VIDEO TO CONFIG FILE FAILED! You need to do this manually for including it in the config.yaml file!\n",
      "Videopath: B:\\HsinYi\\DeepLabCut_Anthony/8videos_1400frames_relabled/videos/newvideo_piezo\\0311 Spider Piezo 50Hz Crouched-03112023161400-0000.mp4 Coordinates for cropping: None\n",
      "The outlier frames are extracted. They are stored in the subdirectory labeled-data\\0311 Spider Piezo 50Hz Crouched-03112023161400-0000.\n",
      "Once you extracted frames for all videos, use 'refine_labels' to manually correct the labels.\n",
      "Method  jump  found  460  putative outlier frames.\n",
      "Do you want to proceed with extracting  3  of those?\n",
      "If this list is very large, perhaps consider changing the parameters (start, stop, p_bound, comparisonbodyparts) or use a different method.\n",
      "Loading video...\n",
      "Duration of video [s]:  10.93 , recorded @  100.0 fps!\n",
      "Overall # of frames:  1093 with (cropped) frame dimensions: \n",
      "Kmeans-quantization based extracting of frames from 0.0  seconds to 10.93  seconds.\n",
      "Extracting and downsampling... 460  frames from the video.\n"
     ]
    },
    {
     "name": "stderr",
     "output_type": "stream",
     "text": [
      "460it [01:36,  4.77it/s]\n",
      "C:\\Users\\Gordus_Lab\\anaconda3\\envs\\DEEPLABCUT\\lib\\site-packages\\sklearn\\cluster\\_kmeans.py:870: FutureWarning: The default value of `n_init` will change from 3 to 'auto' in 1.4. Set the value of `n_init` explicitly to suppress the warning\n",
      "  warnings.warn(\n"
     ]
    },
    {
     "name": "stdout",
     "output_type": "stream",
     "text": [
      "Kmeans clustering ... (this might take a while)\n",
      "Let's select frames indices: [996, 666, 523]\n"
     ]
    },
    {
     "name": "stderr",
     "output_type": "stream",
     "text": [
      "B:\\HsinYi\\DeepLabCut_Anthony\\deeplabcut\\refine_training_dataset\\outlier_frames.py:325: FutureWarning: Using the level keyword in DataFrame and Series aggregations is deprecated and will be removed in a future version. Use groupby instead. df.sum(level=1) should use df.groupby(level=1).sum().\n",
      "  sum_ = temp_dt.sum(axis=1, level=1)\n"
     ]
    },
    {
     "name": "stdout",
     "output_type": "stream",
     "text": [
      "Creating the symbolic link of the video\n",
      "AUTOMATIC ADDING OF VIDEO TO CONFIG FILE FAILED! You need to do this manually for including it in the config.yaml file!\n",
      "Videopath: B:\\HsinYi\\DeepLabCut_Anthony/8videos_1400frames_relabled/videos/newvideo_piezo\\0311 Spider Piezo 50Hz-03112023135536-0000.mp4 Coordinates for cropping: None\n",
      "The outlier frames are extracted. They are stored in the subdirectory labeled-data\\0311 Spider Piezo 50Hz-03112023135536-0000.\n",
      "Once you extracted frames for all videos, use 'refine_labels' to manually correct the labels.\n",
      "Method  jump  found  568  putative outlier frames.\n",
      "Do you want to proceed with extracting  3  of those?\n",
      "If this list is very large, perhaps consider changing the parameters (start, stop, p_bound, comparisonbodyparts) or use a different method.\n",
      "Loading video...\n",
      "Duration of video [s]:  13.07 , recorded @  100.0 fps!\n",
      "Overall # of frames:  1307 with (cropped) frame dimensions: \n",
      "Kmeans-quantization based extracting of frames from 0.0  seconds to 13.07  seconds.\n",
      "Extracting and downsampling... 568  frames from the video.\n"
     ]
    },
    {
     "name": "stderr",
     "output_type": "stream",
     "text": [
      "568it [01:24,  6.76it/s]\n",
      "C:\\Users\\Gordus_Lab\\anaconda3\\envs\\DEEPLABCUT\\lib\\site-packages\\sklearn\\cluster\\_kmeans.py:870: FutureWarning: The default value of `n_init` will change from 3 to 'auto' in 1.4. Set the value of `n_init` explicitly to suppress the warning\n",
      "  warnings.warn(\n"
     ]
    },
    {
     "name": "stdout",
     "output_type": "stream",
     "text": [
      "Kmeans clustering ... (this might take a while)\n",
      "Let's select frames indices: [351, 1126, 1234]\n"
     ]
    },
    {
     "name": "stderr",
     "output_type": "stream",
     "text": [
      "B:\\HsinYi\\DeepLabCut_Anthony\\deeplabcut\\refine_training_dataset\\outlier_frames.py:325: FutureWarning: Using the level keyword in DataFrame and Series aggregations is deprecated and will be removed in a future version. Use groupby instead. df.sum(level=1) should use df.groupby(level=1).sum().\n",
      "  sum_ = temp_dt.sum(axis=1, level=1)\n"
     ]
    },
    {
     "name": "stdout",
     "output_type": "stream",
     "text": [
      "Creating the symbolic link of the video\n",
      "AUTOMATIC ADDING OF VIDEO TO CONFIG FILE FAILED! You need to do this manually for including it in the config.yaml file!\n",
      "Videopath: B:\\HsinYi\\DeepLabCut_Anthony/8videos_1400frames_relabled/videos/newvideo_piezo\\0311 Spider Piezo 50Hz-03112023144230-0000.mp4 Coordinates for cropping: None\n",
      "The outlier frames are extracted. They are stored in the subdirectory labeled-data\\0311 Spider Piezo 50Hz-03112023144230-0000.\n",
      "Once you extracted frames for all videos, use 'refine_labels' to manually correct the labels.\n",
      "Method  jump  found  182  putative outlier frames.\n",
      "Do you want to proceed with extracting  3  of those?\n",
      "If this list is very large, perhaps consider changing the parameters (start, stop, p_bound, comparisonbodyparts) or use a different method.\n",
      "Loading video...\n",
      "Duration of video [s]:  9.4 , recorded @  100.0 fps!\n",
      "Overall # of frames:  940 with (cropped) frame dimensions: \n",
      "Kmeans-quantization based extracting of frames from 0.0  seconds to 9.4  seconds.\n",
      "Extracting and downsampling... 182  frames from the video.\n"
     ]
    },
    {
     "name": "stderr",
     "output_type": "stream",
     "text": [
      "182it [00:32,  5.53it/s]\n",
      "C:\\Users\\Gordus_Lab\\anaconda3\\envs\\DEEPLABCUT\\lib\\site-packages\\sklearn\\cluster\\_kmeans.py:870: FutureWarning: The default value of `n_init` will change from 3 to 'auto' in 1.4. Set the value of `n_init` explicitly to suppress the warning\n",
      "  warnings.warn(\n"
     ]
    },
    {
     "name": "stdout",
     "output_type": "stream",
     "text": [
      "Kmeans clustering ... (this might take a while)\n",
      "Let's select frames indices: [422, 508, 628]\n"
     ]
    },
    {
     "name": "stderr",
     "output_type": "stream",
     "text": [
      "B:\\HsinYi\\DeepLabCut_Anthony\\deeplabcut\\refine_training_dataset\\outlier_frames.py:325: FutureWarning: Using the level keyword in DataFrame and Series aggregations is deprecated and will be removed in a future version. Use groupby instead. df.sum(level=1) should use df.groupby(level=1).sum().\n",
      "  sum_ = temp_dt.sum(axis=1, level=1)\n"
     ]
    },
    {
     "name": "stdout",
     "output_type": "stream",
     "text": [
      "Creating the symbolic link of the video\n",
      "AUTOMATIC ADDING OF VIDEO TO CONFIG FILE FAILED! You need to do this manually for including it in the config.yaml file!\n",
      "Videopath: B:\\HsinYi\\DeepLabCut_Anthony/8videos_1400frames_relabled/videos/newvideo_piezo\\0311 Spider Piezo 5Hz Crouched Nm-03112023162148-0000.mp4 Coordinates for cropping: None\n",
      "The outlier frames are extracted. They are stored in the subdirectory labeled-data\\0311 Spider Piezo 5Hz Crouched Nm-03112023162148-0000.\n",
      "Once you extracted frames for all videos, use 'refine_labels' to manually correct the labels.\n",
      "Method  jump  found  501  putative outlier frames.\n",
      "Do you want to proceed with extracting  3  of those?\n",
      "If this list is very large, perhaps consider changing the parameters (start, stop, p_bound, comparisonbodyparts) or use a different method.\n",
      "Loading video...\n",
      "Duration of video [s]:  9.35 , recorded @  100.0 fps!\n",
      "Overall # of frames:  935 with (cropped) frame dimensions: \n",
      "Kmeans-quantization based extracting of frames from 0.0  seconds to 9.35  seconds.\n",
      "Extracting and downsampling... 501  frames from the video.\n"
     ]
    },
    {
     "name": "stderr",
     "output_type": "stream",
     "text": [
      "501it [01:40,  4.99it/s]\n",
      "C:\\Users\\Gordus_Lab\\anaconda3\\envs\\DEEPLABCUT\\lib\\site-packages\\sklearn\\cluster\\_kmeans.py:870: FutureWarning: The default value of `n_init` will change from 3 to 'auto' in 1.4. Set the value of `n_init` explicitly to suppress the warning\n",
      "  warnings.warn(\n"
     ]
    },
    {
     "name": "stdout",
     "output_type": "stream",
     "text": [
      "Kmeans clustering ... (this might take a while)\n",
      "Let's select frames indices: [777, 878, 472]\n"
     ]
    },
    {
     "name": "stderr",
     "output_type": "stream",
     "text": [
      "B:\\HsinYi\\DeepLabCut_Anthony\\deeplabcut\\refine_training_dataset\\outlier_frames.py:325: FutureWarning: Using the level keyword in DataFrame and Series aggregations is deprecated and will be removed in a future version. Use groupby instead. df.sum(level=1) should use df.groupby(level=1).sum().\n",
      "  sum_ = temp_dt.sum(axis=1, level=1)\n"
     ]
    },
    {
     "name": "stdout",
     "output_type": "stream",
     "text": [
      "Creating the symbolic link of the video\n",
      "AUTOMATIC ADDING OF VIDEO TO CONFIG FILE FAILED! You need to do this manually for including it in the config.yaml file!\n",
      "Videopath: B:\\HsinYi\\DeepLabCut_Anthony/8videos_1400frames_relabled/videos/newvideo_piezo\\0311 Spider Piezo 5Hz Crouched-03112023155044-0000.mp4 Coordinates for cropping: None\n",
      "The outlier frames are extracted. They are stored in the subdirectory labeled-data\\0311 Spider Piezo 5Hz Crouched-03112023155044-0000.\n",
      "Once you extracted frames for all videos, use 'refine_labels' to manually correct the labels.\n",
      "Method  jump  found  164  putative outlier frames.\n",
      "Do you want to proceed with extracting  3  of those?\n",
      "If this list is very large, perhaps consider changing the parameters (start, stop, p_bound, comparisonbodyparts) or use a different method.\n",
      "Loading video...\n",
      "Duration of video [s]:  9.11 , recorded @  100.0 fps!\n",
      "Overall # of frames:  911 with (cropped) frame dimensions: \n",
      "Kmeans-quantization based extracting of frames from 0.0  seconds to 9.11  seconds.\n",
      "Extracting and downsampling... 164  frames from the video.\n"
     ]
    },
    {
     "name": "stderr",
     "output_type": "stream",
     "text": [
      "164it [00:24,  6.78it/s]\n",
      "C:\\Users\\Gordus_Lab\\anaconda3\\envs\\DEEPLABCUT\\lib\\site-packages\\sklearn\\cluster\\_kmeans.py:870: FutureWarning: The default value of `n_init` will change from 3 to 'auto' in 1.4. Set the value of `n_init` explicitly to suppress the warning\n",
      "  warnings.warn(\n"
     ]
    },
    {
     "name": "stdout",
     "output_type": "stream",
     "text": [
      "Kmeans clustering ... (this might take a while)\n",
      "Let's select frames indices: [303, 416, 114]\n"
     ]
    },
    {
     "name": "stderr",
     "output_type": "stream",
     "text": [
      "B:\\HsinYi\\DeepLabCut_Anthony\\deeplabcut\\refine_training_dataset\\outlier_frames.py:325: FutureWarning: Using the level keyword in DataFrame and Series aggregations is deprecated and will be removed in a future version. Use groupby instead. df.sum(level=1) should use df.groupby(level=1).sum().\n",
      "  sum_ = temp_dt.sum(axis=1, level=1)\n"
     ]
    },
    {
     "name": "stdout",
     "output_type": "stream",
     "text": [
      "Creating the symbolic link of the video\n",
      "AUTOMATIC ADDING OF VIDEO TO CONFIG FILE FAILED! You need to do this manually for including it in the config.yaml file!\n",
      "Videopath: B:\\HsinYi\\DeepLabCut_Anthony/8videos_1400frames_relabled/videos/newvideo_piezo\\0311 Spider Piezo 5Hz-03112023141232-0000.mp4 Coordinates for cropping: None\n",
      "The outlier frames are extracted. They are stored in the subdirectory labeled-data\\0311 Spider Piezo 5Hz-03112023141232-0000.\n",
      "Once you extracted frames for all videos, use 'refine_labels' to manually correct the labels.\n",
      "Method  jump  found  172  putative outlier frames.\n",
      "Do you want to proceed with extracting  3  of those?\n",
      "If this list is very large, perhaps consider changing the parameters (start, stop, p_bound, comparisonbodyparts) or use a different method.\n",
      "Loading video...\n",
      "Duration of video [s]:  10.38 , recorded @  100.0 fps!\n",
      "Overall # of frames:  1038 with (cropped) frame dimensions: \n",
      "Kmeans-quantization based extracting of frames from 0.0  seconds to 10.38  seconds.\n",
      "Extracting and downsampling... 172  frames from the video.\n"
     ]
    },
    {
     "name": "stderr",
     "output_type": "stream",
     "text": [
      "172it [00:31,  5.53it/s]\n",
      "C:\\Users\\Gordus_Lab\\anaconda3\\envs\\DEEPLABCUT\\lib\\site-packages\\sklearn\\cluster\\_kmeans.py:870: FutureWarning: The default value of `n_init` will change from 3 to 'auto' in 1.4. Set the value of `n_init` explicitly to suppress the warning\n",
      "  warnings.warn(\n"
     ]
    },
    {
     "name": "stdout",
     "output_type": "stream",
     "text": [
      "Kmeans clustering ... (this might take a while)\n",
      "Let's select frames indices: [252, 551, 667]\n"
     ]
    },
    {
     "name": "stderr",
     "output_type": "stream",
     "text": [
      "B:\\HsinYi\\DeepLabCut_Anthony\\deeplabcut\\refine_training_dataset\\outlier_frames.py:325: FutureWarning: Using the level keyword in DataFrame and Series aggregations is deprecated and will be removed in a future version. Use groupby instead. df.sum(level=1) should use df.groupby(level=1).sum().\n",
      "  sum_ = temp_dt.sum(axis=1, level=1)\n"
     ]
    },
    {
     "name": "stdout",
     "output_type": "stream",
     "text": [
      "Creating the symbolic link of the video\n",
      "AUTOMATIC ADDING OF VIDEO TO CONFIG FILE FAILED! You need to do this manually for including it in the config.yaml file!\n",
      "Videopath: B:\\HsinYi\\DeepLabCut_Anthony/8videos_1400frames_relabled/videos/newvideo_piezo\\031223 Spider Piezo 100Hz Crouched-03122023133411-0000.mp4 Coordinates for cropping: None\n",
      "The outlier frames are extracted. They are stored in the subdirectory labeled-data\\031223 Spider Piezo 100Hz Crouched-03122023133411-0000.\n",
      "Once you extracted frames for all videos, use 'refine_labels' to manually correct the labels.\n",
      "Method  jump  found  17  putative outlier frames.\n",
      "Do you want to proceed with extracting  3  of those?\n",
      "If this list is very large, perhaps consider changing the parameters (start, stop, p_bound, comparisonbodyparts) or use a different method.\n",
      "Loading video...\n",
      "Duration of video [s]:  9.42 , recorded @  100.0 fps!\n",
      "Overall # of frames:  942 with (cropped) frame dimensions: \n",
      "Kmeans-quantization based extracting of frames from 0.0  seconds to 9.42  seconds.\n",
      "Extracting and downsampling... 17  frames from the video.\n"
     ]
    },
    {
     "name": "stderr",
     "output_type": "stream",
     "text": [
      "17it [00:03,  4.84it/s]\n",
      "C:\\Users\\Gordus_Lab\\anaconda3\\envs\\DEEPLABCUT\\lib\\site-packages\\sklearn\\cluster\\_kmeans.py:870: FutureWarning: The default value of `n_init` will change from 3 to 'auto' in 1.4. Set the value of `n_init` explicitly to suppress the warning\n",
      "  warnings.warn(\n"
     ]
    },
    {
     "name": "stdout",
     "output_type": "stream",
     "text": [
      "Kmeans clustering ... (this might take a while)\n",
      "Let's select frames indices: [251, 268, 841]\n"
     ]
    },
    {
     "name": "stderr",
     "output_type": "stream",
     "text": [
      "B:\\HsinYi\\DeepLabCut_Anthony\\deeplabcut\\refine_training_dataset\\outlier_frames.py:325: FutureWarning: Using the level keyword in DataFrame and Series aggregations is deprecated and will be removed in a future version. Use groupby instead. df.sum(level=1) should use df.groupby(level=1).sum().\n",
      "  sum_ = temp_dt.sum(axis=1, level=1)\n"
     ]
    },
    {
     "name": "stdout",
     "output_type": "stream",
     "text": [
      "Creating the symbolic link of the video\n",
      "AUTOMATIC ADDING OF VIDEO TO CONFIG FILE FAILED! You need to do this manually for including it in the config.yaml file!\n",
      "Videopath: B:\\HsinYi\\DeepLabCut_Anthony/8videos_1400frames_relabled/videos/newvideo_piezo\\031223 Spider Piezo 10Hz Crouched-03122023133854-0000.mp4 Coordinates for cropping: None\n",
      "The outlier frames are extracted. They are stored in the subdirectory labeled-data\\031223 Spider Piezo 10Hz Crouched-03122023133854-0000.\n",
      "Once you extracted frames for all videos, use 'refine_labels' to manually correct the labels.\n",
      "Method  jump  found  311  putative outlier frames.\n",
      "Do you want to proceed with extracting  3  of those?\n",
      "If this list is very large, perhaps consider changing the parameters (start, stop, p_bound, comparisonbodyparts) or use a different method.\n",
      "Loading video...\n",
      "Duration of video [s]:  9.62 , recorded @  100.0 fps!\n",
      "Overall # of frames:  962 with (cropped) frame dimensions: \n",
      "Kmeans-quantization based extracting of frames from 0.0  seconds to 9.62  seconds.\n",
      "Extracting and downsampling... 311  frames from the video.\n"
     ]
    },
    {
     "name": "stderr",
     "output_type": "stream",
     "text": [
      "311it [00:57,  5.45it/s]\n",
      "C:\\Users\\Gordus_Lab\\anaconda3\\envs\\DEEPLABCUT\\lib\\site-packages\\sklearn\\cluster\\_kmeans.py:870: FutureWarning: The default value of `n_init` will change from 3 to 'auto' in 1.4. Set the value of `n_init` explicitly to suppress the warning\n",
      "  warnings.warn(\n"
     ]
    },
    {
     "name": "stdout",
     "output_type": "stream",
     "text": [
      "Kmeans clustering ... (this might take a while)\n",
      "Let's select frames indices: [425, 613, 673]\n"
     ]
    },
    {
     "name": "stderr",
     "output_type": "stream",
     "text": [
      "B:\\HsinYi\\DeepLabCut_Anthony\\deeplabcut\\refine_training_dataset\\outlier_frames.py:325: FutureWarning: Using the level keyword in DataFrame and Series aggregations is deprecated and will be removed in a future version. Use groupby instead. df.sum(level=1) should use df.groupby(level=1).sum().\n",
      "  sum_ = temp_dt.sum(axis=1, level=1)\n"
     ]
    },
    {
     "name": "stdout",
     "output_type": "stream",
     "text": [
      "Creating the symbolic link of the video\n",
      "AUTOMATIC ADDING OF VIDEO TO CONFIG FILE FAILED! You need to do this manually for including it in the config.yaml file!\n",
      "Videopath: B:\\HsinYi\\DeepLabCut_Anthony/8videos_1400frames_relabled/videos/newvideo_piezo\\031223 Spider Piezo 10Hz Crouched2-03122023132918-0000.mp4 Coordinates for cropping: None\n",
      "The outlier frames are extracted. They are stored in the subdirectory labeled-data\\031223 Spider Piezo 10Hz Crouched2-03122023132918-0000.\n",
      "Once you extracted frames for all videos, use 'refine_labels' to manually correct the labels.\n",
      "Method  jump  found  158  putative outlier frames.\n",
      "Do you want to proceed with extracting  3  of those?\n",
      "If this list is very large, perhaps consider changing the parameters (start, stop, p_bound, comparisonbodyparts) or use a different method.\n",
      "Loading video...\n",
      "Duration of video [s]:  9.33 , recorded @  100.0 fps!\n",
      "Overall # of frames:  933 with (cropped) frame dimensions: \n",
      "Kmeans-quantization based extracting of frames from 0.0  seconds to 9.33  seconds.\n",
      "Extracting and downsampling... 158  frames from the video.\n"
     ]
    },
    {
     "name": "stderr",
     "output_type": "stream",
     "text": [
      "158it [00:29,  5.33it/s]\n",
      "C:\\Users\\Gordus_Lab\\anaconda3\\envs\\DEEPLABCUT\\lib\\site-packages\\sklearn\\cluster\\_kmeans.py:870: FutureWarning: The default value of `n_init` will change from 3 to 'auto' in 1.4. Set the value of `n_init` explicitly to suppress the warning\n",
      "  warnings.warn(\n"
     ]
    },
    {
     "name": "stdout",
     "output_type": "stream",
     "text": [
      "Kmeans clustering ... (this might take a while)\n",
      "Let's select frames indices: [252, 881, 841]\n"
     ]
    },
    {
     "name": "stderr",
     "output_type": "stream",
     "text": [
      "B:\\HsinYi\\DeepLabCut_Anthony\\deeplabcut\\refine_training_dataset\\outlier_frames.py:325: FutureWarning: Using the level keyword in DataFrame and Series aggregations is deprecated and will be removed in a future version. Use groupby instead. df.sum(level=1) should use df.groupby(level=1).sum().\n",
      "  sum_ = temp_dt.sum(axis=1, level=1)\n"
     ]
    },
    {
     "name": "stdout",
     "output_type": "stream",
     "text": [
      "Creating the symbolic link of the video\n",
      "AUTOMATIC ADDING OF VIDEO TO CONFIG FILE FAILED! You need to do this manually for including it in the config.yaml file!\n",
      "Videopath: B:\\HsinYi\\DeepLabCut_Anthony/8videos_1400frames_relabled/videos/newvideo_piezo\\031223 Spider Piezo 20Hz Crouched-03122023133710-0000.mp4 Coordinates for cropping: None\n",
      "The outlier frames are extracted. They are stored in the subdirectory labeled-data\\031223 Spider Piezo 20Hz Crouched-03122023133710-0000.\n",
      "Once you extracted frames for all videos, use 'refine_labels' to manually correct the labels.\n",
      "Method  jump  found  74  putative outlier frames.\n",
      "Do you want to proceed with extracting  3  of those?\n",
      "If this list is very large, perhaps consider changing the parameters (start, stop, p_bound, comparisonbodyparts) or use a different method.\n",
      "Loading video...\n",
      "Duration of video [s]:  8.08 , recorded @  100.0 fps!\n",
      "Overall # of frames:  808 with (cropped) frame dimensions: \n",
      "Kmeans-quantization based extracting of frames from 0.0  seconds to 8.08  seconds.\n",
      "Extracting and downsampling... 74  frames from the video.\n"
     ]
    },
    {
     "name": "stderr",
     "output_type": "stream",
     "text": [
      "74it [00:09,  7.50it/s]\n",
      "C:\\Users\\Gordus_Lab\\anaconda3\\envs\\DEEPLABCUT\\lib\\site-packages\\sklearn\\cluster\\_kmeans.py:870: FutureWarning: The default value of `n_init` will change from 3 to 'auto' in 1.4. Set the value of `n_init` explicitly to suppress the warning\n",
      "  warnings.warn(\n"
     ]
    },
    {
     "name": "stdout",
     "output_type": "stream",
     "text": [
      "Kmeans clustering ... (this might take a while)\n",
      "Let's select frames indices: [330, 527, 57]\n"
     ]
    },
    {
     "name": "stderr",
     "output_type": "stream",
     "text": [
      "B:\\HsinYi\\DeepLabCut_Anthony\\deeplabcut\\refine_training_dataset\\outlier_frames.py:325: FutureWarning: Using the level keyword in DataFrame and Series aggregations is deprecated and will be removed in a future version. Use groupby instead. df.sum(level=1) should use df.groupby(level=1).sum().\n",
      "  sum_ = temp_dt.sum(axis=1, level=1)\n"
     ]
    },
    {
     "name": "stdout",
     "output_type": "stream",
     "text": [
      "Creating the symbolic link of the video\n",
      "AUTOMATIC ADDING OF VIDEO TO CONFIG FILE FAILED! You need to do this manually for including it in the config.yaml file!\n",
      "Videopath: B:\\HsinYi\\DeepLabCut_Anthony/8videos_1400frames_relabled/videos/newvideo_piezo\\031223 Spider Piezo 20Hz Crouched2-03122023133033-0000.mp4 Coordinates for cropping: None\n",
      "The outlier frames are extracted. They are stored in the subdirectory labeled-data\\031223 Spider Piezo 20Hz Crouched2-03122023133033-0000.\n",
      "Once you extracted frames for all videos, use 'refine_labels' to manually correct the labels.\n",
      "Method  jump  found  17  putative outlier frames.\n",
      "Do you want to proceed with extracting  3  of those?\n",
      "If this list is very large, perhaps consider changing the parameters (start, stop, p_bound, comparisonbodyparts) or use a different method.\n",
      "Loading video...\n",
      "Duration of video [s]:  10.1 , recorded @  100.0 fps!\n",
      "Overall # of frames:  1010 with (cropped) frame dimensions: \n",
      "Kmeans-quantization based extracting of frames from 0.0  seconds to 10.1  seconds.\n",
      "Extracting and downsampling... 17  frames from the video.\n"
     ]
    },
    {
     "name": "stderr",
     "output_type": "stream",
     "text": [
      "17it [00:04,  4.21it/s]\n",
      "C:\\Users\\Gordus_Lab\\anaconda3\\envs\\DEEPLABCUT\\lib\\site-packages\\sklearn\\cluster\\_kmeans.py:870: FutureWarning: The default value of `n_init` will change from 3 to 'auto' in 1.4. Set the value of `n_init` explicitly to suppress the warning\n",
      "  warnings.warn(\n"
     ]
    },
    {
     "name": "stdout",
     "output_type": "stream",
     "text": [
      "Kmeans clustering ... (this might take a while)\n",
      "Let's select frames indices: [669, 750, 685]\n"
     ]
    },
    {
     "name": "stderr",
     "output_type": "stream",
     "text": [
      "B:\\HsinYi\\DeepLabCut_Anthony\\deeplabcut\\refine_training_dataset\\outlier_frames.py:325: FutureWarning: Using the level keyword in DataFrame and Series aggregations is deprecated and will be removed in a future version. Use groupby instead. df.sum(level=1) should use df.groupby(level=1).sum().\n",
      "  sum_ = temp_dt.sum(axis=1, level=1)\n"
     ]
    },
    {
     "name": "stdout",
     "output_type": "stream",
     "text": [
      "Creating the symbolic link of the video\n",
      "AUTOMATIC ADDING OF VIDEO TO CONFIG FILE FAILED! You need to do this manually for including it in the config.yaml file!\n",
      "Videopath: B:\\HsinYi\\DeepLabCut_Anthony/8videos_1400frames_relabled/videos/newvideo_piezo\\031223 Spider Piezo 30Hz Crouched-03122023133531-0000.mp4 Coordinates for cropping: None\n",
      "The outlier frames are extracted. They are stored in the subdirectory labeled-data\\031223 Spider Piezo 30Hz Crouched-03122023133531-0000.\n",
      "Once you extracted frames for all videos, use 'refine_labels' to manually correct the labels.\n",
      "Method  jump  found  256  putative outlier frames.\n",
      "Do you want to proceed with extracting  3  of those?\n",
      "If this list is very large, perhaps consider changing the parameters (start, stop, p_bound, comparisonbodyparts) or use a different method.\n",
      "Loading video...\n",
      "Duration of video [s]:  9.76 , recorded @  100.0 fps!\n",
      "Overall # of frames:  976 with (cropped) frame dimensions: \n",
      "Kmeans-quantization based extracting of frames from 0.0  seconds to 9.76  seconds.\n",
      "Extracting and downsampling... 256  frames from the video.\n"
     ]
    },
    {
     "name": "stderr",
     "output_type": "stream",
     "text": [
      "256it [01:00,  4.24it/s]\n",
      "C:\\Users\\Gordus_Lab\\anaconda3\\envs\\DEEPLABCUT\\lib\\site-packages\\sklearn\\cluster\\_kmeans.py:870: FutureWarning: The default value of `n_init` will change from 3 to 'auto' in 1.4. Set the value of `n_init` explicitly to suppress the warning\n",
      "  warnings.warn(\n"
     ]
    },
    {
     "name": "stdout",
     "output_type": "stream",
     "text": [
      "Kmeans clustering ... (this might take a while)\n",
      "Let's select frames indices: [703, 930, 66]\n"
     ]
    },
    {
     "name": "stderr",
     "output_type": "stream",
     "text": [
      "B:\\HsinYi\\DeepLabCut_Anthony\\deeplabcut\\refine_training_dataset\\outlier_frames.py:325: FutureWarning: Using the level keyword in DataFrame and Series aggregations is deprecated and will be removed in a future version. Use groupby instead. df.sum(level=1) should use df.groupby(level=1).sum().\n",
      "  sum_ = temp_dt.sum(axis=1, level=1)\n"
     ]
    },
    {
     "name": "stdout",
     "output_type": "stream",
     "text": [
      "Creating the symbolic link of the video\n",
      "AUTOMATIC ADDING OF VIDEO TO CONFIG FILE FAILED! You need to do this manually for including it in the config.yaml file!\n",
      "Videopath: B:\\HsinYi\\DeepLabCut_Anthony/8videos_1400frames_relabled/videos/newvideo_piezo\\031223 Spider Piezo 30Hz Crouched2-03122023133120-0000.mp4 Coordinates for cropping: None\n",
      "The outlier frames are extracted. They are stored in the subdirectory labeled-data\\031223 Spider Piezo 30Hz Crouched2-03122023133120-0000.\n",
      "Once you extracted frames for all videos, use 'refine_labels' to manually correct the labels.\n",
      "Method  jump  found  79  putative outlier frames.\n",
      "Do you want to proceed with extracting  3  of those?\n",
      "If this list is very large, perhaps consider changing the parameters (start, stop, p_bound, comparisonbodyparts) or use a different method.\n",
      "Loading video...\n",
      "Duration of video [s]:  9.81 , recorded @  100.0 fps!\n",
      "Overall # of frames:  981 with (cropped) frame dimensions: \n",
      "Kmeans-quantization based extracting of frames from 0.0  seconds to 9.81  seconds.\n",
      "Extracting and downsampling... 79  frames from the video.\n"
     ]
    },
    {
     "name": "stderr",
     "output_type": "stream",
     "text": [
      "79it [00:09,  8.34it/s]\n",
      "C:\\Users\\Gordus_Lab\\anaconda3\\envs\\DEEPLABCUT\\lib\\site-packages\\sklearn\\cluster\\_kmeans.py:870: FutureWarning: The default value of `n_init` will change from 3 to 'auto' in 1.4. Set the value of `n_init` explicitly to suppress the warning\n",
      "  warnings.warn(\n"
     ]
    },
    {
     "name": "stdout",
     "output_type": "stream",
     "text": [
      "Kmeans clustering ... (this might take a while)\n",
      "Let's select frames indices: [207, 414, 215]\n"
     ]
    },
    {
     "name": "stderr",
     "output_type": "stream",
     "text": [
      "B:\\HsinYi\\DeepLabCut_Anthony\\deeplabcut\\refine_training_dataset\\outlier_frames.py:325: FutureWarning: Using the level keyword in DataFrame and Series aggregations is deprecated and will be removed in a future version. Use groupby instead. df.sum(level=1) should use df.groupby(level=1).sum().\n",
      "  sum_ = temp_dt.sum(axis=1, level=1)\n"
     ]
    },
    {
     "name": "stdout",
     "output_type": "stream",
     "text": [
      "Creating the symbolic link of the video\n",
      "AUTOMATIC ADDING OF VIDEO TO CONFIG FILE FAILED! You need to do this manually for including it in the config.yaml file!\n",
      "Videopath: B:\\HsinYi\\DeepLabCut_Anthony/8videos_1400frames_relabled/videos/newvideo_piezo\\031223 Spider Piezo 40Hz Crouched-03122023133239-0000.mp4 Coordinates for cropping: None\n",
      "The outlier frames are extracted. They are stored in the subdirectory labeled-data\\031223 Spider Piezo 40Hz Crouched-03122023133239-0000.\n",
      "Once you extracted frames for all videos, use 'refine_labels' to manually correct the labels.\n",
      "Method  jump  found  149  putative outlier frames.\n",
      "Do you want to proceed with extracting  3  of those?\n",
      "If this list is very large, perhaps consider changing the parameters (start, stop, p_bound, comparisonbodyparts) or use a different method.\n",
      "Loading video...\n",
      "Duration of video [s]:  10.2 , recorded @  100.0 fps!\n",
      "Overall # of frames:  1020 with (cropped) frame dimensions: \n",
      "Kmeans-quantization based extracting of frames from 0.0  seconds to 10.2  seconds.\n",
      "Extracting and downsampling... 149  frames from the video.\n"
     ]
    },
    {
     "name": "stderr",
     "output_type": "stream",
     "text": [
      "149it [00:25,  5.75it/s]\n",
      "C:\\Users\\Gordus_Lab\\anaconda3\\envs\\DEEPLABCUT\\lib\\site-packages\\sklearn\\cluster\\_kmeans.py:870: FutureWarning: The default value of `n_init` will change from 3 to 'auto' in 1.4. Set the value of `n_init` explicitly to suppress the warning\n",
      "  warnings.warn(\n"
     ]
    },
    {
     "name": "stdout",
     "output_type": "stream",
     "text": [
      "Kmeans clustering ... (this might take a while)\n",
      "Let's select frames indices: [600, 889, 870]\n"
     ]
    },
    {
     "name": "stderr",
     "output_type": "stream",
     "text": [
      "B:\\HsinYi\\DeepLabCut_Anthony\\deeplabcut\\refine_training_dataset\\outlier_frames.py:325: FutureWarning: Using the level keyword in DataFrame and Series aggregations is deprecated and will be removed in a future version. Use groupby instead. df.sum(level=1) should use df.groupby(level=1).sum().\n",
      "  sum_ = temp_dt.sum(axis=1, level=1)\n"
     ]
    },
    {
     "name": "stdout",
     "output_type": "stream",
     "text": [
      "Creating the symbolic link of the video\n",
      "AUTOMATIC ADDING OF VIDEO TO CONFIG FILE FAILED! You need to do this manually for including it in the config.yaml file!\n",
      "Videopath: B:\\HsinYi\\DeepLabCut_Anthony/8videos_1400frames_relabled/videos/newvideo_piezo\\031223 Spider Piezo 50Hz Crouched-03122023133322-0000.mp4 Coordinates for cropping: None\n",
      "The outlier frames are extracted. They are stored in the subdirectory labeled-data\\031223 Spider Piezo 50Hz Crouched-03122023133322-0000.\n",
      "Once you extracted frames for all videos, use 'refine_labels' to manually correct the labels.\n",
      "Method  jump  found  109  putative outlier frames.\n",
      "Do you want to proceed with extracting  3  of those?\n",
      "If this list is very large, perhaps consider changing the parameters (start, stop, p_bound, comparisonbodyparts) or use a different method.\n",
      "Loading video...\n",
      "Duration of video [s]:  9.67 , recorded @  100.0 fps!\n",
      "Overall # of frames:  967 with (cropped) frame dimensions: \n",
      "Kmeans-quantization based extracting of frames from 0.0  seconds to 9.67  seconds.\n",
      "Extracting and downsampling... 109  frames from the video.\n"
     ]
    },
    {
     "name": "stderr",
     "output_type": "stream",
     "text": [
      "109it [00:18,  6.05it/s]\n",
      "C:\\Users\\Gordus_Lab\\anaconda3\\envs\\DEEPLABCUT\\lib\\site-packages\\sklearn\\cluster\\_kmeans.py:870: FutureWarning: The default value of `n_init` will change from 3 to 'auto' in 1.4. Set the value of `n_init` explicitly to suppress the warning\n",
      "  warnings.warn(\n"
     ]
    },
    {
     "name": "stdout",
     "output_type": "stream",
     "text": [
      "Kmeans clustering ... (this might take a while)\n",
      "Let's select frames indices: [209, 491, 366]\n"
     ]
    },
    {
     "name": "stderr",
     "output_type": "stream",
     "text": [
      "B:\\HsinYi\\DeepLabCut_Anthony\\deeplabcut\\refine_training_dataset\\outlier_frames.py:325: FutureWarning: Using the level keyword in DataFrame and Series aggregations is deprecated and will be removed in a future version. Use groupby instead. df.sum(level=1) should use df.groupby(level=1).sum().\n",
      "  sum_ = temp_dt.sum(axis=1, level=1)\n"
     ]
    },
    {
     "name": "stdout",
     "output_type": "stream",
     "text": [
      "Creating the symbolic link of the video\n",
      "AUTOMATIC ADDING OF VIDEO TO CONFIG FILE FAILED! You need to do this manually for including it in the config.yaml file!\n",
      "Videopath: B:\\HsinYi\\DeepLabCut_Anthony/8videos_1400frames_relabled/videos/newvideo_piezo\\031223 Spider Piezo 5Hz Crouched-03122023133932-0000.mp4 Coordinates for cropping: None\n",
      "The outlier frames are extracted. They are stored in the subdirectory labeled-data\\031223 Spider Piezo 5Hz Crouched-03122023133932-0000.\n",
      "Once you extracted frames for all videos, use 'refine_labels' to manually correct the labels.\n",
      "Method  jump  found  208  putative outlier frames.\n",
      "Do you want to proceed with extracting  3  of those?\n",
      "If this list is very large, perhaps consider changing the parameters (start, stop, p_bound, comparisonbodyparts) or use a different method.\n",
      "Loading video...\n",
      "Duration of video [s]:  9.89 , recorded @  100.0 fps!\n",
      "Overall # of frames:  989 with (cropped) frame dimensions: \n",
      "Kmeans-quantization based extracting of frames from 0.0  seconds to 9.89  seconds.\n",
      "Extracting and downsampling... 208  frames from the video.\n"
     ]
    },
    {
     "name": "stderr",
     "output_type": "stream",
     "text": [
      "208it [00:34,  5.97it/s]\n",
      "C:\\Users\\Gordus_Lab\\anaconda3\\envs\\DEEPLABCUT\\lib\\site-packages\\sklearn\\cluster\\_kmeans.py:870: FutureWarning: The default value of `n_init` will change from 3 to 'auto' in 1.4. Set the value of `n_init` explicitly to suppress the warning\n",
      "  warnings.warn(\n"
     ]
    },
    {
     "name": "stdout",
     "output_type": "stream",
     "text": [
      "Kmeans clustering ... (this might take a while)\n",
      "Let's select frames indices: [628, 400, 835]\n",
      "Creating the symbolic link of the video\n",
      "AUTOMATIC ADDING OF VIDEO TO CONFIG FILE FAILED! You need to do this manually for including it in the config.yaml file!\n",
      "Videopath: B:\\HsinYi\\DeepLabCut_Anthony/8videos_1400frames_relabled/videos/newvideo_piezo\\031223 Spider Piezo 5Hz Crouched2-03122023132810-0000.mp4 Coordinates for cropping: None\n",
      "The outlier frames are extracted. They are stored in the subdirectory labeled-data\\031223 Spider Piezo 5Hz Crouched2-03122023132810-0000.\n",
      "Once you extracted frames for all videos, use 'refine_labels' to manually correct the labels.\n"
     ]
    }
   ],
   "source": [
    "deeplabcut.extract_outlier_frames(path_config_file, new_videos, automatic=True)"
   ]
  },
  {
   "cell_type": "code",
   "execution_count": 6,
   "metadata": {},
   "outputs": [
    {
     "name": "stdout",
     "output_type": "stream",
     "text": [
      "Creating the symbolic link of the video\n"
     ]
    },
    {
     "ename": "OSError",
     "evalue": "[WinError 1314] A required privilege is not held by the client: 'B:\\\\HsinYi\\\\DeepLabCut_Anthony\\\\8videos_1400frames_relabled\\\\videos\\\\newvideo_piezo\\\\022823 Piezo Air Control 100Hz-02282023143835-0000.mp4' -> 'B:\\\\HsinYi\\\\DeepLabCut_Anthony\\\\8videos_1400frames_relabled\\\\videos\\\\022823 Piezo Air Control 100Hz-02282023143835-0000.mp4'",
     "output_type": "error",
     "traceback": [
      "\u001b[1;31m---------------------------------------------------------------------------\u001b[0m",
      "\u001b[1;31mOSError\u001b[0m                                   Traceback (most recent call last)",
      "Cell \u001b[1;32mIn[6], line 1\u001b[0m\n\u001b[1;32m----> 1\u001b[0m \u001b[43mdeeplabcut\u001b[49m\u001b[38;5;241;43m.\u001b[39;49m\u001b[43madd_new_videos\u001b[49m\u001b[43m(\u001b[49m\u001b[43mpath_config_file\u001b[49m\u001b[43m,\u001b[49m\u001b[43m \u001b[49m\u001b[43mnew_videos\u001b[49m\u001b[43m,\u001b[49m\u001b[43m \u001b[49m\u001b[43mcopy_videos\u001b[49m\u001b[38;5;241;43m=\u001b[39;49m\u001b[38;5;28;43;01mFalse\u001b[39;49;00m\u001b[43m)\u001b[49m\n",
      "File \u001b[1;32mB:\\HsinYi\\DeepLabCut_Anthony\\deeplabcut\\create_project\\add.py:79\u001b[0m, in \u001b[0;36madd_new_videos\u001b[1;34m(config, videos, copy_videos, coords)\u001b[0m\n\u001b[0;32m     77\u001b[0m             src \u001b[38;5;241m=\u001b[39m \u001b[38;5;28mstr\u001b[39m(src)\n\u001b[0;32m     78\u001b[0m             dst \u001b[38;5;241m=\u001b[39m \u001b[38;5;28mstr\u001b[39m(dst)\n\u001b[1;32m---> 79\u001b[0m             \u001b[43mos\u001b[49m\u001b[38;5;241;43m.\u001b[39;49m\u001b[43msymlink\u001b[49m\u001b[43m(\u001b[49m\u001b[43msrc\u001b[49m\u001b[43m,\u001b[49m\u001b[43m \u001b[49m\u001b[43mdst\u001b[49m\u001b[43m)\u001b[49m\n\u001b[0;32m     81\u001b[0m \u001b[38;5;28;01mif\u001b[39;00m copy_videos:\n\u001b[0;32m     82\u001b[0m     videos \u001b[38;5;241m=\u001b[39m (\n\u001b[0;32m     83\u001b[0m         destinations\n\u001b[0;32m     84\u001b[0m     )  \u001b[38;5;66;03m# in this case the *new* location should be added to the config file\u001b[39;00m\n",
      "\u001b[1;31mOSError\u001b[0m: [WinError 1314] A required privilege is not held by the client: 'B:\\\\HsinYi\\\\DeepLabCut_Anthony\\\\8videos_1400frames_relabled\\\\videos\\\\newvideo_piezo\\\\022823 Piezo Air Control 100Hz-02282023143835-0000.mp4' -> 'B:\\\\HsinYi\\\\DeepLabCut_Anthony\\\\8videos_1400frames_relabled\\\\videos\\\\022823 Piezo Air Control 100Hz-02282023143835-0000.mp4'"
     ]
    }
   ],
   "source": [
    "deeplabcut.add_new_videos(path_config_file, new_videos, copy_videos=False)"
   ]
  },
  {
   "cell_type": "code",
   "execution_count": 4,
   "metadata": {},
   "outputs": [
    {
     "ename": "AttributeError",
     "evalue": "module 'deeplabcut' has no attribute 'refine_labels'",
     "output_type": "error",
     "traceback": [
      "\u001b[1;31m---------------------------------------------------------------------------\u001b[0m",
      "\u001b[1;31mAttributeError\u001b[0m                            Traceback (most recent call last)",
      "Cell \u001b[1;32mIn[4], line 1\u001b[0m\n\u001b[1;32m----> 1\u001b[0m \u001b[43mdeeplabcut\u001b[49m\u001b[38;5;241;43m.\u001b[39;49m\u001b[43mrefine_labels\u001b[49m(path_config_file)\n",
      "\u001b[1;31mAttributeError\u001b[0m: module 'deeplabcut' has no attribute 'refine_labels'"
     ]
    }
   ],
   "source": [
    "deeplabcut.refine_labels(path_config_file)"
   ]
  },
  {
   "cell_type": "code",
   "execution_count": 5,
   "metadata": {},
   "outputs": [
    {
     "name": "stdout",
     "output_type": "stream",
     "text": [
      "Merged data sets and updated refinement iteration to 5.\n",
      "Now you can create a new training set for the expanded annotated images (use create_training_dataset).\n"
     ]
    }
   ],
   "source": [
    "deeplabcut.merge_datasets(path_config_file)"
   ]
  },
  {
   "cell_type": "code",
   "execution_count": 6,
   "metadata": {},
   "outputs": [
    {
     "ename": "TypeError",
     "evalue": "join() argument must be str, bytes, or os.PathLike object, not 'tuple'",
     "output_type": "error",
     "traceback": [
      "\u001b[1;31m---------------------------------------------------------------------------\u001b[0m",
      "\u001b[1;31mTypeError\u001b[0m                                 Traceback (most recent call last)",
      "Cell \u001b[1;32mIn[6], line 1\u001b[0m\n\u001b[1;32m----> 1\u001b[0m \u001b[43mdeeplabcut\u001b[49m\u001b[38;5;241;43m.\u001b[39;49m\u001b[43mcreate_training_dataset\u001b[49m\u001b[43m(\u001b[49m\u001b[43mpath_config_file\u001b[49m\u001b[43m,\u001b[49m\u001b[43m \u001b[49m\u001b[43mnet_type\u001b[49m\u001b[38;5;241;43m=\u001b[39;49m\u001b[38;5;124;43m'\u001b[39;49m\u001b[38;5;124;43mresnet_50\u001b[39;49m\u001b[38;5;124;43m'\u001b[39;49m\u001b[43m,\u001b[49m\u001b[43m \u001b[49m\u001b[43maugmenter_type\u001b[49m\u001b[38;5;241;43m=\u001b[39;49m\u001b[38;5;124;43m'\u001b[39;49m\u001b[38;5;124;43mimgaug\u001b[39;49m\u001b[38;5;124;43m'\u001b[39;49m\u001b[43m)\u001b[49m\n",
      "File \u001b[1;32mB:\\HsinYi\\DeepLabCut_Anthony\\deeplabcut\\generate_training_dataset\\trainingsetmanipulation.py:883\u001b[0m, in \u001b[0;36mcreate_training_dataset\u001b[1;34m(config, num_shuffles, Shuffles, windows2linux, userfeedback, trainIndices, testIndices, net_type, augmenter_type)\u001b[0m\n\u001b[0;32m    873\u001b[0m (\n\u001b[0;32m    874\u001b[0m     datafilename,\n\u001b[0;32m    875\u001b[0m     metadatafilename,\n\u001b[0;32m    876\u001b[0m ) \u001b[38;5;241m=\u001b[39m auxiliaryfunctions\u001b[38;5;241m.\u001b[39mGetDataandMetaDataFilenames(\n\u001b[0;32m    877\u001b[0m     trainingsetfolder, trainFraction, shuffle, cfg\n\u001b[0;32m    878\u001b[0m )\n\u001b[0;32m    880\u001b[0m \u001b[38;5;66;03m################################################################################\u001b[39;00m\n\u001b[0;32m    881\u001b[0m \u001b[38;5;66;03m# Saving data file (convert to training file for deeper cut (*.mat))\u001b[39;00m\n\u001b[0;32m    882\u001b[0m \u001b[38;5;66;03m################################################################################\u001b[39;00m\n\u001b[1;32m--> 883\u001b[0m data, MatlabData \u001b[38;5;241m=\u001b[39m \u001b[43mformat_training_data\u001b[49m\u001b[43m(\u001b[49m\n\u001b[0;32m    884\u001b[0m \u001b[43m    \u001b[49m\u001b[43mData\u001b[49m\u001b[43m,\u001b[49m\u001b[43m \u001b[49m\u001b[43mtrainIndices\u001b[49m\u001b[43m,\u001b[49m\u001b[43m \u001b[49m\u001b[43mnbodyparts\u001b[49m\u001b[43m,\u001b[49m\u001b[43m \u001b[49m\u001b[43mproject_path\u001b[49m\n\u001b[0;32m    885\u001b[0m \u001b[43m\u001b[49m\u001b[43m)\u001b[49m\n\u001b[0;32m    886\u001b[0m sio\u001b[38;5;241m.\u001b[39msavemat(\n\u001b[0;32m    887\u001b[0m     os\u001b[38;5;241m.\u001b[39mpath\u001b[38;5;241m.\u001b[39mjoin(project_path, datafilename), {\u001b[38;5;124m\"\u001b[39m\u001b[38;5;124mdataset\u001b[39m\u001b[38;5;124m\"\u001b[39m: MatlabData}\n\u001b[0;32m    888\u001b[0m )\n\u001b[0;32m    890\u001b[0m \u001b[38;5;66;03m################################################################################\u001b[39;00m\n\u001b[0;32m    891\u001b[0m \u001b[38;5;66;03m# Saving metadata (Pickle file)\u001b[39;00m\n\u001b[0;32m    892\u001b[0m \u001b[38;5;66;03m################################################################################\u001b[39;00m\n",
      "File \u001b[1;32mB:\\HsinYi\\DeepLabCut_Anthony\\deeplabcut\\generate_training_dataset\\trainingsetmanipulation.py:653\u001b[0m, in \u001b[0;36mformat_training_data\u001b[1;34m(df, train_inds, nbodyparts, project_path)\u001b[0m\n\u001b[0;32m    651\u001b[0m filename \u001b[38;5;241m=\u001b[39m df\u001b[38;5;241m.\u001b[39mindex[i]\n\u001b[0;32m    652\u001b[0m data[\u001b[38;5;124m\"\u001b[39m\u001b[38;5;124mimage\u001b[39m\u001b[38;5;124m\"\u001b[39m] \u001b[38;5;241m=\u001b[39m filename\n\u001b[1;32m--> 653\u001b[0m img_shape \u001b[38;5;241m=\u001b[39m read_image_shape_fast(\u001b[43mos\u001b[49m\u001b[38;5;241;43m.\u001b[39;49m\u001b[43mpath\u001b[49m\u001b[38;5;241;43m.\u001b[39;49m\u001b[43mjoin\u001b[49m\u001b[43m(\u001b[49m\u001b[43mproject_path\u001b[49m\u001b[43m,\u001b[49m\u001b[43m \u001b[49m\u001b[43mfilename\u001b[49m\u001b[43m)\u001b[49m)\n\u001b[0;32m    654\u001b[0m data[\u001b[38;5;124m\"\u001b[39m\u001b[38;5;124msize\u001b[39m\u001b[38;5;124m\"\u001b[39m] \u001b[38;5;241m=\u001b[39m img_shape\n\u001b[0;32m    655\u001b[0m temp \u001b[38;5;241m=\u001b[39m df\u001b[38;5;241m.\u001b[39miloc[i]\u001b[38;5;241m.\u001b[39mvalues\u001b[38;5;241m.\u001b[39mreshape(\u001b[38;5;241m-\u001b[39m\u001b[38;5;241m1\u001b[39m, \u001b[38;5;241m2\u001b[39m)\n",
      "File \u001b[1;32m~\\anaconda3\\envs\\DEEPLABCUT_2023\\lib\\ntpath.py:117\u001b[0m, in \u001b[0;36mjoin\u001b[1;34m(path, *paths)\u001b[0m\n\u001b[0;32m    115\u001b[0m     \u001b[38;5;28;01mreturn\u001b[39;00m result_drive \u001b[38;5;241m+\u001b[39m result_path\n\u001b[0;32m    116\u001b[0m \u001b[38;5;28;01mexcept\u001b[39;00m (\u001b[38;5;167;01mTypeError\u001b[39;00m, \u001b[38;5;167;01mAttributeError\u001b[39;00m, \u001b[38;5;167;01mBytesWarning\u001b[39;00m):\n\u001b[1;32m--> 117\u001b[0m     \u001b[43mgenericpath\u001b[49m\u001b[38;5;241;43m.\u001b[39;49m\u001b[43m_check_arg_types\u001b[49m\u001b[43m(\u001b[49m\u001b[38;5;124;43m'\u001b[39;49m\u001b[38;5;124;43mjoin\u001b[39;49m\u001b[38;5;124;43m'\u001b[39;49m\u001b[43m,\u001b[49m\u001b[43m \u001b[49m\u001b[43mpath\u001b[49m\u001b[43m,\u001b[49m\u001b[43m \u001b[49m\u001b[38;5;241;43m*\u001b[39;49m\u001b[43mpaths\u001b[49m\u001b[43m)\u001b[49m\n\u001b[0;32m    118\u001b[0m     \u001b[38;5;28;01mraise\u001b[39;00m\n",
      "File \u001b[1;32m~\\anaconda3\\envs\\DEEPLABCUT_2023\\lib\\genericpath.py:152\u001b[0m, in \u001b[0;36m_check_arg_types\u001b[1;34m(funcname, *args)\u001b[0m\n\u001b[0;32m    150\u001b[0m         hasbytes \u001b[38;5;241m=\u001b[39m \u001b[38;5;28;01mTrue\u001b[39;00m\n\u001b[0;32m    151\u001b[0m     \u001b[38;5;28;01melse\u001b[39;00m:\n\u001b[1;32m--> 152\u001b[0m         \u001b[38;5;28;01mraise\u001b[39;00m \u001b[38;5;167;01mTypeError\u001b[39;00m(\u001b[38;5;124mf\u001b[39m\u001b[38;5;124m'\u001b[39m\u001b[38;5;132;01m{\u001b[39;00mfuncname\u001b[38;5;132;01m}\u001b[39;00m\u001b[38;5;124m() argument must be str, bytes, or \u001b[39m\u001b[38;5;124m'\u001b[39m\n\u001b[0;32m    153\u001b[0m                         \u001b[38;5;124mf\u001b[39m\u001b[38;5;124m'\u001b[39m\u001b[38;5;124mos.PathLike object, not \u001b[39m\u001b[38;5;132;01m{\u001b[39;00ms\u001b[38;5;241m.\u001b[39m\u001b[38;5;18m__class__\u001b[39m\u001b[38;5;241m.\u001b[39m\u001b[38;5;18m__name__\u001b[39m\u001b[38;5;132;01m!r}\u001b[39;00m\u001b[38;5;124m'\u001b[39m) \u001b[38;5;28;01mfrom\u001b[39;00m \u001b[38;5;28;01mNone\u001b[39;00m\n\u001b[0;32m    154\u001b[0m \u001b[38;5;28;01mif\u001b[39;00m hasstr \u001b[38;5;129;01mand\u001b[39;00m hasbytes:\n\u001b[0;32m    155\u001b[0m     \u001b[38;5;28;01mraise\u001b[39;00m \u001b[38;5;167;01mTypeError\u001b[39;00m(\u001b[38;5;124m\"\u001b[39m\u001b[38;5;124mCan\u001b[39m\u001b[38;5;124m'\u001b[39m\u001b[38;5;124mt mix strings and bytes in path components\u001b[39m\u001b[38;5;124m\"\u001b[39m) \u001b[38;5;28;01mfrom\u001b[39;00m \u001b[38;5;28;01mNone\u001b[39;00m\n",
      "\u001b[1;31mTypeError\u001b[0m: join() argument must be str, bytes, or os.PathLike object, not 'tuple'"
     ]
    }
   ],
   "source": [
    "### Not sure why but using pycharm works\n",
    "deeplabcut.create_training_dataset(path_config_file, net_type='resnet_50', augmenter_type='imgaug')"
   ]
  },
  {
   "cell_type": "code",
   "execution_count": null,
   "metadata": {},
   "outputs": [],
   "source": []
  },
  {
   "cell_type": "code",
   "execution_count": null,
   "metadata": {},
   "outputs": [],
   "source": []
  },
  {
   "cell_type": "code",
   "execution_count": null,
   "metadata": {},
   "outputs": [],
   "source": []
  },
  {
   "cell_type": "code",
   "execution_count": null,
   "metadata": {},
   "outputs": [
    {
     "name": "stderr",
     "output_type": "stream",
     "text": [
      "Config:\n",
      "{'all_joints': [[0],\n",
      "                [1],\n",
      "                [2],\n",
      "                [3],\n",
      "                [4],\n",
      "                [5],\n",
      "                [6],\n",
      "                [7],\n",
      "                [8],\n",
      "                [9],\n",
      "                [10],\n",
      "                [11],\n",
      "                [12],\n",
      "                [13],\n",
      "                [14],\n",
      "                [15],\n",
      "                [16],\n",
      "                [17],\n",
      "                [18],\n",
      "                [19]],\n",
      " 'all_joints_names': ['anteriorLcoxa',\n",
      "                      'anteriorLfemur',\n",
      "                      'anteriorLtibia',\n",
      "                      'anteriorLmetatarsus',\n",
      "                      'anteriorLtarsus',\n",
      "                      'anteriorRcoxa',\n",
      "                      'anteriorRfemur',\n",
      "                      'anteriorRtibia',\n",
      "                      'anteriorRmetatarsus',\n",
      "                      'anteriorRtarsus',\n",
      "                      'posteriorLcoxa',\n",
      "                      'posteriorLfemur',\n",
      "                      'posteriorLtibia',\n",
      "                      'posteriorLmetatarsus',\n",
      "                      'posteriorLtarsus',\n",
      "                      'posteriorRcoxa',\n",
      "                      'posteriorRfemur',\n",
      "                      'posteriorRtibia',\n",
      "                      'posteriorRmetatarsus',\n",
      "                      'posteriorRtarsus'],\n",
      " 'alpha_r': 0.02,\n",
      " 'apply_prob': 0.5,\n",
      " 'batch_size': 1,\n",
      " 'contrast': {'clahe': True,\n",
      "              'claheratio': 0.1,\n",
      "              'histeq': True,\n",
      "              'histeqratio': 0.1},\n",
      " 'convolution': {'edge': False,\n",
      "                 'emboss': {'alpha': [0.0, 1.0], 'strength': [0.5, 1.5]},\n",
      "                 'embossratio': 0.1,\n",
      "                 'sharpen': False,\n",
      "                 'sharpenratio': 0.3},\n",
      " 'crop_pad': 0,\n",
      " 'cropratio': 0.4,\n",
      " 'dataset': 'training-datasets\\\\iteration-6\\\\UnaugmentedDataSet_8videos_1400frames_relabledApr12\\\\8videos_1400frames_relabled_hy95shuffle1.mat',\n",
      " 'dataset_type': 'imgaug',\n",
      " 'decay_steps': 30000,\n",
      " 'deterministic': False,\n",
      " 'display_iters': 1000,\n",
      " 'fg_fraction': 0.25,\n",
      " 'global_scale': 0.8,\n",
      " 'init_weights': 'C:\\\\Users\\\\Gordus_Lab\\\\anaconda3\\\\envs\\\\DEEPLABCUT\\\\lib\\\\site-packages\\\\deeplabcut\\\\pose_estimation_tensorflow\\\\models\\\\pretrained\\\\resnet_v1_50.ckpt',\n",
      " 'intermediate_supervision': False,\n",
      " 'intermediate_supervision_layer': 12,\n",
      " 'location_refinement': True,\n",
      " 'locref_huber_loss': True,\n",
      " 'locref_loss_weight': 0.05,\n",
      " 'locref_stdev': 7.2801,\n",
      " 'log_dir': 'log',\n",
      " 'lr_init': 0.0005,\n",
      " 'max_input_size': 1500,\n",
      " 'mean_pixel': [123.68, 116.779, 103.939],\n",
      " 'metadataset': 'training-datasets\\\\iteration-6\\\\UnaugmentedDataSet_8videos_1400frames_relabledApr12\\\\Documentation_data-8videos_1400frames_relabled_95shuffle1.pickle',\n",
      " 'min_input_size': 64,\n",
      " 'mirror': False,\n",
      " 'multi_stage': False,\n",
      " 'multi_step': [[0.005, 10000],\n",
      "                [0.02, 430000],\n",
      "                [0.002, 730000],\n",
      "                [0.001, 1030000]],\n",
      " 'net_type': 'resnet_50',\n",
      " 'num_joints': 20,\n",
      " 'optimizer': 'sgd',\n",
      " 'pairwise_huber_loss': False,\n",
      " 'pairwise_predict': False,\n",
      " 'partaffinityfield_predict': False,\n",
      " 'pos_dist_thresh': 17,\n",
      " 'project_path': 'B:\\\\HsinYi\\\\DeepLabCut_Anthony\\\\8videos_1400frames_relabled',\n",
      " 'regularize': False,\n",
      " 'rotation': 25,\n",
      " 'rotratio': 0.4,\n",
      " 'save_iters': 50000,\n",
      " 'scale_jitter_lo': 0.5,\n",
      " 'scale_jitter_up': 1.25,\n",
      " 'scoremap_dir': 'test',\n",
      " 'shuffle': True,\n",
      " 'snapshot_prefix': 'B:\\\\HsinYi\\\\DeepLabCut_Anthony\\\\8videos_1400frames_relabled\\\\dlc-models\\\\iteration-6\\\\8videos_1400frames_relabledApr12-trainset95shuffle1\\\\train\\\\snapshot',\n",
      " 'stride': 8.0,\n",
      " 'weigh_negatives': False,\n",
      " 'weigh_only_present_joints': False,\n",
      " 'weigh_part_predictions': False,\n",
      " 'weight_decay': 0.0001}\n"
     ]
    },
    {
     "name": "stdout",
     "output_type": "stream",
     "text": [
      "Selecting single-animal trainer\n",
      "Batch Size is 1\n"
     ]
    },
    {
     "name": "stderr",
     "output_type": "stream",
     "text": [
      "C:\\Users\\Gordus_Lab\\anaconda3\\envs\\DEEPLABCUT\\lib\\site-packages\\tensorflow\\python\\keras\\engine\\base_layer_v1.py:1694: UserWarning: `layer.apply` is deprecated and will be removed in a future version. Please use `layer.__call__` method instead.\n",
      "  warnings.warn('`layer.apply` is deprecated and '\n"
     ]
    },
    {
     "name": "stdout",
     "output_type": "stream",
     "text": [
      "Loading ImageNet-pretrained resnet_50\n"
     ]
    },
    {
     "name": "stderr",
     "output_type": "stream",
     "text": [
      "Exception in thread Thread-5:\n",
      "Traceback (most recent call last):\n",
      "  File \"C:\\Users\\Gordus_Lab\\anaconda3\\envs\\DEEPLABCUT\\lib\\threading.py\", line 932, in _bootstrap_inner\n",
      "    self.run()\n",
      "  File \"C:\\Users\\Gordus_Lab\\anaconda3\\envs\\DEEPLABCUT\\lib\\threading.py\", line 870, in run\n",
      "    self._target(*self._args, **self._kwargs)\n",
      "  File \"B:\\HsinYi\\DeepLabCut_Anthony\\deeplabcut\\pose_estimation_tensorflow\\core\\train.py\", line 80, in load_and_enqueue\n",
      "    batch_np = dataset.next_batch()\n",
      "  File \"B:\\HsinYi\\DeepLabCut_Anthony\\deeplabcut\\pose_estimation_tensorflow\\datasets\\pose_imgaug.py\", line 363, in next_batch\n",
      "    ) = self.get_batch()\n",
      "  File \"B:\\HsinYi\\DeepLabCut_Anthony\\deeplabcut\\pose_estimation_tensorflow\\datasets\\pose_imgaug.py\", line 298, in get_batch\n",
      "    image = imread(os.path.join(self.cfg[\"project_path\"], im_file), mode=\"RGB\")\n",
      "  File \"C:\\Users\\Gordus_Lab\\anaconda3\\envs\\DEEPLABCUT\\lib\\ntpath.py\", line 117, in join\n",
      "    genericpath._check_arg_types('join', path, *paths)\n",
      "  File \"C:\\Users\\Gordus_Lab\\anaconda3\\envs\\DEEPLABCUT\\lib\\genericpath.py\", line 152, in _check_arg_types\n",
      "    raise TypeError(f'{funcname}() argument must be str, bytes, or '\n",
      "TypeError: join() argument must be str, bytes, or os.PathLike object, not 'ndarray'\n"
     ]
    },
    {
     "name": "stdout",
     "output_type": "stream",
     "text": [
      "Max_iters overwritten as 50000\n",
      "Display_iters overwritten as 100\n",
      "Save_iters overwritten as 10000\n",
      "Training parameter:\n",
      "{'stride': 8.0, 'weigh_part_predictions': False, 'weigh_negatives': False, 'fg_fraction': 0.25, 'mean_pixel': [123.68, 116.779, 103.939], 'shuffle': True, 'snapshot_prefix': 'B:\\\\HsinYi\\\\DeepLabCut_Anthony\\\\8videos_1400frames_relabled\\\\dlc-models\\\\iteration-6\\\\8videos_1400frames_relabledApr12-trainset95shuffle1\\\\train\\\\snapshot', 'log_dir': 'log', 'global_scale': 0.8, 'location_refinement': True, 'locref_stdev': 7.2801, 'locref_loss_weight': 0.05, 'locref_huber_loss': True, 'optimizer': 'sgd', 'intermediate_supervision': False, 'intermediate_supervision_layer': 12, 'regularize': False, 'weight_decay': 0.0001, 'crop_pad': 0, 'scoremap_dir': 'test', 'batch_size': 1, 'dataset_type': 'imgaug', 'deterministic': False, 'mirror': False, 'pairwise_huber_loss': False, 'weigh_only_present_joints': False, 'partaffinityfield_predict': False, 'pairwise_predict': False, 'all_joints': [[0], [1], [2], [3], [4], [5], [6], [7], [8], [9], [10], [11], [12], [13], [14], [15], [16], [17], [18], [19]], 'all_joints_names': ['anteriorLcoxa', 'anteriorLfemur', 'anteriorLtibia', 'anteriorLmetatarsus', 'anteriorLtarsus', 'anteriorRcoxa', 'anteriorRfemur', 'anteriorRtibia', 'anteriorRmetatarsus', 'anteriorRtarsus', 'posteriorLcoxa', 'posteriorLfemur', 'posteriorLtibia', 'posteriorLmetatarsus', 'posteriorLtarsus', 'posteriorRcoxa', 'posteriorRfemur', 'posteriorRtibia', 'posteriorRmetatarsus', 'posteriorRtarsus'], 'alpha_r': 0.02, 'apply_prob': 0.5, 'contrast': {'clahe': True, 'claheratio': 0.1, 'histeq': True, 'histeqratio': 0.1}, 'convolution': {'edge': False, 'emboss': {'alpha': [0.0, 1.0], 'strength': [0.5, 1.5]}, 'embossratio': 0.1, 'sharpen': False, 'sharpenratio': 0.3}, 'cropratio': 0.4, 'dataset': 'training-datasets\\\\iteration-6\\\\UnaugmentedDataSet_8videos_1400frames_relabledApr12\\\\8videos_1400frames_relabled_hy95shuffle1.mat', 'decay_steps': 30000, 'display_iters': 1000, 'init_weights': 'C:\\\\Users\\\\Gordus_Lab\\\\anaconda3\\\\envs\\\\DEEPLABCUT\\\\lib\\\\site-packages\\\\deeplabcut\\\\pose_estimation_tensorflow\\\\models\\\\pretrained\\\\resnet_v1_50.ckpt', 'lr_init': 0.0005, 'max_input_size': 1500, 'metadataset': 'training-datasets\\\\iteration-6\\\\UnaugmentedDataSet_8videos_1400frames_relabledApr12\\\\Documentation_data-8videos_1400frames_relabled_95shuffle1.pickle', 'min_input_size': 64, 'multi_stage': False, 'multi_step': [[0.005, 10000], [0.02, 430000], [0.002, 730000], [0.001, 1030000]], 'net_type': 'resnet_50', 'num_joints': 20, 'pos_dist_thresh': 17, 'project_path': 'B:\\\\HsinYi\\\\DeepLabCut_Anthony\\\\8videos_1400frames_relabled', 'rotation': 25, 'rotratio': 0.4, 'save_iters': 50000, 'scale_jitter_lo': 0.5, 'scale_jitter_up': 1.25, 'covering': True, 'elastic_transform': True, 'motion_blur': True, 'motion_blur_params': {'k': 7, 'angle': (-90, 90)}}\n",
      "Starting training....\n"
     ]
    }
   ],
   "source": [
    "deeplabcut.train_network(path_config_file, shuffle=1,displayiters=100, saveiters=10000, maxiters=50000, allow_growth=True)\n",
    "#notice the variables \"saveiters\" and \"dsiplayiters\" that can be set in the function\n",
    "\n",
    "#you just need to run this until you get at least 1 snapshot, which is set by: \"save_iters\" \n",
    "#(so in this case you could stop after 500!) How do I stop? Click the STOP button!\n",
    "# To train until ~2,000 iterations on a CPU should be ~30 min"
   ]
  },
  {
   "cell_type": "code",
   "execution_count": 16,
   "metadata": {},
   "outputs": [
    {
     "name": "stderr",
     "output_type": "stream",
     "text": [
      "Config:\n",
      "{'all_joints': [[0],\n",
      "                [1],\n",
      "                [2],\n",
      "                [3],\n",
      "                [4],\n",
      "                [5],\n",
      "                [6],\n",
      "                [7],\n",
      "                [8],\n",
      "                [9],\n",
      "                [10],\n",
      "                [11],\n",
      "                [12],\n",
      "                [13],\n",
      "                [14],\n",
      "                [15],\n",
      "                [16],\n",
      "                [17],\n",
      "                [18],\n",
      "                [19]],\n",
      " 'all_joints_names': ['anteriorLcoxa',\n",
      "                      'anteriorLfemur',\n",
      "                      'anteriorLtibia',\n",
      "                      'anteriorLmetatarsus',\n",
      "                      'anteriorLtarsus',\n",
      "                      'anteriorRcoxa',\n",
      "                      'anteriorRfemur',\n",
      "                      'anteriorRtibia',\n",
      "                      'anteriorRmetatarsus',\n",
      "                      'anteriorRtarsus',\n",
      "                      'posteriorLcoxa',\n",
      "                      'posteriorLfemur',\n",
      "                      'posteriorLtibia',\n",
      "                      'posteriorLmetatarsus',\n",
      "                      'posteriorLtarsus',\n",
      "                      'posteriorRcoxa',\n",
      "                      'posteriorRfemur',\n",
      "                      'posteriorRtibia',\n",
      "                      'posteriorRmetatarsus',\n",
      "                      'posteriorRtarsus'],\n",
      " 'batch_size': 1,\n",
      " 'crop_pad': 0,\n",
      " 'dataset': 'training-datasets\\\\iteration-0\\\\UnaugmentedDataSet_8videos_1400frames_relabledApr12\\\\8videos_1400frames_relabled_hy95shuffle1.mat',\n",
      " 'dataset_type': 'imgaug',\n",
      " 'deterministic': False,\n",
      " 'fg_fraction': 0.25,\n",
      " 'global_scale': 0.8,\n",
      " 'init_weights': 'C:\\\\Users\\\\Gordus_Lab\\\\Documents\\\\HsinYi\\\\DeepLabCut_Anthony\\\\deeplabcut\\\\pose_estimation_tensorflow\\\\models\\\\pretrained\\\\resnet_v1_50.ckpt',\n",
      " 'intermediate_supervision': False,\n",
      " 'intermediate_supervision_layer': 12,\n",
      " 'location_refinement': True,\n",
      " 'locref_huber_loss': True,\n",
      " 'locref_loss_weight': 1.0,\n",
      " 'locref_stdev': 7.2801,\n",
      " 'log_dir': 'log',\n",
      " 'mean_pixel': [123.68, 116.779, 103.939],\n",
      " 'mirror': False,\n",
      " 'net_type': 'resnet_50',\n",
      " 'num_joints': 20,\n",
      " 'optimizer': 'sgd',\n",
      " 'pairwise_huber_loss': True,\n",
      " 'pairwise_predict': False,\n",
      " 'partaffinityfield_predict': False,\n",
      " 'regularize': False,\n",
      " 'scoremap_dir': 'test',\n",
      " 'shuffle': True,\n",
      " 'snapshot_prefix': 'C:\\\\Users\\\\Gordus_Lab\\\\Documents\\\\HsinYi\\\\DeepLabCut_Anthony\\\\8videos_1400frames_relabled\\\\dlc-models\\\\iteration-0\\\\8videos_1400frames_relabledApr12-trainset95shuffle1\\\\test\\\\snapshot',\n",
      " 'stride': 8.0,\n",
      " 'weigh_negatives': False,\n",
      " 'weigh_only_present_joints': False,\n",
      " 'weigh_part_predictions': False,\n",
      " 'weight_decay': 0.0001}\n"
     ]
    },
    {
     "name": "stdout",
     "output_type": "stream",
     "text": [
      "Running  DLC_resnet50_8videos_1400frames_relabledApr12shuffle1_50000  with # of training iterations: 50000\n",
      "This net has already been evaluated!\n",
      "Plotting...(attention scale might be inconsistent in comparison to when data was analyzed; i.e. if you used rescale)\n"
     ]
    },
    {
     "name": "stderr",
     "output_type": "stream",
     "text": [
      "100%|██████████████████████████████████████████████████████████████████████████████| 5104/5104 [51:42<00:00,  1.65it/s]\n"
     ]
    },
    {
     "data": {
      "image/png": "[encoded data removed]",
      "text/plain": [
       "<Figure size 1440x1080 with 1 Axes>"
      ]
     },
     "metadata": {
      "needs_background": "light"
     },
     "output_type": "display_data"
    }
   ],
   "source": [
    "#### I have trained the network on another PC\n",
    "\n",
    "# Evaluate the network\n",
    "deeplabcut.evaluate_network(path_config_file,plotting=True)"
   ]
  },
  {
   "cell_type": "code",
   "execution_count": 5,
   "metadata": {},
   "outputs": [],
   "source": [
    "# Set the video path:\n",
    "#The video can be the one you trained with and new videos that look similar, i.e. same experiments, etc.\n",
    "# You can add individual videos, OR just a folder - it will skip videos that are already analyzed once.\n",
    "\n",
    "#i.e you can run 'reachingvideo1' and/or 'MovieS2_Perturbation_noLaser_compressed'\n",
    "\n",
    "#videofile_path = os.path.join(os.getcwd(),fname+'/videos/'+video_name)\n",
    "#videofile_path = 'C:/Users/Gordus_Lab/Documents/HsinYi/DeepLabCut_Anthony/8videos_1400frames_relabled/videos/newvideo/071322 Piezo 100Hz 0 107 With Pulses 2Sdelayed C001h001s0001-07132022141648-0000.mp4'\n",
    "videofile_path = 'Z:/HsinYi/web_vibration/082523/082523 Spider Piezo 25Hz 0 107 With Pulses 2Sdelayed Pt1 T4-08252023171322-0000.mp4'"
   ]
  },
  {
   "cell_type": "code",
   "execution_count": 6,
   "metadata": {
    "scrolled": true
   },
   "outputs": [
    {
     "name": "stdout",
     "output_type": "stream",
     "text": [
      "Start Analyzing the video!\n",
      "Using snapshot-100000 for model B:\\HsinYi\\DeepLabCut_Anthony\\8videos_1400frames_relabled\\dlc-models\\iteration-1\\8videos_1400frames_relabledApr12-trainset95shuffle1\n"
     ]
    },
    {
     "name": "stderr",
     "output_type": "stream",
     "text": [
      "C:\\Users\\Gordus_Lab\\anaconda3\\envs\\DEEPLABCUT\\lib\\site-packages\\tensorflow\\python\\keras\\engine\\base_layer_v1.py:1694: UserWarning: `layer.apply` is deprecated and will be removed in a future version. Please use `layer.__call__` method instead.\n",
      "  warnings.warn('`layer.apply` is deprecated and '\n"
     ]
    },
    {
     "name": "stdout",
     "output_type": "stream",
     "text": [
      "Starting to analyze %  Z:/HsinYi/web_vibration/082523/082523 Spider Piezo 25Hz 0 107 With Pulses 2Sdelayed Pt1 T4-08252023171322-0000.mp4\n",
      "Loading  Z:/HsinYi/web_vibration/082523/082523 Spider Piezo 25Hz 0 107 With Pulses 2Sdelayed Pt1 T4-08252023171322-0000.mp4\n",
      "Duration of video [s]:  17.15 , recorded with  199.88 fps!\n",
      "Overall # of frames:  3427  found with (before cropping) frame dimensions:  1440 1080\n",
      "Starting to extract posture\n"
     ]
    },
    {
     "name": "stderr",
     "output_type": "stream",
     "text": [
      "3434it [1:06:48,  1.17s/it]                                                                                            \n"
     ]
    },
    {
     "name": "stdout",
     "output_type": "stream",
     "text": [
      "Saving results in Z:\\HsinYi\\web_vibration\\082523...\n",
      "The videos are analyzed. Now your research can truly start! \n",
      " You can create labeled videos with 'create_labeled_video'\n",
      "If the tracking is not satisfactory for some videos, consider expanding the training set. You can use the function 'extract_outlier_frames' to extract a few representative outlier frames.\n"
     ]
    },
    {
     "data": {
      "text/plain": [
       "'DLC_resnet50_8videos_1400frames_relabledApr12shuffle1_100000'"
      ]
     },
     "execution_count": 6,
     "metadata": {},
     "output_type": "execute_result"
    }
   ],
   "source": [
    "print(\"Start Analyzing the video!\")\n",
    "deeplabcut.analyze_videos(path_config_file,[videofile_path])\n",
    "# this video takes ~ 8 min to analyze with a CPU"
   ]
  },
  {
   "cell_type": "code",
   "execution_count": 7,
   "metadata": {},
   "outputs": [],
   "source": [
    "deeplabcut.create_labeled_video(path_config_file,[videofile_path],videotype='mp4',save_frames=True,codec='mp4v')"
   ]
  },
  {
   "cell_type": "code",
   "execution_count": null,
   "metadata": {},
   "outputs": [],
   "source": []
  },
  {
   "cell_type": "code",
   "execution_count": null,
   "metadata": {},
   "outputs": [],
   "source": []
  },
  {
   "cell_type": "code",
   "execution_count": null,
   "metadata": {},
   "outputs": [],
   "source": []
  },
  {
   "cell_type": "code",
   "execution_count": null,
   "metadata": {},
   "outputs": [],
   "source": []
  }
 ],
 "metadata": {
  "kernelspec": {
   "display_name": "Python [conda env:DEEPLABCUT]",
   "language": "python",
   "name": "conda-env-DEEPLABCUT-py"
  },
  "language_info": {
   "codemirror_mode": {
    "name": "ipython",
    "version": 3
   },
   "file_extension": ".py",
   "mimetype": "text/x-python",
   "name": "python",
   "nbconvert_exporter": "python",
   "pygments_lexer": "ipython3",
   "version": "3.8.16"
  },
  "nteract": {
   "version": "0.15.0"
  }
 },
 "nbformat": 4,
 "nbformat_minor": 4
}
