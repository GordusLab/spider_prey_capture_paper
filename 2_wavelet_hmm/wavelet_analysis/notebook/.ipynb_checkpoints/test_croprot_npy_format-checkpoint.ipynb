{
 "cells": [
  {
   "cell_type": "code",
   "execution_count": 1,
   "id": "0f2195ab",
   "metadata": {},
   "outputs": [],
   "source": [
    "directory ='B:/HsinYi/DeepLabCut_Anthony/8videos_1400frames_relabled/videos/aligned/1101 Spider Piezo 5Hz 0 107 With Pulses 2Sdelayed 2-11012021154002-0000-1_croprotaligned.npy'\n",
    "directory_croprot = 'B:/HsinYi/DeepLabCut_Anthony/8videos_1400frames_relabled/videos/aligned/croprot/1101 Spider Piezo 5Hz 0 107 With Pulses 2Sdelayed 2-11012021154002-0000-1_croprotaligned.npy'\n"
   ]
  },
  {
   "cell_type": "code",
   "execution_count": 2,
   "id": "a1c3e8a4",
   "metadata": {},
   "outputs": [],
   "source": [
    "import numpy as np\n",
    "\n",
    "joint_data = np.load(directory)\n",
    "joint_data_croprot = np.load(directory_croprot)"
   ]
  },
  {
   "cell_type": "code",
   "execution_count": 3,
   "id": "7745d1dd",
   "metadata": {},
   "outputs": [
    {
     "data": {
      "text/plain": [
       "(60, 1694)"
      ]
     },
     "execution_count": 3,
     "metadata": {},
     "output_type": "execute_result"
    }
   ],
   "source": [
    "joint_data.shape"
   ]
  },
  {
   "cell_type": "code",
   "execution_count": 4,
   "id": "6208ab2f",
   "metadata": {},
   "outputs": [
    {
     "data": {
      "text/plain": [
       "(1694, 20, 3)"
      ]
     },
     "execution_count": 4,
     "metadata": {},
     "output_type": "execute_result"
    }
   ],
   "source": [
    "joint_data_croprot.shape"
   ]
  },
  {
   "cell_type": "code",
   "execution_count": null,
   "id": "86aee50d",
   "metadata": {},
   "outputs": [],
   "source": []
  }
 ],
 "metadata": {
  "kernelspec": {
   "display_name": "Python [conda env:Anaconda3] *",
   "language": "python",
   "name": "conda-env-Anaconda3-py"
  },
  "language_info": {
   "codemirror_mode": {
    "name": "ipython",
    "version": 3
   },
   "file_extension": ".py",
   "mimetype": "text/x-python",
   "name": "python",
   "nbconvert_exporter": "python",
   "pygments_lexer": "ipython3",
   "version": "3.9.7"
  }
 },
 "nbformat": 4,
 "nbformat_minor": 5
}
