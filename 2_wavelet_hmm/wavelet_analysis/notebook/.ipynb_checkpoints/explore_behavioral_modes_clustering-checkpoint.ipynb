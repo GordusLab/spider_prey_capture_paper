{
 "cells": [
  {
   "cell_type": "code",
   "execution_count": 2,
   "metadata": {},
   "outputs": [],
   "source": [
    "#\n",
    "# Plot behavioral video and do dimensionality reduction\n",
    "#"
   ]
  },
  {
   "cell_type": "markdown",
   "metadata": {},
   "source": [
    "# Imports"
   ]
  },
  {
   "cell_type": "code",
   "execution_count": 2,
   "metadata": {},
   "outputs": [],
   "source": [
    "import os, numpy as np\n",
    "import matplotlib.pyplot as plt\n",
    "from tqdm import tqdm_notebook as tqdm\n",
    "from joblib import Parallel, delayed\n",
    "import joblib as jl\n",
    "import umap\n",
    "from numba import jit"
   ]
  },
  {
   "cell_type": "markdown",
   "metadata": {},
   "source": [
    "# Load data"
   ]
  },
  {
   "cell_type": "code",
   "execution_count": 6,
   "metadata": {},
   "outputs": [
    {
     "ename": "PermissionError",
     "evalue": "[Errno 13] Permission denied: 'Z:\\\\HsinYi\\\\simulation\\\\wavelet'",
     "output_type": "error",
     "traceback": [
      "\u001b[1;31m---------------------------------------------------------------------------\u001b[0m",
      "\u001b[1;31mPermissionError\u001b[0m                           Traceback (most recent call last)",
      "\u001b[1;32m<ipython-input-6-211495fd2041>\u001b[0m in \u001b[0;36m<module>\u001b[1;34m\u001b[0m\n\u001b[0;32m      1\u001b[0m \u001b[1;31m#FNAME_PCA = 'C:/DATA/wavelet_hipow_pca.npy'\u001b[0m\u001b[1;33m\u001b[0m\u001b[1;33m\u001b[0m\u001b[1;33m\u001b[0m\u001b[0m\n\u001b[0;32m      2\u001b[0m \u001b[0mFNAME_PCA\u001b[0m\u001b[1;33m=\u001b[0m\u001b[1;34m'Z:\\HsinYi\\simulation\\wavelet'\u001b[0m\u001b[1;33m\u001b[0m\u001b[1;33m\u001b[0m\u001b[0m\n\u001b[1;32m----> 3\u001b[1;33m \u001b[0mamplPCA\u001b[0m \u001b[1;33m=\u001b[0m \u001b[0mnp\u001b[0m\u001b[1;33m.\u001b[0m\u001b[0mload\u001b[0m\u001b[1;33m(\u001b[0m\u001b[0mFNAME_PCA\u001b[0m\u001b[1;33m)\u001b[0m\u001b[1;33m\u001b[0m\u001b[1;33m\u001b[0m\u001b[0m\n\u001b[0m",
      "\u001b[1;32m~\\Anaconda3\\lib\\site-packages\\numpy\\lib\\npyio.py\u001b[0m in \u001b[0;36mload\u001b[1;34m(file, mmap_mode, allow_pickle, fix_imports, encoding)\u001b[0m\n\u001b[0;32m    420\u001b[0m         \u001b[0mown_fid\u001b[0m \u001b[1;33m=\u001b[0m \u001b[1;32mFalse\u001b[0m\u001b[1;33m\u001b[0m\u001b[1;33m\u001b[0m\u001b[0m\n\u001b[0;32m    421\u001b[0m     \u001b[1;32melse\u001b[0m\u001b[1;33m:\u001b[0m\u001b[1;33m\u001b[0m\u001b[1;33m\u001b[0m\u001b[0m\n\u001b[1;32m--> 422\u001b[1;33m         \u001b[0mfid\u001b[0m \u001b[1;33m=\u001b[0m \u001b[0mopen\u001b[0m\u001b[1;33m(\u001b[0m\u001b[0mos_fspath\u001b[0m\u001b[1;33m(\u001b[0m\u001b[0mfile\u001b[0m\u001b[1;33m)\u001b[0m\u001b[1;33m,\u001b[0m \u001b[1;34m\"rb\"\u001b[0m\u001b[1;33m)\u001b[0m\u001b[1;33m\u001b[0m\u001b[1;33m\u001b[0m\u001b[0m\n\u001b[0m\u001b[0;32m    423\u001b[0m         \u001b[0mown_fid\u001b[0m \u001b[1;33m=\u001b[0m \u001b[1;32mTrue\u001b[0m\u001b[1;33m\u001b[0m\u001b[1;33m\u001b[0m\u001b[0m\n\u001b[0;32m    424\u001b[0m \u001b[1;33m\u001b[0m\u001b[0m\n",
      "\u001b[1;31mPermissionError\u001b[0m: [Errno 13] Permission denied: 'Z:\\\\HsinYi\\\\simulation\\\\wavelet'"
     ]
    }
   ],
   "source": [
    "FNAME_PCA = 'C:/DATA/wavelet_hipow_pca.npy'\n",
    "amplPCA = np.load(FNAME_PCA)"
   ]
  },
  {
   "cell_type": "code",
   "execution_count": 4,
   "metadata": {},
   "outputs": [],
   "source": [
    "um = jl.load('C:/DATA/wavelet_1/wavelet_hipow_pca.umap_mindist_1_neighbors_100_10000.pickle')"
   ]
  },
  {
   "cell_type": "code",
   "execution_count": 6,
   "metadata": {},
   "outputs": [
    {
     "data": {
      "text/plain": [
       "<bound method UMAP.transform of UMAP(a=None, angular_rp_forest=False, b=None, init='spectral',\n",
       "   learning_rate=1.0, local_connectivity=1.0, metric='euclidean',\n",
       "   metric_kwds=None, min_dist=0.01, n_components=2, n_epochs=None,\n",
       "   n_neighbors=100, negative_sample_rate=5, random_state=None,\n",
       "   repulsion_strength=1.0, set_op_mix_ratio=1.0, spread=1.0,\n",
       "   target_metric='categorical', target_metric_kwds=None,\n",
       "   target_n_neighbors=-1, target_weight=0.5, transform_queue_size=4.0,\n",
       "   transform_seed=42, verbose=False)>"
      ]
     },
     "execution_count": 6,
     "metadata": {},
     "output_type": "execute_result"
    }
   ],
   "source": []
  },
  {
   "cell_type": "markdown",
   "metadata": {},
   "source": [
    "# t-SNE"
   ]
  },
  {
   "cell_type": "code",
   "execution_count": 11,
   "metadata": {},
   "outputs": [],
   "source": [
    "# Load PCA'ed data (computed in explore_behavioral_modes) [SLOW]\n",
    "#tsne = TSNE(n_components=2, verbose=1, perplexity=40, n_iter=300).fit_transform(amplPCA)"
   ]
  },
  {
   "cell_type": "code",
   "execution_count": null,
   "metadata": {},
   "outputs": [],
   "source": [
    "from MulticoreTSNE import MulticoreTSNE as TSNE"
   ]
  },
  {
   "cell_type": "code",
   "execution_count": 19,
   "metadata": {},
   "outputs": [
    {
     "name": "stdout",
     "output_type": "stream",
     "text": [
      "Wall time: 1h 4min 49s\n"
     ]
    }
   ],
   "source": [
    "%%time \n",
    "tsne = TSNE(n_components=2, verbose=1, perplexity=40, n_jobs=60).fit_transform(amplPCA[::10,])"
   ]
  },
  {
   "cell_type": "code",
   "execution_count": null,
   "metadata": {},
   "outputs": [],
   "source": []
  },
  {
   "cell_type": "code",
   "execution_count": null,
   "metadata": {},
   "outputs": [],
   "source": [
    "# Try later:\n",
    "# https://github.com/CannyLab/tsne-cuda"
   ]
  },
  {
   "cell_type": "code",
   "execution_count": 15,
   "metadata": {},
   "outputs": [
    {
     "data": {
      "image/png": "[encoded data removed]",
      "text/plain": [
       "<Figure size 864x864 with 1 Axes>"
      ]
     },
     "metadata": {},
     "output_type": "display_data"
    }
   ],
   "source": [
    "plt.figure(figsize=(12,12), facecolor='w')\n",
    "plt.hist2d(tsne[:,0], tsne[:,1], bins=100)\n",
    "plt.show()"
   ]
  },
  {
   "cell_type": "code",
   "execution_count": null,
   "metadata": {},
   "outputs": [],
   "source": []
  },
  {
   "cell_type": "code",
   "execution_count": null,
   "metadata": {},
   "outputs": [],
   "source": []
  },
  {
   "cell_type": "markdown",
   "metadata": {},
   "source": [
    "# UMAP Subsampled Sweep"
   ]
  },
  {
   "cell_type": "code",
   "execution_count": 153,
   "metadata": {},
   "outputs": [
    {
     "data": {
      "text/plain": [
       "'D:/data/2017-09-18/final/data.wavelets.umap.npy'"
      ]
     },
     "execution_count": 153,
     "metadata": {},
     "output_type": "execute_result"
    }
   ],
   "source": [
    "fnameUM = fnameWav.replace('.npy','') + '.umap.npy'\n",
    "fnameUM"
   ]
  },
  {
   "cell_type": "code",
   "execution_count": 154,
   "metadata": {},
   "outputs": [],
   "source": [
    "import seaborn as sns, random"
   ]
  },
  {
   "cell_type": "code",
   "execution_count": 155,
   "metadata": {},
   "outputs": [
    {
     "data": {
      "text/plain": [
       "(50431, 64)"
      ]
     },
     "execution_count": 155,
     "metadata": {},
     "output_type": "execute_result"
    }
   ],
   "source": [
    "#subsample = amplPCAscale[::10,:]\n",
    "#subsample.shape\n",
    "\n",
    "subsample = amplPCA[::10,:]\n",
    "subsample.shape"
   ]
  },
  {
   "cell_type": "code",
   "execution_count": 156,
   "metadata": {},
   "outputs": [],
   "source": [
    "import joblib"
   ]
  },
  {
   "cell_type": "code",
   "execution_count": 157,
   "metadata": {},
   "outputs": [
    {
     "data": {
      "application/vnd.jupyter.widget-view+json": {
       "model_id": "6ebed78537034bc581c33090dc9e3dde",
       "version_major": 2,
       "version_minor": 0
      },
      "text/plain": [
       "HBox(children=(IntProgress(value=0, max=20), HTML(value='')))"
      ]
     },
     "metadata": {},
     "output_type": "display_data"
    },
    {
     "name": "stdout",
     "output_type": "stream",
     "text": [
      "\n"
     ]
    },
    {
     "name": "stderr",
     "output_type": "stream",
     "text": [
      "C:\\Users\\acorver\\.conda\\envs\\spider\\lib\\site-packages\\joblib\\externals\\loky\\process_executor.py:706: UserWarning: A worker stopped while some jobs were given to the executor. This can be caused by a too short worker timeout or by a memory leak.\n",
      "  \"timeout or by a memory leak.\", UserWarning\n"
     ]
    },
    {
     "data": {
      "text/plain": [
       "[None,\n",
       " None,\n",
       " None,\n",
       " None,\n",
       " None,\n",
       " None,\n",
       " None,\n",
       " None,\n",
       " None,\n",
       " None,\n",
       " None,\n",
       " None,\n",
       " None,\n",
       " None,\n",
       " None,\n",
       " None,\n",
       " None,\n",
       " None,\n",
       " None,\n",
       " None]"
      ]
     },
     "execution_count": 157,
     "metadata": {},
     "output_type": "execute_result"
    }
   ],
   "source": [
    "#configs = []\n",
    "#for min_dist in np.arange(0, 1, 0.05):\n",
    "#    for n_neighbors in [5, 10, 15, 20, 25]:\n",
    "#        configs.append((min_dist, n_neighbors))\n",
    "\n",
    "configs = []\n",
    "for min_dist in np.arange(0, 1, 0.2):\n",
    "    for n_neighbors in [25, 500, 1000, 5000]:\n",
    "        configs.append((min_dist, n_neighbors))\n",
    "random.shuffle(configs)\n",
    "        \n",
    "def runUMAP(min_dist, n_neighbors):\n",
    "    # Quick UMAP of random subset\n",
    "    um = umap.UMAP(\n",
    "        min_dist = min_dist, \n",
    "        n_neighbors = n_neighbors,\n",
    "        n_components = 2,\n",
    "        metric = 'euclidean'\n",
    "    ).fit_transform(subsample)\n",
    "\n",
    "    # Plot\n",
    "    fnamePlot = fnameUM.replace('.npy','') + '_mindist_{}_neighbors_{}.png'.format(int(100*min_dist), n_neighbors)\n",
    "    fig = plt.figure(figsize=(12,12), facecolor='w')\n",
    "    sns.jointplot(x=um[:,0], y=um[:,1], kind=\"kde\")\n",
    "    plt.savefig(fnamePlot)\n",
    "    plt.close(fig)\n",
    "    \n",
    "    # Save umap result\n",
    "    np.save(fnamePlot.replace('.png','') + '.npy', um)\n",
    "    \n",
    "    # Save reducer state (so more data can be transformed without re-computing UMAP)\n",
    "    joblib.dump(um, fnamePlot.replace('.png','') + '.pickle')\n",
    "    \n",
    "Parallel(n_jobs=4)(delayed(runUMAP)(*x) for x in tqdm(configs))"
   ]
  },
  {
   "cell_type": "code",
   "execution_count": 67,
   "metadata": {},
   "outputs": [],
   "source": [
    "?np.save"
   ]
  },
  {
   "cell_type": "markdown",
   "metadata": {},
   "source": [
    "# UMAP"
   ]
  },
  {
   "cell_type": "code",
   "execution_count": 83,
   "metadata": {},
   "outputs": [
    {
     "name": "stderr",
     "output_type": "stream",
     "text": [
      "C:\\Users\\acorver\\.conda\\envs\\spider\\lib\\site-packages\\umap\\spectral.py:229: UserWarning: Embedding a total of 144 separate connected components using meta-embedding (experimental)\n",
      "  n_components\n"
     ]
    }
   ],
   "source": [
    "RECOMPUTE = False\n",
    "\n",
    "um = None\n",
    "if os.path.exists(fnameUM) and not RECOMPUTE:\n",
    "    um = np.load(fnameUM)\n",
    "else:\n",
    "    um = umap.UMAP().fit_transform(amplPCAscore) #amplPCA) #amplHiPow)\n",
    "    np.save(fnameUM, um)"
   ]
  },
  {
   "cell_type": "code",
   "execution_count": 92,
   "metadata": {},
   "outputs": [
    {
     "data": {
      "image/png": "[encoded data removed]",
      "text/plain": [
       "<Figure size 432x432 with 1 Axes>"
      ]
     },
     "metadata": {
      "needs_background": "light"
     },
     "output_type": "display_data"
    }
   ],
   "source": [
    "f, ax = plt.subplots(figsize=(6, 6))\n",
    "cmap = sns.cubehelix_palette(as_cmap=True, dark=0, light=1, reverse=True)\n",
    "sns.kdeplot(um[:,0], um[:,1], cmap=cmap, n_levels=60, shade=True);"
   ]
  },
  {
   "cell_type": "code",
   "execution_count": 86,
   "metadata": {},
   "outputs": [
    {
     "name": "stderr",
     "output_type": "stream",
     "text": [
      "C:\\Users\\acorver\\.conda\\envs\\spider\\lib\\site-packages\\scipy\\stats\\stats.py:1713: FutureWarning: Using a non-tuple sequence for multidimensional indexing is deprecated; use `arr[tuple(seq)]` instead of `arr[seq]`. In the future this will be interpreted as an array index, `arr[np.array(seq)]`, which will result either in an error or a different result.\n",
      "  return np.add.reduce(sorted[indexer] * weights, axis=axis) / sumval\n"
     ]
    },
    {
     "data": {
      "text/plain": [
       "<Figure size 864x864 with 0 Axes>"
      ]
     },
     "metadata": {},
     "output_type": "display_data"
    },
    {
     "data": {
      "image/png": "[encoded data removed]",
      "text/plain": [
       "<Figure size 432x432 with 3 Axes>"
      ]
     },
     "metadata": {
      "needs_background": "light"
     },
     "output_type": "display_data"
    }
   ],
   "source": [
    "plt.figure(figsize=(12,12), facecolor='w')\n",
    "sns.jointplot(x=um[:,0], y=um[:,1], kind=\"kde\");"
   ]
  },
  {
   "cell_type": "code",
   "execution_count": 90,
   "metadata": {},
   "outputs": [
    {
     "data": {
      "image/png": "[encoded data removed]",
      "text/plain": [
       "<Figure size 864x864 with 1 Axes>"
      ]
     },
     "metadata": {},
     "output_type": "display_data"
    }
   ],
   "source": [
    "plt.figure(figsize=(12,12), facecolor='w')\n",
    "plt.hist2d(um[:,0], um[:,1], bins=100)\n",
    "plt.savefig(fnameUM.replace('.npy','') + '.png')\n",
    "plt.show()"
   ]
  },
  {
   "cell_type": "code",
   "execution_count": null,
   "metadata": {},
   "outputs": [],
   "source": []
  },
  {
   "cell_type": "code",
   "execution_count": 245,
   "metadata": {},
   "outputs": [
    {
     "data": {
      "text/plain": [
       "<matplotlib.collections.PathCollection at 0x20085f12358>"
      ]
     },
     "execution_count": 245,
     "metadata": {},
     "output_type": "execute_result"
    },
    {
     "data": {
      "image/png": "[encoded data removed]",
      "text/plain": [
       "<Figure size 432x288 with 1 Axes>"
      ]
     },
     "metadata": {
      "needs_background": "light"
     },
     "output_type": "display_data"
    }
   ],
   "source": [
    "plt.scatter( um[0:20000,0], um[0:20000,1], s=0.5 )"
   ]
  },
  {
   "cell_type": "code",
   "execution_count": 246,
   "metadata": {},
   "outputs": [
    {
     "data": {
      "text/plain": [
       "<matplotlib.collections.PathCollection at 0x2008d6417f0>"
      ]
     },
     "execution_count": 246,
     "metadata": {},
     "output_type": "execute_result"
    },
    {
     "data": {
      "image/png": "[encoded data removed]",
      "text/plain": [
       "<Figure size 432x288 with 1 Axes>"
      ]
     },
     "metadata": {
      "needs_background": "light"
     },
     "output_type": "display_data"
    }
   ],
   "source": [
    "plt.scatter( um[:,0], um[:,1], s=0.5 )"
   ]
  },
  {
   "cell_type": "markdown",
   "metadata": {},
   "source": [
    "# UMAP KDE"
   ]
  },
  {
   "cell_type": "code",
   "execution_count": null,
   "metadata": {},
   "outputs": [],
   "source": []
  },
  {
   "cell_type": "code",
   "execution_count": null,
   "metadata": {},
   "outputs": [],
   "source": []
  },
  {
   "cell_type": "code",
   "execution_count": null,
   "metadata": {},
   "outputs": [],
   "source": [
    "# fit an array of size [Ndim, Nsamples]\n",
    "data = np.vstack([x, y])\n",
    "kde = gaussian_kde(data)\n",
    "\n",
    "# evaluate on a regular grid\n",
    "xgrid = np.linspace(-3.5, 3.5, 40)\n",
    "ygrid = np.linspace(-6, 6, 40)\n",
    "Xgrid, Ygrid = np.meshgrid(xgrid, ygrid)\n",
    "Z = kde.evaluate(np.vstack([Xgrid.ravel(), Ygrid.ravel()]))\n",
    "\n",
    "# Plot the result as an image\n",
    "plt.imshow(Z.reshape(Xgrid.shape),\n",
    "           origin='lower', aspect='auto',\n",
    "           extent=[-3.5, 3.5, -6, 6],\n",
    "           cmap='Blues')\n",
    "cb = plt.colorbar()\n",
    "cb.set_label(\"density\")"
   ]
  },
  {
   "cell_type": "code",
   "execution_count": null,
   "metadata": {},
   "outputs": [],
   "source": []
  },
  {
   "cell_type": "code",
   "execution_count": null,
   "metadata": {},
   "outputs": [],
   "source": []
  },
  {
   "cell_type": "markdown",
   "metadata": {},
   "source": [
    "# tSNE"
   ]
  },
  {
   "cell_type": "code",
   "execution_count": 93,
   "metadata": {},
   "outputs": [],
   "source": [
    "from sklearn.manifold import TSNE"
   ]
  },
  {
   "cell_type": "code",
   "execution_count": 94,
   "metadata": {},
   "outputs": [
    {
     "name": "stdout",
     "output_type": "stream",
     "text": [
      "[t-SNE] Computing 121 nearest neighbors...\n",
      "[t-SNE] Indexed 504303 samples in 2.857s...\n",
      "[t-SNE] Computed neighbors for 504303 samples in 354.077s...\n",
      "[t-SNE] Computed conditional probabilities for sample 1000 / 504303\n",
      "[t-SNE] Computed conditional probabilities for sample 2000 / 504303\n",
      "[t-SNE] Computed conditional probabilities for sample 3000 / 504303\n",
      "[t-SNE] Computed conditional probabilities for sample 4000 / 504303\n",
      "[t-SNE] Computed conditional probabilities for sample 5000 / 504303\n",
      "[t-SNE] Computed conditional probabilities for sample 6000 / 504303\n",
      "[t-SNE] Computed conditional probabilities for sample 7000 / 504303\n",
      "[t-SNE] Computed conditional probabilities for sample 8000 / 504303\n",
      "[t-SNE] Computed conditional probabilities for sample 9000 / 504303\n",
      "[t-SNE] Computed conditional probabilities for sample 10000 / 504303\n",
      "[t-SNE] Computed conditional probabilities for sample 11000 / 504303\n",
      "[t-SNE] Computed conditional probabilities for sample 12000 / 504303\n",
      "[t-SNE] Computed conditional probabilities for sample 13000 / 504303\n",
      "[t-SNE] Computed conditional probabilities for sample 14000 / 504303\n",
      "[t-SNE] Computed conditional probabilities for sample 15000 / 504303\n",
      "[t-SNE] Computed conditional probabilities for sample 16000 / 504303\n",
      "[t-SNE] Computed conditional probabilities for sample 17000 / 504303\n",
      "[t-SNE] Computed conditional probabilities for sample 18000 / 504303\n",
      "[t-SNE] Computed conditional probabilities for sample 19000 / 504303\n",
      "[t-SNE] Computed conditional probabilities for sample 20000 / 504303\n",
      "[t-SNE] Computed conditional probabilities for sample 21000 / 504303\n",
      "[t-SNE] Computed conditional probabilities for sample 22000 / 504303\n",
      "[t-SNE] Computed conditional probabilities for sample 23000 / 504303\n",
      "[t-SNE] Computed conditional probabilities for sample 24000 / 504303\n",
      "[t-SNE] Computed conditional probabilities for sample 25000 / 504303\n",
      "[t-SNE] Computed conditional probabilities for sample 26000 / 504303\n",
      "[t-SNE] Computed conditional probabilities for sample 27000 / 504303\n",
      "[t-SNE] Computed conditional probabilities for sample 28000 / 504303\n",
      "[t-SNE] Computed conditional probabilities for sample 29000 / 504303\n",
      "[t-SNE] Computed conditional probabilities for sample 30000 / 504303\n",
      "[t-SNE] Computed conditional probabilities for sample 31000 / 504303\n",
      "[t-SNE] Computed conditional probabilities for sample 32000 / 504303\n",
      "[t-SNE] Computed conditional probabilities for sample 33000 / 504303\n",
      "[t-SNE] Computed conditional probabilities for sample 34000 / 504303\n",
      "[t-SNE] Computed conditional probabilities for sample 35000 / 504303\n",
      "[t-SNE] Computed conditional probabilities for sample 36000 / 504303\n",
      "[t-SNE] Computed conditional probabilities for sample 37000 / 504303\n",
      "[t-SNE] Computed conditional probabilities for sample 38000 / 504303\n",
      "[t-SNE] Computed conditional probabilities for sample 39000 / 504303\n",
      "[t-SNE] Computed conditional probabilities for sample 40000 / 504303\n",
      "[t-SNE] Computed conditional probabilities for sample 41000 / 504303\n",
      "[t-SNE] Computed conditional probabilities for sample 42000 / 504303\n",
      "[t-SNE] Computed conditional probabilities for sample 43000 / 504303\n",
      "[t-SNE] Computed conditional probabilities for sample 44000 / 504303\n",
      "[t-SNE] Computed conditional probabilities for sample 45000 / 504303\n",
      "[t-SNE] Computed conditional probabilities for sample 46000 / 504303\n",
      "[t-SNE] Computed conditional probabilities for sample 47000 / 504303\n",
      "[t-SNE] Computed conditional probabilities for sample 48000 / 504303\n",
      "[t-SNE] Computed conditional probabilities for sample 49000 / 504303\n",
      "[t-SNE] Computed conditional probabilities for sample 50000 / 504303\n",
      "[t-SNE] Computed conditional probabilities for sample 51000 / 504303\n",
      "[t-SNE] Computed conditional probabilities for sample 52000 / 504303\n",
      "[t-SNE] Computed conditional probabilities for sample 53000 / 504303\n",
      "[t-SNE] Computed conditional probabilities for sample 54000 / 504303\n",
      "[t-SNE] Computed conditional probabilities for sample 55000 / 504303\n",
      "[t-SNE] Computed conditional probabilities for sample 56000 / 504303\n",
      "[t-SNE] Computed conditional probabilities for sample 57000 / 504303\n",
      "[t-SNE] Computed conditional probabilities for sample 58000 / 504303\n",
      "[t-SNE] Computed conditional probabilities for sample 59000 / 504303\n",
      "[t-SNE] Computed conditional probabilities for sample 60000 / 504303\n",
      "[t-SNE] Computed conditional probabilities for sample 61000 / 504303\n",
      "[t-SNE] Computed conditional probabilities for sample 62000 / 504303\n",
      "[t-SNE] Computed conditional probabilities for sample 63000 / 504303\n",
      "[t-SNE] Computed conditional probabilities for sample 64000 / 504303\n",
      "[t-SNE] Computed conditional probabilities for sample 65000 / 504303\n",
      "[t-SNE] Computed conditional probabilities for sample 66000 / 504303\n",
      "[t-SNE] Computed conditional probabilities for sample 67000 / 504303\n",
      "[t-SNE] Computed conditional probabilities for sample 68000 / 504303\n",
      "[t-SNE] Computed conditional probabilities for sample 69000 / 504303\n",
      "[t-SNE] Computed conditional probabilities for sample 70000 / 504303\n",
      "[t-SNE] Computed conditional probabilities for sample 71000 / 504303\n",
      "[t-SNE] Computed conditional probabilities for sample 72000 / 504303\n",
      "[t-SNE] Computed conditional probabilities for sample 73000 / 504303\n",
      "[t-SNE] Computed conditional probabilities for sample 74000 / 504303\n",
      "[t-SNE] Computed conditional probabilities for sample 75000 / 504303\n",
      "[t-SNE] Computed conditional probabilities for sample 76000 / 504303\n",
      "[t-SNE] Computed conditional probabilities for sample 77000 / 504303\n",
      "[t-SNE] Computed conditional probabilities for sample 78000 / 504303\n",
      "[t-SNE] Computed conditional probabilities for sample 79000 / 504303\n",
      "[t-SNE] Computed conditional probabilities for sample 80000 / 504303\n",
      "[t-SNE] Computed conditional probabilities for sample 81000 / 504303\n",
      "[t-SNE] Computed conditional probabilities for sample 82000 / 504303\n",
      "[t-SNE] Computed conditional probabilities for sample 83000 / 504303\n",
      "[t-SNE] Computed conditional probabilities for sample 84000 / 504303\n",
      "[t-SNE] Computed conditional probabilities for sample 85000 / 504303\n",
      "[t-SNE] Computed conditional probabilities for sample 86000 / 504303\n",
      "[t-SNE] Computed conditional probabilities for sample 87000 / 504303\n",
      "[t-SNE] Computed conditional probabilities for sample 88000 / 504303\n",
      "[t-SNE] Computed conditional probabilities for sample 89000 / 504303\n",
      "[t-SNE] Computed conditional probabilities for sample 90000 / 504303\n",
      "[t-SNE] Computed conditional probabilities for sample 91000 / 504303\n",
      "[t-SNE] Computed conditional probabilities for sample 92000 / 504303\n",
      "[t-SNE] Computed conditional probabilities for sample 93000 / 504303\n",
      "[t-SNE] Computed conditional probabilities for sample 94000 / 504303\n",
      "[t-SNE] Computed conditional probabilities for sample 95000 / 504303\n",
      "[t-SNE] Computed conditional probabilities for sample 96000 / 504303\n",
      "[t-SNE] Computed conditional probabilities for sample 97000 / 504303\n",
      "[t-SNE] Computed conditional probabilities for sample 98000 / 504303\n",
      "[t-SNE] Computed conditional probabilities for sample 99000 / 504303\n",
      "[t-SNE] Computed conditional probabilities for sample 100000 / 504303\n",
      "[t-SNE] Computed conditional probabilities for sample 101000 / 504303\n",
      "[t-SNE] Computed conditional probabilities for sample 102000 / 504303\n",
      "[t-SNE] Computed conditional probabilities for sample 103000 / 504303\n",
      "[t-SNE] Computed conditional probabilities for sample 104000 / 504303\n",
      "[t-SNE] Computed conditional probabilities for sample 105000 / 504303\n",
      "[t-SNE] Computed conditional probabilities for sample 106000 / 504303\n",
      "[t-SNE] Computed conditional probabilities for sample 107000 / 504303\n",
      "[t-SNE] Computed conditional probabilities for sample 108000 / 504303\n",
      "[t-SNE] Computed conditional probabilities for sample 109000 / 504303\n",
      "[t-SNE] Computed conditional probabilities for sample 110000 / 504303\n",
      "[t-SNE] Computed conditional probabilities for sample 111000 / 504303\n",
      "[t-SNE] Computed conditional probabilities for sample 112000 / 504303\n",
      "[t-SNE] Computed conditional probabilities for sample 113000 / 504303\n",
      "[t-SNE] Computed conditional probabilities for sample 114000 / 504303\n",
      "[t-SNE] Computed conditional probabilities for sample 115000 / 504303\n",
      "[t-SNE] Computed conditional probabilities for sample 116000 / 504303\n",
      "[t-SNE] Computed conditional probabilities for sample 117000 / 504303\n",
      "[t-SNE] Computed conditional probabilities for sample 118000 / 504303\n",
      "[t-SNE] Computed conditional probabilities for sample 119000 / 504303\n",
      "[t-SNE] Computed conditional probabilities for sample 120000 / 504303\n",
      "[t-SNE] Computed conditional probabilities for sample 121000 / 504303\n",
      "[t-SNE] Computed conditional probabilities for sample 122000 / 504303\n",
      "[t-SNE] Computed conditional probabilities for sample 123000 / 504303\n",
      "[t-SNE] Computed conditional probabilities for sample 124000 / 504303\n",
      "[t-SNE] Computed conditional probabilities for sample 125000 / 504303\n",
      "[t-SNE] Computed conditional probabilities for sample 126000 / 504303\n",
      "[t-SNE] Computed conditional probabilities for sample 127000 / 504303\n",
      "[t-SNE] Computed conditional probabilities for sample 128000 / 504303\n",
      "[t-SNE] Computed conditional probabilities for sample 129000 / 504303\n",
      "[t-SNE] Computed conditional probabilities for sample 130000 / 504303\n",
      "[t-SNE] Computed conditional probabilities for sample 131000 / 504303\n",
      "[t-SNE] Computed conditional probabilities for sample 132000 / 504303\n",
      "[t-SNE] Computed conditional probabilities for sample 133000 / 504303\n",
      "[t-SNE] Computed conditional probabilities for sample 134000 / 504303\n",
      "[t-SNE] Computed conditional probabilities for sample 135000 / 504303\n",
      "[t-SNE] Computed conditional probabilities for sample 136000 / 504303\n",
      "[t-SNE] Computed conditional probabilities for sample 137000 / 504303\n",
      "[t-SNE] Computed conditional probabilities for sample 138000 / 504303\n",
      "[t-SNE] Computed conditional probabilities for sample 139000 / 504303\n",
      "[t-SNE] Computed conditional probabilities for sample 140000 / 504303\n",
      "[t-SNE] Computed conditional probabilities for sample 141000 / 504303\n",
      "[t-SNE] Computed conditional probabilities for sample 142000 / 504303\n",
      "[t-SNE] Computed conditional probabilities for sample 143000 / 504303\n",
      "[t-SNE] Computed conditional probabilities for sample 144000 / 504303\n",
      "[t-SNE] Computed conditional probabilities for sample 145000 / 504303\n",
      "[t-SNE] Computed conditional probabilities for sample 146000 / 504303\n",
      "[t-SNE] Computed conditional probabilities for sample 147000 / 504303\n",
      "[t-SNE] Computed conditional probabilities for sample 148000 / 504303\n",
      "[t-SNE] Computed conditional probabilities for sample 149000 / 504303\n",
      "[t-SNE] Computed conditional probabilities for sample 150000 / 504303\n",
      "[t-SNE] Computed conditional probabilities for sample 151000 / 504303\n",
      "[t-SNE] Computed conditional probabilities for sample 152000 / 504303\n",
      "[t-SNE] Computed conditional probabilities for sample 153000 / 504303\n",
      "[t-SNE] Computed conditional probabilities for sample 154000 / 504303\n",
      "[t-SNE] Computed conditional probabilities for sample 155000 / 504303\n",
      "[t-SNE] Computed conditional probabilities for sample 156000 / 504303\n",
      "[t-SNE] Computed conditional probabilities for sample 157000 / 504303\n",
      "[t-SNE] Computed conditional probabilities for sample 158000 / 504303\n",
      "[t-SNE] Computed conditional probabilities for sample 159000 / 504303\n",
      "[t-SNE] Computed conditional probabilities for sample 160000 / 504303\n",
      "[t-SNE] Computed conditional probabilities for sample 161000 / 504303\n",
      "[t-SNE] Computed conditional probabilities for sample 162000 / 504303\n",
      "[t-SNE] Computed conditional probabilities for sample 163000 / 504303\n",
      "[t-SNE] Computed conditional probabilities for sample 164000 / 504303\n",
      "[t-SNE] Computed conditional probabilities for sample 165000 / 504303\n",
      "[t-SNE] Computed conditional probabilities for sample 166000 / 504303\n",
      "[t-SNE] Computed conditional probabilities for sample 167000 / 504303\n",
      "[t-SNE] Computed conditional probabilities for sample 168000 / 504303\n",
      "[t-SNE] Computed conditional probabilities for sample 169000 / 504303\n",
      "[t-SNE] Computed conditional probabilities for sample 170000 / 504303\n",
      "[t-SNE] Computed conditional probabilities for sample 171000 / 504303\n",
      "[t-SNE] Computed conditional probabilities for sample 172000 / 504303\n",
      "[t-SNE] Computed conditional probabilities for sample 173000 / 504303\n",
      "[t-SNE] Computed conditional probabilities for sample 174000 / 504303\n",
      "[t-SNE] Computed conditional probabilities for sample 175000 / 504303\n",
      "[t-SNE] Computed conditional probabilities for sample 176000 / 504303\n",
      "[t-SNE] Computed conditional probabilities for sample 177000 / 504303\n",
      "[t-SNE] Computed conditional probabilities for sample 178000 / 504303\n",
      "[t-SNE] Computed conditional probabilities for sample 179000 / 504303\n",
      "[t-SNE] Computed conditional probabilities for sample 180000 / 504303\n",
      "[t-SNE] Computed conditional probabilities for sample 181000 / 504303\n",
      "[t-SNE] Computed conditional probabilities for sample 182000 / 504303\n",
      "[t-SNE] Computed conditional probabilities for sample 183000 / 504303\n",
      "[t-SNE] Computed conditional probabilities for sample 184000 / 504303\n",
      "[t-SNE] Computed conditional probabilities for sample 185000 / 504303\n",
      "[t-SNE] Computed conditional probabilities for sample 186000 / 504303\n",
      "[t-SNE] Computed conditional probabilities for sample 187000 / 504303\n",
      "[t-SNE] Computed conditional probabilities for sample 188000 / 504303\n",
      "[t-SNE] Computed conditional probabilities for sample 189000 / 504303\n",
      "[t-SNE] Computed conditional probabilities for sample 190000 / 504303\n",
      "[t-SNE] Computed conditional probabilities for sample 191000 / 504303\n",
      "[t-SNE] Computed conditional probabilities for sample 192000 / 504303\n",
      "[t-SNE] Computed conditional probabilities for sample 193000 / 504303\n",
      "[t-SNE] Computed conditional probabilities for sample 194000 / 504303\n",
      "[t-SNE] Computed conditional probabilities for sample 195000 / 504303\n",
      "[t-SNE] Computed conditional probabilities for sample 196000 / 504303\n",
      "[t-SNE] Computed conditional probabilities for sample 197000 / 504303\n",
      "[t-SNE] Computed conditional probabilities for sample 198000 / 504303\n",
      "[t-SNE] Computed conditional probabilities for sample 199000 / 504303\n",
      "[t-SNE] Computed conditional probabilities for sample 200000 / 504303\n",
      "[t-SNE] Computed conditional probabilities for sample 201000 / 504303\n",
      "[t-SNE] Computed conditional probabilities for sample 202000 / 504303\n",
      "[t-SNE] Computed conditional probabilities for sample 203000 / 504303\n",
      "[t-SNE] Computed conditional probabilities for sample 204000 / 504303\n",
      "[t-SNE] Computed conditional probabilities for sample 205000 / 504303\n",
      "[t-SNE] Computed conditional probabilities for sample 206000 / 504303\n",
      "[t-SNE] Computed conditional probabilities for sample 207000 / 504303\n",
      "[t-SNE] Computed conditional probabilities for sample 208000 / 504303\n",
      "[t-SNE] Computed conditional probabilities for sample 209000 / 504303\n",
      "[t-SNE] Computed conditional probabilities for sample 210000 / 504303\n",
      "[t-SNE] Computed conditional probabilities for sample 211000 / 504303\n",
      "[t-SNE] Computed conditional probabilities for sample 212000 / 504303\n",
      "[t-SNE] Computed conditional probabilities for sample 213000 / 504303\n",
      "[t-SNE] Computed conditional probabilities for sample 214000 / 504303\n",
      "[t-SNE] Computed conditional probabilities for sample 215000 / 504303\n",
      "[t-SNE] Computed conditional probabilities for sample 216000 / 504303\n",
      "[t-SNE] Computed conditional probabilities for sample 217000 / 504303\n",
      "[t-SNE] Computed conditional probabilities for sample 218000 / 504303\n",
      "[t-SNE] Computed conditional probabilities for sample 219000 / 504303\n",
      "[t-SNE] Computed conditional probabilities for sample 220000 / 504303\n",
      "[t-SNE] Computed conditional probabilities for sample 221000 / 504303\n",
      "[t-SNE] Computed conditional probabilities for sample 222000 / 504303\n",
      "[t-SNE] Computed conditional probabilities for sample 223000 / 504303\n",
      "[t-SNE] Computed conditional probabilities for sample 224000 / 504303\n",
      "[t-SNE] Computed conditional probabilities for sample 225000 / 504303\n",
      "[t-SNE] Computed conditional probabilities for sample 226000 / 504303\n",
      "[t-SNE] Computed conditional probabilities for sample 227000 / 504303\n",
      "[t-SNE] Computed conditional probabilities for sample 228000 / 504303\n",
      "[t-SNE] Computed conditional probabilities for sample 229000 / 504303\n",
      "[t-SNE] Computed conditional probabilities for sample 230000 / 504303\n",
      "[t-SNE] Computed conditional probabilities for sample 231000 / 504303\n",
      "[t-SNE] Computed conditional probabilities for sample 232000 / 504303\n",
      "[t-SNE] Computed conditional probabilities for sample 233000 / 504303\n"
     ]
    },
    {
     "name": "stdout",
     "output_type": "stream",
     "text": [
      "[t-SNE] Computed conditional probabilities for sample 234000 / 504303\n",
      "[t-SNE] Computed conditional probabilities for sample 235000 / 504303\n",
      "[t-SNE] Computed conditional probabilities for sample 236000 / 504303\n",
      "[t-SNE] Computed conditional probabilities for sample 237000 / 504303\n",
      "[t-SNE] Computed conditional probabilities for sample 238000 / 504303\n",
      "[t-SNE] Computed conditional probabilities for sample 239000 / 504303\n",
      "[t-SNE] Computed conditional probabilities for sample 240000 / 504303\n",
      "[t-SNE] Computed conditional probabilities for sample 241000 / 504303\n",
      "[t-SNE] Computed conditional probabilities for sample 242000 / 504303\n",
      "[t-SNE] Computed conditional probabilities for sample 243000 / 504303\n",
      "[t-SNE] Computed conditional probabilities for sample 244000 / 504303\n",
      "[t-SNE] Computed conditional probabilities for sample 245000 / 504303\n",
      "[t-SNE] Computed conditional probabilities for sample 246000 / 504303\n",
      "[t-SNE] Computed conditional probabilities for sample 247000 / 504303\n",
      "[t-SNE] Computed conditional probabilities for sample 248000 / 504303\n",
      "[t-SNE] Computed conditional probabilities for sample 249000 / 504303\n",
      "[t-SNE] Computed conditional probabilities for sample 250000 / 504303\n",
      "[t-SNE] Computed conditional probabilities for sample 251000 / 504303\n",
      "[t-SNE] Computed conditional probabilities for sample 252000 / 504303\n",
      "[t-SNE] Computed conditional probabilities for sample 253000 / 504303\n",
      "[t-SNE] Computed conditional probabilities for sample 254000 / 504303\n",
      "[t-SNE] Computed conditional probabilities for sample 255000 / 504303\n",
      "[t-SNE] Computed conditional probabilities for sample 256000 / 504303\n",
      "[t-SNE] Computed conditional probabilities for sample 257000 / 504303\n",
      "[t-SNE] Computed conditional probabilities for sample 258000 / 504303\n",
      "[t-SNE] Computed conditional probabilities for sample 259000 / 504303\n",
      "[t-SNE] Computed conditional probabilities for sample 260000 / 504303\n",
      "[t-SNE] Computed conditional probabilities for sample 261000 / 504303\n",
      "[t-SNE] Computed conditional probabilities for sample 262000 / 504303\n",
      "[t-SNE] Computed conditional probabilities for sample 263000 / 504303\n",
      "[t-SNE] Computed conditional probabilities for sample 264000 / 504303\n",
      "[t-SNE] Computed conditional probabilities for sample 265000 / 504303\n",
      "[t-SNE] Computed conditional probabilities for sample 266000 / 504303\n",
      "[t-SNE] Computed conditional probabilities for sample 267000 / 504303\n",
      "[t-SNE] Computed conditional probabilities for sample 268000 / 504303\n",
      "[t-SNE] Computed conditional probabilities for sample 269000 / 504303\n",
      "[t-SNE] Computed conditional probabilities for sample 270000 / 504303\n",
      "[t-SNE] Computed conditional probabilities for sample 271000 / 504303\n",
      "[t-SNE] Computed conditional probabilities for sample 272000 / 504303\n",
      "[t-SNE] Computed conditional probabilities for sample 273000 / 504303\n",
      "[t-SNE] Computed conditional probabilities for sample 274000 / 504303\n",
      "[t-SNE] Computed conditional probabilities for sample 275000 / 504303\n",
      "[t-SNE] Computed conditional probabilities for sample 276000 / 504303\n",
      "[t-SNE] Computed conditional probabilities for sample 277000 / 504303\n",
      "[t-SNE] Computed conditional probabilities for sample 278000 / 504303\n",
      "[t-SNE] Computed conditional probabilities for sample 279000 / 504303\n",
      "[t-SNE] Computed conditional probabilities for sample 280000 / 504303\n",
      "[t-SNE] Computed conditional probabilities for sample 281000 / 504303\n",
      "[t-SNE] Computed conditional probabilities for sample 282000 / 504303\n",
      "[t-SNE] Computed conditional probabilities for sample 283000 / 504303\n",
      "[t-SNE] Computed conditional probabilities for sample 284000 / 504303\n",
      "[t-SNE] Computed conditional probabilities for sample 285000 / 504303\n",
      "[t-SNE] Computed conditional probabilities for sample 286000 / 504303\n",
      "[t-SNE] Computed conditional probabilities for sample 287000 / 504303\n",
      "[t-SNE] Computed conditional probabilities for sample 288000 / 504303\n",
      "[t-SNE] Computed conditional probabilities for sample 289000 / 504303\n",
      "[t-SNE] Computed conditional probabilities for sample 290000 / 504303\n",
      "[t-SNE] Computed conditional probabilities for sample 291000 / 504303\n",
      "[t-SNE] Computed conditional probabilities for sample 292000 / 504303\n",
      "[t-SNE] Computed conditional probabilities for sample 293000 / 504303\n",
      "[t-SNE] Computed conditional probabilities for sample 294000 / 504303\n",
      "[t-SNE] Computed conditional probabilities for sample 295000 / 504303\n",
      "[t-SNE] Computed conditional probabilities for sample 296000 / 504303\n",
      "[t-SNE] Computed conditional probabilities for sample 297000 / 504303\n",
      "[t-SNE] Computed conditional probabilities for sample 298000 / 504303\n",
      "[t-SNE] Computed conditional probabilities for sample 299000 / 504303\n",
      "[t-SNE] Computed conditional probabilities for sample 300000 / 504303\n",
      "[t-SNE] Computed conditional probabilities for sample 301000 / 504303\n",
      "[t-SNE] Computed conditional probabilities for sample 302000 / 504303\n",
      "[t-SNE] Computed conditional probabilities for sample 303000 / 504303\n",
      "[t-SNE] Computed conditional probabilities for sample 304000 / 504303\n",
      "[t-SNE] Computed conditional probabilities for sample 305000 / 504303\n",
      "[t-SNE] Computed conditional probabilities for sample 306000 / 504303\n",
      "[t-SNE] Computed conditional probabilities for sample 307000 / 504303\n",
      "[t-SNE] Computed conditional probabilities for sample 308000 / 504303\n",
      "[t-SNE] Computed conditional probabilities for sample 309000 / 504303\n",
      "[t-SNE] Computed conditional probabilities for sample 310000 / 504303\n",
      "[t-SNE] Computed conditional probabilities for sample 311000 / 504303\n",
      "[t-SNE] Computed conditional probabilities for sample 312000 / 504303\n",
      "[t-SNE] Computed conditional probabilities for sample 313000 / 504303\n",
      "[t-SNE] Computed conditional probabilities for sample 314000 / 504303\n",
      "[t-SNE] Computed conditional probabilities for sample 315000 / 504303\n",
      "[t-SNE] Computed conditional probabilities for sample 316000 / 504303\n",
      "[t-SNE] Computed conditional probabilities for sample 317000 / 504303\n",
      "[t-SNE] Computed conditional probabilities for sample 318000 / 504303\n",
      "[t-SNE] Computed conditional probabilities for sample 319000 / 504303\n",
      "[t-SNE] Computed conditional probabilities for sample 320000 / 504303\n",
      "[t-SNE] Computed conditional probabilities for sample 321000 / 504303\n",
      "[t-SNE] Computed conditional probabilities for sample 322000 / 504303\n",
      "[t-SNE] Computed conditional probabilities for sample 323000 / 504303\n",
      "[t-SNE] Computed conditional probabilities for sample 324000 / 504303\n",
      "[t-SNE] Computed conditional probabilities for sample 325000 / 504303\n",
      "[t-SNE] Computed conditional probabilities for sample 326000 / 504303\n",
      "[t-SNE] Computed conditional probabilities for sample 327000 / 504303\n",
      "[t-SNE] Computed conditional probabilities for sample 328000 / 504303\n",
      "[t-SNE] Computed conditional probabilities for sample 329000 / 504303\n",
      "[t-SNE] Computed conditional probabilities for sample 330000 / 504303\n",
      "[t-SNE] Computed conditional probabilities for sample 331000 / 504303\n",
      "[t-SNE] Computed conditional probabilities for sample 332000 / 504303\n",
      "[t-SNE] Computed conditional probabilities for sample 333000 / 504303\n",
      "[t-SNE] Computed conditional probabilities for sample 334000 / 504303\n",
      "[t-SNE] Computed conditional probabilities for sample 335000 / 504303\n",
      "[t-SNE] Computed conditional probabilities for sample 336000 / 504303\n",
      "[t-SNE] Computed conditional probabilities for sample 337000 / 504303\n",
      "[t-SNE] Computed conditional probabilities for sample 338000 / 504303\n",
      "[t-SNE] Computed conditional probabilities for sample 339000 / 504303\n",
      "[t-SNE] Computed conditional probabilities for sample 340000 / 504303\n",
      "[t-SNE] Computed conditional probabilities for sample 341000 / 504303\n",
      "[t-SNE] Computed conditional probabilities for sample 342000 / 504303\n",
      "[t-SNE] Computed conditional probabilities for sample 343000 / 504303\n",
      "[t-SNE] Computed conditional probabilities for sample 344000 / 504303\n",
      "[t-SNE] Computed conditional probabilities for sample 345000 / 504303\n",
      "[t-SNE] Computed conditional probabilities for sample 346000 / 504303\n",
      "[t-SNE] Computed conditional probabilities for sample 347000 / 504303\n",
      "[t-SNE] Computed conditional probabilities for sample 348000 / 504303\n",
      "[t-SNE] Computed conditional probabilities for sample 349000 / 504303\n",
      "[t-SNE] Computed conditional probabilities for sample 350000 / 504303\n",
      "[t-SNE] Computed conditional probabilities for sample 351000 / 504303\n",
      "[t-SNE] Computed conditional probabilities for sample 352000 / 504303\n",
      "[t-SNE] Computed conditional probabilities for sample 353000 / 504303\n",
      "[t-SNE] Computed conditional probabilities for sample 354000 / 504303\n",
      "[t-SNE] Computed conditional probabilities for sample 355000 / 504303\n",
      "[t-SNE] Computed conditional probabilities for sample 356000 / 504303\n",
      "[t-SNE] Computed conditional probabilities for sample 357000 / 504303\n",
      "[t-SNE] Computed conditional probabilities for sample 358000 / 504303\n",
      "[t-SNE] Computed conditional probabilities for sample 359000 / 504303\n",
      "[t-SNE] Computed conditional probabilities for sample 360000 / 504303\n",
      "[t-SNE] Computed conditional probabilities for sample 361000 / 504303\n",
      "[t-SNE] Computed conditional probabilities for sample 362000 / 504303\n",
      "[t-SNE] Computed conditional probabilities for sample 363000 / 504303\n",
      "[t-SNE] Computed conditional probabilities for sample 364000 / 504303\n",
      "[t-SNE] Computed conditional probabilities for sample 365000 / 504303\n",
      "[t-SNE] Computed conditional probabilities for sample 366000 / 504303\n",
      "[t-SNE] Computed conditional probabilities for sample 367000 / 504303\n",
      "[t-SNE] Computed conditional probabilities for sample 368000 / 504303\n",
      "[t-SNE] Computed conditional probabilities for sample 369000 / 504303\n",
      "[t-SNE] Computed conditional probabilities for sample 370000 / 504303\n",
      "[t-SNE] Computed conditional probabilities for sample 371000 / 504303\n",
      "[t-SNE] Computed conditional probabilities for sample 372000 / 504303\n",
      "[t-SNE] Computed conditional probabilities for sample 373000 / 504303\n",
      "[t-SNE] Computed conditional probabilities for sample 374000 / 504303\n",
      "[t-SNE] Computed conditional probabilities for sample 375000 / 504303\n",
      "[t-SNE] Computed conditional probabilities for sample 376000 / 504303\n",
      "[t-SNE] Computed conditional probabilities for sample 377000 / 504303\n",
      "[t-SNE] Computed conditional probabilities for sample 378000 / 504303\n",
      "[t-SNE] Computed conditional probabilities for sample 379000 / 504303\n",
      "[t-SNE] Computed conditional probabilities for sample 380000 / 504303\n",
      "[t-SNE] Computed conditional probabilities for sample 381000 / 504303\n",
      "[t-SNE] Computed conditional probabilities for sample 382000 / 504303\n",
      "[t-SNE] Computed conditional probabilities for sample 383000 / 504303\n",
      "[t-SNE] Computed conditional probabilities for sample 384000 / 504303\n",
      "[t-SNE] Computed conditional probabilities for sample 385000 / 504303\n",
      "[t-SNE] Computed conditional probabilities for sample 386000 / 504303\n",
      "[t-SNE] Computed conditional probabilities for sample 387000 / 504303\n",
      "[t-SNE] Computed conditional probabilities for sample 388000 / 504303\n",
      "[t-SNE] Computed conditional probabilities for sample 389000 / 504303\n",
      "[t-SNE] Computed conditional probabilities for sample 390000 / 504303\n",
      "[t-SNE] Computed conditional probabilities for sample 391000 / 504303\n",
      "[t-SNE] Computed conditional probabilities for sample 392000 / 504303\n",
      "[t-SNE] Computed conditional probabilities for sample 393000 / 504303\n",
      "[t-SNE] Computed conditional probabilities for sample 394000 / 504303\n",
      "[t-SNE] Computed conditional probabilities for sample 395000 / 504303\n",
      "[t-SNE] Computed conditional probabilities for sample 396000 / 504303\n",
      "[t-SNE] Computed conditional probabilities for sample 397000 / 504303\n",
      "[t-SNE] Computed conditional probabilities for sample 398000 / 504303\n",
      "[t-SNE] Computed conditional probabilities for sample 399000 / 504303\n",
      "[t-SNE] Computed conditional probabilities for sample 400000 / 504303\n",
      "[t-SNE] Computed conditional probabilities for sample 401000 / 504303\n",
      "[t-SNE] Computed conditional probabilities for sample 402000 / 504303\n",
      "[t-SNE] Computed conditional probabilities for sample 403000 / 504303\n",
      "[t-SNE] Computed conditional probabilities for sample 404000 / 504303\n",
      "[t-SNE] Computed conditional probabilities for sample 405000 / 504303\n",
      "[t-SNE] Computed conditional probabilities for sample 406000 / 504303\n",
      "[t-SNE] Computed conditional probabilities for sample 407000 / 504303\n",
      "[t-SNE] Computed conditional probabilities for sample 408000 / 504303\n",
      "[t-SNE] Computed conditional probabilities for sample 409000 / 504303\n",
      "[t-SNE] Computed conditional probabilities for sample 410000 / 504303\n",
      "[t-SNE] Computed conditional probabilities for sample 411000 / 504303\n",
      "[t-SNE] Computed conditional probabilities for sample 412000 / 504303\n",
      "[t-SNE] Computed conditional probabilities for sample 413000 / 504303\n",
      "[t-SNE] Computed conditional probabilities for sample 414000 / 504303\n",
      "[t-SNE] Computed conditional probabilities for sample 415000 / 504303\n",
      "[t-SNE] Computed conditional probabilities for sample 416000 / 504303\n",
      "[t-SNE] Computed conditional probabilities for sample 417000 / 504303\n",
      "[t-SNE] Computed conditional probabilities for sample 418000 / 504303\n",
      "[t-SNE] Computed conditional probabilities for sample 419000 / 504303\n",
      "[t-SNE] Computed conditional probabilities for sample 420000 / 504303\n",
      "[t-SNE] Computed conditional probabilities for sample 421000 / 504303\n",
      "[t-SNE] Computed conditional probabilities for sample 422000 / 504303\n",
      "[t-SNE] Computed conditional probabilities for sample 423000 / 504303\n",
      "[t-SNE] Computed conditional probabilities for sample 424000 / 504303\n",
      "[t-SNE] Computed conditional probabilities for sample 425000 / 504303\n",
      "[t-SNE] Computed conditional probabilities for sample 426000 / 504303\n",
      "[t-SNE] Computed conditional probabilities for sample 427000 / 504303\n",
      "[t-SNE] Computed conditional probabilities for sample 428000 / 504303\n",
      "[t-SNE] Computed conditional probabilities for sample 429000 / 504303\n",
      "[t-SNE] Computed conditional probabilities for sample 430000 / 504303\n",
      "[t-SNE] Computed conditional probabilities for sample 431000 / 504303\n",
      "[t-SNE] Computed conditional probabilities for sample 432000 / 504303\n",
      "[t-SNE] Computed conditional probabilities for sample 433000 / 504303\n",
      "[t-SNE] Computed conditional probabilities for sample 434000 / 504303\n",
      "[t-SNE] Computed conditional probabilities for sample 435000 / 504303\n",
      "[t-SNE] Computed conditional probabilities for sample 436000 / 504303\n",
      "[t-SNE] Computed conditional probabilities for sample 437000 / 504303\n",
      "[t-SNE] Computed conditional probabilities for sample 438000 / 504303\n",
      "[t-SNE] Computed conditional probabilities for sample 439000 / 504303\n",
      "[t-SNE] Computed conditional probabilities for sample 440000 / 504303\n",
      "[t-SNE] Computed conditional probabilities for sample 441000 / 504303\n",
      "[t-SNE] Computed conditional probabilities for sample 442000 / 504303\n",
      "[t-SNE] Computed conditional probabilities for sample 443000 / 504303\n",
      "[t-SNE] Computed conditional probabilities for sample 444000 / 504303\n",
      "[t-SNE] Computed conditional probabilities for sample 445000 / 504303\n",
      "[t-SNE] Computed conditional probabilities for sample 446000 / 504303\n",
      "[t-SNE] Computed conditional probabilities for sample 447000 / 504303\n",
      "[t-SNE] Computed conditional probabilities for sample 448000 / 504303\n",
      "[t-SNE] Computed conditional probabilities for sample 449000 / 504303\n",
      "[t-SNE] Computed conditional probabilities for sample 450000 / 504303\n",
      "[t-SNE] Computed conditional probabilities for sample 451000 / 504303\n",
      "[t-SNE] Computed conditional probabilities for sample 452000 / 504303\n",
      "[t-SNE] Computed conditional probabilities for sample 453000 / 504303\n",
      "[t-SNE] Computed conditional probabilities for sample 454000 / 504303\n",
      "[t-SNE] Computed conditional probabilities for sample 455000 / 504303\n",
      "[t-SNE] Computed conditional probabilities for sample 456000 / 504303\n",
      "[t-SNE] Computed conditional probabilities for sample 457000 / 504303\n",
      "[t-SNE] Computed conditional probabilities for sample 458000 / 504303\n",
      "[t-SNE] Computed conditional probabilities for sample 459000 / 504303\n",
      "[t-SNE] Computed conditional probabilities for sample 460000 / 504303\n",
      "[t-SNE] Computed conditional probabilities for sample 461000 / 504303\n",
      "[t-SNE] Computed conditional probabilities for sample 462000 / 504303\n",
      "[t-SNE] Computed conditional probabilities for sample 463000 / 504303\n",
      "[t-SNE] Computed conditional probabilities for sample 464000 / 504303\n",
      "[t-SNE] Computed conditional probabilities for sample 465000 / 504303\n",
      "[t-SNE] Computed conditional probabilities for sample 466000 / 504303\n",
      "[t-SNE] Computed conditional probabilities for sample 467000 / 504303\n"
     ]
    },
    {
     "name": "stdout",
     "output_type": "stream",
     "text": [
      "[t-SNE] Computed conditional probabilities for sample 468000 / 504303\n",
      "[t-SNE] Computed conditional probabilities for sample 469000 / 504303\n",
      "[t-SNE] Computed conditional probabilities for sample 470000 / 504303\n",
      "[t-SNE] Computed conditional probabilities for sample 471000 / 504303\n",
      "[t-SNE] Computed conditional probabilities for sample 472000 / 504303\n",
      "[t-SNE] Computed conditional probabilities for sample 473000 / 504303\n",
      "[t-SNE] Computed conditional probabilities for sample 474000 / 504303\n",
      "[t-SNE] Computed conditional probabilities for sample 475000 / 504303\n",
      "[t-SNE] Computed conditional probabilities for sample 476000 / 504303\n",
      "[t-SNE] Computed conditional probabilities for sample 477000 / 504303\n",
      "[t-SNE] Computed conditional probabilities for sample 478000 / 504303\n",
      "[t-SNE] Computed conditional probabilities for sample 479000 / 504303\n",
      "[t-SNE] Computed conditional probabilities for sample 480000 / 504303\n",
      "[t-SNE] Computed conditional probabilities for sample 481000 / 504303\n",
      "[t-SNE] Computed conditional probabilities for sample 482000 / 504303\n",
      "[t-SNE] Computed conditional probabilities for sample 483000 / 504303\n",
      "[t-SNE] Computed conditional probabilities for sample 484000 / 504303\n",
      "[t-SNE] Computed conditional probabilities for sample 485000 / 504303\n",
      "[t-SNE] Computed conditional probabilities for sample 486000 / 504303\n",
      "[t-SNE] Computed conditional probabilities for sample 487000 / 504303\n",
      "[t-SNE] Computed conditional probabilities for sample 488000 / 504303\n",
      "[t-SNE] Computed conditional probabilities for sample 489000 / 504303\n",
      "[t-SNE] Computed conditional probabilities for sample 490000 / 504303\n",
      "[t-SNE] Computed conditional probabilities for sample 491000 / 504303\n",
      "[t-SNE] Computed conditional probabilities for sample 492000 / 504303\n",
      "[t-SNE] Computed conditional probabilities for sample 493000 / 504303\n",
      "[t-SNE] Computed conditional probabilities for sample 494000 / 504303\n",
      "[t-SNE] Computed conditional probabilities for sample 495000 / 504303\n",
      "[t-SNE] Computed conditional probabilities for sample 496000 / 504303\n",
      "[t-SNE] Computed conditional probabilities for sample 497000 / 504303\n",
      "[t-SNE] Computed conditional probabilities for sample 498000 / 504303\n",
      "[t-SNE] Computed conditional probabilities for sample 499000 / 504303\n",
      "[t-SNE] Computed conditional probabilities for sample 500000 / 504303\n",
      "[t-SNE] Computed conditional probabilities for sample 501000 / 504303\n",
      "[t-SNE] Computed conditional probabilities for sample 502000 / 504303\n",
      "[t-SNE] Computed conditional probabilities for sample 503000 / 504303\n",
      "[t-SNE] Computed conditional probabilities for sample 504000 / 504303\n",
      "[t-SNE] Computed conditional probabilities for sample 504303 / 504303\n",
      "[t-SNE] Mean sigma: 0.111048\n",
      "[t-SNE] KL divergence after 250 iterations with early exaggeration: 112.968727\n",
      "[t-SNE] KL divergence after 300 iterations: 7.047929\n"
     ]
    }
   ],
   "source": [
    "tsne = TSNE(n_components=2, verbose=1, perplexity=40, n_iter=300).fit_transform(amplPCA)"
   ]
  },
  {
   "cell_type": "code",
   "execution_count": 95,
   "metadata": {},
   "outputs": [],
   "source": [
    "fnameTSNE = fnameWav.replace('.npy','') + '.tsne.npy'\n",
    "np.save(fnameTSNE, tsne)"
   ]
  },
  {
   "cell_type": "code",
   "execution_count": 146,
   "metadata": {},
   "outputs": [
    {
     "data": {
      "image/png": "[encoded data removed]",
      "text/plain": [
       "<Figure size 864x864 with 1 Axes>"
      ]
     },
     "metadata": {},
     "output_type": "display_data"
    }
   ],
   "source": [
    "plt.figure(figsize=(12,12), facecolor='w')\n",
    "plt.hist2d(tsne[:,0], tsne[:,1], bins=100)\n",
    "plt.savefig(fnameTSNE.replace('.npy','') + '.png')\n",
    "plt.show()"
   ]
  },
  {
   "cell_type": "code",
   "execution_count": 255,
   "metadata": {},
   "outputs": [
    {
     "data": {
      "text/plain": [
       "<matplotlib.collections.PathCollection at 0x2c19e751518>"
      ]
     },
     "execution_count": 255,
     "metadata": {},
     "output_type": "execute_result"
    },
    {
     "data": {
      "image/png": "[encoded data removed]",
      "text/plain": [
       "<Figure size 432x288 with 1 Axes>"
      ]
     },
     "metadata": {
      "needs_background": "light"
     },
     "output_type": "display_data"
    }
   ],
   "source": [
    "plt.scatter( tsne[:,0], tsne[:,1] )"
   ]
  },
  {
   "cell_type": "code",
   "execution_count": null,
   "metadata": {},
   "outputs": [],
   "source": []
  },
  {
   "cell_type": "markdown",
   "metadata": {},
   "source": [
    "# Plot dimensionality-reduced results back onto web"
   ]
  },
  {
   "cell_type": "code",
   "execution_count": null,
   "metadata": {},
   "outputs": [],
   "source": []
  },
  {
   "cell_type": "code",
   "execution_count": null,
   "metadata": {},
   "outputs": [],
   "source": []
  },
  {
   "cell_type": "code",
   "execution_count": null,
   "metadata": {},
   "outputs": [],
   "source": []
  },
  {
   "cell_type": "code",
   "execution_count": 131,
   "metadata": {},
   "outputs": [],
   "source": [
    "def plotFrame(d, fidx, jointcolor='#0000ff', segmentcolor='#ff0000'):\n",
    "    fig, ax = plt.subplots(1, 1, figsize=(16, 16))\n",
    "    \n",
    "    #ax.plot(xy[:fidx,0], xy[:fidx,1], \n",
    "    #         linewidth=0.5, color='#888888')\n",
    "    \n",
    "    def _plot(x, y, c):\n",
    "        if not np.isnan(x[0]) and \\\n",
    "            not np.isnan(x[1]) and \\\n",
    "            not np.isnan(y[0]) and \\\n",
    "            not np.isnan(y[1]):\n",
    "            ax.plot(x, y, c, linewidth=1)\n",
    "        \n",
    "    # Draw body joints\n",
    "    for i in range(26):\n",
    "        _x = d[fidx, i,0]\n",
    "        _y = d[fidx, i,1]\n",
    "        if not np.isnan(_x) and not np.isnan(_y):\n",
    "            ax.scatter(_x, _y, c=jointcolor, s=3)\n",
    "            ax.text(_x, _y, i, fontsize=12, color=jointcolor)\n",
    "\n",
    "    # Draw body segments\n",
    "    def _p(i, j): return [\n",
    "        (d[fidx, i, 0], d[fidx, j, 0]), \n",
    "        (d[fidx, i, 1], d[fidx, j, 1]), segmentcolor]\n",
    "\n",
    "    _plot( *_p(14,18) ); _plot( *_p(18,22) )\n",
    "    _plot( *_p( 2, 6) ); _plot( *_p( 6,10) )\n",
    "\n",
    "    _plot( *_p(15,19) ); _plot( *_p(19,23) )\n",
    "    _plot( *_p( 3, 7) ); _plot( *_p( 7,11) )\n",
    "\n",
    "    _plot( *_p(16,20) ); _plot( *_p(20,24) )\n",
    "    _plot( *_p( 4, 8) ); _plot( *_p( 8,12) )\n",
    "\n",
    "    _plot( *_p(17,21) ); _plot( *_p(21,25) )\n",
    "    _plot( *_p( 5, 9) ); _plot( *_p( 9,13) )\n",
    "    \n",
    "    # Set bounding box for display\n",
    "    #ax.set_xlim(0, 1024)\n",
    "    #ax.set_ylim(0, 1024)\n",
    "    \n",
    "    ax.axis('off')\n",
    "    #plt.show()\n",
    "    \n",
    "    # Return rendered image\n",
    "    fig.canvas.draw()\n",
    "    data = np.fromstring(fig.canvas.tostring_rgb(), dtype=np.uint8, sep='')\n",
    "    data = data.reshape(fig.canvas.get_width_height()[::-1] + (3,))\n",
    "    \n",
    "    # Close figure\n",
    "    #fig.close()\n",
    "    plt.show()\n",
    "    \n",
    "    #return data"
   ]
  },
  {
   "cell_type": "markdown",
   "metadata": {},
   "source": [
    "# Archived Code"
   ]
  },
  {
   "cell_type": "raw",
   "metadata": {},
   "source": [
    "legvars = [];\n",
    "\n",
    "legvars.samplingFreq = 50; %fps\n",
    "\n",
    "legvars.omega0 = 5;\n",
    "\n",
    "legvars.numPeriods = 20; \n",
    "\n",
    "%bodvar.maxF = bodvar.samplingFreq/2;\n",
    "\n",
    "legvars.maxF = legvars.samplingFreq/2;\n",
    "\n",
    "legvars.minF = 1/5; %hz\n",
    "\n",
    "legvars.closeMatPool = false;\n",
    "\n",
    "legvars.stack = true;\n",
    "\n",
    "legvars.numProcessors = 4;\n",
    "\n",
    " \n",
    "\n",
    "webvars = [];\n",
    "\n",
    "webvars.samplingFreq = 50; %fps\n",
    "\n",
    "webvars.omega0 = 5;\n",
    "\n",
    "webvars.numPeriods = 20; \n",
    "\n",
    "%bodvar.maxF = bodvar.samplingFreq/2;\n",
    "\n",
    "webvars.maxF = 1;\n",
    "\n",
    "webvars.minF = 1/20; %hz\n",
    "\n",
    "webvars.closeMatPool = false;\n",
    "\n",
    "webvars.stack = true;\n",
    "\n",
    "webvars.numProcessors = 4;\n",
    "\n",
    " \n",
    "\n",
    " \n",
    "\n",
    " \n",
    "\n",
    " \n",
    "\n",
    " \n",
    "\n",
    "\n",
    " \n",
    "\n",
    "function [amp,W] = fastWavelet_morlet_convolution_parallel(x,f,omega0,dt)\n",
    "\n",
    "%fastWavelet_morlet_convolution_parallel finds the Morlet wavelet transform\n",
    "\n",
    "%resulting from a time series\n",
    "\n",
    "%\n",
    "\n",
    "%   Input variables:\n",
    "\n",
    "%\n",
    "\n",
    "%       x -> 1d array of projection values to transform\n",
    "\n",
    "%       f -> center bands of wavelet frequency channels (Hz)\n",
    "\n",
    "%       omega0 -> dimensionless Morlet wavelet parameter\n",
    "\n",
    "%       dt -> sampling time (seconds)\n",
    "\n",
    "%\n",
    "\n",
    "%\n",
    "\n",
    "%   Output variables:\n",
    "\n",
    "%\n",
    "\n",
    "%       amp -> wavelet amplitudes (N x (pcaModes*numPeriods) )\n",
    "\n",
    "%       W -> wavelet coefficients (complex-valued)\n",
    "\n",
    "%\n",
    "\n",
    "%\n",
    "\n",
    "% (C) Gordon J. Berman, 2014\n",
    "\n",
    "%     Princeton University\n",
    "\n",
    " \n",
    "\n",
    "    N = length(x);\n",
    "\n",
    "    L = length(f);\n",
    "\n",
    "    amp = zeros(L,N);\n",
    "\n",
    "    if mod(N,2) == 1\n",
    "\n",
    "        x(end+1) = 0;\n",
    "\n",
    "        N = N + 1;\n",
    "\n",
    "        test = true;\n",
    "\n",
    "    else\n",
    "\n",
    "        test = false;\n",
    "\n",
    "    end\n",
    "\n",
    "    \n",
    "\n",
    "    \n",
    "\n",
    "    s = size(x);\n",
    "\n",
    "    if s(2) == 1\n",
    "\n",
    "        x = x';\n",
    "\n",
    "    end\n",
    "\n",
    "    \n",
    "\n",
    "    x = [zeros(1,N/2) x zeros(1,N/2)];\n",
    "\n",
    "    M = N;\n",
    "\n",
    "    N = length(x);\n",
    "\n",
    "    \n",
    "\n",
    "    scales = (omega0 + sqrt(2+omega0^2))./(4*pi.*f);\n",
    "\n",
    "    Omegavals = 2*pi*(-N/2:N/2-1)./(N*dt);\n",
    "\n",
    "    \n",
    "\n",
    "    xHat = fft(x);\n",
    "\n",
    "    xHat = fftshift(xHat);\n",
    "\n",
    "    \n",
    "\n",
    "    if test\n",
    "\n",
    "        idx = (M/2+1):(M/2+M-1);\n",
    "\n",
    "    else\n",
    "\n",
    "        idx = (M/2+1):(M/2+M);\n",
    "\n",
    "    end\n",
    "\n",
    "    \n",
    "\n",
    "    if nargout == 2\n",
    "\n",
    "        W = zeros(size(amp));\n",
    "\n",
    "        test2 = true;\n",
    "\n",
    "    else\n",
    "\n",
    "        test2 = false;\n",
    "\n",
    "    end\n",
    "\n",
    "    \n",
    "\n",
    "    parfor i=1:L\n",
    "\n",
    "        \n",
    "\n",
    "        m = morletConjFT(-Omegavals*scales(i),omega0);\n",
    "\n",
    "        q  = ifft(m.*xHat)*sqrt(scales(i));\n",
    "\n",
    "        \n",
    "\n",
    "        q = q(idx);\n",
    "\n",
    "        \n",
    "\n",
    "        amp(i,:) = abs(q)*pi^-.25*exp(.25*(omega0-sqrt(omega0^2+2))^2)/sqrt(2*scales(i));\n",
    "\n",
    "       \n",
    "\n",
    "        if test2\n",
    "\n",
    "            W(i,:) = q;\n",
    "\n",
    "        end\n",
    "\n",
    "    end\n",
    "\n",
    "    \n",
    "\n",
    "end\n",
    "\n",
    " \n",
    "\n",
    "function [amp,W] = fastWavelet_morlet_convolution_parallel_ag(x,f,omega0,dt)\n",
    "\n",
    "%fastWavelet_morlet_convolution_parallel finds the Morlet wavelet transform\n",
    "\n",
    "%resulting from a time series\n",
    "\n",
    "%\n",
    "\n",
    "%   Input variables:\n",
    "\n",
    "%\n",
    "\n",
    "%       x -> 1d array of projection values to transform\n",
    "\n",
    "%       f -> center bands of wavelet frequency channels (Hz)\n",
    "\n",
    "%       omega0 -> dimensionless Morlet wavelet parameter\n",
    "\n",
    "%       dt -> sampling time (seconds)\n",
    "\n",
    "%\n",
    "\n",
    "%\n",
    "\n",
    "%   Output variables:\n",
    "\n",
    "%\n",
    "\n",
    "%       amp -> wavelet amplitudes (N x (pcaModes*numPeriods) )\n",
    "\n",
    "%       W -> wavelet coefficients (complex-valued)\n",
    "\n",
    "%\n",
    "\n",
    "%\n",
    "\n",
    "% (C) Gordon J. Berman, 2014\n",
    "\n",
    "%     Princeton University\n",
    "\n",
    "%  MODIFIED: Andrew Gordus, 2015, The Rockefeller University\n",
    "\n",
    " \n",
    "\n",
    "    N = length(x);\n",
    "\n",
    "    L = length(f);\n",
    "\n",
    "    amp = zeros(L,N);\n",
    "\n",
    "    if mod(N,2) == 1\n",
    "\n",
    "        x(end+1) = 0;\n",
    "\n",
    "        N = N + 1;\n",
    "\n",
    "        test = true;\n",
    "\n",
    "    else\n",
    "\n",
    "        test = false;\n",
    "\n",
    "    end\n",
    "\n",
    "    \n",
    "\n",
    "    \n",
    "\n",
    "    s = size(x);\n",
    "\n",
    "    if s(2) == 1\n",
    "\n",
    "        x = x';\n",
    "\n",
    "    end\n",
    "\n",
    "    \n",
    "\n",
    "    x = [zeros(1,N/2) x zeros(1,N/2)];\n",
    "\n",
    "    M = N;\n",
    "\n",
    "    N = length(x);\n",
    "\n",
    "    \n",
    "\n",
    "    scales = (omega0 + sqrt(2+omega0^2))./(4*pi.*f);\n",
    "\n",
    "    Omegavals = 2*pi*(-N/2:N/2-1)./(N*dt);\n",
    "\n",
    "    \n",
    "\n",
    "    xHat = fft(x);\n",
    "\n",
    "    xHat = fftshift(xHat);\n",
    "\n",
    "    \n",
    "\n",
    "    if test\n",
    "\n",
    "        idx = (M/2+1):(M/2+M-1);\n",
    "\n",
    "    else\n",
    "\n",
    "        idx = (M/2+1):(M/2+M);\n",
    "\n",
    "    end\n",
    "\n",
    "    \n",
    "\n",
    "    if nargout == 2\n",
    "\n",
    "        W = zeros(size(amp));\n",
    "\n",
    "        test2 = true;\n",
    "\n",
    "    else\n",
    "\n",
    "        test2 = false;\n",
    "\n",
    "    end\n",
    "\n",
    "    \n",
    "\n",
    "    parfor i=1:L\n",
    "\n",
    "        \n",
    "\n",
    "        m = morletConjFT(-Omegavals*scales(i),omega0);\n",
    "\n",
    "        q  = ifft(m.*xHat)*sqrt(scales(i));\n",
    "\n",
    "        \n",
    "\n",
    "        q = q(idx);\n",
    "\n",
    "        \n",
    "\n",
    "        amp(i,:) = abs(q)*pi^-.25*exp(.25*(omega0-sqrt(omega0^2+2))^2)/sqrt(2*scales(i));\n",
    "\n",
    "       \n",
    "\n",
    "        if test2\n",
    "\n",
    "            W(i,:) = q;\n",
    "\n",
    "        end\n",
    "\n",
    "    end\n",
    "\n",
    "    \n",
    "\n",
    "end\n",
    "\n",
    " \n",
    "\n",
    "function out = morletConjFT(w,omega0)\n",
    "\n",
    "%morletConjFT is used by fastWavelet_morlet_convolution_parallel to find\n",
    "\n",
    "%the Morlet wavelet transform resulting from a time series\n",
    "\n",
    " \n",
    "\n",
    "    out = pi^(-1/4).*exp(-.5.*(w-omega0).^2);\n",
    "\n",
    "end"
   ]
  },
  {
   "cell_type": "code",
   "execution_count": null,
   "metadata": {},
   "outputs": [],
   "source": []
  },
  {
   "cell_type": "code",
   "execution_count": null,
   "metadata": {},
   "outputs": [],
   "source": []
  },
  {
   "cell_type": "code",
   "execution_count": null,
   "metadata": {},
   "outputs": [],
   "source": []
  },
  {
   "cell_type": "code",
   "execution_count": null,
   "metadata": {},
   "outputs": [],
   "source": []
  },
  {
   "cell_type": "code",
   "execution_count": null,
   "metadata": {},
   "outputs": [],
   "source": []
  },
  {
   "cell_type": "code",
   "execution_count": null,
   "metadata": {},
   "outputs": [],
   "source": []
  },
  {
   "cell_type": "code",
   "execution_count": null,
   "metadata": {},
   "outputs": [],
   "source": []
  },
  {
   "cell_type": "code",
   "execution_count": null,
   "metadata": {},
   "outputs": [],
   "source": []
  },
  {
   "cell_type": "code",
   "execution_count": null,
   "metadata": {},
   "outputs": [],
   "source": []
  },
  {
   "cell_type": "code",
   "execution_count": null,
   "metadata": {},
   "outputs": [],
   "source": []
  }
 ],
 "metadata": {
  "kernelspec": {
   "display_name": "Python 3 (ipykernel)",
   "language": "python",
   "name": "python3"
  },
  "language_info": {
   "codemirror_mode": {
    "name": "ipython",
    "version": 3
   },
   "file_extension": ".py",
   "mimetype": "text/x-python",
   "name": "python",
   "nbconvert_exporter": "python",
   "pygments_lexer": "ipython3",
   "version": "3.9.7"
  }
 },
 "nbformat": 4,
 "nbformat_minor": 2
}
